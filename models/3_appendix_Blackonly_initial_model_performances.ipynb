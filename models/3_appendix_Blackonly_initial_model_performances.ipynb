{
 "cells": [
  {
   "cell_type": "code",
   "execution_count": 1,
   "metadata": {},
   "outputs": [
    {
     "name": "stderr",
     "output_type": "stream",
     "text": [
      "\n",
      "Bad key \"text.kerning_factor\" on line 4 in\n",
      "/opt/miniconda3/envs/conda_env/lib/python3.7/site-packages/matplotlib/mpl-data/stylelib/_classic_test_patch.mplstyle.\n",
      "You probably need to get an updated matplotlibrc file from\n",
      "https://github.com/matplotlib/matplotlib/blob/v3.1.3/matplotlibrc.template\n",
      "or from the matplotlib source distribution\n"
     ]
    },
    {
     "data": {
      "text/plain": [
       "'/home/vizziwo/capcookie/models'"
      ]
     },
     "execution_count": 1,
     "metadata": {},
     "output_type": "execute_result"
    }
   ],
   "source": [
    "import pandas as pd\n",
    "import numpy as np\n",
    "import matplotlib.pyplot as plt\n",
    "import os\n",
    "import warnings\n",
    "warnings.filterwarnings('ignore')\n",
    "\n",
    "%matplotlib inline\n",
    "os.getcwd()"
   ]
  },
  {
   "cell_type": "markdown",
   "metadata": {},
   "source": [
    "## Loading Data"
   ]
  },
  {
   "cell_type": "code",
   "execution_count": 2,
   "metadata": {},
   "outputs": [],
   "source": [
    "X_train = pd.read_csv('../data/processed/X1_train.csv', index_col=0)\n",
    "X_test = pd.read_csv('../data/processed/X1_test.csv', index_col=0)\n",
    "y_train = pd.read_csv('../data/processed/y1_train.csv', index_col=0)\n",
    "y_test = pd.read_csv('../data/processed/y1_test.csv', index_col=0)"
   ]
  },
  {
   "cell_type": "code",
   "execution_count": 3,
   "metadata": {},
   "outputs": [
    {
     "data": {
      "text/html": [
       "<div>\n",
       "<style scoped>\n",
       "    .dataframe tbody tr th:only-of-type {\n",
       "        vertical-align: middle;\n",
       "    }\n",
       "\n",
       "    .dataframe tbody tr th {\n",
       "        vertical-align: top;\n",
       "    }\n",
       "\n",
       "    .dataframe thead th {\n",
       "        text-align: right;\n",
       "    }\n",
       "</style>\n",
       "<table border=\"1\" class=\"dataframe\">\n",
       "  <thead>\n",
       "    <tr style=\"text-align: right;\">\n",
       "      <th></th>\n",
       "      <th>signs_of_mental_illness</th>\n",
       "      <th>body_camera</th>\n",
       "      <th>gender_F</th>\n",
       "      <th>gender_M</th>\n",
       "      <th>threat_level_attack</th>\n",
       "      <th>threat_level_not_attack</th>\n",
       "      <th>threat_level_unspecified</th>\n",
       "      <th>flee_Car</th>\n",
       "      <th>flee_Foot</th>\n",
       "      <th>flee_Not fleeing</th>\n",
       "      <th>...</th>\n",
       "      <th>armed_knife</th>\n",
       "      <th>armed_machete</th>\n",
       "      <th>armed_other</th>\n",
       "      <th>armed_sword</th>\n",
       "      <th>armed_toy weapon</th>\n",
       "      <th>armed_unarmed</th>\n",
       "      <th>armed_undetermined</th>\n",
       "      <th>armed_unknown weapon</th>\n",
       "      <th>armed_vehicle</th>\n",
       "      <th>standardized_age</th>\n",
       "    </tr>\n",
       "  </thead>\n",
       "  <tbody>\n",
       "    <tr>\n",
       "      <th>2836</th>\n",
       "      <td>0</td>\n",
       "      <td>0</td>\n",
       "      <td>0</td>\n",
       "      <td>1</td>\n",
       "      <td>0</td>\n",
       "      <td>1</td>\n",
       "      <td>0</td>\n",
       "      <td>1</td>\n",
       "      <td>0</td>\n",
       "      <td>0</td>\n",
       "      <td>...</td>\n",
       "      <td>0</td>\n",
       "      <td>0</td>\n",
       "      <td>0</td>\n",
       "      <td>0</td>\n",
       "      <td>0</td>\n",
       "      <td>0</td>\n",
       "      <td>1</td>\n",
       "      <td>0</td>\n",
       "      <td>0</td>\n",
       "      <td>0.740107</td>\n",
       "    </tr>\n",
       "    <tr>\n",
       "      <th>1157</th>\n",
       "      <td>1</td>\n",
       "      <td>1</td>\n",
       "      <td>0</td>\n",
       "      <td>1</td>\n",
       "      <td>1</td>\n",
       "      <td>0</td>\n",
       "      <td>0</td>\n",
       "      <td>0</td>\n",
       "      <td>0</td>\n",
       "      <td>1</td>\n",
       "      <td>...</td>\n",
       "      <td>0</td>\n",
       "      <td>0</td>\n",
       "      <td>0</td>\n",
       "      <td>0</td>\n",
       "      <td>0</td>\n",
       "      <td>0</td>\n",
       "      <td>0</td>\n",
       "      <td>0</td>\n",
       "      <td>0</td>\n",
       "      <td>0.504791</td>\n",
       "    </tr>\n",
       "    <tr>\n",
       "      <th>744</th>\n",
       "      <td>0</td>\n",
       "      <td>0</td>\n",
       "      <td>0</td>\n",
       "      <td>1</td>\n",
       "      <td>1</td>\n",
       "      <td>0</td>\n",
       "      <td>0</td>\n",
       "      <td>0</td>\n",
       "      <td>0</td>\n",
       "      <td>1</td>\n",
       "      <td>...</td>\n",
       "      <td>0</td>\n",
       "      <td>0</td>\n",
       "      <td>1</td>\n",
       "      <td>0</td>\n",
       "      <td>0</td>\n",
       "      <td>0</td>\n",
       "      <td>0</td>\n",
       "      <td>0</td>\n",
       "      <td>0</td>\n",
       "      <td>0.269475</td>\n",
       "    </tr>\n",
       "    <tr>\n",
       "      <th>1448</th>\n",
       "      <td>0</td>\n",
       "      <td>0</td>\n",
       "      <td>0</td>\n",
       "      <td>1</td>\n",
       "      <td>0</td>\n",
       "      <td>0</td>\n",
       "      <td>1</td>\n",
       "      <td>0</td>\n",
       "      <td>0</td>\n",
       "      <td>1</td>\n",
       "      <td>...</td>\n",
       "      <td>0</td>\n",
       "      <td>0</td>\n",
       "      <td>0</td>\n",
       "      <td>0</td>\n",
       "      <td>0</td>\n",
       "      <td>0</td>\n",
       "      <td>1</td>\n",
       "      <td>0</td>\n",
       "      <td>0</td>\n",
       "      <td>0.583230</td>\n",
       "    </tr>\n",
       "    <tr>\n",
       "      <th>3339</th>\n",
       "      <td>0</td>\n",
       "      <td>1</td>\n",
       "      <td>0</td>\n",
       "      <td>1</td>\n",
       "      <td>0</td>\n",
       "      <td>1</td>\n",
       "      <td>0</td>\n",
       "      <td>0</td>\n",
       "      <td>1</td>\n",
       "      <td>0</td>\n",
       "      <td>...</td>\n",
       "      <td>0</td>\n",
       "      <td>0</td>\n",
       "      <td>0</td>\n",
       "      <td>0</td>\n",
       "      <td>0</td>\n",
       "      <td>0</td>\n",
       "      <td>0</td>\n",
       "      <td>0</td>\n",
       "      <td>0</td>\n",
       "      <td>-0.907106</td>\n",
       "    </tr>\n",
       "  </tbody>\n",
       "</table>\n",
       "<p>5 rows × 100 columns</p>\n",
       "</div>"
      ],
      "text/plain": [
       "      signs_of_mental_illness  body_camera  gender_F  gender_M  \\\n",
       "2836                        0            0         0         1   \n",
       "1157                        1            1         0         1   \n",
       "744                         0            0         0         1   \n",
       "1448                        0            0         0         1   \n",
       "3339                        0            1         0         1   \n",
       "\n",
       "      threat_level_attack  threat_level_not_attack  threat_level_unspecified  \\\n",
       "2836                    0                        1                         0   \n",
       "1157                    1                        0                         0   \n",
       "744                     1                        0                         0   \n",
       "1448                    0                        0                         1   \n",
       "3339                    0                        1                         0   \n",
       "\n",
       "      flee_Car  flee_Foot  flee_Not fleeing  ...  armed_knife  armed_machete  \\\n",
       "2836         1          0                 0  ...            0              0   \n",
       "1157         0          0                 1  ...            0              0   \n",
       "744          0          0                 1  ...            0              0   \n",
       "1448         0          0                 1  ...            0              0   \n",
       "3339         0          1                 0  ...            0              0   \n",
       "\n",
       "      armed_other  armed_sword  armed_toy weapon  armed_unarmed  \\\n",
       "2836            0            0                 0              0   \n",
       "1157            0            0                 0              0   \n",
       "744             1            0                 0              0   \n",
       "1448            0            0                 0              0   \n",
       "3339            0            0                 0              0   \n",
       "\n",
       "      armed_undetermined  armed_unknown weapon  armed_vehicle  \\\n",
       "2836                   1                     0              0   \n",
       "1157                   0                     0              0   \n",
       "744                    0                     0              0   \n",
       "1448                   1                     0              0   \n",
       "3339                   0                     0              0   \n",
       "\n",
       "      standardized_age  \n",
       "2836          0.740107  \n",
       "1157          0.504791  \n",
       "744           0.269475  \n",
       "1448          0.583230  \n",
       "3339         -0.907106  \n",
       "\n",
       "[5 rows x 100 columns]"
      ]
     },
     "execution_count": 3,
     "metadata": {},
     "output_type": "execute_result"
    }
   ],
   "source": [
    "X_train.head()"
   ]
  },
  {
   "cell_type": "markdown",
   "metadata": {},
   "source": [
    "## Dummy Classifier\n",
    "\n",
    "##### Since my data is imbalanced, I want to make sure my models perform at least as well as a model that always guessing the largest class."
   ]
  },
  {
   "cell_type": "code",
   "execution_count": 4,
   "metadata": {},
   "outputs": [
    {
     "data": {
      "text/plain": [
       "DummyClassifier(constant=None, random_state=42, strategy='uniform')"
      ]
     },
     "execution_count": 4,
     "metadata": {},
     "output_type": "execute_result"
    }
   ],
   "source": [
    "from sklearn.dummy import DummyClassifier\n",
    "from sklearn.metrics import confusion_matrix, roc_auc_score, plot_confusion_matrix, f1_score, recall_score\n",
    "from sklearn.model_selection import cross_val_score\n",
    "\n",
    "\n",
    "dummy = DummyClassifier(strategy='uniform', random_state=42)\n",
    "dummy.fit(X_train, y_train)\n"
   ]
  },
  {
   "cell_type": "code",
   "execution_count": 5,
   "metadata": {},
   "outputs": [
    {
     "name": "stdout",
     "output_type": "stream",
     "text": [
      "F1: 0.326923076923077\n",
      "ROC-AUC: 0.5\n",
      "Accuracy: 0.4857142857142857\n"
     ]
    },
    {
     "data": {
      "image/png": "[encoded data removed]",
      "text/plain": [
       "<Figure size 432x288 with 2 Axes>"
      ]
     },
     "metadata": {
      "needs_background": "light"
     },
     "output_type": "display_data"
    }
   ],
   "source": [
    "y_predict_dummy = dummy.predict(X_test)\n",
    "plot_confusion_matrix(dummy, X_test, y_test)\n",
    "predprob = dummy.predict_proba(X_test)[:,1]\n",
    "\n",
    "f1_dum = f1_score(y_test, y_predict_dummy)\n",
    "recall_dum = recall_score(y_test, y_predict_dummy)\n",
    "auc_dum = roc_auc_score(y_test, dummy.predict_proba(X_test)[:,1])\n",
    "cv_scores_train= cross_val_score(dummy,X_train,y_train,cv=5,scoring='f1')\n",
    "cv_scores_dum_train= cv_scores_train.mean()\n",
    "print('F1:', f1_dum)\n",
    "print('ROC-AUC:', auc_dum)\n",
    "print('Accuracy:', dummy.score(X_test, y_test))\n"
   ]
  },
  {
   "cell_type": "markdown",
   "metadata": {},
   "source": [
    "Since I'm interested mostly in how many 'True' were predicted 'True,' the F1 Score seems especially useful for me. I may also want to look at 'Recall' to judge a model by its false negatives.\n",
    "The dummy model has a relatively high ROC-AUC score for a dummy model, so I won't use this to judge."
   ]
  },
  {
   "cell_type": "markdown",
   "metadata": {},
   "source": [
    "# SVM, out of the box"
   ]
  },
  {
   "cell_type": "code",
   "execution_count": 6,
   "metadata": {},
   "outputs": [
    {
     "name": "stdout",
     "output_type": "stream",
     "text": [
      "Mean CV F1 training score: 0.29114314897750926\n",
      "Accuracy: 0.7444897959183674\n",
      "F1 Score: 0.2934537246049661\n"
     ]
    },
    {
     "data": {
      "text/plain": [
       "<sklearn.metrics._plot.confusion_matrix.ConfusionMatrixDisplay at 0x7dc6382f7790>"
      ]
     },
     "execution_count": 6,
     "metadata": {},
     "output_type": "execute_result"
    },
    {
     "data": {
      "image/png": "[encoded data removed]",
      "text/plain": [
       "<Figure size 432x288 with 2 Axes>"
      ]
     },
     "metadata": {
      "needs_background": "light"
     },
     "output_type": "display_data"
    }
   ],
   "source": [
    "from sklearn.svm import SVC\n",
    "\n",
    "svm = SVC(kernel='linear', probability=True)\n",
    "svm.fit(X_train, y_train)\n",
    "\n",
    "# Predict using model:\n",
    "\n",
    "y_predict_svm=svm.predict(X_test)\n",
    "\n",
    "#Confusion matrix:\n",
    "\n",
    "cnf_matrix = confusion_matrix(y_test, y_predict_svm)\n",
    "Accuracy_svm=svm.score(X_test,y_test)\n",
    "f1_svm = f1_score(y_test, y_predict_svm)\n",
    "recall_svm = recall_score(y_test, y_predict_svm)\n",
    "auc_svm = roc_auc_score(y_test, svm.predict_proba(X_test)[:,1])\n",
    "\n",
    "cv_scores_train= cross_val_score(svm,X_train,y_train,cv=5,scoring='f1')\n",
    "cv_scores_svm_train= cv_scores_train.mean()\n",
    "print ('Mean CV F1 training score: ' +str(cv_scores_svm_train))\n",
    "print('Accuracy:', Accuracy_svm)\n",
    "print('F1 Score:', f1_svm)\n",
    "plot_confusion_matrix(svm, X_test, y_test)"
   ]
  },
  {
   "cell_type": "markdown",
   "metadata": {},
   "source": [
    "## RANDOM FOREST, out of the box"
   ]
  },
  {
   "cell_type": "code",
   "execution_count": 7,
   "metadata": {},
   "outputs": [
    {
     "name": "stdout",
     "output_type": "stream",
     "text": [
      "Mean CV training F1 score: 0.34632903225356054\n",
      "Accuracy: 0.7436734693877551\n",
      "F1 Score: 0.3114035087719298\n"
     ]
    },
    {
     "data": {
      "image/png": "[encoded data removed]",
      "text/plain": [
       "<Figure size 432x288 with 2 Axes>"
      ]
     },
     "metadata": {
      "needs_background": "light"
     },
     "output_type": "display_data"
    }
   ],
   "source": [
    "from sklearn.ensemble import RandomForestClassifier\n",
    "\n",
    "#Apply RF to the training data:\n",
    "\n",
    "rf = RandomForestClassifier(bootstrap=True,n_estimators=100,criterion='gini')\n",
    "rf.fit(X_train, y_train)\n",
    "\n",
    "#Predict using the model:\n",
    "\n",
    "y_predict_rf = rf.predict(X_test)\n",
    "\n",
    "#Confusion matrix:\n",
    "\n",
    "cnf_matrix = confusion_matrix(y_test, y_predict_rf)\n",
    "plot_confusion_matrix(rf, X_test, y_test)\n",
    "predprob = rf.predict_proba(X_test)[:,1]\n",
    "Accuracy_rf=rf.score(X_test,y_test)\n",
    "f1_rf = f1_score(y_test, y_predict_rf)\n",
    "recall_rf = recall_score(y_test, y_predict_rf)\n",
    "auc_rf = roc_auc_score(y_test, predprob)\n",
    "\n",
    "cv_scores_train= cross_val_score(rf,X_train,y_train,cv=5,scoring='f1')\n",
    "cv_scores_rf_train= cv_scores_train.mean()\n",
    "print ('Mean CV training F1 score: ' +str(cv_scores_rf_train))\n",
    "\n",
    "print('Accuracy:', Accuracy_rf)\n",
    "print('F1 Score:', f1_score(y_test, y_predict_rf))\n"
   ]
  },
  {
   "cell_type": "markdown",
   "metadata": {},
   "source": [
    "## GRADIENT BOOST, out of the box"
   ]
  },
  {
   "cell_type": "code",
   "execution_count": 8,
   "metadata": {},
   "outputs": [
    {
     "name": "stdout",
     "output_type": "stream",
     "text": [
      "Mean CV F1 Training Score: 0.43905498487198696\n",
      "Accuracy: 0.7510204081632653\n",
      "F1 Score: 0.41005802707930367\n"
     ]
    },
    {
     "data": {
      "image/png": "[encoded data removed]",
      "text/plain": [
       "<Figure size 432x288 with 2 Axes>"
      ]
     },
     "metadata": {
      "needs_background": "light"
     },
     "output_type": "display_data"
    }
   ],
   "source": [
    "from sklearn.ensemble import GradientBoostingClassifier\n",
    "gbc = GradientBoostingClassifier(subsample=0.8, learning_rate=0.05 , n_estimators=160, random_state=5, max_depth=9, max_leaf_nodes=100)\n",
    "gbc.fit(X_train, y_train)\n",
    "\n",
    "#Predict using the model:\n",
    "\n",
    "y_predict_gbc = gbc.predict(X_test)\n",
    "\n",
    "#Confusion matrix:\n",
    "\n",
    "cnf_matrix = confusion_matrix(y_test, y_predict_gbc)\n",
    "plot_confusion_matrix(gbc, X_test, y_test)\n",
    "predprob = gbc.predict_proba(X_test)[:,1]\n",
    "Accuracy_gbc=gbc.score(X_test,y_test)\n",
    "f1_gbc = f1_score(y_test, y_predict_gbc)\n",
    "recall_gbc = recall_score(y_test, y_predict_gbc)\n",
    "auc_gbc = roc_auc_score(y_test, predprob)\n",
    "\n",
    "cv_scores_train= cross_val_score(gbc,X_train,y_train,cv=5,scoring='f1')\n",
    "cv_scores_gbc_train= cv_scores_train.mean()\n",
    "print ('Mean CV F1 Training Score: ' +str(cv_scores_gbc_train))\n",
    "\n",
    "print('Accuracy:', Accuracy_gbc)\n",
    "print('F1 Score:', f1_score(y_test, y_predict_gbc))"
   ]
  },
  {
   "cell_type": "markdown",
   "metadata": {},
   "source": [
    "## LOGISTIC REGRESSION"
   ]
  },
  {
   "cell_type": "code",
   "execution_count": 9,
   "metadata": {},
   "outputs": [
    {
     "name": "stdout",
     "output_type": "stream",
     "text": [
      "Mean CV F1 Training Score: 0.4262236611119052\n",
      "Accuracy: 0.7485714285714286\n",
      "F1 Score: 0.3765182186234818\n"
     ]
    },
    {
     "data": {
      "image/png": "[encoded data removed]",
      "text/plain": [
       "<Figure size 432x288 with 2 Axes>"
      ]
     },
     "metadata": {
      "needs_background": "light"
     },
     "output_type": "display_data"
    }
   ],
   "source": [
    "from sklearn.linear_model import LogisticRegression\n",
    "\n",
    "lr = LogisticRegression()\n",
    "lr.fit(X_train, y_train)\n",
    "y_predict_lr = lr.predict(X_test)\n",
    "\n",
    "cnf_matrix = confusion_matrix(y_test, y_predict_lr)\n",
    "plot_confusion_matrix(lr, X_test, y_test)\n",
    "\n",
    "predprob = lr.predict_proba(X_test)[:,1]\n",
    "Accuracy_lr=lr.score(X_test,y_test)\n",
    "f1_lr = f1_score(y_test, y_predict_lr)\n",
    "recall_lr = recall_score(y_test, y_predict_lr)\n",
    "auc_lr = roc_auc_score(y_test, predprob)\n",
    "\n",
    "cv_scores_train= cross_val_score(lr,X_train,y_train,cv=5,scoring='f1')\n",
    "cv_scores_lr_train= cv_scores_train.mean()\n",
    "\n",
    "print ('Mean CV F1 Training Score: ' +str(cv_scores_lr_train))\n",
    "\n",
    "\n",
    "print('Accuracy:', Accuracy_lr)\n",
    "print('F1 Score:', f1_score(y_test, y_predict_lr))\n"
   ]
  },
  {
   "cell_type": "code",
   "execution_count": 10,
   "metadata": {},
   "outputs": [
    {
     "data": {
      "text/html": [
       "<div>\n",
       "<style scoped>\n",
       "    .dataframe tbody tr th:only-of-type {\n",
       "        vertical-align: middle;\n",
       "    }\n",
       "\n",
       "    .dataframe tbody tr th {\n",
       "        vertical-align: top;\n",
       "    }\n",
       "\n",
       "    .dataframe thead th {\n",
       "        text-align: right;\n",
       "    }\n",
       "</style>\n",
       "<table border=\"1\" class=\"dataframe\">\n",
       "  <thead>\n",
       "    <tr style=\"text-align: right;\">\n",
       "      <th></th>\n",
       "      <th>Model</th>\n",
       "      <th>AUC Score</th>\n",
       "      <th>Recall Score</th>\n",
       "      <th>CV F1 Scores: Train</th>\n",
       "      <th>F1 Scores</th>\n",
       "    </tr>\n",
       "  </thead>\n",
       "  <tbody>\n",
       "    <tr>\n",
       "      <th>0</th>\n",
       "      <td>dummy</td>\n",
       "      <td>0.500000</td>\n",
       "      <td>0.470769</td>\n",
       "      <td>0.350026</td>\n",
       "      <td>0.326923</td>\n",
       "    </tr>\n",
       "    <tr>\n",
       "      <th>1</th>\n",
       "      <td>svm</td>\n",
       "      <td>0.716945</td>\n",
       "      <td>0.200000</td>\n",
       "      <td>0.291143</td>\n",
       "      <td>0.293454</td>\n",
       "    </tr>\n",
       "    <tr>\n",
       "      <th>2</th>\n",
       "      <td>rf</td>\n",
       "      <td>0.693299</td>\n",
       "      <td>0.218462</td>\n",
       "      <td>0.346329</td>\n",
       "      <td>0.311404</td>\n",
       "    </tr>\n",
       "    <tr>\n",
       "      <th>3</th>\n",
       "      <td>gbc</td>\n",
       "      <td>0.707246</td>\n",
       "      <td>0.326154</td>\n",
       "      <td>0.439055</td>\n",
       "      <td>0.410058</td>\n",
       "    </tr>\n",
       "    <tr>\n",
       "      <th>4</th>\n",
       "      <td>lr</td>\n",
       "      <td>0.723885</td>\n",
       "      <td>0.286154</td>\n",
       "      <td>0.426224</td>\n",
       "      <td>0.376518</td>\n",
       "    </tr>\n",
       "  </tbody>\n",
       "</table>\n",
       "</div>"
      ],
      "text/plain": [
       "   Model  AUC Score  Recall Score  CV F1 Scores: Train  F1 Scores\n",
       "0  dummy   0.500000      0.470769             0.350026   0.326923\n",
       "1    svm   0.716945      0.200000             0.291143   0.293454\n",
       "2     rf   0.693299      0.218462             0.346329   0.311404\n",
       "3    gbc   0.707246      0.326154             0.439055   0.410058\n",
       "4     lr   0.723885      0.286154             0.426224   0.376518"
      ]
     },
     "execution_count": 10,
     "metadata": {},
     "output_type": "execute_result"
    }
   ],
   "source": [
    "models = ['dummy', 'svm', 'rf', 'gbc', 'lr']\n",
    "auc = [auc_dum, auc_svm, auc_rf, auc_gbc, auc_lr]\n",
    "recall = [recall_dum, recall_svm, recall_rf, recall_gbc, recall_lr]\n",
    "cv_f1_train = [cv_scores_dum_train, cv_scores_svm_train, cv_scores_rf_train, cv_scores_gbc_train, cv_scores_lr_train]\n",
    "f1_scores = [f1_dum, f1_svm, f1_rf, f1_gbc, f1_lr]\n",
    "df = pd.DataFrame(list(zip(models, auc, recall, cv_f1_train, f1_scores)),\n",
    "                 columns = ['Model', 'AUC Score', 'Recall Score', 'CV F1 Scores: Train', 'F1 Scores'])\n",
    "df"
   ]
  },
  {
   "cell_type": "markdown",
   "metadata": {},
   "source": [
    "None of the models perform much better than the dummy model."
   ]
  },
  {
   "cell_type": "code",
   "execution_count": null,
   "metadata": {},
   "outputs": [],
   "source": []
  }
 ],
 "metadata": {
  "kernelspec": {
   "display_name": "Python 3",
   "language": "python",
   "name": "python3"
  },
  "language_info": {
   "codemirror_mode": {
    "name": "ipython",
    "version": 3
   },
   "file_extension": ".py",
   "mimetype": "text/x-python",
   "name": "python",
   "nbconvert_exporter": "python",
   "pygments_lexer": "ipython3",
   "version": "3.7.7"
  }
 },
 "nbformat": 4,
 "nbformat_minor": 4
}
