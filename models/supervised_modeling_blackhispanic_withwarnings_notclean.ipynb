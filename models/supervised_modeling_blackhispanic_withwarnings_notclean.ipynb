{
 "cells": [
  {
   "cell_type": "code",
   "execution_count": 1,
   "metadata": {},
   "outputs": [
    {
     "data": {
      "text/plain": [
       "'/Users/Livi/Projects/blm/capcookie/models'"
      ]
     },
     "execution_count": 1,
     "metadata": {},
     "output_type": "execute_result"
    }
   ],
   "source": [
    "import pandas as pd\n",
    "import numpy as np\n",
    "import matplotlib.pyplot as plt\n",
    "import os\n",
    "%matplotlib inline\n",
    "os.getcwd()\n",
    "\n",
    "import warnings\n",
    "warnings.filterwarnings('ignore')"
   ]
  },
  {
   "cell_type": "code",
   "execution_count": 2,
   "metadata": {},
   "outputs": [],
   "source": [
    "X_train = pd.read_csv('../data/processed/X2_train.csv', index_col=0)\n",
    "X_test = pd.read_csv('../data/processed/X2_test.csv', index_col=0)\n",
    "y_train = pd.read_csv('../data/processed/y2_train.csv', index_col=0)\n",
    "y_test = pd.read_csv('../data/processed/y2_test.csv', index_col=0)"
   ]
  },
  {
   "cell_type": "code",
   "execution_count": 3,
   "metadata": {},
   "outputs": [
    {
     "data": {
      "text/html": [
       "<div>\n",
       "<style scoped>\n",
       "    .dataframe tbody tr th:only-of-type {\n",
       "        vertical-align: middle;\n",
       "    }\n",
       "\n",
       "    .dataframe tbody tr th {\n",
       "        vertical-align: top;\n",
       "    }\n",
       "\n",
       "    .dataframe thead th {\n",
       "        text-align: right;\n",
       "    }\n",
       "</style>\n",
       "<table border=\"1\" class=\"dataframe\">\n",
       "  <thead>\n",
       "    <tr style=\"text-align: right;\">\n",
       "      <th></th>\n",
       "      <th>signs_of_mental_illness</th>\n",
       "      <th>body_camera</th>\n",
       "      <th>gender_F</th>\n",
       "      <th>gender_M</th>\n",
       "      <th>gender_Nonbinary</th>\n",
       "      <th>threat_level_attack</th>\n",
       "      <th>threat_level_not_attack</th>\n",
       "      <th>threat_level_unspecified</th>\n",
       "      <th>flee_Car</th>\n",
       "      <th>flee_Foot</th>\n",
       "      <th>...</th>\n",
       "      <th>armed_knife</th>\n",
       "      <th>armed_machete</th>\n",
       "      <th>armed_other</th>\n",
       "      <th>armed_sword</th>\n",
       "      <th>armed_toy weapon</th>\n",
       "      <th>armed_unarmed</th>\n",
       "      <th>armed_undetermined</th>\n",
       "      <th>armed_unknown weapon</th>\n",
       "      <th>armed_vehicle</th>\n",
       "      <th>standardized_age</th>\n",
       "    </tr>\n",
       "  </thead>\n",
       "  <tbody>\n",
       "    <tr>\n",
       "      <th>1068</th>\n",
       "      <td>0</td>\n",
       "      <td>0</td>\n",
       "      <td>0</td>\n",
       "      <td>1</td>\n",
       "      <td>0</td>\n",
       "      <td>1</td>\n",
       "      <td>0</td>\n",
       "      <td>0</td>\n",
       "      <td>0</td>\n",
       "      <td>0</td>\n",
       "      <td>...</td>\n",
       "      <td>0</td>\n",
       "      <td>0</td>\n",
       "      <td>0</td>\n",
       "      <td>0</td>\n",
       "      <td>0</td>\n",
       "      <td>0</td>\n",
       "      <td>0</td>\n",
       "      <td>0</td>\n",
       "      <td>0</td>\n",
       "      <td>-0.585288</td>\n",
       "    </tr>\n",
       "    <tr>\n",
       "      <th>4093</th>\n",
       "      <td>0</td>\n",
       "      <td>0</td>\n",
       "      <td>0</td>\n",
       "      <td>1</td>\n",
       "      <td>0</td>\n",
       "      <td>1</td>\n",
       "      <td>0</td>\n",
       "      <td>0</td>\n",
       "      <td>0</td>\n",
       "      <td>0</td>\n",
       "      <td>...</td>\n",
       "      <td>0</td>\n",
       "      <td>0</td>\n",
       "      <td>0</td>\n",
       "      <td>0</td>\n",
       "      <td>0</td>\n",
       "      <td>0</td>\n",
       "      <td>0</td>\n",
       "      <td>0</td>\n",
       "      <td>0</td>\n",
       "      <td>3.128062</td>\n",
       "    </tr>\n",
       "    <tr>\n",
       "      <th>2586</th>\n",
       "      <td>1</td>\n",
       "      <td>0</td>\n",
       "      <td>0</td>\n",
       "      <td>1</td>\n",
       "      <td>0</td>\n",
       "      <td>0</td>\n",
       "      <td>1</td>\n",
       "      <td>0</td>\n",
       "      <td>0</td>\n",
       "      <td>0</td>\n",
       "      <td>...</td>\n",
       "      <td>0</td>\n",
       "      <td>0</td>\n",
       "      <td>1</td>\n",
       "      <td>0</td>\n",
       "      <td>0</td>\n",
       "      <td>0</td>\n",
       "      <td>0</td>\n",
       "      <td>0</td>\n",
       "      <td>0</td>\n",
       "      <td>0.125779</td>\n",
       "    </tr>\n",
       "    <tr>\n",
       "      <th>4284</th>\n",
       "      <td>0</td>\n",
       "      <td>0</td>\n",
       "      <td>0</td>\n",
       "      <td>1</td>\n",
       "      <td>0</td>\n",
       "      <td>1</td>\n",
       "      <td>0</td>\n",
       "      <td>0</td>\n",
       "      <td>0</td>\n",
       "      <td>0</td>\n",
       "      <td>...</td>\n",
       "      <td>0</td>\n",
       "      <td>0</td>\n",
       "      <td>0</td>\n",
       "      <td>0</td>\n",
       "      <td>0</td>\n",
       "      <td>0</td>\n",
       "      <td>0</td>\n",
       "      <td>0</td>\n",
       "      <td>0</td>\n",
       "      <td>3.049055</td>\n",
       "    </tr>\n",
       "    <tr>\n",
       "      <th>3839</th>\n",
       "      <td>0</td>\n",
       "      <td>0</td>\n",
       "      <td>0</td>\n",
       "      <td>1</td>\n",
       "      <td>0</td>\n",
       "      <td>1</td>\n",
       "      <td>0</td>\n",
       "      <td>0</td>\n",
       "      <td>0</td>\n",
       "      <td>0</td>\n",
       "      <td>...</td>\n",
       "      <td>0</td>\n",
       "      <td>0</td>\n",
       "      <td>0</td>\n",
       "      <td>0</td>\n",
       "      <td>0</td>\n",
       "      <td>0</td>\n",
       "      <td>0</td>\n",
       "      <td>0</td>\n",
       "      <td>0</td>\n",
       "      <td>-0.111243</td>\n",
       "    </tr>\n",
       "  </tbody>\n",
       "</table>\n",
       "<p>5 rows × 101 columns</p>\n",
       "</div>"
      ],
      "text/plain": [
       "      signs_of_mental_illness  body_camera  gender_F  gender_M  \\\n",
       "1068                        0            0         0         1   \n",
       "4093                        0            0         0         1   \n",
       "2586                        1            0         0         1   \n",
       "4284                        0            0         0         1   \n",
       "3839                        0            0         0         1   \n",
       "\n",
       "      gender_Nonbinary  threat_level_attack  threat_level_not_attack  \\\n",
       "1068                 0                    1                        0   \n",
       "4093                 0                    1                        0   \n",
       "2586                 0                    0                        1   \n",
       "4284                 0                    1                        0   \n",
       "3839                 0                    1                        0   \n",
       "\n",
       "      threat_level_unspecified  flee_Car  flee_Foot  ...  armed_knife  \\\n",
       "1068                         0         0          0  ...            0   \n",
       "4093                         0         0          0  ...            0   \n",
       "2586                         0         0          0  ...            0   \n",
       "4284                         0         0          0  ...            0   \n",
       "3839                         0         0          0  ...            0   \n",
       "\n",
       "      armed_machete  armed_other  armed_sword  armed_toy weapon  \\\n",
       "1068              0            0            0                 0   \n",
       "4093              0            0            0                 0   \n",
       "2586              0            1            0                 0   \n",
       "4284              0            0            0                 0   \n",
       "3839              0            0            0                 0   \n",
       "\n",
       "      armed_unarmed  armed_undetermined  armed_unknown weapon  armed_vehicle  \\\n",
       "1068              0                   0                     0              0   \n",
       "4093              0                   0                     0              0   \n",
       "2586              0                   0                     0              0   \n",
       "4284              0                   0                     0              0   \n",
       "3839              0                   0                     0              0   \n",
       "\n",
       "      standardized_age  \n",
       "1068         -0.585288  \n",
       "4093          3.128062  \n",
       "2586          0.125779  \n",
       "4284          3.049055  \n",
       "3839         -0.111243  \n",
       "\n",
       "[5 rows x 101 columns]"
      ]
     },
     "execution_count": 3,
     "metadata": {},
     "output_type": "execute_result"
    }
   ],
   "source": [
    "X_train.head()"
   ]
  },
  {
   "cell_type": "markdown",
   "metadata": {},
   "source": [
    "TRYING DUMMY CLASSIFIER\n",
    "\n",
    "Because my data is imbalanced"
   ]
  },
  {
   "cell_type": "code",
   "execution_count": 4,
   "metadata": {},
   "outputs": [
    {
     "data": {
      "text/plain": [
       "DummyClassifier(random_state=42, strategy='most_frequent')"
      ]
     },
     "execution_count": 4,
     "metadata": {},
     "output_type": "execute_result"
    }
   ],
   "source": [
    "from sklearn.dummy import DummyClassifier\n",
    "from sklearn.metrics import confusion_matrix, roc_auc_score, plot_confusion_matrix, f1_score, recall_score\n",
    "from sklearn.model_selection import cross_val_score\n",
    "\n",
    "\n",
    "dummy = DummyClassifier(strategy='most_frequent', random_state=42)\n",
    "dummy.fit(X_train, y_train)\n"
   ]
  },
  {
   "cell_type": "code",
   "execution_count": 5,
   "metadata": {},
   "outputs": [
    {
     "name": "stdout",
     "output_type": "stream",
     "text": [
      "Accuracy: 0.546191247974068\n",
      "[[674   0]\n",
      " [560   0]]\n",
      "ROC_AUC: 0.5\n"
     ]
    },
    {
     "data": {
      "image/png": "[encoded data removed]",
      "text/plain": [
       "<Figure size 432x288 with 2 Axes>"
      ]
     },
     "metadata": {
      "needs_background": "light"
     },
     "output_type": "display_data"
    }
   ],
   "source": [
    "y_predict_dummy = dummy.predict(X_test)\n",
    "print('Accuracy:', dummy.score(X_test, y_test))\n",
    "print(confusion_matrix(y_test, y_predict_dummy))\n",
    "plot_confusion_matrix(dummy, X_test, y_test)\n",
    "predprob = dummy.predict_proba(X_test)[:,1]\n",
    "print('ROC_AUC:', roc_auc_score(y_test, predprob))\n",
    "f1_dum = f1_score(y_test, y_predict_dummy)\n",
    "recall_dum = recall_score(y_test, y_predict_dummy)\n",
    "auc_dum = roc_auc_score(y_test, dummy.predict_proba(X_test)[:,1])"
   ]
  },
  {
   "cell_type": "code",
   "execution_count": 6,
   "metadata": {},
   "outputs": [
    {
     "name": "stdout",
     "output_type": "stream",
     "text": [
      "[0. 0. 0. 0. 0.]\n",
      "Mean cross validation test score: 0.0\n",
      "Mean cross validation train score: 0.0\n",
      "Standard deviation in cv scores: 0.0\n"
     ]
    }
   ],
   "source": [
    "cv_scores_test= cross_val_score(dummy,X_test,y_test,cv=5,scoring='f1')\n",
    "cv_scores_train= cross_val_score(dummy,X_train,y_train,cv=5,scoring='f1')\n",
    "print(cv_scores_test)\n",
    "cv_scores_dum_test= cv_scores_test.mean()\n",
    "cv_scores_dum_train= cv_scores_train.mean()\n",
    "cv_scores_std_dum= cv_scores_test.std()\n",
    "print ('Mean cross validation test score: ' +str(cv_scores_dum_test))\n",
    "print ('Mean cross validation train score: ' +str(cv_scores_dum_train))\n",
    "print ('Standard deviation in cv scores: ' +str(cv_scores_std_dum))"
   ]
  },
  {
   "cell_type": "markdown",
   "metadata": {},
   "source": [
    "Since, I'm interested mostly in how many 'True' were predicted 'True,' the F1 Score seems especially useful for me. I may also want to look at 'Recall' to judge a model by its false negatives."
   ]
  },
  {
   "cell_type": "markdown",
   "metadata": {},
   "source": [
    "SUPERVISED LEARNING"
   ]
  },
  {
   "cell_type": "markdown",
   "metadata": {},
   "source": [
    "SVM "
   ]
  },
  {
   "cell_type": "code",
   "execution_count": 7,
   "metadata": {},
   "outputs": [
    {
     "name": "stderr",
     "output_type": "stream",
     "text": [
      "/Users/Livi/opt/anaconda3/envs/springboard/lib/python3.7/site-packages/sklearn/utils/validation.py:73: DataConversionWarning: A column-vector y was passed when a 1d array was expected. Please change the shape of y to (n_samples, ), for example using ravel().\n",
      "  return f(**kwargs)\n"
     ]
    },
    {
     "name": "stdout",
     "output_type": "stream",
     "text": [
      "[[485 189]\n",
      " [224 336]]\n",
      "0.6653160453808752\n",
      "0.6193548387096774\n"
     ]
    },
    {
     "data": {
      "text/plain": [
       "<sklearn.metrics._plot.confusion_matrix.ConfusionMatrixDisplay at 0x7fc8e7e27210>"
      ]
     },
     "execution_count": 7,
     "metadata": {},
     "output_type": "execute_result"
    },
    {
     "data": {
      "image/png": "[encoded data removed]",
      "text/plain": [
       "<Figure size 432x288 with 2 Axes>"
      ]
     },
     "metadata": {
      "needs_background": "light"
     },
     "output_type": "display_data"
    }
   ],
   "source": [
    "from sklearn.svm import SVC\n",
    "\n",
    "svm = SVC(kernel='linear', probability=True)\n",
    "svm.fit(X_train, y_train)\n",
    "\n",
    "# Predict using model:\n",
    "\n",
    "y_predict_svm=svm.predict(X_test)\n",
    "\n",
    "#Confusion matrix:\n",
    "\n",
    "cnf_matrix = confusion_matrix(y_test, y_predict_svm)\n",
    "Accuracy_svm=svm.score(X_test,y_test)\n",
    "f1_svm = f1_score(y_test, y_predict_svm)\n",
    "recall_svm = recall_score(y_test, y_predict_svm)\n",
    "auc_svm = roc_auc_score(y_test, svm.predict_proba(X_test)[:,1])\n",
    "\n",
    "print(cnf_matrix)\n",
    "print(Accuracy_svm)\n",
    "print(f1_score(y_test, y_predict_svm))\n",
    "plot_confusion_matrix(svm, X_test, y_test)"
   ]
  },
  {
   "cell_type": "code",
   "execution_count": 8,
   "metadata": {},
   "outputs": [
    {
     "name": "stderr",
     "output_type": "stream",
     "text": [
      "/Users/Livi/opt/anaconda3/envs/springboard/lib/python3.7/site-packages/sklearn/utils/validation.py:73: DataConversionWarning: A column-vector y was passed when a 1d array was expected. Please change the shape of y to (n_samples, ), for example using ravel().\n",
      "  return f(**kwargs)\n",
      "/Users/Livi/opt/anaconda3/envs/springboard/lib/python3.7/site-packages/sklearn/utils/validation.py:73: DataConversionWarning: A column-vector y was passed when a 1d array was expected. Please change the shape of y to (n_samples, ), for example using ravel().\n",
      "  return f(**kwargs)\n",
      "/Users/Livi/opt/anaconda3/envs/springboard/lib/python3.7/site-packages/sklearn/utils/validation.py:73: DataConversionWarning: A column-vector y was passed when a 1d array was expected. Please change the shape of y to (n_samples, ), for example using ravel().\n",
      "  return f(**kwargs)\n",
      "/Users/Livi/opt/anaconda3/envs/springboard/lib/python3.7/site-packages/sklearn/utils/validation.py:73: DataConversionWarning: A column-vector y was passed when a 1d array was expected. Please change the shape of y to (n_samples, ), for example using ravel().\n",
      "  return f(**kwargs)\n",
      "/Users/Livi/opt/anaconda3/envs/springboard/lib/python3.7/site-packages/sklearn/utils/validation.py:73: DataConversionWarning: A column-vector y was passed when a 1d array was expected. Please change the shape of y to (n_samples, ), for example using ravel().\n",
      "  return f(**kwargs)\n",
      "/Users/Livi/opt/anaconda3/envs/springboard/lib/python3.7/site-packages/sklearn/utils/validation.py:73: DataConversionWarning: A column-vector y was passed when a 1d array was expected. Please change the shape of y to (n_samples, ), for example using ravel().\n",
      "  return f(**kwargs)\n",
      "/Users/Livi/opt/anaconda3/envs/springboard/lib/python3.7/site-packages/sklearn/utils/validation.py:73: DataConversionWarning: A column-vector y was passed when a 1d array was expected. Please change the shape of y to (n_samples, ), for example using ravel().\n",
      "  return f(**kwargs)\n",
      "/Users/Livi/opt/anaconda3/envs/springboard/lib/python3.7/site-packages/sklearn/utils/validation.py:73: DataConversionWarning: A column-vector y was passed when a 1d array was expected. Please change the shape of y to (n_samples, ), for example using ravel().\n",
      "  return f(**kwargs)\n",
      "/Users/Livi/opt/anaconda3/envs/springboard/lib/python3.7/site-packages/sklearn/utils/validation.py:73: DataConversionWarning: A column-vector y was passed when a 1d array was expected. Please change the shape of y to (n_samples, ), for example using ravel().\n",
      "  return f(**kwargs)\n",
      "/Users/Livi/opt/anaconda3/envs/springboard/lib/python3.7/site-packages/sklearn/utils/validation.py:73: DataConversionWarning: A column-vector y was passed when a 1d array was expected. Please change the shape of y to (n_samples, ), for example using ravel().\n",
      "  return f(**kwargs)\n"
     ]
    },
    {
     "name": "stdout",
     "output_type": "stream",
     "text": [
      "[0.54935622 0.57407407 0.62068966 0.58064516 0.61818182]\n",
      "Mean cross validation test score: 0.5885893863789188\n",
      "Mean cross validation train score: 0.6318913648874236\n",
      "Standard deviation in cv scores: 0.027273376670661428\n"
     ]
    }
   ],
   "source": [
    "cv_scores_test= cross_val_score(svm,X_test,y_test,cv=5,scoring='f1')\n",
    "cv_scores_train= cross_val_score(svm,X_train,y_train,cv=5,scoring='f1')\n",
    "print(cv_scores_test)\n",
    "cv_scores_svm_test= cv_scores_test.mean()\n",
    "cv_scores_svm_train= cv_scores_train.mean()\n",
    "cv_scores_std_svm= cv_scores_test.std()\n",
    "print ('Mean cross validation test score: ' +str(cv_scores_svm_test))\n",
    "print ('Mean cross validation train score: ' +str(cv_scores_svm_train))\n",
    "print ('Standard deviation in cv scores: ' +str(cv_scores_std_svm))"
   ]
  },
  {
   "cell_type": "markdown",
   "metadata": {},
   "source": [
    "The SVM does ok compared to this, given ROC_AUC. 0.5 compared to 0.67."
   ]
  },
  {
   "cell_type": "markdown",
   "metadata": {},
   "source": [
    "RANDOM FOREST"
   ]
  },
  {
   "cell_type": "code",
   "execution_count": 9,
   "metadata": {},
   "outputs": [
    {
     "name": "stderr",
     "output_type": "stream",
     "text": [
      "/Users/Livi/opt/anaconda3/envs/springboard/lib/python3.7/site-packages/ipykernel_launcher.py:6: DataConversionWarning: A column-vector y was passed when a 1d array was expected. Please change the shape of y to (n_samples,), for example using ravel().\n",
      "  \n"
     ]
    },
    {
     "name": "stdout",
     "output_type": "stream",
     "text": [
      "Accuracy: 0.6377633711507293\n",
      "ROC_AUC: 0.6930558499364137\n",
      "F1 Score: 0.5672797676669894\n",
      "Recall Score: 0.5232142857142857\n"
     ]
    },
    {
     "data": {
      "image/png": "[encoded data removed]",
      "text/plain": [
       "<Figure size 432x288 with 2 Axes>"
      ]
     },
     "metadata": {
      "needs_background": "light"
     },
     "output_type": "display_data"
    }
   ],
   "source": [
    "from sklearn.ensemble import RandomForestClassifier\n",
    "\n",
    "#Apply RF to the training data:\n",
    "\n",
    "rf = RandomForestClassifier(bootstrap=True,n_estimators=100,criterion='gini')\n",
    "rf.fit(X_train, y_train)\n",
    "\n",
    "#Predict using the model:\n",
    "\n",
    "y_predict_rf = rf.predict(X_test)\n",
    "\n",
    "#Confusion matrix:\n",
    "\n",
    "cnf_matrix = confusion_matrix(y_test, y_predict_rf)\n",
    "plot_confusion_matrix(rf, X_test, y_test)\n",
    "predprob = rf.predict_proba(X_test)[:,1]\n",
    "Accuracy_rf=rf.score(X_test,y_test)\n",
    "f1_rf = f1_score(y_test, y_predict_rf)\n",
    "recall_rf = recall_score(y_test, y_predict_rf)\n",
    "auc_rf = roc_auc_score(y_test, predprob)\n",
    "\n",
    "print('Accuracy:', Accuracy_rf)\n",
    "print('ROC_AUC:', roc_auc_score(y_test, predprob))\n",
    "print('F1 Score:', f1_score(y_test, y_predict_rf))\n",
    "print('Recall Score:', recall_score(y_test, y_predict_rf))\n"
   ]
  },
  {
   "cell_type": "code",
   "execution_count": 10,
   "metadata": {},
   "outputs": [
    {
     "name": "stderr",
     "output_type": "stream",
     "text": [
      "/Users/Livi/opt/anaconda3/envs/springboard/lib/python3.7/site-packages/sklearn/model_selection/_validation.py:531: DataConversionWarning: A column-vector y was passed when a 1d array was expected. Please change the shape of y to (n_samples,), for example using ravel().\n",
      "  estimator.fit(X_train, y_train, **fit_params)\n",
      "/Users/Livi/opt/anaconda3/envs/springboard/lib/python3.7/site-packages/sklearn/model_selection/_validation.py:531: DataConversionWarning: A column-vector y was passed when a 1d array was expected. Please change the shape of y to (n_samples,), for example using ravel().\n",
      "  estimator.fit(X_train, y_train, **fit_params)\n",
      "/Users/Livi/opt/anaconda3/envs/springboard/lib/python3.7/site-packages/sklearn/model_selection/_validation.py:531: DataConversionWarning: A column-vector y was passed when a 1d array was expected. Please change the shape of y to (n_samples,), for example using ravel().\n",
      "  estimator.fit(X_train, y_train, **fit_params)\n",
      "/Users/Livi/opt/anaconda3/envs/springboard/lib/python3.7/site-packages/sklearn/model_selection/_validation.py:531: DataConversionWarning: A column-vector y was passed when a 1d array was expected. Please change the shape of y to (n_samples,), for example using ravel().\n",
      "  estimator.fit(X_train, y_train, **fit_params)\n",
      "/Users/Livi/opt/anaconda3/envs/springboard/lib/python3.7/site-packages/sklearn/model_selection/_validation.py:531: DataConversionWarning: A column-vector y was passed when a 1d array was expected. Please change the shape of y to (n_samples,), for example using ravel().\n",
      "  estimator.fit(X_train, y_train, **fit_params)\n",
      "/Users/Livi/opt/anaconda3/envs/springboard/lib/python3.7/site-packages/sklearn/model_selection/_validation.py:531: DataConversionWarning: A column-vector y was passed when a 1d array was expected. Please change the shape of y to (n_samples,), for example using ravel().\n",
      "  estimator.fit(X_train, y_train, **fit_params)\n",
      "/Users/Livi/opt/anaconda3/envs/springboard/lib/python3.7/site-packages/sklearn/model_selection/_validation.py:531: DataConversionWarning: A column-vector y was passed when a 1d array was expected. Please change the shape of y to (n_samples,), for example using ravel().\n",
      "  estimator.fit(X_train, y_train, **fit_params)\n",
      "/Users/Livi/opt/anaconda3/envs/springboard/lib/python3.7/site-packages/sklearn/model_selection/_validation.py:531: DataConversionWarning: A column-vector y was passed when a 1d array was expected. Please change the shape of y to (n_samples,), for example using ravel().\n",
      "  estimator.fit(X_train, y_train, **fit_params)\n",
      "/Users/Livi/opt/anaconda3/envs/springboard/lib/python3.7/site-packages/sklearn/model_selection/_validation.py:531: DataConversionWarning: A column-vector y was passed when a 1d array was expected. Please change the shape of y to (n_samples,), for example using ravel().\n",
      "  estimator.fit(X_train, y_train, **fit_params)\n",
      "/Users/Livi/opt/anaconda3/envs/springboard/lib/python3.7/site-packages/sklearn/model_selection/_validation.py:531: DataConversionWarning: A column-vector y was passed when a 1d array was expected. Please change the shape of y to (n_samples,), for example using ravel().\n",
      "  estimator.fit(X_train, y_train, **fit_params)\n"
     ]
    },
    {
     "name": "stdout",
     "output_type": "stream",
     "text": [
      "[0.54054054 0.54187192 0.58252427 0.53398058 0.57004831]\n",
      "Mean cross validation test score: 0.5537931250540964\n",
      "Mean cross validation train score: 0.5956718661480096\n",
      "Standard deviation in cv scores: 0.018973627730963345\n"
     ]
    }
   ],
   "source": [
    "cv_scores_test= cross_val_score(rf,X_test,y_test,cv=5,scoring='f1')\n",
    "cv_scores_train= cross_val_score(rf,X_train,y_train,cv=5,scoring='f1')\n",
    "print(cv_scores_test)\n",
    "cv_scores_rf_test= cv_scores_test.mean()\n",
    "cv_scores_rf_train= cv_scores_train.mean()\n",
    "cv_scores_std_rf= cv_scores_test.std()\n",
    "print ('Mean cross validation test score: ' +str(cv_scores_rf_test))\n",
    "print ('Mean cross validation train score: ' +str(cv_scores_rf_train))\n",
    "print ('Standard deviation in cv scores: ' +str(cv_scores_std_rf))"
   ]
  },
  {
   "cell_type": "markdown",
   "metadata": {},
   "source": [
    "GRADIENT BOOST"
   ]
  },
  {
   "cell_type": "code",
   "execution_count": 11,
   "metadata": {},
   "outputs": [
    {
     "name": "stderr",
     "output_type": "stream",
     "text": [
      "/Users/Livi/opt/anaconda3/envs/springboard/lib/python3.7/site-packages/sklearn/utils/validation.py:73: DataConversionWarning: A column-vector y was passed when a 1d array was expected. Please change the shape of y to (n_samples, ), for example using ravel().\n",
      "  return f(**kwargs)\n"
     ]
    },
    {
     "name": "stdout",
     "output_type": "stream",
     "text": [
      "Accuracy: 0.653160453808752\n",
      "F1 Score: 0.5946969696969697\n",
      "ROC-AUC: 0.7031952098346756\n",
      "Recall Score: 0.5607142857142857\n"
     ]
    },
    {
     "data": {
      "image/png": "[encoded data removed]",
      "text/plain": [
       "<Figure size 432x288 with 2 Axes>"
      ]
     },
     "metadata": {
      "needs_background": "light"
     },
     "output_type": "display_data"
    }
   ],
   "source": [
    "from sklearn.ensemble import ExtraTreesClassifier, GradientBoostingClassifier\n",
    "gbc = GradientBoostingClassifier(subsample=0.8, learning_rate=0.05 , n_estimators=160, random_state=5, max_depth=9, max_leaf_nodes=100)\n",
    "gbc.fit(X_train, y_train)\n",
    "\n",
    "#Predict using the model:\n",
    "\n",
    "y_predict_gbc = gbc.predict(X_test)\n",
    "\n",
    "#Confusion matrix:\n",
    "\n",
    "cnf_matrix = confusion_matrix(y_test, y_predict_gbc)\n",
    "plot_confusion_matrix(gbc, X_test, y_test)\n",
    "predprob = gbc.predict_proba(X_test)[:,1]\n",
    "Accuracy_gbc=gbc.score(X_test,y_test)\n",
    "f1_gbc = f1_score(y_test, y_predict_gbc)\n",
    "recall_gbc = recall_score(y_test, y_predict_gbc)\n",
    "auc_gbc = roc_auc_score(y_test, predprob)\n",
    "\n",
    "print('Accuracy:', Accuracy_gbc)\n",
    "print('F1 Score:', f1_score(y_test, y_predict_gbc))\n",
    "print('ROC-AUC:', roc_auc_score(y_test, gbc.predict_proba(X_test)[:,1]))\n",
    "print('Recall Score:', recall_score(y_test, y_predict_gbc))\n"
   ]
  },
  {
   "cell_type": "code",
   "execution_count": 12,
   "metadata": {},
   "outputs": [
    {
     "name": "stderr",
     "output_type": "stream",
     "text": [
      "/Users/Livi/opt/anaconda3/envs/springboard/lib/python3.7/site-packages/sklearn/utils/validation.py:73: DataConversionWarning: A column-vector y was passed when a 1d array was expected. Please change the shape of y to (n_samples, ), for example using ravel().\n",
      "  return f(**kwargs)\n",
      "/Users/Livi/opt/anaconda3/envs/springboard/lib/python3.7/site-packages/sklearn/utils/validation.py:73: DataConversionWarning: A column-vector y was passed when a 1d array was expected. Please change the shape of y to (n_samples, ), for example using ravel().\n",
      "  return f(**kwargs)\n",
      "/Users/Livi/opt/anaconda3/envs/springboard/lib/python3.7/site-packages/sklearn/utils/validation.py:73: DataConversionWarning: A column-vector y was passed when a 1d array was expected. Please change the shape of y to (n_samples, ), for example using ravel().\n",
      "  return f(**kwargs)\n",
      "/Users/Livi/opt/anaconda3/envs/springboard/lib/python3.7/site-packages/sklearn/utils/validation.py:73: DataConversionWarning: A column-vector y was passed when a 1d array was expected. Please change the shape of y to (n_samples, ), for example using ravel().\n",
      "  return f(**kwargs)\n",
      "/Users/Livi/opt/anaconda3/envs/springboard/lib/python3.7/site-packages/sklearn/utils/validation.py:73: DataConversionWarning: A column-vector y was passed when a 1d array was expected. Please change the shape of y to (n_samples, ), for example using ravel().\n",
      "  return f(**kwargs)\n",
      "/Users/Livi/opt/anaconda3/envs/springboard/lib/python3.7/site-packages/sklearn/utils/validation.py:73: DataConversionWarning: A column-vector y was passed when a 1d array was expected. Please change the shape of y to (n_samples, ), for example using ravel().\n",
      "  return f(**kwargs)\n",
      "/Users/Livi/opt/anaconda3/envs/springboard/lib/python3.7/site-packages/sklearn/utils/validation.py:73: DataConversionWarning: A column-vector y was passed when a 1d array was expected. Please change the shape of y to (n_samples, ), for example using ravel().\n",
      "  return f(**kwargs)\n",
      "/Users/Livi/opt/anaconda3/envs/springboard/lib/python3.7/site-packages/sklearn/utils/validation.py:73: DataConversionWarning: A column-vector y was passed when a 1d array was expected. Please change the shape of y to (n_samples, ), for example using ravel().\n",
      "  return f(**kwargs)\n",
      "/Users/Livi/opt/anaconda3/envs/springboard/lib/python3.7/site-packages/sklearn/utils/validation.py:73: DataConversionWarning: A column-vector y was passed when a 1d array was expected. Please change the shape of y to (n_samples, ), for example using ravel().\n",
      "  return f(**kwargs)\n",
      "/Users/Livi/opt/anaconda3/envs/springboard/lib/python3.7/site-packages/sklearn/utils/validation.py:73: DataConversionWarning: A column-vector y was passed when a 1d array was expected. Please change the shape of y to (n_samples, ), for example using ravel().\n",
      "  return f(**kwargs)\n"
     ]
    },
    {
     "name": "stdout",
     "output_type": "stream",
     "text": [
      "[0.57383966 0.55660377 0.60829493 0.54901961 0.57918552]\n",
      "Mean cross validation test score: 0.5733886990225735\n",
      "Mean cross validation train score: 0.6038522546681367\n",
      "Standard deviation in cv scores: 0.020629289152497895\n"
     ]
    }
   ],
   "source": [
    "from sklearn.model_selection import cross_val_score\n",
    "\n",
    "cv_scores_test= cross_val_score(gbc,X_test,y_test,cv=5,scoring='f1')\n",
    "cv_scores_train= cross_val_score(gbc,X_train,y_train,cv=5,scoring='f1')\n",
    "print(cv_scores_test)\n",
    "cv_scores_gbc_test= cv_scores_test.mean()\n",
    "cv_scores_gbc_train= cv_scores_train.mean()\n",
    "cv_scores_std_gbc= cv_scores_test.std()\n",
    "print ('Mean cross validation test score: ' +str(cv_scores_gbc_test))\n",
    "print ('Mean cross validation train score: ' +str(cv_scores_gbc_train))\n",
    "print ('Standard deviation in cv scores: ' +str(cv_scores_std_gbc))"
   ]
  },
  {
   "cell_type": "markdown",
   "metadata": {},
   "source": [
    "LOGISTIC REGRESSION"
   ]
  },
  {
   "cell_type": "code",
   "execution_count": 13,
   "metadata": {},
   "outputs": [
    {
     "name": "stderr",
     "output_type": "stream",
     "text": [
      "/Users/Livi/opt/anaconda3/envs/springboard/lib/python3.7/site-packages/sklearn/utils/validation.py:73: DataConversionWarning: A column-vector y was passed when a 1d array was expected. Please change the shape of y to (n_samples, ), for example using ravel().\n",
      "  return f(**kwargs)\n",
      "/Users/Livi/opt/anaconda3/envs/springboard/lib/python3.7/site-packages/sklearn/linear_model/_logistic.py:764: ConvergenceWarning: lbfgs failed to converge (status=1):\n",
      "STOP: TOTAL NO. of ITERATIONS REACHED LIMIT.\n",
      "\n",
      "Increase the number of iterations (max_iter) or scale the data as shown in:\n",
      "    https://scikit-learn.org/stable/modules/preprocessing.html\n",
      "Please also refer to the documentation for alternative solver options:\n",
      "    https://scikit-learn.org/stable/modules/linear_model.html#logistic-regression\n",
      "  extra_warning_msg=_LOGISTIC_SOLVER_CONVERGENCE_MSG)\n"
     ]
    },
    {
     "name": "stdout",
     "output_type": "stream",
     "text": [
      "Accuracy: 0.6766612641815235\n",
      "F1 Score: 0.6288372093023256\n",
      "ROC-AUC: 0.7150540483255616\n",
      "Recall Score: 0.6035714285714285\n"
     ]
    },
    {
     "data": {
      "image/png": "[encoded data removed]",
      "text/plain": [
       "<Figure size 432x288 with 2 Axes>"
      ]
     },
     "metadata": {
      "needs_background": "light"
     },
     "output_type": "display_data"
    }
   ],
   "source": [
    "from sklearn.linear_model import LogisticRegression\n",
    "\n",
    "lr = LogisticRegression()\n",
    "lr.fit(X_train, y_train)\n",
    "y_predict_lr = lr.predict(X_test)\n",
    "\n",
    "cnf_matrix = confusion_matrix(y_test, y_predict_lr)\n",
    "plot_confusion_matrix(lr, X_test, y_test)\n",
    "\n",
    "predprob = lr.predict_proba(X_test)[:,1]\n",
    "Accuracy_lr=lr.score(X_test,y_test)\n",
    "f1_lr = f1_score(y_test, y_predict_lr)\n",
    "recall_lr = recall_score(y_test, y_predict_lr)\n",
    "auc_lr = roc_auc_score(y_test, predprob)\n",
    "\n",
    "print('Accuracy:', Accuracy_lr)\n",
    "print('F1 Score:', f1_score(y_test, y_predict_lr))\n",
    "print('ROC-AUC:', roc_auc_score(y_test, lr.predict_proba(X_test)[:,1]))\n",
    "print('Recall Score:', recall_score(y_test, y_predict_lr))\n"
   ]
  },
  {
   "cell_type": "code",
   "execution_count": 14,
   "metadata": {},
   "outputs": [
    {
     "name": "stderr",
     "output_type": "stream",
     "text": [
      "/Users/Livi/opt/anaconda3/envs/springboard/lib/python3.7/site-packages/sklearn/utils/validation.py:73: DataConversionWarning: A column-vector y was passed when a 1d array was expected. Please change the shape of y to (n_samples, ), for example using ravel().\n",
      "  return f(**kwargs)\n",
      "/Users/Livi/opt/anaconda3/envs/springboard/lib/python3.7/site-packages/sklearn/utils/validation.py:73: DataConversionWarning: A column-vector y was passed when a 1d array was expected. Please change the shape of y to (n_samples, ), for example using ravel().\n",
      "  return f(**kwargs)\n",
      "/Users/Livi/opt/anaconda3/envs/springboard/lib/python3.7/site-packages/sklearn/utils/validation.py:73: DataConversionWarning: A column-vector y was passed when a 1d array was expected. Please change the shape of y to (n_samples, ), for example using ravel().\n",
      "  return f(**kwargs)\n",
      "/Users/Livi/opt/anaconda3/envs/springboard/lib/python3.7/site-packages/sklearn/utils/validation.py:73: DataConversionWarning: A column-vector y was passed when a 1d array was expected. Please change the shape of y to (n_samples, ), for example using ravel().\n",
      "  return f(**kwargs)\n",
      "/Users/Livi/opt/anaconda3/envs/springboard/lib/python3.7/site-packages/sklearn/utils/validation.py:73: DataConversionWarning: A column-vector y was passed when a 1d array was expected. Please change the shape of y to (n_samples, ), for example using ravel().\n",
      "  return f(**kwargs)\n",
      "/Users/Livi/opt/anaconda3/envs/springboard/lib/python3.7/site-packages/sklearn/utils/validation.py:73: DataConversionWarning: A column-vector y was passed when a 1d array was expected. Please change the shape of y to (n_samples, ), for example using ravel().\n",
      "  return f(**kwargs)\n",
      "/Users/Livi/opt/anaconda3/envs/springboard/lib/python3.7/site-packages/sklearn/linear_model/_logistic.py:764: ConvergenceWarning: lbfgs failed to converge (status=1):\n",
      "STOP: TOTAL NO. of ITERATIONS REACHED LIMIT.\n",
      "\n",
      "Increase the number of iterations (max_iter) or scale the data as shown in:\n",
      "    https://scikit-learn.org/stable/modules/preprocessing.html\n",
      "Please also refer to the documentation for alternative solver options:\n",
      "    https://scikit-learn.org/stable/modules/linear_model.html#logistic-regression\n",
      "  extra_warning_msg=_LOGISTIC_SOLVER_CONVERGENCE_MSG)\n",
      "/Users/Livi/opt/anaconda3/envs/springboard/lib/python3.7/site-packages/sklearn/utils/validation.py:73: DataConversionWarning: A column-vector y was passed when a 1d array was expected. Please change the shape of y to (n_samples, ), for example using ravel().\n",
      "  return f(**kwargs)\n",
      "/Users/Livi/opt/anaconda3/envs/springboard/lib/python3.7/site-packages/sklearn/linear_model/_logistic.py:764: ConvergenceWarning: lbfgs failed to converge (status=1):\n",
      "STOP: TOTAL NO. of ITERATIONS REACHED LIMIT.\n",
      "\n",
      "Increase the number of iterations (max_iter) or scale the data as shown in:\n",
      "    https://scikit-learn.org/stable/modules/preprocessing.html\n",
      "Please also refer to the documentation for alternative solver options:\n",
      "    https://scikit-learn.org/stable/modules/linear_model.html#logistic-regression\n",
      "  extra_warning_msg=_LOGISTIC_SOLVER_CONVERGENCE_MSG)\n",
      "/Users/Livi/opt/anaconda3/envs/springboard/lib/python3.7/site-packages/sklearn/utils/validation.py:73: DataConversionWarning: A column-vector y was passed when a 1d array was expected. Please change the shape of y to (n_samples, ), for example using ravel().\n",
      "  return f(**kwargs)\n",
      "/Users/Livi/opt/anaconda3/envs/springboard/lib/python3.7/site-packages/sklearn/linear_model/_logistic.py:764: ConvergenceWarning: lbfgs failed to converge (status=1):\n",
      "STOP: TOTAL NO. of ITERATIONS REACHED LIMIT.\n",
      "\n",
      "Increase the number of iterations (max_iter) or scale the data as shown in:\n",
      "    https://scikit-learn.org/stable/modules/preprocessing.html\n",
      "Please also refer to the documentation for alternative solver options:\n",
      "    https://scikit-learn.org/stable/modules/linear_model.html#logistic-regression\n",
      "  extra_warning_msg=_LOGISTIC_SOLVER_CONVERGENCE_MSG)\n",
      "/Users/Livi/opt/anaconda3/envs/springboard/lib/python3.7/site-packages/sklearn/utils/validation.py:73: DataConversionWarning: A column-vector y was passed when a 1d array was expected. Please change the shape of y to (n_samples, ), for example using ravel().\n",
      "  return f(**kwargs)\n"
     ]
    },
    {
     "name": "stdout",
     "output_type": "stream",
     "text": [
      "[0.52586207 0.58215962 0.63551402 0.5915493  0.58333333]\n",
      "Mean cross validation test score: 0.5836836682356464\n",
      "Mean cross validation train score: 0.6332412741334202\n",
      "Standard deviation in cv scores: 0.03491141965386168\n"
     ]
    },
    {
     "name": "stderr",
     "output_type": "stream",
     "text": [
      "/Users/Livi/opt/anaconda3/envs/springboard/lib/python3.7/site-packages/sklearn/linear_model/_logistic.py:764: ConvergenceWarning: lbfgs failed to converge (status=1):\n",
      "STOP: TOTAL NO. of ITERATIONS REACHED LIMIT.\n",
      "\n",
      "Increase the number of iterations (max_iter) or scale the data as shown in:\n",
      "    https://scikit-learn.org/stable/modules/preprocessing.html\n",
      "Please also refer to the documentation for alternative solver options:\n",
      "    https://scikit-learn.org/stable/modules/linear_model.html#logistic-regression\n",
      "  extra_warning_msg=_LOGISTIC_SOLVER_CONVERGENCE_MSG)\n",
      "/Users/Livi/opt/anaconda3/envs/springboard/lib/python3.7/site-packages/sklearn/utils/validation.py:73: DataConversionWarning: A column-vector y was passed when a 1d array was expected. Please change the shape of y to (n_samples, ), for example using ravel().\n",
      "  return f(**kwargs)\n",
      "/Users/Livi/opt/anaconda3/envs/springboard/lib/python3.7/site-packages/sklearn/linear_model/_logistic.py:764: ConvergenceWarning: lbfgs failed to converge (status=1):\n",
      "STOP: TOTAL NO. of ITERATIONS REACHED LIMIT.\n",
      "\n",
      "Increase the number of iterations (max_iter) or scale the data as shown in:\n",
      "    https://scikit-learn.org/stable/modules/preprocessing.html\n",
      "Please also refer to the documentation for alternative solver options:\n",
      "    https://scikit-learn.org/stable/modules/linear_model.html#logistic-regression\n",
      "  extra_warning_msg=_LOGISTIC_SOLVER_CONVERGENCE_MSG)\n"
     ]
    }
   ],
   "source": [
    "cv_scores_test= cross_val_score(lr,X_test,y_test,cv=5,scoring='f1')\n",
    "cv_scores_train= cross_val_score(lr,X_train,y_train,cv=5,scoring='f1')\n",
    "print(cv_scores_test)\n",
    "cv_scores_lr_test= cv_scores_test.mean()\n",
    "cv_scores_lr_train= cv_scores_train.mean()\n",
    "cv_scores_std_lr= cv_scores_test.std()\n",
    "print ('Mean cross validation test score: ' +str(cv_scores_lr_test))\n",
    "print ('Mean cross validation train score: ' +str(cv_scores_lr_train))\n",
    "print ('Standard deviation in cv scores: ' +str(cv_scores_std_lr))"
   ]
  },
  {
   "cell_type": "code",
   "execution_count": 15,
   "metadata": {},
   "outputs": [
    {
     "data": {
      "text/html": [
       "<div>\n",
       "<style scoped>\n",
       "    .dataframe tbody tr th:only-of-type {\n",
       "        vertical-align: middle;\n",
       "    }\n",
       "\n",
       "    .dataframe tbody tr th {\n",
       "        vertical-align: top;\n",
       "    }\n",
       "\n",
       "    .dataframe thead th {\n",
       "        text-align: right;\n",
       "    }\n",
       "</style>\n",
       "<table border=\"1\" class=\"dataframe\">\n",
       "  <thead>\n",
       "    <tr style=\"text-align: right;\">\n",
       "      <th></th>\n",
       "      <th>Model</th>\n",
       "      <th>AUC Score</th>\n",
       "      <th>Recall Score</th>\n",
       "      <th>CV F1 Scores: Train</th>\n",
       "      <th>CV F1 Scores: Test</th>\n",
       "    </tr>\n",
       "  </thead>\n",
       "  <tbody>\n",
       "    <tr>\n",
       "      <th>0</th>\n",
       "      <td>dummy</td>\n",
       "      <td>0.500000</td>\n",
       "      <td>0.000000</td>\n",
       "      <td>0.000000</td>\n",
       "      <td>0.000000</td>\n",
       "    </tr>\n",
       "    <tr>\n",
       "      <th>1</th>\n",
       "      <td>svm</td>\n",
       "      <td>0.710025</td>\n",
       "      <td>0.600000</td>\n",
       "      <td>0.631891</td>\n",
       "      <td>0.588589</td>\n",
       "    </tr>\n",
       "    <tr>\n",
       "      <th>2</th>\n",
       "      <td>rf</td>\n",
       "      <td>0.693056</td>\n",
       "      <td>0.523214</td>\n",
       "      <td>0.595672</td>\n",
       "      <td>0.553793</td>\n",
       "    </tr>\n",
       "    <tr>\n",
       "      <th>3</th>\n",
       "      <td>gbc</td>\n",
       "      <td>0.703195</td>\n",
       "      <td>0.560714</td>\n",
       "      <td>0.603852</td>\n",
       "      <td>0.573389</td>\n",
       "    </tr>\n",
       "    <tr>\n",
       "      <th>4</th>\n",
       "      <td>lr</td>\n",
       "      <td>0.715054</td>\n",
       "      <td>0.603571</td>\n",
       "      <td>0.633241</td>\n",
       "      <td>0.583684</td>\n",
       "    </tr>\n",
       "  </tbody>\n",
       "</table>\n",
       "</div>"
      ],
      "text/plain": [
       "   Model  AUC Score  Recall Score  CV F1 Scores: Train  CV F1 Scores: Test\n",
       "0  dummy   0.500000      0.000000             0.000000            0.000000\n",
       "1    svm   0.710025      0.600000             0.631891            0.588589\n",
       "2     rf   0.693056      0.523214             0.595672            0.553793\n",
       "3    gbc   0.703195      0.560714             0.603852            0.573389\n",
       "4     lr   0.715054      0.603571             0.633241            0.583684"
      ]
     },
     "execution_count": 15,
     "metadata": {},
     "output_type": "execute_result"
    }
   ],
   "source": [
    "models = ['dummy', 'svm', 'rf', 'gbc', 'lr']\n",
    "auc = [auc_dum, auc_svm, auc_rf, auc_gbc, auc_lr]\n",
    "recall = [recall_dum, recall_svm, recall_rf, recall_gbc, recall_lr]\n",
    "cv_f1_train = [cv_scores_dum_train, cv_scores_svm_train, cv_scores_rf_train, cv_scores_gbc_train, cv_scores_lr_train]\n",
    "cv_f1_test = [cv_scores_dum_test, cv_scores_svm_test, cv_scores_rf_test, cv_scores_gbc_test, cv_scores_lr_test]\n",
    "\n",
    "df = pd.DataFrame(list(zip(models, auc, recall, cv_f1_train, cv_f1_test)),\n",
    "                 columns = ['Model', 'AUC Score', 'Recall Score', 'CV F1 Scores: Train', 'CV F1 Scores: Test'])\n",
    "df"
   ]
  },
  {
   "cell_type": "markdown",
   "metadata": {},
   "source": [
    "The highest performing models were SVM and Logistic Regression."
   ]
  },
  {
   "cell_type": "markdown",
   "metadata": {},
   "source": [
    "HYPERPARAMETER TUNING"
   ]
  },
  {
   "cell_type": "markdown",
   "metadata": {},
   "source": [
    "Logistic Regression"
   ]
  },
  {
   "cell_type": "code",
   "execution_count": 16,
   "metadata": {},
   "outputs": [
    {
     "name": "stderr",
     "output_type": "stream",
     "text": [
      "/Users/Livi/opt/anaconda3/envs/springboard/lib/python3.7/site-packages/sklearn/linear_model/_logistic.py:1321: UserWarning: Setting penalty='none' will ignore the C and l1_ratio parameters\n",
      "  \"Setting penalty='none' will ignore the C and l1_ratio \"\n",
      "/Users/Livi/opt/anaconda3/envs/springboard/lib/python3.7/site-packages/sklearn/utils/validation.py:73: DataConversionWarning: A column-vector y was passed when a 1d array was expected. Please change the shape of y to (n_samples, ), for example using ravel().\n",
      "  return f(**kwargs)\n"
     ]
    },
    {
     "name": "stdout",
     "output_type": "stream",
     "text": [
      "Best: 0.636840 using {'C': 100, 'penalty': 'none', 'solver': 'newton-cg'}\n",
      "0.636840 (0.010379) with: {'C': 100, 'penalty': 'none', 'solver': 'newton-cg'}\n",
      "0.636222 (0.009416) with: {'C': 100, 'penalty': 'none', 'solver': 'lbfgs'}\n",
      "nan (nan) with: {'C': 100, 'penalty': 'none', 'solver': 'liblinear'}\n",
      "0.636609 (0.010491) with: {'C': 100, 'penalty': 'l2', 'solver': 'newton-cg'}\n",
      "0.636188 (0.010170) with: {'C': 100, 'penalty': 'l2', 'solver': 'lbfgs'}\n",
      "0.636609 (0.010491) with: {'C': 100, 'penalty': 'l2', 'solver': 'liblinear'}\n",
      "0.636840 (0.010379) with: {'C': 10, 'penalty': 'none', 'solver': 'newton-cg'}\n",
      "0.636222 (0.009416) with: {'C': 10, 'penalty': 'none', 'solver': 'lbfgs'}\n",
      "nan (nan) with: {'C': 10, 'penalty': 'none', 'solver': 'liblinear'}\n",
      "0.634491 (0.010269) with: {'C': 10, 'penalty': 'l2', 'solver': 'newton-cg'}\n",
      "0.635304 (0.010466) with: {'C': 10, 'penalty': 'l2', 'solver': 'lbfgs'}\n",
      "0.634491 (0.010269) with: {'C': 10, 'penalty': 'l2', 'solver': 'liblinear'}\n",
      "0.636840 (0.010379) with: {'C': 1.0, 'penalty': 'none', 'solver': 'newton-cg'}\n",
      "0.636222 (0.009416) with: {'C': 1.0, 'penalty': 'none', 'solver': 'lbfgs'}\n",
      "nan (nan) with: {'C': 1.0, 'penalty': 'none', 'solver': 'liblinear'}\n",
      "0.633241 (0.010936) with: {'C': 1.0, 'penalty': 'l2', 'solver': 'newton-cg'}\n",
      "0.633241 (0.010936) with: {'C': 1.0, 'penalty': 'l2', 'solver': 'lbfgs'}\n",
      "0.633662 (0.011066) with: {'C': 1.0, 'penalty': 'l2', 'solver': 'liblinear'}\n",
      "0.636840 (0.010379) with: {'C': 0.1, 'penalty': 'none', 'solver': 'newton-cg'}\n",
      "0.636222 (0.009416) with: {'C': 0.1, 'penalty': 'none', 'solver': 'lbfgs'}\n",
      "nan (nan) with: {'C': 0.1, 'penalty': 'none', 'solver': 'liblinear'}\n",
      "0.618370 (0.014651) with: {'C': 0.1, 'penalty': 'l2', 'solver': 'newton-cg'}\n",
      "0.618370 (0.014651) with: {'C': 0.1, 'penalty': 'l2', 'solver': 'lbfgs'}\n",
      "0.615234 (0.016013) with: {'C': 0.1, 'penalty': 'l2', 'solver': 'liblinear'}\n",
      "0.636840 (0.010379) with: {'C': 0.01, 'penalty': 'none', 'solver': 'newton-cg'}\n",
      "0.636222 (0.009416) with: {'C': 0.01, 'penalty': 'none', 'solver': 'lbfgs'}\n",
      "nan (nan) with: {'C': 0.01, 'penalty': 'none', 'solver': 'liblinear'}\n",
      "0.570290 (0.021204) with: {'C': 0.01, 'penalty': 'l2', 'solver': 'newton-cg'}\n",
      "0.570290 (0.021204) with: {'C': 0.01, 'penalty': 'l2', 'solver': 'lbfgs'}\n",
      "0.574343 (0.021072) with: {'C': 0.01, 'penalty': 'l2', 'solver': 'liblinear'}\n"
     ]
    }
   ],
   "source": [
    "from sklearn.model_selection import GridSearchCV\n",
    "\n",
    "model = LogisticRegression()\n",
    "solvers = ['newton-cg', 'lbfgs', 'liblinear']\n",
    "penalty = ['none', 'l2']\n",
    "c_values = [100, 10, 1.0, 0.1, 0.01]\n",
    "grid = dict(solver=solvers,penalty=penalty,C=c_values)\n",
    "\n",
    "grid_search = GridSearchCV(estimator=model, param_grid=grid, n_jobs=-1, cv=5, scoring='f1')\n",
    "grid_result = grid_search.fit(X_train, y_train)\n",
    "\n",
    "print(\"Best: %f using %s\" % (grid_result.best_score_, grid_result.best_params_))\n",
    "means = grid_result.cv_results_['mean_test_score']\n",
    "stds = grid_result.cv_results_['std_test_score']\n",
    "params = grid_result.cv_results_['params']\n",
    "for mean, stdev, param in zip(means, stds, params):\n",
    "    print(\"%f (%f) with: %r\" % (mean, stdev, param))\n"
   ]
  },
  {
   "cell_type": "code",
   "execution_count": 17,
   "metadata": {},
   "outputs": [
    {
     "name": "stdout",
     "output_type": "stream",
     "text": [
      "0.6246524559777572\n"
     ]
    },
    {
     "name": "stderr",
     "output_type": "stream",
     "text": [
      "/Users/Livi/opt/anaconda3/envs/springboard/lib/python3.7/site-packages/sklearn/linear_model/_logistic.py:1321: UserWarning: Setting penalty='none' will ignore the C and l1_ratio parameters\n",
      "  \"Setting penalty='none' will ignore the C and l1_ratio \"\n",
      "/Users/Livi/opt/anaconda3/envs/springboard/lib/python3.7/site-packages/sklearn/utils/validation.py:73: DataConversionWarning: A column-vector y was passed when a 1d array was expected. Please change the shape of y to (n_samples, ), for example using ravel().\n",
      "  return f(**kwargs)\n",
      "/Users/Livi/opt/anaconda3/envs/springboard/lib/python3.7/site-packages/sklearn/linear_model/_logistic.py:764: ConvergenceWarning: lbfgs failed to converge (status=1):\n",
      "STOP: TOTAL NO. of ITERATIONS REACHED LIMIT.\n",
      "\n",
      "Increase the number of iterations (max_iter) or scale the data as shown in:\n",
      "    https://scikit-learn.org/stable/modules/preprocessing.html\n",
      "Please also refer to the documentation for alternative solver options:\n",
      "    https://scikit-learn.org/stable/modules/linear_model.html#logistic-regression\n",
      "  extra_warning_msg=_LOGISTIC_SOLVER_CONVERGENCE_MSG)\n"
     ]
    },
    {
     "data": {
      "text/plain": [
       "<sklearn.metrics._plot.confusion_matrix.ConfusionMatrixDisplay at 0x7fc8ea38f350>"
      ]
     },
     "execution_count": 17,
     "metadata": {},
     "output_type": "execute_result"
    },
    {
     "data": {
      "image/png": "[encoded data removed]",
      "text/plain": [
       "<Figure size 432x288 with 2 Axes>"
      ]
     },
     "metadata": {
      "needs_background": "light"
     },
     "output_type": "display_data"
    }
   ],
   "source": [
    "lr = LogisticRegression(C=100, penalty='none', solver='lbfgs')\n",
    "lr.fit(X_train, y_train)\n",
    "y_predict_lr_tune = lr.predict(X_test)\n",
    "print(f1_score(y_test, y_predict_lr_tune))\n",
    "plot_confusion_matrix(lr, X_test, y_test)\n"
   ]
  },
  {
   "cell_type": "markdown",
   "metadata": {},
   "source": [
    "USING SMOTE TO CREATE MORE SAMPLES OF MY LESS REPRESENTED CLASS"
   ]
  },
  {
   "cell_type": "code",
   "execution_count": 18,
   "metadata": {},
   "outputs": [
    {
     "name": "stdout",
     "output_type": "stream",
     "text": [
      "0.6255749770009199\n"
     ]
    },
    {
     "name": "stderr",
     "output_type": "stream",
     "text": [
      "/Users/Livi/opt/anaconda3/envs/springboard/lib/python3.7/site-packages/sklearn/linear_model/_logistic.py:1321: UserWarning: Setting penalty='none' will ignore the C and l1_ratio parameters\n",
      "  \"Setting penalty='none' will ignore the C and l1_ratio \"\n",
      "/Users/Livi/opt/anaconda3/envs/springboard/lib/python3.7/site-packages/sklearn/linear_model/_logistic.py:764: ConvergenceWarning: lbfgs failed to converge (status=1):\n",
      "STOP: TOTAL NO. of ITERATIONS REACHED LIMIT.\n",
      "\n",
      "Increase the number of iterations (max_iter) or scale the data as shown in:\n",
      "    https://scikit-learn.org/stable/modules/preprocessing.html\n",
      "Please also refer to the documentation for alternative solver options:\n",
      "    https://scikit-learn.org/stable/modules/linear_model.html#logistic-regression\n",
      "  extra_warning_msg=_LOGISTIC_SOLVER_CONVERGENCE_MSG)\n"
     ]
    },
    {
     "data": {
      "text/plain": [
       "<sklearn.metrics._plot.confusion_matrix.ConfusionMatrixDisplay at 0x7fc8ea675990>"
      ]
     },
     "execution_count": 18,
     "metadata": {},
     "output_type": "execute_result"
    },
    {
     "data": {
      "image/png": "[encoded data removed]",
      "text/plain": [
       "<Figure size 432x288 with 2 Axes>"
      ]
     },
     "metadata": {
      "needs_background": "light"
     },
     "output_type": "display_data"
    }
   ],
   "source": [
    "from imblearn.over_sampling import SMOTE\n",
    "\n",
    "sm = SMOTE(random_state = 2)\n",
    "X_train_res, y_train_res = sm.fit_sample(X_train, y_train.values)\n",
    "\n",
    "#Best: 0.634350 using {'C': 100, 'penalty': 'none', 'solver': 'lbfgs'}\n",
    "\n",
    "clf = LogisticRegression(C=100, penalty='none', solver='lbfgs')\n",
    "model_res = clf.fit(X_train_res, y_train_res)\n",
    "y_predict_lr_res =  model_res.predict(X_test)\n",
    "print(f1_score(y_test, y_predict_lr_res))\n",
    "plot_confusion_matrix(model_res, X_test, y_test)"
   ]
  },
  {
   "cell_type": "markdown",
   "metadata": {},
   "source": [
    "The score decreased."
   ]
  },
  {
   "cell_type": "markdown",
   "metadata": {},
   "source": [
    "# Why is the above code consistently giving me 0.64 test score, but the below Cross_val is 0.58. \n",
    "# Why do cross_val again?\n",
    "# Becaue I'm 'overfitting' on my test_data? So cross val tries with different test_data?"
   ]
  },
  {
   "cell_type": "code",
   "execution_count": 19,
   "metadata": {},
   "outputs": [
    {
     "name": "stderr",
     "output_type": "stream",
     "text": [
      "/Users/Livi/opt/anaconda3/envs/springboard/lib/python3.7/site-packages/sklearn/linear_model/_logistic.py:1321: UserWarning: Setting penalty='none' will ignore the C and l1_ratio parameters\n",
      "  \"Setting penalty='none' will ignore the C and l1_ratio \"\n",
      "/Users/Livi/opt/anaconda3/envs/springboard/lib/python3.7/site-packages/sklearn/utils/validation.py:73: DataConversionWarning: A column-vector y was passed when a 1d array was expected. Please change the shape of y to (n_samples, ), for example using ravel().\n",
      "  return f(**kwargs)\n",
      "/Users/Livi/opt/anaconda3/envs/springboard/lib/python3.7/site-packages/sklearn/linear_model/_logistic.py:764: ConvergenceWarning: lbfgs failed to converge (status=1):\n",
      "STOP: TOTAL NO. of ITERATIONS REACHED LIMIT.\n",
      "\n",
      "Increase the number of iterations (max_iter) or scale the data as shown in:\n",
      "    https://scikit-learn.org/stable/modules/preprocessing.html\n",
      "Please also refer to the documentation for alternative solver options:\n",
      "    https://scikit-learn.org/stable/modules/linear_model.html#logistic-regression\n",
      "  extra_warning_msg=_LOGISTIC_SOLVER_CONVERGENCE_MSG)\n",
      "/Users/Livi/opt/anaconda3/envs/springboard/lib/python3.7/site-packages/sklearn/linear_model/_logistic.py:1321: UserWarning: Setting penalty='none' will ignore the C and l1_ratio parameters\n",
      "  \"Setting penalty='none' will ignore the C and l1_ratio \"\n",
      "/Users/Livi/opt/anaconda3/envs/springboard/lib/python3.7/site-packages/sklearn/utils/validation.py:73: DataConversionWarning: A column-vector y was passed when a 1d array was expected. Please change the shape of y to (n_samples, ), for example using ravel().\n",
      "  return f(**kwargs)\n",
      "/Users/Livi/opt/anaconda3/envs/springboard/lib/python3.7/site-packages/sklearn/linear_model/_logistic.py:764: ConvergenceWarning: lbfgs failed to converge (status=1):\n",
      "STOP: TOTAL NO. of ITERATIONS REACHED LIMIT.\n",
      "\n",
      "Increase the number of iterations (max_iter) or scale the data as shown in:\n",
      "    https://scikit-learn.org/stable/modules/preprocessing.html\n",
      "Please also refer to the documentation for alternative solver options:\n",
      "    https://scikit-learn.org/stable/modules/linear_model.html#logistic-regression\n",
      "  extra_warning_msg=_LOGISTIC_SOLVER_CONVERGENCE_MSG)\n",
      "/Users/Livi/opt/anaconda3/envs/springboard/lib/python3.7/site-packages/sklearn/linear_model/_logistic.py:1321: UserWarning: Setting penalty='none' will ignore the C and l1_ratio parameters\n",
      "  \"Setting penalty='none' will ignore the C and l1_ratio \"\n",
      "/Users/Livi/opt/anaconda3/envs/springboard/lib/python3.7/site-packages/sklearn/utils/validation.py:73: DataConversionWarning: A column-vector y was passed when a 1d array was expected. Please change the shape of y to (n_samples, ), for example using ravel().\n",
      "  return f(**kwargs)\n",
      "/Users/Livi/opt/anaconda3/envs/springboard/lib/python3.7/site-packages/sklearn/linear_model/_logistic.py:764: ConvergenceWarning: lbfgs failed to converge (status=1):\n",
      "STOP: TOTAL NO. of ITERATIONS REACHED LIMIT.\n",
      "\n",
      "Increase the number of iterations (max_iter) or scale the data as shown in:\n",
      "    https://scikit-learn.org/stable/modules/preprocessing.html\n",
      "Please also refer to the documentation for alternative solver options:\n",
      "    https://scikit-learn.org/stable/modules/linear_model.html#logistic-regression\n",
      "  extra_warning_msg=_LOGISTIC_SOLVER_CONVERGENCE_MSG)\n",
      "/Users/Livi/opt/anaconda3/envs/springboard/lib/python3.7/site-packages/sklearn/linear_model/_logistic.py:1321: UserWarning: Setting penalty='none' will ignore the C and l1_ratio parameters\n",
      "  \"Setting penalty='none' will ignore the C and l1_ratio \"\n",
      "/Users/Livi/opt/anaconda3/envs/springboard/lib/python3.7/site-packages/sklearn/utils/validation.py:73: DataConversionWarning: A column-vector y was passed when a 1d array was expected. Please change the shape of y to (n_samples, ), for example using ravel().\n",
      "  return f(**kwargs)\n",
      "/Users/Livi/opt/anaconda3/envs/springboard/lib/python3.7/site-packages/sklearn/linear_model/_logistic.py:764: ConvergenceWarning: lbfgs failed to converge (status=1):\n",
      "STOP: TOTAL NO. of ITERATIONS REACHED LIMIT.\n",
      "\n",
      "Increase the number of iterations (max_iter) or scale the data as shown in:\n",
      "    https://scikit-learn.org/stable/modules/preprocessing.html\n",
      "Please also refer to the documentation for alternative solver options:\n",
      "    https://scikit-learn.org/stable/modules/linear_model.html#logistic-regression\n",
      "  extra_warning_msg=_LOGISTIC_SOLVER_CONVERGENCE_MSG)\n",
      "/Users/Livi/opt/anaconda3/envs/springboard/lib/python3.7/site-packages/sklearn/linear_model/_logistic.py:1321: UserWarning: Setting penalty='none' will ignore the C and l1_ratio parameters\n",
      "  \"Setting penalty='none' will ignore the C and l1_ratio \"\n",
      "/Users/Livi/opt/anaconda3/envs/springboard/lib/python3.7/site-packages/sklearn/utils/validation.py:73: DataConversionWarning: A column-vector y was passed when a 1d array was expected. Please change the shape of y to (n_samples, ), for example using ravel().\n",
      "  return f(**kwargs)\n",
      "/Users/Livi/opt/anaconda3/envs/springboard/lib/python3.7/site-packages/sklearn/linear_model/_logistic.py:764: ConvergenceWarning: lbfgs failed to converge (status=1):\n",
      "STOP: TOTAL NO. of ITERATIONS REACHED LIMIT.\n",
      "\n",
      "Increase the number of iterations (max_iter) or scale the data as shown in:\n",
      "    https://scikit-learn.org/stable/modules/preprocessing.html\n",
      "Please also refer to the documentation for alternative solver options:\n",
      "    https://scikit-learn.org/stable/modules/linear_model.html#logistic-regression\n",
      "  extra_warning_msg=_LOGISTIC_SOLVER_CONVERGENCE_MSG)\n",
      "/Users/Livi/opt/anaconda3/envs/springboard/lib/python3.7/site-packages/sklearn/linear_model/_logistic.py:1321: UserWarning: Setting penalty='none' will ignore the C and l1_ratio parameters\n",
      "  \"Setting penalty='none' will ignore the C and l1_ratio \"\n",
      "/Users/Livi/opt/anaconda3/envs/springboard/lib/python3.7/site-packages/sklearn/utils/validation.py:73: DataConversionWarning: A column-vector y was passed when a 1d array was expected. Please change the shape of y to (n_samples, ), for example using ravel().\n",
      "  return f(**kwargs)\n",
      "/Users/Livi/opt/anaconda3/envs/springboard/lib/python3.7/site-packages/sklearn/linear_model/_logistic.py:764: ConvergenceWarning: lbfgs failed to converge (status=1):\n",
      "STOP: TOTAL NO. of ITERATIONS REACHED LIMIT.\n",
      "\n",
      "Increase the number of iterations (max_iter) or scale the data as shown in:\n",
      "    https://scikit-learn.org/stable/modules/preprocessing.html\n",
      "Please also refer to the documentation for alternative solver options:\n",
      "    https://scikit-learn.org/stable/modules/linear_model.html#logistic-regression\n",
      "  extra_warning_msg=_LOGISTIC_SOLVER_CONVERGENCE_MSG)\n",
      "/Users/Livi/opt/anaconda3/envs/springboard/lib/python3.7/site-packages/sklearn/linear_model/_logistic.py:1321: UserWarning: Setting penalty='none' will ignore the C and l1_ratio parameters\n",
      "  \"Setting penalty='none' will ignore the C and l1_ratio \"\n",
      "/Users/Livi/opt/anaconda3/envs/springboard/lib/python3.7/site-packages/sklearn/utils/validation.py:73: DataConversionWarning: A column-vector y was passed when a 1d array was expected. Please change the shape of y to (n_samples, ), for example using ravel().\n",
      "  return f(**kwargs)\n",
      "/Users/Livi/opt/anaconda3/envs/springboard/lib/python3.7/site-packages/sklearn/linear_model/_logistic.py:764: ConvergenceWarning: lbfgs failed to converge (status=1):\n",
      "STOP: TOTAL NO. of ITERATIONS REACHED LIMIT.\n",
      "\n",
      "Increase the number of iterations (max_iter) or scale the data as shown in:\n",
      "    https://scikit-learn.org/stable/modules/preprocessing.html\n",
      "Please also refer to the documentation for alternative solver options:\n",
      "    https://scikit-learn.org/stable/modules/linear_model.html#logistic-regression\n",
      "  extra_warning_msg=_LOGISTIC_SOLVER_CONVERGENCE_MSG)\n",
      "/Users/Livi/opt/anaconda3/envs/springboard/lib/python3.7/site-packages/sklearn/linear_model/_logistic.py:1321: UserWarning: Setting penalty='none' will ignore the C and l1_ratio parameters\n",
      "  \"Setting penalty='none' will ignore the C and l1_ratio \"\n",
      "/Users/Livi/opt/anaconda3/envs/springboard/lib/python3.7/site-packages/sklearn/utils/validation.py:73: DataConversionWarning: A column-vector y was passed when a 1d array was expected. Please change the shape of y to (n_samples, ), for example using ravel().\n",
      "  return f(**kwargs)\n",
      "/Users/Livi/opt/anaconda3/envs/springboard/lib/python3.7/site-packages/sklearn/linear_model/_logistic.py:764: ConvergenceWarning: lbfgs failed to converge (status=1):\n",
      "STOP: TOTAL NO. of ITERATIONS REACHED LIMIT.\n",
      "\n",
      "Increase the number of iterations (max_iter) or scale the data as shown in:\n",
      "    https://scikit-learn.org/stable/modules/preprocessing.html\n",
      "Please also refer to the documentation for alternative solver options:\n",
      "    https://scikit-learn.org/stable/modules/linear_model.html#logistic-regression\n",
      "  extra_warning_msg=_LOGISTIC_SOLVER_CONVERGENCE_MSG)\n",
      "/Users/Livi/opt/anaconda3/envs/springboard/lib/python3.7/site-packages/sklearn/linear_model/_logistic.py:1321: UserWarning: Setting penalty='none' will ignore the C and l1_ratio parameters\n",
      "  \"Setting penalty='none' will ignore the C and l1_ratio \"\n",
      "/Users/Livi/opt/anaconda3/envs/springboard/lib/python3.7/site-packages/sklearn/utils/validation.py:73: DataConversionWarning: A column-vector y was passed when a 1d array was expected. Please change the shape of y to (n_samples, ), for example using ravel().\n",
      "  return f(**kwargs)\n",
      "/Users/Livi/opt/anaconda3/envs/springboard/lib/python3.7/site-packages/sklearn/linear_model/_logistic.py:764: ConvergenceWarning: lbfgs failed to converge (status=1):\n",
      "STOP: TOTAL NO. of ITERATIONS REACHED LIMIT.\n",
      "\n",
      "Increase the number of iterations (max_iter) or scale the data as shown in:\n",
      "    https://scikit-learn.org/stable/modules/preprocessing.html\n",
      "Please also refer to the documentation for alternative solver options:\n",
      "    https://scikit-learn.org/stable/modules/linear_model.html#logistic-regression\n",
      "  extra_warning_msg=_LOGISTIC_SOLVER_CONVERGENCE_MSG)\n",
      "/Users/Livi/opt/anaconda3/envs/springboard/lib/python3.7/site-packages/sklearn/linear_model/_logistic.py:1321: UserWarning: Setting penalty='none' will ignore the C and l1_ratio parameters\n",
      "  \"Setting penalty='none' will ignore the C and l1_ratio \"\n",
      "/Users/Livi/opt/anaconda3/envs/springboard/lib/python3.7/site-packages/sklearn/utils/validation.py:73: DataConversionWarning: A column-vector y was passed when a 1d array was expected. Please change the shape of y to (n_samples, ), for example using ravel().\n",
      "  return f(**kwargs)\n"
     ]
    },
    {
     "name": "stdout",
     "output_type": "stream",
     "text": [
      "[0.52320675 0.5754717  0.61818182 0.58490566 0.61883408]\n",
      "Mean cross validation train score: 0.6362222626558613\n",
      "Mean cross validation test score: 0.5841200016889452\n",
      "Standard deviation in cv scores: 0.035074518222546494\n"
     ]
    },
    {
     "name": "stderr",
     "output_type": "stream",
     "text": [
      "/Users/Livi/opt/anaconda3/envs/springboard/lib/python3.7/site-packages/sklearn/linear_model/_logistic.py:764: ConvergenceWarning: lbfgs failed to converge (status=1):\n",
      "STOP: TOTAL NO. of ITERATIONS REACHED LIMIT.\n",
      "\n",
      "Increase the number of iterations (max_iter) or scale the data as shown in:\n",
      "    https://scikit-learn.org/stable/modules/preprocessing.html\n",
      "Please also refer to the documentation for alternative solver options:\n",
      "    https://scikit-learn.org/stable/modules/linear_model.html#logistic-regression\n",
      "  extra_warning_msg=_LOGISTIC_SOLVER_CONVERGENCE_MSG)\n"
     ]
    }
   ],
   "source": [
    "cv_scores_train= cross_val_score(lr,X_train,y_train,cv=5,scoring='f1')\n",
    "cv_scores_test= cross_val_score(lr,X_test,y_test,cv=5,scoring='f1')\n",
    "print(cv_scores_test)\n",
    "cv_scores_lr_test= cv_scores_test.mean()\n",
    "cv_scores_lr_train= cv_scores_train.mean()\n",
    "cv_scores_std_lr= cv_scores_test.std()\n",
    "print ('Mean cross validation train score: ' +str(cv_scores_lr_train))\n",
    "print ('Mean cross validation test score: ' +str(cv_scores_lr_test))\n",
    "print ('Standard deviation in cv scores: ' +str(cv_scores_std_lr))"
   ]
  },
  {
   "cell_type": "markdown",
   "metadata": {},
   "source": [
    "Little Aside, to Visualize Which Race the Predicted Black/Hispanic Fatalities Actually Belong To"
   ]
  },
  {
   "cell_type": "code",
   "execution_count": 20,
   "metadata": {},
   "outputs": [
    {
     "data": {
      "text/plain": [
       "B    194\n",
       "W    164\n",
       "H    144\n",
       "A      9\n",
       "O      3\n",
       "N      1\n",
       "Name: race, dtype: int64"
      ]
     },
     "execution_count": 20,
     "metadata": {},
     "output_type": "execute_result"
    }
   ],
   "source": [
    "idx = X_test[y_predict_lr == 1].index\n",
    "df = pd.read_csv('../data/processed/fatalwrangling.csv', index_col=0)\n",
    "df.loc[idx].race.value_counts()"
   ]
  },
  {
   "cell_type": "markdown",
   "metadata": {},
   "source": [
    "SVM, Hyperparameter Tuning"
   ]
  },
  {
   "cell_type": "code",
   "execution_count": 56,
   "metadata": {},
   "outputs": [
    {
     "name": "stderr",
     "output_type": "stream",
     "text": [
      "/Users/Livi/opt/anaconda3/envs/springboard/lib/python3.7/site-packages/sklearn/utils/validation.py:73: DataConversionWarning: A column-vector y was passed when a 1d array was expected. Please change the shape of y to (n_samples, ), for example using ravel().\n",
      "  return f(**kwargs)\n"
     ]
    }
   ],
   "source": [
    "#took 45 min\n",
    "cw = ['balanced', None]\n",
    "\n",
    "# svm.coef_ attribute is only availabel on linear kernels, so...\n",
    "kernel = ['linear']\n",
    "\n",
    "C = [0.01, .1, 1, 10, 100, 1000]\n",
    "gamma = ['scale','auto']\n",
    "grid = dict(class_weight=cw, kernel=kernel, C=C, gamma=gamma)\n",
    "\n",
    "model = SVC()\n",
    "\n",
    "grid_search = GridSearchCV(estimator=model, param_grid=grid, n_jobs=-1, \n",
    "                           cv=5, scoring='f1', error_score=0)\n",
    "grid_result = grid_search.fit(X_train, y_train)"
   ]
  },
  {
   "cell_type": "markdown",
   "metadata": {},
   "source": [
    "# Why does my source that I'm following use cv = RepeatedStratifiedKFold(....) instead of cv=5? Is this an outdated thing, I think it automatically used Kfold or RepeatedStratifiedKFold with the cv arg.\n",
    "https://machinelearningmastery.com/hyperparameters-for-classification-machine-learning-algorithms/"
   ]
  },
  {
   "cell_type": "code",
   "execution_count": 57,
   "metadata": {},
   "outputs": [
    {
     "name": "stdout",
     "output_type": "stream",
     "text": [
      "Best: 0.657177 using {'C': 100, 'class_weight': 'balanced', 'gamma': 'scale', 'kernel': 'linear'}\n",
      "0.635972 (0.007029) with: {'C': 0.01, 'class_weight': 'balanced', 'gamma': 'scale', 'kernel': 'linear'}\n",
      "0.635972 (0.007029) with: {'C': 0.01, 'class_weight': 'balanced', 'gamma': 'auto', 'kernel': 'linear'}\n",
      "0.592417 (0.021821) with: {'C': 0.01, 'class_weight': None, 'gamma': 'scale', 'kernel': 'linear'}\n",
      "0.592417 (0.021821) with: {'C': 0.01, 'class_weight': None, 'gamma': 'auto', 'kernel': 'linear'}\n",
      "0.654776 (0.008018) with: {'C': 0.1, 'class_weight': 'balanced', 'gamma': 'scale', 'kernel': 'linear'}\n",
      "0.654776 (0.008018) with: {'C': 0.1, 'class_weight': 'balanced', 'gamma': 'auto', 'kernel': 'linear'}\n",
      "0.628248 (0.015179) with: {'C': 0.1, 'class_weight': None, 'gamma': 'scale', 'kernel': 'linear'}\n",
      "0.628248 (0.015179) with: {'C': 0.1, 'class_weight': None, 'gamma': 'auto', 'kernel': 'linear'}\n",
      "0.655125 (0.009571) with: {'C': 1, 'class_weight': 'balanced', 'gamma': 'scale', 'kernel': 'linear'}\n",
      "0.655125 (0.009571) with: {'C': 1, 'class_weight': 'balanced', 'gamma': 'auto', 'kernel': 'linear'}\n",
      "0.631891 (0.014312) with: {'C': 1, 'class_weight': None, 'gamma': 'scale', 'kernel': 'linear'}\n",
      "0.631891 (0.014312) with: {'C': 1, 'class_weight': None, 'gamma': 'auto', 'kernel': 'linear'}\n",
      "0.655707 (0.007467) with: {'C': 10, 'class_weight': 'balanced', 'gamma': 'scale', 'kernel': 'linear'}\n",
      "0.655707 (0.007467) with: {'C': 10, 'class_weight': 'balanced', 'gamma': 'auto', 'kernel': 'linear'}\n",
      "0.631377 (0.012587) with: {'C': 10, 'class_weight': None, 'gamma': 'scale', 'kernel': 'linear'}\n",
      "0.631377 (0.012587) with: {'C': 10, 'class_weight': None, 'gamma': 'auto', 'kernel': 'linear'}\n",
      "0.657177 (0.009654) with: {'C': 100, 'class_weight': 'balanced', 'gamma': 'scale', 'kernel': 'linear'}\n",
      "0.657177 (0.009654) with: {'C': 100, 'class_weight': 'balanced', 'gamma': 'auto', 'kernel': 'linear'}\n",
      "0.631584 (0.011670) with: {'C': 100, 'class_weight': None, 'gamma': 'scale', 'kernel': 'linear'}\n",
      "0.631584 (0.011670) with: {'C': 100, 'class_weight': None, 'gamma': 'auto', 'kernel': 'linear'}\n",
      "0.655833 (0.008544) with: {'C': 1000, 'class_weight': 'balanced', 'gamma': 'scale', 'kernel': 'linear'}\n",
      "0.655833 (0.008544) with: {'C': 1000, 'class_weight': 'balanced', 'gamma': 'auto', 'kernel': 'linear'}\n",
      "0.631391 (0.012418) with: {'C': 1000, 'class_weight': None, 'gamma': 'scale', 'kernel': 'linear'}\n",
      "0.631391 (0.012418) with: {'C': 1000, 'class_weight': None, 'gamma': 'auto', 'kernel': 'linear'}\n"
     ]
    }
   ],
   "source": [
    "print(\"Best: %f using %s\" % (grid_result.best_score_, grid_result.best_params_))\n",
    "means = grid_result.cv_results_['mean_test_score']\n",
    "stds = grid_result.cv_results_['std_test_score']\n",
    "params = grid_result.cv_results_['params']\n",
    "for mean, stdev, param in zip(means, stds, params):\n",
    "    print(\"%f (%f) with: %r\" % (mean, stdev, param))"
   ]
  },
  {
   "cell_type": "code",
   "execution_count": 58,
   "metadata": {},
   "outputs": [
    {
     "name": "stderr",
     "output_type": "stream",
     "text": [
      "/Users/Livi/opt/anaconda3/envs/springboard/lib/python3.7/site-packages/sklearn/utils/validation.py:73: DataConversionWarning: A column-vector y was passed when a 1d array was expected. Please change the shape of y to (n_samples, ), for example using ravel().\n",
      "  return f(**kwargs)\n",
      "/Users/Livi/opt/anaconda3/envs/springboard/lib/python3.7/site-packages/sklearn/utils/validation.py:73: DataConversionWarning: A column-vector y was passed when a 1d array was expected. Please change the shape of y to (n_samples, ), for example using ravel().\n",
      "  return f(**kwargs)\n",
      "/Users/Livi/opt/anaconda3/envs/springboard/lib/python3.7/site-packages/sklearn/utils/validation.py:73: DataConversionWarning: A column-vector y was passed when a 1d array was expected. Please change the shape of y to (n_samples, ), for example using ravel().\n",
      "  return f(**kwargs)\n",
      "/Users/Livi/opt/anaconda3/envs/springboard/lib/python3.7/site-packages/sklearn/utils/validation.py:73: DataConversionWarning: A column-vector y was passed when a 1d array was expected. Please change the shape of y to (n_samples, ), for example using ravel().\n",
      "  return f(**kwargs)\n",
      "/Users/Livi/opt/anaconda3/envs/springboard/lib/python3.7/site-packages/sklearn/utils/validation.py:73: DataConversionWarning: A column-vector y was passed when a 1d array was expected. Please change the shape of y to (n_samples, ), for example using ravel().\n",
      "  return f(**kwargs)\n",
      "/Users/Livi/opt/anaconda3/envs/springboard/lib/python3.7/site-packages/sklearn/utils/validation.py:73: DataConversionWarning: A column-vector y was passed when a 1d array was expected. Please change the shape of y to (n_samples, ), for example using ravel().\n",
      "  return f(**kwargs)\n",
      "/Users/Livi/opt/anaconda3/envs/springboard/lib/python3.7/site-packages/sklearn/utils/validation.py:73: DataConversionWarning: A column-vector y was passed when a 1d array was expected. Please change the shape of y to (n_samples, ), for example using ravel().\n",
      "  return f(**kwargs)\n",
      "/Users/Livi/opt/anaconda3/envs/springboard/lib/python3.7/site-packages/sklearn/utils/validation.py:73: DataConversionWarning: A column-vector y was passed when a 1d array was expected. Please change the shape of y to (n_samples, ), for example using ravel().\n",
      "  return f(**kwargs)\n",
      "/Users/Livi/opt/anaconda3/envs/springboard/lib/python3.7/site-packages/sklearn/utils/validation.py:73: DataConversionWarning: A column-vector y was passed when a 1d array was expected. Please change the shape of y to (n_samples, ), for example using ravel().\n",
      "  return f(**kwargs)\n",
      "/Users/Livi/opt/anaconda3/envs/springboard/lib/python3.7/site-packages/sklearn/utils/validation.py:73: DataConversionWarning: A column-vector y was passed when a 1d array was expected. Please change the shape of y to (n_samples, ), for example using ravel().\n",
      "  return f(**kwargs)\n"
     ]
    },
    {
     "name": "stdout",
     "output_type": "stream",
     "text": [
      "[0.5483871  0.58474576 0.66666667 0.6        0.63636364]\n",
      "Mean cross validation train score: 0.657177254484677\n",
      "Mean cross validation test score: 0.6072326325032722\n",
      "Standard deviation in cv scores: 0.04099216306572147\n"
     ]
    }
   ],
   "source": [
    "#Best: 0.657177 using {'C': 100, 'class_weight': 'balanced', 'gamma': 'scale', 'kernel': 'linear'}\n",
    "svc= SVC(C=100, class_weight='balanced', gamma='scale', kernel='linear')\n",
    "\n",
    "cv_scores_train= cross_val_score(svc,X_train,y_train,cv=5,scoring='f1')\n",
    "cv_scores_test= cross_val_score(svc,X_test,y_test,cv=5,scoring='f1')\n",
    "print(cv_scores_test)\n",
    "cv_scores_lr_test= cv_scores_test.mean()\n",
    "cv_scores_lr_train= cv_scores_train.mean()\n",
    "cv_scores_std_lr= cv_scores_test.std()\n",
    "print ('Mean cross validation train score: ' +str(cv_scores_lr_train))\n",
    "print ('Mean cross validation test score: ' +str(cv_scores_lr_test))\n",
    "print ('Standard deviation in cv scores: ' +str(cv_scores_std_lr))"
   ]
  },
  {
   "cell_type": "code",
   "execution_count": 59,
   "metadata": {},
   "outputs": [
    {
     "name": "stderr",
     "output_type": "stream",
     "text": [
      "/Users/Livi/opt/anaconda3/envs/springboard/lib/python3.7/site-packages/sklearn/utils/validation.py:73: DataConversionWarning: A column-vector y was passed when a 1d array was expected. Please change the shape of y to (n_samples, ), for example using ravel().\n",
      "  return f(**kwargs)\n",
      "/Users/Livi/opt/anaconda3/envs/springboard/lib/python3.7/site-packages/sklearn/utils/validation.py:73: DataConversionWarning: A column-vector y was passed when a 1d array was expected. Please change the shape of y to (n_samples, ), for example using ravel().\n",
      "  return f(**kwargs)\n",
      "/Users/Livi/opt/anaconda3/envs/springboard/lib/python3.7/site-packages/sklearn/utils/validation.py:73: DataConversionWarning: A column-vector y was passed when a 1d array was expected. Please change the shape of y to (n_samples, ), for example using ravel().\n",
      "  return f(**kwargs)\n",
      "/Users/Livi/opt/anaconda3/envs/springboard/lib/python3.7/site-packages/sklearn/utils/validation.py:73: DataConversionWarning: A column-vector y was passed when a 1d array was expected. Please change the shape of y to (n_samples, ), for example using ravel().\n",
      "  return f(**kwargs)\n",
      "/Users/Livi/opt/anaconda3/envs/springboard/lib/python3.7/site-packages/sklearn/utils/validation.py:73: DataConversionWarning: A column-vector y was passed when a 1d array was expected. Please change the shape of y to (n_samples, ), for example using ravel().\n",
      "  return f(**kwargs)\n"
     ]
    },
    {
     "name": "stdout",
     "output_type": "stream",
     "text": [
      "[0.5483871  0.58474576 0.66666667 0.6        0.63636364]\n",
      "Mean cross validation train score: 0.6457748659229965\n",
      "Mean cross validation test score: 0.6072326325032722\n",
      "Standard deviation in cv scores: 0.04099216306572147\n"
     ]
    }
   ],
   "source": [
    "#same but with X_train_res, y_train_res\n",
    "\n",
    "svc= SVC(C=100, class_weight='balanced', gamma='scale', kernel='linear')\n",
    "\n",
    "cv_scores_train= cross_val_score(svc,X_train_res,y_train_res,cv=5,scoring='f1')\n",
    "cv_scores_test= cross_val_score(svc,X_test,y_test,cv=5,scoring='f1')\n",
    "print(cv_scores_test)\n",
    "cv_scores_lr_test= cv_scores_test.mean()\n",
    "cv_scores_lr_train= cv_scores_train.mean()\n",
    "cv_scores_std_lr= cv_scores_test.std()\n",
    "print ('Mean cross validation train score: ' +str(cv_scores_lr_train))\n",
    "print ('Mean cross validation test score: ' +str(cv_scores_lr_test))\n",
    "print ('Standard deviation in cv scores: ' +str(cv_scores_std_lr))"
   ]
  },
  {
   "cell_type": "code",
   "execution_count": 60,
   "metadata": {
    "scrolled": true
   },
   "outputs": [
    {
     "name": "stderr",
     "output_type": "stream",
     "text": [
      "/Users/Livi/opt/anaconda3/envs/springboard/lib/python3.7/site-packages/sklearn/utils/validation.py:73: DataConversionWarning: A column-vector y was passed when a 1d array was expected. Please change the shape of y to (n_samples, ), for example using ravel().\n",
      "  return f(**kwargs)\n"
     ]
    },
    {
     "data": {
      "text/html": [
       "<div>\n",
       "<style scoped>\n",
       "    .dataframe tbody tr th:only-of-type {\n",
       "        vertical-align: middle;\n",
       "    }\n",
       "\n",
       "    .dataframe tbody tr th {\n",
       "        vertical-align: top;\n",
       "    }\n",
       "\n",
       "    .dataframe thead th {\n",
       "        text-align: right;\n",
       "    }\n",
       "</style>\n",
       "<table border=\"1\" class=\"dataframe\">\n",
       "  <thead>\n",
       "    <tr style=\"text-align: right;\">\n",
       "      <th></th>\n",
       "      <th>Model</th>\n",
       "      <th>AUC Score</th>\n",
       "      <th>Recall Score</th>\n",
       "      <th>F1 Score</th>\n",
       "    </tr>\n",
       "  </thead>\n",
       "  <tbody>\n",
       "    <tr>\n",
       "      <th>0</th>\n",
       "      <td>fit_on_training_data</td>\n",
       "      <td>0.710783</td>\n",
       "      <td>0.664286</td>\n",
       "      <td>0.638079</td>\n",
       "    </tr>\n",
       "    <tr>\n",
       "      <th>1</th>\n",
       "      <td>fit_on_resampled_training_data</td>\n",
       "      <td>0.710849</td>\n",
       "      <td>0.610714</td>\n",
       "      <td>0.622384</td>\n",
       "    </tr>\n",
       "  </tbody>\n",
       "</table>\n",
       "</div>"
      ],
      "text/plain": [
       "                            Model  AUC Score  Recall Score  F1 Score\n",
       "0            fit_on_training_data   0.710783      0.664286  0.638079\n",
       "1  fit_on_resampled_training_data   0.710849      0.610714  0.622384"
      ]
     },
     "execution_count": 60,
     "metadata": {},
     "output_type": "execute_result"
    }
   ],
   "source": [
    "svc= SVC(C=100, class_weight='balanced', gamma='scale', kernel='linear', probability=True)\n",
    "#fit training set\n",
    "svc.fit(X_train, y_train)\n",
    "y_predict_svc = svc.predict(X_test)\n",
    "#scores svc\n",
    "predprob = svc.predict_proba(X_test)[:,1]\n",
    "Accuracy_svc=svc.score(X_test,y_test)\n",
    "f1_svc = f1_score(y_test, y_predict_svc)\n",
    "recall_svc = recall_score(y_test, y_predict_svc)\n",
    "auc_svc = roc_auc_score(y_test, predprob)\n",
    "\n",
    "#fit resampled data\n",
    "svc.fit(X_train_res, y_train_res)\n",
    "y_predict_svc_res = svc.predict(X_test)\n",
    "\n",
    "#scores svc_resampled\n",
    "predprob = svc.predict_proba(X_test)[:,1]\n",
    "Accuracy_svc_res=svc.score(X_test,y_test)\n",
    "f1_svc_res = f1_score(y_test, y_predict_svc_res)\n",
    "recall_svc_res = recall_score(y_test, y_predict_svc_res)\n",
    "auc_svc_res = roc_auc_score(y_test, predprob)\n",
    "\n",
    "\n",
    "\n",
    "models = ['fit_on_training_data', 'fit_on_resampled_training_data']\n",
    "auc = [auc_svc, auc_svc_res]\n",
    "recall = [recall_svc, recall_svc_res]\n",
    "f1s = [f1_svc, f1_svc_res]\n",
    "\n",
    "df = pd.DataFrame(list(zip(models, auc, recall, f1s)),\n",
    "                 columns = ['Model', 'AUC Score', 'Recall Score', 'F1 Score'])\n",
    "df"
   ]
  },
  {
   "cell_type": "code",
   "execution_count": 61,
   "metadata": {},
   "outputs": [
    {
     "name": "stderr",
     "output_type": "stream",
     "text": [
      "/Users/Livi/opt/anaconda3/envs/springboard/lib/python3.7/site-packages/sklearn/utils/validation.py:73: DataConversionWarning: A column-vector y was passed when a 1d array was expected. Please change the shape of y to (n_samples, ), for example using ravel().\n",
      "  return f(**kwargs)\n",
      "/Users/Livi/opt/anaconda3/envs/springboard/lib/python3.7/site-packages/sklearn/utils/validation.py:73: DataConversionWarning: A column-vector y was passed when a 1d array was expected. Please change the shape of y to (n_samples, ), for example using ravel().\n",
      "  return f(**kwargs)\n",
      "/Users/Livi/opt/anaconda3/envs/springboard/lib/python3.7/site-packages/sklearn/utils/validation.py:73: DataConversionWarning: A column-vector y was passed when a 1d array was expected. Please change the shape of y to (n_samples, ), for example using ravel().\n",
      "  return f(**kwargs)\n",
      "/Users/Livi/opt/anaconda3/envs/springboard/lib/python3.7/site-packages/sklearn/utils/validation.py:73: DataConversionWarning: A column-vector y was passed when a 1d array was expected. Please change the shape of y to (n_samples, ), for example using ravel().\n",
      "  return f(**kwargs)\n",
      "/Users/Livi/opt/anaconda3/envs/springboard/lib/python3.7/site-packages/sklearn/utils/validation.py:73: DataConversionWarning: A column-vector y was passed when a 1d array was expected. Please change the shape of y to (n_samples, ), for example using ravel().\n",
      "  return f(**kwargs)\n",
      "/Users/Livi/opt/anaconda3/envs/springboard/lib/python3.7/site-packages/sklearn/utils/validation.py:73: DataConversionWarning: A column-vector y was passed when a 1d array was expected. Please change the shape of y to (n_samples, ), for example using ravel().\n",
      "  return f(**kwargs)\n"
     ]
    },
    {
     "name": "stdout",
     "output_type": "stream",
     "text": [
      "Cross Validated F1 Score on Test Data: 0.6072326325032722\n"
     ]
    }
   ],
   "source": [
    "#Cross Validated F1 Score on Test Data\n",
    "svc.fit(X_train, y_train)\n",
    "cv = cross_val_score(svc, X_test, y_test,scoring='f1').mean()\n",
    "print('Cross Validated F1 Score on Test Data:', cv)"
   ]
  },
  {
   "cell_type": "code",
   "execution_count": 145,
   "metadata": {},
   "outputs": [],
   "source": [
    "def f_importances(coef, names):\n",
    "    imp = coef\n",
    "    imp,names = zip(*sorted(zip(imp,names)))\n",
    "    plt.figure(figsize=(20,20))\n",
    "    plt.rc('ytick', labelsize=20) \n",
    "    plt.rc('xtick', labelsize=20)\n",
    "    plt.barh(range(len(names)), imp, align='center')\n",
    "    plt.yticks(range(len(names)), names)\n",
    "    plt.rc('axes', titlesize=20)     # fontsize of the axes title\n",
    "    plt.rc('axes', labelsize=20)   # fontsize of the x and y labels\n",
    "    plt.title('Feature Importances for Tuned SVC Model')\n",
    "    plt.xlabel('Size of Coefficient')\n",
    "    plt.ylabel('Name of Feature')\n",
    "    plt.show()\n",
    "\n",
    "\n",
    "#features_names = ['input1', 'input2']\n",
    "#svm = svm.SVC(kernel='linear')\n",
    "#svm.fit(X, Y)\n",
    "#f_importances(svm.coef_, features_names)"
   ]
  },
  {
   "cell_type": "code",
   "execution_count": 146,
   "metadata": {
    "scrolled": true
   },
   "outputs": [
    {
     "name": "stdout",
     "output_type": "stream",
     "text": [
      "[[91 85 72 96 88 99 29 41  1 20 17  3 92 24 22 59 47 52 23 28 57 33 45 18\n",
      "  48 32 34 46 21 53]]\n",
      "[['armed_knife' 'day_of_week_Thursday' 'month_February' 'armed_unarmed'\n",
      "  'armed_Taser' 'armed_vehicle' 'state_IN' 'state_NC' 'body_camera'\n",
      "  'state_CT' 'state_AZ' 'gender_M' 'armed_machete' 'state_GA' 'state_DE'\n",
      "  'state_VA' 'state_NV' 'state_PA' 'state_FL' 'state_IL' 'state_TX'\n",
      "  'state_MA' 'state_NJ' 'state_CA' 'state_NY' 'state_LA' 'state_MD'\n",
      "  'state_NM' 'state_DC' 'state_RI']]\n",
      "[[0.15175376 0.16828518 0.16975257 0.1779623  0.19815802 0.20746169\n",
      "  0.24163512 0.29368842 0.45652337 0.55743277 0.5683124  0.63239316\n",
      "  0.67069347 0.7068782  0.70775771 0.74652731 0.76980967 0.84503461\n",
      "  0.90406591 1.02312841 1.0591682  1.09092585 1.1659713  1.17904228\n",
      "  1.22607298 1.26618034 1.35104454 1.59266858 2.14537348 3.04935755]]\n"
     ]
    },
    {
     "name": "stderr",
     "output_type": "stream",
     "text": [
      "/Users/Livi/opt/anaconda3/envs/springboard/lib/python3.7/site-packages/ipykernel_launcher.py:4: DeprecationWarning: Support for multi-dimensional indexing (e.g. `index[:, None]`) on an Index is deprecated and will be removed in a future version.  Convert to a numpy array before indexing instead.\n",
      "  after removing the cwd from sys.path.\n"
     ]
    }
   ],
   "source": [
    "#index of top features\n",
    "print(svc.coef_.argsort()[:, -30:])\n",
    "#names of top features, ascending\n",
    "print(X_test.columns[svc.coef_.argsort()[:, -30:]])\n",
    "#coefficients of top festures, ascending\n",
    "print(np.sort(svc.coef_)[:, -30:])"
   ]
  },
  {
   "cell_type": "code",
   "execution_count": 147,
   "metadata": {},
   "outputs": [
    {
     "data": {
      "image/png": "[encoded data removed]",
      "text/plain": [
       "<Figure size 1440x1440 with 1 Axes>"
      ]
     },
     "metadata": {
      "needs_background": "light"
     },
     "output_type": "display_data"
    }
   ],
   "source": [
    "feature_names = X_test.columns[svc.coef_.argsort()[0, -30:]]\n",
    "importances = np.sort(svc.coef_)[0, -30:]\n",
    "f_importances(importances, feature_names)"
   ]
  },
  {
   "cell_type": "code",
   "execution_count": null,
   "metadata": {},
   "outputs": [],
   "source": []
  },
  {
   "cell_type": "code",
   "execution_count": null,
   "metadata": {},
   "outputs": [],
   "source": []
  }
 ],
 "metadata": {
  "kernelspec": {
   "display_name": "Python 3",
   "language": "python",
   "name": "python3"
  },
  "language_info": {
   "codemirror_mode": {
    "name": "ipython",
    "version": 3
   },
   "file_extension": ".py",
   "mimetype": "text/x-python",
   "name": "python",
   "nbconvert_exporter": "python",
   "pygments_lexer": "ipython3",
   "version": "3.7.7"
  }
 },
 "nbformat": 4,
 "nbformat_minor": 4
}
