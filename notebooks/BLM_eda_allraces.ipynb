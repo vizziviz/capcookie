{
 "cells": [
  {
   "cell_type": "code",
   "execution_count": 5,
   "metadata": {},
   "outputs": [],
   "source": [
    "import pandas as pd"
   ]
  },
  {
   "cell_type": "code",
   "execution_count": 6,
   "metadata": {},
   "outputs": [],
   "source": [
    "wapo= pd.read_csv('/Users/LiVi/opt/anaconda3/envs/cap2/policekillings/cap2_policekillings/data/raw/fatal-police-shootings-data.csv')"
   ]
  },
  {
   "cell_type": "code",
   "execution_count": 7,
   "metadata": {},
   "outputs": [
    {
     "data": {
      "text/html": [
       "<div>\n",
       "<style scoped>\n",
       "    .dataframe tbody tr th:only-of-type {\n",
       "        vertical-align: middle;\n",
       "    }\n",
       "\n",
       "    .dataframe tbody tr th {\n",
       "        vertical-align: top;\n",
       "    }\n",
       "\n",
       "    .dataframe thead th {\n",
       "        text-align: right;\n",
       "    }\n",
       "</style>\n",
       "<table border=\"1\" class=\"dataframe\">\n",
       "  <thead>\n",
       "    <tr style=\"text-align: right;\">\n",
       "      <th></th>\n",
       "      <th>id</th>\n",
       "      <th>name</th>\n",
       "      <th>date</th>\n",
       "      <th>manner_of_death</th>\n",
       "      <th>armed</th>\n",
       "      <th>age</th>\n",
       "      <th>gender</th>\n",
       "      <th>race</th>\n",
       "      <th>city</th>\n",
       "      <th>state</th>\n",
       "      <th>signs_of_mental_illness</th>\n",
       "      <th>threat_level</th>\n",
       "      <th>flee</th>\n",
       "      <th>body_camera</th>\n",
       "    </tr>\n",
       "  </thead>\n",
       "  <tbody>\n",
       "    <tr>\n",
       "      <th>5423</th>\n",
       "      <td>5931</td>\n",
       "      <td>Henry Barnes</td>\n",
       "      <td>2020-06-19</td>\n",
       "      <td>shot</td>\n",
       "      <td>undetermined</td>\n",
       "      <td>25.0</td>\n",
       "      <td>M</td>\n",
       "      <td>NaN</td>\n",
       "      <td>Jay</td>\n",
       "      <td>OK</td>\n",
       "      <td>False</td>\n",
       "      <td>attack</td>\n",
       "      <td>Foot</td>\n",
       "      <td>False</td>\n",
       "    </tr>\n",
       "    <tr>\n",
       "      <th>5424</th>\n",
       "      <td>5941</td>\n",
       "      <td>Cody W. Cook</td>\n",
       "      <td>2020-06-19</td>\n",
       "      <td>shot</td>\n",
       "      <td>gun</td>\n",
       "      <td>24.0</td>\n",
       "      <td>M</td>\n",
       "      <td>W</td>\n",
       "      <td>Sodus</td>\n",
       "      <td>NY</td>\n",
       "      <td>False</td>\n",
       "      <td>attack</td>\n",
       "      <td>Not fleeing</td>\n",
       "      <td>True</td>\n",
       "    </tr>\n",
       "    <tr>\n",
       "      <th>5425</th>\n",
       "      <td>5940</td>\n",
       "      <td>Michael Torres</td>\n",
       "      <td>2020-06-20</td>\n",
       "      <td>shot</td>\n",
       "      <td>machete</td>\n",
       "      <td>35.0</td>\n",
       "      <td>M</td>\n",
       "      <td>NaN</td>\n",
       "      <td>Lake Charles</td>\n",
       "      <td>LA</td>\n",
       "      <td>False</td>\n",
       "      <td>attack</td>\n",
       "      <td>Not fleeing</td>\n",
       "      <td>False</td>\n",
       "    </tr>\n",
       "    <tr>\n",
       "      <th>5426</th>\n",
       "      <td>5939</td>\n",
       "      <td>TK TK</td>\n",
       "      <td>2020-06-21</td>\n",
       "      <td>shot</td>\n",
       "      <td>knife</td>\n",
       "      <td>19.0</td>\n",
       "      <td>M</td>\n",
       "      <td>NaN</td>\n",
       "      <td>Milpitas</td>\n",
       "      <td>CA</td>\n",
       "      <td>False</td>\n",
       "      <td>attack</td>\n",
       "      <td>Not fleeing</td>\n",
       "      <td>False</td>\n",
       "    </tr>\n",
       "    <tr>\n",
       "      <th>5427</th>\n",
       "      <td>5938</td>\n",
       "      <td>TK TK</td>\n",
       "      <td>2020-06-22</td>\n",
       "      <td>shot</td>\n",
       "      <td>gun</td>\n",
       "      <td>NaN</td>\n",
       "      <td>M</td>\n",
       "      <td>NaN</td>\n",
       "      <td>Aurora</td>\n",
       "      <td>CO</td>\n",
       "      <td>False</td>\n",
       "      <td>attack</td>\n",
       "      <td>Not fleeing</td>\n",
       "      <td>True</td>\n",
       "    </tr>\n",
       "  </tbody>\n",
       "</table>\n",
       "</div>"
      ],
      "text/plain": [
       "        id            name        date manner_of_death         armed   age  \\\n",
       "5423  5931    Henry Barnes  2020-06-19            shot  undetermined  25.0   \n",
       "5424  5941    Cody W. Cook  2020-06-19            shot           gun  24.0   \n",
       "5425  5940  Michael Torres  2020-06-20            shot       machete  35.0   \n",
       "5426  5939           TK TK  2020-06-21            shot         knife  19.0   \n",
       "5427  5938           TK TK  2020-06-22            shot           gun   NaN   \n",
       "\n",
       "     gender race          city state  signs_of_mental_illness threat_level  \\\n",
       "5423      M  NaN           Jay    OK                    False       attack   \n",
       "5424      M    W         Sodus    NY                    False       attack   \n",
       "5425      M  NaN  Lake Charles    LA                    False       attack   \n",
       "5426      M  NaN      Milpitas    CA                    False       attack   \n",
       "5427      M  NaN        Aurora    CO                    False       attack   \n",
       "\n",
       "             flee  body_camera  \n",
       "5423         Foot        False  \n",
       "5424  Not fleeing         True  \n",
       "5425  Not fleeing        False  \n",
       "5426  Not fleeing        False  \n",
       "5427  Not fleeing         True  "
      ]
     },
     "execution_count": 7,
     "metadata": {},
     "output_type": "execute_result"
    }
   ],
   "source": [
    "wapo.tail()"
   ]
  },
  {
   "cell_type": "markdown",
   "metadata": {},
   "source": [
    "# Deleted People Armed with Both Gun AND Vehicle\n",
    "## I couldn't decide how to categorize them and there were relatively few"
   ]
  },
  {
   "cell_type": "code",
   "execution_count": 8,
   "metadata": {},
   "outputs": [
    {
     "data": {
      "text/html": [
       "<div>\n",
       "<style scoped>\n",
       "    .dataframe tbody tr th:only-of-type {\n",
       "        vertical-align: middle;\n",
       "    }\n",
       "\n",
       "    .dataframe tbody tr th {\n",
       "        vertical-align: top;\n",
       "    }\n",
       "\n",
       "    .dataframe thead th {\n",
       "        text-align: right;\n",
       "    }\n",
       "</style>\n",
       "<table border=\"1\" class=\"dataframe\">\n",
       "  <thead>\n",
       "    <tr style=\"text-align: right;\">\n",
       "      <th></th>\n",
       "      <th>id</th>\n",
       "      <th>name</th>\n",
       "      <th>date</th>\n",
       "      <th>manner_of_death</th>\n",
       "      <th>armed</th>\n",
       "      <th>age</th>\n",
       "      <th>gender</th>\n",
       "      <th>race</th>\n",
       "      <th>city</th>\n",
       "      <th>state</th>\n",
       "      <th>signs_of_mental_illness</th>\n",
       "      <th>threat_level</th>\n",
       "      <th>flee</th>\n",
       "      <th>body_camera</th>\n",
       "    </tr>\n",
       "  </thead>\n",
       "  <tbody>\n",
       "    <tr>\n",
       "      <th>3643</th>\n",
       "      <td>3990</td>\n",
       "      <td>Fabian Ortiz Adame</td>\n",
       "      <td>2018-08-27</td>\n",
       "      <td>shot</td>\n",
       "      <td>gun and vehicle</td>\n",
       "      <td>25.0</td>\n",
       "      <td>M</td>\n",
       "      <td>W</td>\n",
       "      <td>Phoenix</td>\n",
       "      <td>AZ</td>\n",
       "      <td>False</td>\n",
       "      <td>attack</td>\n",
       "      <td>Car</td>\n",
       "      <td>False</td>\n",
       "    </tr>\n",
       "    <tr>\n",
       "      <th>3964</th>\n",
       "      <td>4374</td>\n",
       "      <td>Geoffrey Morris</td>\n",
       "      <td>2019-01-10</td>\n",
       "      <td>shot</td>\n",
       "      <td>gun and vehicle</td>\n",
       "      <td>29.0</td>\n",
       "      <td>M</td>\n",
       "      <td>W</td>\n",
       "      <td>Wichita</td>\n",
       "      <td>KS</td>\n",
       "      <td>False</td>\n",
       "      <td>attack</td>\n",
       "      <td>Car</td>\n",
       "      <td>False</td>\n",
       "    </tr>\n",
       "    <tr>\n",
       "      <th>4526</th>\n",
       "      <td>4934</td>\n",
       "      <td>Jose Mendez</td>\n",
       "      <td>2019-08-09</td>\n",
       "      <td>shot</td>\n",
       "      <td>gun and vehicle</td>\n",
       "      <td>37.0</td>\n",
       "      <td>M</td>\n",
       "      <td>H</td>\n",
       "      <td>Kansas City</td>\n",
       "      <td>MO</td>\n",
       "      <td>False</td>\n",
       "      <td>attack</td>\n",
       "      <td>Foot</td>\n",
       "      <td>False</td>\n",
       "    </tr>\n",
       "    <tr>\n",
       "      <th>4575</th>\n",
       "      <td>5002</td>\n",
       "      <td>Rene Enrique Ruiz</td>\n",
       "      <td>2019-08-30</td>\n",
       "      <td>shot</td>\n",
       "      <td>gun and vehicle</td>\n",
       "      <td>51.0</td>\n",
       "      <td>M</td>\n",
       "      <td>H</td>\n",
       "      <td>Tolleson</td>\n",
       "      <td>AZ</td>\n",
       "      <td>False</td>\n",
       "      <td>attack</td>\n",
       "      <td>Other</td>\n",
       "      <td>False</td>\n",
       "    </tr>\n",
       "    <tr>\n",
       "      <th>4705</th>\n",
       "      <td>5476</td>\n",
       "      <td>Cameron Bennett</td>\n",
       "      <td>2019-10-17</td>\n",
       "      <td>shot</td>\n",
       "      <td>gun and vehicle</td>\n",
       "      <td>22.0</td>\n",
       "      <td>M</td>\n",
       "      <td>B</td>\n",
       "      <td>Fayette</td>\n",
       "      <td>MS</td>\n",
       "      <td>False</td>\n",
       "      <td>attack</td>\n",
       "      <td>Car</td>\n",
       "      <td>False</td>\n",
       "    </tr>\n",
       "    <tr>\n",
       "      <th>4711</th>\n",
       "      <td>5219</td>\n",
       "      <td>Terry Countryman</td>\n",
       "      <td>2019-10-19</td>\n",
       "      <td>shot</td>\n",
       "      <td>gun and vehicle</td>\n",
       "      <td>34.0</td>\n",
       "      <td>M</td>\n",
       "      <td>W</td>\n",
       "      <td>Palestine</td>\n",
       "      <td>TX</td>\n",
       "      <td>False</td>\n",
       "      <td>attack</td>\n",
       "      <td>Other</td>\n",
       "      <td>False</td>\n",
       "    </tr>\n",
       "    <tr>\n",
       "      <th>4821</th>\n",
       "      <td>5485</td>\n",
       "      <td>Nicholas Cantelmi</td>\n",
       "      <td>2019-11-28</td>\n",
       "      <td>shot</td>\n",
       "      <td>gun and vehicle</td>\n",
       "      <td>31.0</td>\n",
       "      <td>M</td>\n",
       "      <td>W</td>\n",
       "      <td>Jim Thorpe</td>\n",
       "      <td>PA</td>\n",
       "      <td>False</td>\n",
       "      <td>attack</td>\n",
       "      <td>Other</td>\n",
       "      <td>False</td>\n",
       "    </tr>\n",
       "    <tr>\n",
       "      <th>4831</th>\n",
       "      <td>5233</td>\n",
       "      <td>Yemerson Melendez</td>\n",
       "      <td>2019-12-01</td>\n",
       "      <td>shot</td>\n",
       "      <td>gun and vehicle</td>\n",
       "      <td>16.0</td>\n",
       "      <td>M</td>\n",
       "      <td>H</td>\n",
       "      <td>Fort Pierce</td>\n",
       "      <td>FL</td>\n",
       "      <td>False</td>\n",
       "      <td>attack</td>\n",
       "      <td>Other</td>\n",
       "      <td>False</td>\n",
       "    </tr>\n",
       "    <tr>\n",
       "      <th>4902</th>\n",
       "      <td>5317</td>\n",
       "      <td>Richard Ruiz</td>\n",
       "      <td>2019-12-23</td>\n",
       "      <td>shot</td>\n",
       "      <td>gun and vehicle</td>\n",
       "      <td>38.0</td>\n",
       "      <td>M</td>\n",
       "      <td>H</td>\n",
       "      <td>Phoenix</td>\n",
       "      <td>AZ</td>\n",
       "      <td>False</td>\n",
       "      <td>attack</td>\n",
       "      <td>Car</td>\n",
       "      <td>False</td>\n",
       "    </tr>\n",
       "    <tr>\n",
       "      <th>5197</th>\n",
       "      <td>5704</td>\n",
       "      <td>Austin Hines</td>\n",
       "      <td>2020-04-01</td>\n",
       "      <td>shot</td>\n",
       "      <td>gun and vehicle</td>\n",
       "      <td>19.0</td>\n",
       "      <td>M</td>\n",
       "      <td>W</td>\n",
       "      <td>Columbus</td>\n",
       "      <td>MS</td>\n",
       "      <td>False</td>\n",
       "      <td>attack</td>\n",
       "      <td>Car</td>\n",
       "      <td>False</td>\n",
       "    </tr>\n",
       "  </tbody>\n",
       "</table>\n",
       "</div>"
      ],
      "text/plain": [
       "        id                name        date manner_of_death            armed  \\\n",
       "3643  3990  Fabian Ortiz Adame  2018-08-27            shot  gun and vehicle   \n",
       "3964  4374     Geoffrey Morris  2019-01-10            shot  gun and vehicle   \n",
       "4526  4934         Jose Mendez  2019-08-09            shot  gun and vehicle   \n",
       "4575  5002   Rene Enrique Ruiz  2019-08-30            shot  gun and vehicle   \n",
       "4705  5476     Cameron Bennett  2019-10-17            shot  gun and vehicle   \n",
       "4711  5219    Terry Countryman  2019-10-19            shot  gun and vehicle   \n",
       "4821  5485   Nicholas Cantelmi  2019-11-28            shot  gun and vehicle   \n",
       "4831  5233   Yemerson Melendez  2019-12-01            shot  gun and vehicle   \n",
       "4902  5317        Richard Ruiz  2019-12-23            shot  gun and vehicle   \n",
       "5197  5704        Austin Hines  2020-04-01            shot  gun and vehicle   \n",
       "\n",
       "       age gender race         city state  signs_of_mental_illness  \\\n",
       "3643  25.0      M    W      Phoenix    AZ                    False   \n",
       "3964  29.0      M    W      Wichita    KS                    False   \n",
       "4526  37.0      M    H  Kansas City    MO                    False   \n",
       "4575  51.0      M    H     Tolleson    AZ                    False   \n",
       "4705  22.0      M    B      Fayette    MS                    False   \n",
       "4711  34.0      M    W    Palestine    TX                    False   \n",
       "4821  31.0      M    W   Jim Thorpe    PA                    False   \n",
       "4831  16.0      M    H  Fort Pierce    FL                    False   \n",
       "4902  38.0      M    H      Phoenix    AZ                    False   \n",
       "5197  19.0      M    W     Columbus    MS                    False   \n",
       "\n",
       "     threat_level   flee  body_camera  \n",
       "3643       attack    Car        False  \n",
       "3964       attack    Car        False  \n",
       "4526       attack   Foot        False  \n",
       "4575       attack  Other        False  \n",
       "4705       attack    Car        False  \n",
       "4711       attack  Other        False  \n",
       "4821       attack  Other        False  \n",
       "4831       attack  Other        False  \n",
       "4902       attack    Car        False  \n",
       "5197       attack    Car        False  "
      ]
     },
     "execution_count": 8,
     "metadata": {},
     "output_type": "execute_result"
    }
   ],
   "source": [
    "wapo[wapo['armed']=='gun and vehicle']"
   ]
  },
  {
   "cell_type": "code",
   "execution_count": 9,
   "metadata": {},
   "outputs": [],
   "source": [
    "gunand = wapo[(wapo['armed']=='gun and vehicle')]"
   ]
  },
  {
   "cell_type": "code",
   "execution_count": 10,
   "metadata": {},
   "outputs": [],
   "source": [
    "wapo = wapo.drop(index = gunand.index)"
   ]
  },
  {
   "cell_type": "markdown",
   "metadata": {},
   "source": [
    "# Grouped Together Everything with Nontraditional Weapon"
   ]
  },
  {
   "cell_type": "code",
   "execution_count": 11,
   "metadata": {},
   "outputs": [
    {
     "data": {
      "text/html": [
       "<div>\n",
       "<style scoped>\n",
       "    .dataframe tbody tr th:only-of-type {\n",
       "        vertical-align: middle;\n",
       "    }\n",
       "\n",
       "    .dataframe tbody tr th {\n",
       "        vertical-align: top;\n",
       "    }\n",
       "\n",
       "    .dataframe thead th {\n",
       "        text-align: right;\n",
       "    }\n",
       "</style>\n",
       "<table border=\"1\" class=\"dataframe\">\n",
       "  <thead>\n",
       "    <tr style=\"text-align: right;\">\n",
       "      <th></th>\n",
       "      <th>id</th>\n",
       "      <th>name</th>\n",
       "      <th>date</th>\n",
       "      <th>manner_of_death</th>\n",
       "      <th>armed</th>\n",
       "      <th>age</th>\n",
       "      <th>gender</th>\n",
       "      <th>race</th>\n",
       "      <th>city</th>\n",
       "      <th>state</th>\n",
       "      <th>signs_of_mental_illness</th>\n",
       "      <th>threat_level</th>\n",
       "      <th>flee</th>\n",
       "      <th>body_camera</th>\n",
       "    </tr>\n",
       "  </thead>\n",
       "  <tbody>\n",
       "    <tr>\n",
       "      <th>3</th>\n",
       "      <td>8</td>\n",
       "      <td>Matthew Hoffman</td>\n",
       "      <td>2015-01-04</td>\n",
       "      <td>shot</td>\n",
       "      <td>toy weapon</td>\n",
       "      <td>32.0</td>\n",
       "      <td>M</td>\n",
       "      <td>W</td>\n",
       "      <td>San Francisco</td>\n",
       "      <td>CA</td>\n",
       "      <td>True</td>\n",
       "      <td>attack</td>\n",
       "      <td>Not fleeing</td>\n",
       "      <td>False</td>\n",
       "    </tr>\n",
       "    <tr>\n",
       "      <th>9</th>\n",
       "      <td>17</td>\n",
       "      <td>Leslie Sapp III</td>\n",
       "      <td>2015-01-06</td>\n",
       "      <td>shot</td>\n",
       "      <td>toy weapon</td>\n",
       "      <td>47.0</td>\n",
       "      <td>M</td>\n",
       "      <td>B</td>\n",
       "      <td>Knoxville</td>\n",
       "      <td>PA</td>\n",
       "      <td>False</td>\n",
       "      <td>attack</td>\n",
       "      <td>Not fleeing</td>\n",
       "      <td>False</td>\n",
       "    </tr>\n",
       "    <tr>\n",
       "      <th>16</th>\n",
       "      <td>32</td>\n",
       "      <td>James Dudley Barker</td>\n",
       "      <td>2015-01-08</td>\n",
       "      <td>shot</td>\n",
       "      <td>shovel</td>\n",
       "      <td>42.0</td>\n",
       "      <td>M</td>\n",
       "      <td>W</td>\n",
       "      <td>Salt Lake City</td>\n",
       "      <td>UT</td>\n",
       "      <td>False</td>\n",
       "      <td>attack</td>\n",
       "      <td>Not fleeing</td>\n",
       "      <td>True</td>\n",
       "    </tr>\n",
       "    <tr>\n",
       "      <th>50</th>\n",
       "      <td>99</td>\n",
       "      <td>Tiano Meton</td>\n",
       "      <td>2015-01-22</td>\n",
       "      <td>shot</td>\n",
       "      <td>toy weapon</td>\n",
       "      <td>25.0</td>\n",
       "      <td>M</td>\n",
       "      <td>B</td>\n",
       "      <td>Sierra Blanca</td>\n",
       "      <td>TX</td>\n",
       "      <td>False</td>\n",
       "      <td>attack</td>\n",
       "      <td>Car</td>\n",
       "      <td>False</td>\n",
       "    </tr>\n",
       "    <tr>\n",
       "      <th>70</th>\n",
       "      <td>346</td>\n",
       "      <td>Matautu Nuu</td>\n",
       "      <td>2015-01-28</td>\n",
       "      <td>shot and Tasered</td>\n",
       "      <td>hammer</td>\n",
       "      <td>35.0</td>\n",
       "      <td>M</td>\n",
       "      <td>A</td>\n",
       "      <td>Stockton</td>\n",
       "      <td>CA</td>\n",
       "      <td>True</td>\n",
       "      <td>attack</td>\n",
       "      <td>Not fleeing</td>\n",
       "      <td>False</td>\n",
       "    </tr>\n",
       "  </tbody>\n",
       "</table>\n",
       "</div>"
      ],
      "text/plain": [
       "     id                 name        date   manner_of_death       armed   age  \\\n",
       "3     8      Matthew Hoffman  2015-01-04              shot  toy weapon  32.0   \n",
       "9    17      Leslie Sapp III  2015-01-06              shot  toy weapon  47.0   \n",
       "16   32  James Dudley Barker  2015-01-08              shot      shovel  42.0   \n",
       "50   99          Tiano Meton  2015-01-22              shot  toy weapon  25.0   \n",
       "70  346          Matautu Nuu  2015-01-28  shot and Tasered      hammer  35.0   \n",
       "\n",
       "   gender race            city state  signs_of_mental_illness threat_level  \\\n",
       "3       M    W   San Francisco    CA                     True       attack   \n",
       "9       M    B       Knoxville    PA                    False       attack   \n",
       "16      M    W  Salt Lake City    UT                    False       attack   \n",
       "50      M    B   Sierra Blanca    TX                    False       attack   \n",
       "70      M    A        Stockton    CA                     True       attack   \n",
       "\n",
       "           flee  body_camera  \n",
       "3   Not fleeing        False  \n",
       "9   Not fleeing        False  \n",
       "16  Not fleeing         True  \n",
       "50          Car        False  \n",
       "70  Not fleeing        False  "
      ]
     },
     "execution_count": 11,
     "metadata": {},
     "output_type": "execute_result"
    }
   ],
   "source": [
    "wapo[wapo['armed'].str.contains('gun|vehicle|knife|unarmed|unknown|undetermined')==False].head()"
   ]
  },
  {
   "cell_type": "markdown",
   "metadata": {},
   "source": [
    "# One-Hot Encoded the Different Kinds of Arms, including \"Non-traditional Weapon\""
   ]
  },
  {
   "cell_type": "code",
   "execution_count": 12,
   "metadata": {},
   "outputs": [],
   "source": [
    "wapo['armed_gun'] = wapo['armed'].str.contains('gun') == 1\n",
    "wapo['armed_vehicle'] = wapo['armed'].str.contains('vehicle') == 1\n",
    "wapo['armed_knife'] = wapo['armed'].str.contains('knife') == 1\n",
    "wapo['armed_unknown'] = (wapo.armed.str.contains('unknown|undetermined')) == 1\n",
    "wapo['unarmed'] = wapo.armed.str.contains('unarmed') == 1\n",
    "wapo['untraditional_weapon'] = (wapo['armed'].str.contains('gun|vehicle|knife|unarmed|unknown|undetermined')==False) ==1"
   ]
  },
  {
   "cell_type": "code",
   "execution_count": 13,
   "metadata": {},
   "outputs": [
    {
     "data": {
      "text/html": [
       "<div>\n",
       "<style scoped>\n",
       "    .dataframe tbody tr th:only-of-type {\n",
       "        vertical-align: middle;\n",
       "    }\n",
       "\n",
       "    .dataframe tbody tr th {\n",
       "        vertical-align: top;\n",
       "    }\n",
       "\n",
       "    .dataframe thead th {\n",
       "        text-align: right;\n",
       "    }\n",
       "</style>\n",
       "<table border=\"1\" class=\"dataframe\">\n",
       "  <thead>\n",
       "    <tr style=\"text-align: right;\">\n",
       "      <th></th>\n",
       "      <th>id</th>\n",
       "      <th>name</th>\n",
       "      <th>date</th>\n",
       "      <th>manner_of_death</th>\n",
       "      <th>armed</th>\n",
       "      <th>age</th>\n",
       "      <th>gender</th>\n",
       "      <th>race</th>\n",
       "      <th>city</th>\n",
       "      <th>state</th>\n",
       "      <th>signs_of_mental_illness</th>\n",
       "      <th>threat_level</th>\n",
       "      <th>flee</th>\n",
       "      <th>body_camera</th>\n",
       "      <th>armed_gun</th>\n",
       "      <th>armed_vehicle</th>\n",
       "      <th>armed_knife</th>\n",
       "      <th>armed_unknown</th>\n",
       "      <th>unarmed</th>\n",
       "      <th>untraditional_weapon</th>\n",
       "    </tr>\n",
       "  </thead>\n",
       "  <tbody>\n",
       "    <tr>\n",
       "      <th>0</th>\n",
       "      <td>3</td>\n",
       "      <td>Tim Elliot</td>\n",
       "      <td>2015-01-02</td>\n",
       "      <td>shot</td>\n",
       "      <td>gun</td>\n",
       "      <td>53.0</td>\n",
       "      <td>M</td>\n",
       "      <td>A</td>\n",
       "      <td>Shelton</td>\n",
       "      <td>WA</td>\n",
       "      <td>True</td>\n",
       "      <td>attack</td>\n",
       "      <td>Not fleeing</td>\n",
       "      <td>False</td>\n",
       "      <td>True</td>\n",
       "      <td>False</td>\n",
       "      <td>False</td>\n",
       "      <td>False</td>\n",
       "      <td>False</td>\n",
       "      <td>False</td>\n",
       "    </tr>\n",
       "    <tr>\n",
       "      <th>1</th>\n",
       "      <td>4</td>\n",
       "      <td>Lewis Lee Lembke</td>\n",
       "      <td>2015-01-02</td>\n",
       "      <td>shot</td>\n",
       "      <td>gun</td>\n",
       "      <td>47.0</td>\n",
       "      <td>M</td>\n",
       "      <td>W</td>\n",
       "      <td>Aloha</td>\n",
       "      <td>OR</td>\n",
       "      <td>False</td>\n",
       "      <td>attack</td>\n",
       "      <td>Not fleeing</td>\n",
       "      <td>False</td>\n",
       "      <td>True</td>\n",
       "      <td>False</td>\n",
       "      <td>False</td>\n",
       "      <td>False</td>\n",
       "      <td>False</td>\n",
       "      <td>False</td>\n",
       "    </tr>\n",
       "    <tr>\n",
       "      <th>2</th>\n",
       "      <td>5</td>\n",
       "      <td>John Paul Quintero</td>\n",
       "      <td>2015-01-03</td>\n",
       "      <td>shot and Tasered</td>\n",
       "      <td>unarmed</td>\n",
       "      <td>23.0</td>\n",
       "      <td>M</td>\n",
       "      <td>H</td>\n",
       "      <td>Wichita</td>\n",
       "      <td>KS</td>\n",
       "      <td>False</td>\n",
       "      <td>other</td>\n",
       "      <td>Not fleeing</td>\n",
       "      <td>False</td>\n",
       "      <td>False</td>\n",
       "      <td>False</td>\n",
       "      <td>False</td>\n",
       "      <td>False</td>\n",
       "      <td>True</td>\n",
       "      <td>False</td>\n",
       "    </tr>\n",
       "    <tr>\n",
       "      <th>3</th>\n",
       "      <td>8</td>\n",
       "      <td>Matthew Hoffman</td>\n",
       "      <td>2015-01-04</td>\n",
       "      <td>shot</td>\n",
       "      <td>toy weapon</td>\n",
       "      <td>32.0</td>\n",
       "      <td>M</td>\n",
       "      <td>W</td>\n",
       "      <td>San Francisco</td>\n",
       "      <td>CA</td>\n",
       "      <td>True</td>\n",
       "      <td>attack</td>\n",
       "      <td>Not fleeing</td>\n",
       "      <td>False</td>\n",
       "      <td>False</td>\n",
       "      <td>False</td>\n",
       "      <td>False</td>\n",
       "      <td>False</td>\n",
       "      <td>False</td>\n",
       "      <td>True</td>\n",
       "    </tr>\n",
       "    <tr>\n",
       "      <th>4</th>\n",
       "      <td>9</td>\n",
       "      <td>Michael Rodriguez</td>\n",
       "      <td>2015-01-04</td>\n",
       "      <td>shot</td>\n",
       "      <td>nail gun</td>\n",
       "      <td>39.0</td>\n",
       "      <td>M</td>\n",
       "      <td>H</td>\n",
       "      <td>Evans</td>\n",
       "      <td>CO</td>\n",
       "      <td>False</td>\n",
       "      <td>attack</td>\n",
       "      <td>Not fleeing</td>\n",
       "      <td>False</td>\n",
       "      <td>True</td>\n",
       "      <td>False</td>\n",
       "      <td>False</td>\n",
       "      <td>False</td>\n",
       "      <td>False</td>\n",
       "      <td>False</td>\n",
       "    </tr>\n",
       "  </tbody>\n",
       "</table>\n",
       "</div>"
      ],
      "text/plain": [
       "   id                name        date   manner_of_death       armed   age  \\\n",
       "0   3          Tim Elliot  2015-01-02              shot         gun  53.0   \n",
       "1   4    Lewis Lee Lembke  2015-01-02              shot         gun  47.0   \n",
       "2   5  John Paul Quintero  2015-01-03  shot and Tasered     unarmed  23.0   \n",
       "3   8     Matthew Hoffman  2015-01-04              shot  toy weapon  32.0   \n",
       "4   9   Michael Rodriguez  2015-01-04              shot    nail gun  39.0   \n",
       "\n",
       "  gender race           city state  signs_of_mental_illness threat_level  \\\n",
       "0      M    A        Shelton    WA                     True       attack   \n",
       "1      M    W          Aloha    OR                    False       attack   \n",
       "2      M    H        Wichita    KS                    False        other   \n",
       "3      M    W  San Francisco    CA                     True       attack   \n",
       "4      M    H          Evans    CO                    False       attack   \n",
       "\n",
       "          flee  body_camera  armed_gun  armed_vehicle  armed_knife  \\\n",
       "0  Not fleeing        False       True          False        False   \n",
       "1  Not fleeing        False       True          False        False   \n",
       "2  Not fleeing        False      False          False        False   \n",
       "3  Not fleeing        False      False          False        False   \n",
       "4  Not fleeing        False       True          False        False   \n",
       "\n",
       "   armed_unknown  unarmed  untraditional_weapon  \n",
       "0          False    False                 False  \n",
       "1          False    False                 False  \n",
       "2          False     True                 False  \n",
       "3          False    False                  True  \n",
       "4          False    False                 False  "
      ]
     },
     "execution_count": 13,
     "metadata": {},
     "output_type": "execute_result"
    }
   ],
   "source": [
    "wapo.head()"
   ]
  },
  {
   "cell_type": "code",
   "execution_count": 14,
   "metadata": {},
   "outputs": [],
   "source": [
    "wapo = wapo.dropna()"
   ]
  },
  {
   "cell_type": "code",
   "execution_count": 15,
   "metadata": {},
   "outputs": [],
   "source": [
    "wapo = wapo.drop(columns = ['id','name','date','city','state'])"
   ]
  },
  {
   "cell_type": "code",
   "execution_count": 16,
   "metadata": {
    "scrolled": true
   },
   "outputs": [
    {
     "data": {
      "text/plain": [
       "Index(['manner_of_death', 'armed', 'age', 'gender', 'race',\n",
       "       'signs_of_mental_illness', 'threat_level', 'flee', 'body_camera',\n",
       "       'armed_gun', 'armed_vehicle', 'armed_knife', 'armed_unknown', 'unarmed',\n",
       "       'untraditional_weapon'],\n",
       "      dtype='object')"
      ]
     },
     "execution_count": 16,
     "metadata": {},
     "output_type": "execute_result"
    }
   ],
   "source": [
    "wapo.columns"
   ]
  },
  {
   "cell_type": "code",
   "execution_count": 17,
   "metadata": {},
   "outputs": [
    {
     "data": {
      "text/plain": [
       "W    2250\n",
       "B    1164\n",
       "H     784\n",
       "A      83\n",
       "N      70\n",
       "O      43\n",
       "Name: race, dtype: int64"
      ]
     },
     "execution_count": 17,
     "metadata": {},
     "output_type": "execute_result"
    }
   ],
   "source": [
    "wapo.race.value_counts()"
   ]
  },
  {
   "cell_type": "markdown",
   "metadata": {},
   "source": [
    "# One-Hot Encoded Gender, Manner of Death, Threat_Level, Flee.\n",
    "## I'm not sure why. I guess I thought I needed to do this to categorical variables?\n",
    "### Do I need to one-hot encode race? Since that's my target variable, I think not. "
   ]
  },
  {
   "cell_type": "code",
   "execution_count": 18,
   "metadata": {},
   "outputs": [],
   "source": [
    "other = wapo.loc[:,['gender','manner_of_death','threat_level','flee']]\n",
    "w = pd.concat((wapo, pd.get_dummies(other)), axis=1)"
   ]
  },
  {
   "cell_type": "code",
   "execution_count": 19,
   "metadata": {},
   "outputs": [],
   "source": [
    "cols = ['gender','manner_of_death','armed','threat_level','flee']\n",
    "w = w.drop(columns = cols)"
   ]
  },
  {
   "cell_type": "code",
   "execution_count": 20,
   "metadata": {},
   "outputs": [
    {
     "data": {
      "text/plain": [
       "['age',\n",
       " 'race',\n",
       " 'signs_of_mental_illness',\n",
       " 'body_camera',\n",
       " 'armed_gun',\n",
       " 'armed_vehicle',\n",
       " 'armed_knife',\n",
       " 'armed_unknown',\n",
       " 'unarmed',\n",
       " 'untraditional_weapon',\n",
       " 'gender_F',\n",
       " 'gender_M',\n",
       " 'manner_of_death_shot',\n",
       " 'manner_of_death_shot and Tasered',\n",
       " 'threat_level_attack',\n",
       " 'threat_level_other',\n",
       " 'threat_level_undetermined',\n",
       " 'flee_Car',\n",
       " 'flee_Foot',\n",
       " 'flee_Not fleeing',\n",
       " 'flee_Other']"
      ]
     },
     "execution_count": 20,
     "metadata": {},
     "output_type": "execute_result"
    }
   ],
   "source": [
    "pd.options.display.max_colwidth = 999\n",
    "pd.options.display.max_rows = 999\n",
    "list(w.columns)"
   ]
  },
  {
   "cell_type": "code",
   "execution_count": 21,
   "metadata": {},
   "outputs": [
    {
     "data": {
      "text/html": [
       "<div>\n",
       "<style scoped>\n",
       "    .dataframe tbody tr th:only-of-type {\n",
       "        vertical-align: middle;\n",
       "    }\n",
       "\n",
       "    .dataframe tbody tr th {\n",
       "        vertical-align: top;\n",
       "    }\n",
       "\n",
       "    .dataframe thead th {\n",
       "        text-align: right;\n",
       "    }\n",
       "</style>\n",
       "<table border=\"1\" class=\"dataframe\">\n",
       "  <thead>\n",
       "    <tr style=\"text-align: right;\">\n",
       "      <th></th>\n",
       "      <th>age</th>\n",
       "      <th>race</th>\n",
       "      <th>signs_of_mental_illness</th>\n",
       "      <th>body_camera</th>\n",
       "      <th>armed_gun</th>\n",
       "      <th>armed_vehicle</th>\n",
       "      <th>armed_knife</th>\n",
       "      <th>armed_unknown</th>\n",
       "      <th>unarmed</th>\n",
       "      <th>untraditional_weapon</th>\n",
       "      <th>...</th>\n",
       "      <th>gender_M</th>\n",
       "      <th>manner_of_death_shot</th>\n",
       "      <th>manner_of_death_shot and Tasered</th>\n",
       "      <th>threat_level_attack</th>\n",
       "      <th>threat_level_other</th>\n",
       "      <th>threat_level_undetermined</th>\n",
       "      <th>flee_Car</th>\n",
       "      <th>flee_Foot</th>\n",
       "      <th>flee_Not fleeing</th>\n",
       "      <th>flee_Other</th>\n",
       "    </tr>\n",
       "  </thead>\n",
       "  <tbody>\n",
       "    <tr>\n",
       "      <th>0</th>\n",
       "      <td>53.0</td>\n",
       "      <td>A</td>\n",
       "      <td>True</td>\n",
       "      <td>False</td>\n",
       "      <td>True</td>\n",
       "      <td>False</td>\n",
       "      <td>False</td>\n",
       "      <td>False</td>\n",
       "      <td>False</td>\n",
       "      <td>False</td>\n",
       "      <td>...</td>\n",
       "      <td>1</td>\n",
       "      <td>1</td>\n",
       "      <td>0</td>\n",
       "      <td>1</td>\n",
       "      <td>0</td>\n",
       "      <td>0</td>\n",
       "      <td>0</td>\n",
       "      <td>0</td>\n",
       "      <td>1</td>\n",
       "      <td>0</td>\n",
       "    </tr>\n",
       "    <tr>\n",
       "      <th>1</th>\n",
       "      <td>47.0</td>\n",
       "      <td>W</td>\n",
       "      <td>False</td>\n",
       "      <td>False</td>\n",
       "      <td>True</td>\n",
       "      <td>False</td>\n",
       "      <td>False</td>\n",
       "      <td>False</td>\n",
       "      <td>False</td>\n",
       "      <td>False</td>\n",
       "      <td>...</td>\n",
       "      <td>1</td>\n",
       "      <td>1</td>\n",
       "      <td>0</td>\n",
       "      <td>1</td>\n",
       "      <td>0</td>\n",
       "      <td>0</td>\n",
       "      <td>0</td>\n",
       "      <td>0</td>\n",
       "      <td>1</td>\n",
       "      <td>0</td>\n",
       "    </tr>\n",
       "    <tr>\n",
       "      <th>2</th>\n",
       "      <td>23.0</td>\n",
       "      <td>H</td>\n",
       "      <td>False</td>\n",
       "      <td>False</td>\n",
       "      <td>False</td>\n",
       "      <td>False</td>\n",
       "      <td>False</td>\n",
       "      <td>False</td>\n",
       "      <td>True</td>\n",
       "      <td>False</td>\n",
       "      <td>...</td>\n",
       "      <td>1</td>\n",
       "      <td>0</td>\n",
       "      <td>1</td>\n",
       "      <td>0</td>\n",
       "      <td>1</td>\n",
       "      <td>0</td>\n",
       "      <td>0</td>\n",
       "      <td>0</td>\n",
       "      <td>1</td>\n",
       "      <td>0</td>\n",
       "    </tr>\n",
       "    <tr>\n",
       "      <th>3</th>\n",
       "      <td>32.0</td>\n",
       "      <td>W</td>\n",
       "      <td>True</td>\n",
       "      <td>False</td>\n",
       "      <td>False</td>\n",
       "      <td>False</td>\n",
       "      <td>False</td>\n",
       "      <td>False</td>\n",
       "      <td>False</td>\n",
       "      <td>True</td>\n",
       "      <td>...</td>\n",
       "      <td>1</td>\n",
       "      <td>1</td>\n",
       "      <td>0</td>\n",
       "      <td>1</td>\n",
       "      <td>0</td>\n",
       "      <td>0</td>\n",
       "      <td>0</td>\n",
       "      <td>0</td>\n",
       "      <td>1</td>\n",
       "      <td>0</td>\n",
       "    </tr>\n",
       "    <tr>\n",
       "      <th>4</th>\n",
       "      <td>39.0</td>\n",
       "      <td>H</td>\n",
       "      <td>False</td>\n",
       "      <td>False</td>\n",
       "      <td>True</td>\n",
       "      <td>False</td>\n",
       "      <td>False</td>\n",
       "      <td>False</td>\n",
       "      <td>False</td>\n",
       "      <td>False</td>\n",
       "      <td>...</td>\n",
       "      <td>1</td>\n",
       "      <td>1</td>\n",
       "      <td>0</td>\n",
       "      <td>1</td>\n",
       "      <td>0</td>\n",
       "      <td>0</td>\n",
       "      <td>0</td>\n",
       "      <td>0</td>\n",
       "      <td>1</td>\n",
       "      <td>0</td>\n",
       "    </tr>\n",
       "  </tbody>\n",
       "</table>\n",
       "<p>5 rows × 21 columns</p>\n",
       "</div>"
      ],
      "text/plain": [
       "    age race  signs_of_mental_illness  body_camera  armed_gun  armed_vehicle  \\\n",
       "0  53.0    A                     True        False       True          False   \n",
       "1  47.0    W                    False        False       True          False   \n",
       "2  23.0    H                    False        False      False          False   \n",
       "3  32.0    W                     True        False      False          False   \n",
       "4  39.0    H                    False        False       True          False   \n",
       "\n",
       "   armed_knife  armed_unknown  unarmed  untraditional_weapon  ...  gender_M  \\\n",
       "0        False          False    False                 False  ...         1   \n",
       "1        False          False    False                 False  ...         1   \n",
       "2        False          False     True                 False  ...         1   \n",
       "3        False          False    False                  True  ...         1   \n",
       "4        False          False    False                 False  ...         1   \n",
       "\n",
       "   manner_of_death_shot  manner_of_death_shot and Tasered  \\\n",
       "0                     1                                 0   \n",
       "1                     1                                 0   \n",
       "2                     0                                 1   \n",
       "3                     1                                 0   \n",
       "4                     1                                 0   \n",
       "\n",
       "   threat_level_attack  threat_level_other  threat_level_undetermined  \\\n",
       "0                    1                   0                          0   \n",
       "1                    1                   0                          0   \n",
       "2                    0                   1                          0   \n",
       "3                    1                   0                          0   \n",
       "4                    1                   0                          0   \n",
       "\n",
       "   flee_Car  flee_Foot  flee_Not fleeing  flee_Other  \n",
       "0         0          0                 1           0  \n",
       "1         0          0                 1           0  \n",
       "2         0          0                 1           0  \n",
       "3         0          0                 1           0  \n",
       "4         0          0                 1           0  \n",
       "\n",
       "[5 rows x 21 columns]"
      ]
     },
     "execution_count": 21,
     "metadata": {},
     "output_type": "execute_result"
    }
   ],
   "source": [
    "w.head()"
   ]
  },
  {
   "cell_type": "markdown",
   "metadata": {},
   "source": [
    "# MODEL 1, all entries present"
   ]
  },
  {
   "cell_type": "code",
   "execution_count": 22,
   "metadata": {},
   "outputs": [],
   "source": [
    "import turicreate\n",
    "sf = turicreate.SFrame(w)"
   ]
  },
  {
   "cell_type": "code",
   "execution_count": 23,
   "metadata": {},
   "outputs": [],
   "source": [
    "feats = ['age',\n",
    " 'signs_of_mental_illness',\n",
    " 'body_camera',\n",
    " 'armed_gun',\n",
    " 'armed_vehicle',\n",
    " 'armed_knife',\n",
    " 'armed_unknown',\n",
    " 'unarmed',\n",
    " 'untraditional_weapon',\n",
    " 'gender_F',\n",
    " 'gender_M',\n",
    " 'manner_of_death_shot',\n",
    " 'manner_of_death_shot and Tasered',\n",
    " 'threat_level_attack',\n",
    " 'threat_level_other',\n",
    " 'threat_level_undetermined',\n",
    " 'flee_Car',\n",
    " 'flee_Foot',\n",
    " 'flee_Not fleeing',\n",
    " 'flee_Other']"
   ]
  },
  {
   "cell_type": "code",
   "execution_count": 24,
   "metadata": {},
   "outputs": [
    {
     "data": {
      "text/html": [
       "<pre>Logistic regression:</pre>"
      ],
      "text/plain": [
       "Logistic regression:"
      ]
     },
     "metadata": {},
     "output_type": "display_data"
    },
    {
     "data": {
      "text/html": [
       "<pre>--------------------------------------------------------</pre>"
      ],
      "text/plain": [
       "--------------------------------------------------------"
      ]
     },
     "metadata": {},
     "output_type": "display_data"
    },
    {
     "data": {
      "text/html": [
       "<pre>Number of examples          : 3527</pre>"
      ],
      "text/plain": [
       "Number of examples          : 3527"
      ]
     },
     "metadata": {},
     "output_type": "display_data"
    },
    {
     "data": {
      "text/html": [
       "<pre>Number of classes           : 6</pre>"
      ],
      "text/plain": [
       "Number of classes           : 6"
      ]
     },
     "metadata": {},
     "output_type": "display_data"
    },
    {
     "data": {
      "text/html": [
       "<pre>Number of feature columns   : 20</pre>"
      ],
      "text/plain": [
       "Number of feature columns   : 20"
      ]
     },
     "metadata": {},
     "output_type": "display_data"
    },
    {
     "data": {
      "text/html": [
       "<pre>Number of unpacked features : 20</pre>"
      ],
      "text/plain": [
       "Number of unpacked features : 20"
      ]
     },
     "metadata": {},
     "output_type": "display_data"
    },
    {
     "data": {
      "text/html": [
       "<pre>Number of coefficients      : 105</pre>"
      ],
      "text/plain": [
       "Number of coefficients      : 105"
      ]
     },
     "metadata": {},
     "output_type": "display_data"
    },
    {
     "data": {
      "text/html": [
       "<pre>Starting Newton Method</pre>"
      ],
      "text/plain": [
       "Starting Newton Method"
      ]
     },
     "metadata": {},
     "output_type": "display_data"
    },
    {
     "data": {
      "text/html": [
       "<pre>--------------------------------------------------------</pre>"
      ],
      "text/plain": [
       "--------------------------------------------------------"
      ]
     },
     "metadata": {},
     "output_type": "display_data"
    },
    {
     "data": {
      "text/html": [
       "<pre>+-----------+----------+--------------+-------------------+---------------------+</pre>"
      ],
      "text/plain": [
       "+-----------+----------+--------------+-------------------+---------------------+"
      ]
     },
     "metadata": {},
     "output_type": "display_data"
    },
    {
     "data": {
      "text/html": [
       "<pre>| Iteration | Passes   | Elapsed Time | Training Accuracy | Validation Accuracy |</pre>"
      ],
      "text/plain": [
       "| Iteration | Passes   | Elapsed Time | Training Accuracy | Validation Accuracy |"
      ]
     },
     "metadata": {},
     "output_type": "display_data"
    },
    {
     "data": {
      "text/html": [
       "<pre>+-----------+----------+--------------+-------------------+---------------------+</pre>"
      ],
      "text/plain": [
       "+-----------+----------+--------------+-------------------+---------------------+"
      ]
     },
     "metadata": {},
     "output_type": "display_data"
    },
    {
     "data": {
      "text/html": [
       "<pre>| 1         | 2        | 1.102012     | 0.535299          | 0.554787            |</pre>"
      ],
      "text/plain": [
       "| 1         | 2        | 1.102012     | 0.535299          | 0.554787            |"
      ]
     },
     "metadata": {},
     "output_type": "display_data"
    },
    {
     "data": {
      "text/html": [
       "<pre>| 2         | 3        | 1.184118     | 0.536433          | 0.531719            |</pre>"
      ],
      "text/plain": [
       "| 2         | 3        | 1.184118     | 0.536433          | 0.531719            |"
      ]
     },
     "metadata": {},
     "output_type": "display_data"
    },
    {
     "data": {
      "text/html": [
       "<pre>| 3         | 4        | 1.276207     | 0.536150          | 0.552480            |</pre>"
      ],
      "text/plain": [
       "| 3         | 4        | 1.276207     | 0.536150          | 0.552480            |"
      ]
     },
     "metadata": {},
     "output_type": "display_data"
    },
    {
     "data": {
      "text/html": [
       "<pre>| 4         | 5        | 1.355711     | 0.536150          | 0.558247            |</pre>"
      ],
      "text/plain": [
       "| 4         | 5        | 1.355711     | 0.536150          | 0.558247            |"
      ]
     },
     "metadata": {},
     "output_type": "display_data"
    },
    {
     "data": {
      "text/html": [
       "<pre>| 5         | 6        | 1.431028     | 0.535583          | 0.557093            |</pre>"
      ],
      "text/plain": [
       "| 5         | 6        | 1.431028     | 0.535583          | 0.557093            |"
      ]
     },
     "metadata": {},
     "output_type": "display_data"
    },
    {
     "data": {
      "text/html": [
       "<pre>| 9         | 10       | 1.726994     | 0.535583          | 0.557093            |</pre>"
      ],
      "text/plain": [
       "| 9         | 10       | 1.726994     | 0.535583          | 0.557093            |"
      ]
     },
     "metadata": {},
     "output_type": "display_data"
    },
    {
     "data": {
      "text/html": [
       "<pre>+-----------+----------+--------------+-------------------+---------------------+</pre>"
      ],
      "text/plain": [
       "+-----------+----------+--------------+-------------------+---------------------+"
      ]
     },
     "metadata": {},
     "output_type": "display_data"
    },
    {
     "data": {
      "text/html": [
       "<pre>SUCCESS: Optimal solution found.</pre>"
      ],
      "text/plain": [
       "SUCCESS: Optimal solution found."
      ]
     },
     "metadata": {},
     "output_type": "display_data"
    },
    {
     "data": {
      "text/html": [
       "<pre></pre>"
      ],
      "text/plain": []
     },
     "metadata": {},
     "output_type": "display_data"
    }
   ],
   "source": [
    "train_data,test_data = sf.random_split(.8,seed=0)\n",
    "race_model = turicreate.logistic_classifier.create(train_data,target='race', features=feats, validation_set=test_data)"
   ]
  },
  {
   "cell_type": "code",
   "execution_count": 25,
   "metadata": {},
   "outputs": [
    {
     "data": {
      "text/plain": [
       "<bound method LogisticClassifier.evaluate of Class                          : LogisticClassifier\n",
       "\n",
       "Schema\n",
       "------\n",
       "Number of coefficients         : 105\n",
       "Number of examples             : 3527\n",
       "Number of classes              : 6\n",
       "Number of feature columns      : 20\n",
       "Number of unpacked features    : 20\n",
       "\n",
       "Hyperparameters\n",
       "---------------\n",
       "L1 penalty                     : 0.0\n",
       "L2 penalty                     : 0.01\n",
       "\n",
       "Training Summary\n",
       "----------------\n",
       "Solver                         : newton\n",
       "Solver iterations              : 9\n",
       "Solver status                  : SUCCESS: Optimal solution found.\n",
       "Training time (sec)            : 1.7356\n",
       "\n",
       "Settings\n",
       "--------\n",
       "Log-likelihood                 : 3949.555\n",
       "\n",
       "Highest Positive Coefficients\n",
       "-----------------------------\n",
       "(intercept)                    : 5.8027\n",
       "threat_level_undetermined      : 5.5226\n",
       "threat_level_undetermined      : 5.436\n",
       "armed_vehicle                  : 5.3593\n",
       "flee_Other                     : 5.2876\n",
       "\n",
       "Lowest Negative Coefficients\n",
       "----------------------------\n",
       "unarmed                        : -4.0999\n",
       "armed_unknown                  : -3.7908\n",
       "untraditional_weapon           : -3.6982\n",
       "armed_knife                    : -3.5671\n",
       "armed_knife                    : -3.0232\n",
       ">"
      ]
     },
     "execution_count": 25,
     "metadata": {},
     "output_type": "execute_result"
    }
   ],
   "source": [
    "race_model.evaluate"
   ]
  },
  {
   "cell_type": "code",
   "execution_count": 26,
   "metadata": {},
   "outputs": [
    {
     "data": {
      "text/plain": [
       "{'roc_curve': Columns:\n",
       " \tthreshold\tfloat\n",
       " \tfpr\tfloat\n",
       " \ttpr\tfloat\n",
       " \tp\tint\n",
       " \tn\tint\n",
       " \tclass\tint\n",
       " \n",
       " Rows: 600006\n",
       " \n",
       " Data:\n",
       " +-----------+--------------------+-----+----+-----+-------+\n",
       " | threshold |        fpr         | tpr | p  |  n  | class |\n",
       " +-----------+--------------------+-----+----+-----+-------+\n",
       " |    0.0    |        1.0         | 1.0 | 14 | 853 |   0   |\n",
       " |   1e-05   | 0.9964830011723329 | 1.0 | 14 | 853 |   0   |\n",
       " |   2e-05   | 0.9964830011723329 | 1.0 | 14 | 853 |   0   |\n",
       " |   3e-05   | 0.9964830011723329 | 1.0 | 14 | 853 |   0   |\n",
       " |   4e-05   | 0.9906213364595545 | 1.0 | 14 | 853 |   0   |\n",
       " |   5e-05   | 0.9753810082063306 | 1.0 | 14 | 853 |   0   |\n",
       " |   6e-05   | 0.9683470105509965 | 1.0 | 14 | 853 |   0   |\n",
       " |   7e-05   | 0.9613130128956624 | 1.0 | 14 | 853 |   0   |\n",
       " |   8e-05   | 0.958968347010551  | 1.0 | 14 | 853 |   0   |\n",
       " |   9e-05   | 0.9531066822977726 | 1.0 | 14 | 853 |   0   |\n",
       " +-----------+--------------------+-----+----+-----+-------+\n",
       " [600006 rows x 6 columns]\n",
       " Note: Only the head of the SFrame is printed.\n",
       " You can use print_rows(num_rows=m, num_columns=n) to print more rows and columns.}"
      ]
     },
     "execution_count": 26,
     "metadata": {},
     "output_type": "execute_result"
    }
   ],
   "source": [
    "race_model.evaluate(test_data, metric='roc_curve')"
   ]
  },
  {
   "cell_type": "markdown",
   "metadata": {},
   "source": [
    "## How do I DRAW the roc curve? What other ways should I evaluate this? How do I read these evaluations?"
   ]
  },
  {
   "cell_type": "code",
   "execution_count": 27,
   "metadata": {},
   "outputs": [],
   "source": [
    "w['prediction']=race_model.predict(sf, output_type='class')"
   ]
  },
  {
   "cell_type": "code",
   "execution_count": 28,
   "metadata": {},
   "outputs": [
    {
     "data": {
      "text/html": [
       "<div>\n",
       "<style scoped>\n",
       "    .dataframe tbody tr th:only-of-type {\n",
       "        vertical-align: middle;\n",
       "    }\n",
       "\n",
       "    .dataframe tbody tr th {\n",
       "        vertical-align: top;\n",
       "    }\n",
       "\n",
       "    .dataframe thead th {\n",
       "        text-align: right;\n",
       "    }\n",
       "</style>\n",
       "<table border=\"1\" class=\"dataframe\">\n",
       "  <thead>\n",
       "    <tr style=\"text-align: right;\">\n",
       "      <th></th>\n",
       "      <th>race</th>\n",
       "      <th>prediction</th>\n",
       "    </tr>\n",
       "  </thead>\n",
       "  <tbody>\n",
       "    <tr>\n",
       "      <th>0</th>\n",
       "      <td>A</td>\n",
       "      <td>W</td>\n",
       "    </tr>\n",
       "    <tr>\n",
       "      <th>1</th>\n",
       "      <td>W</td>\n",
       "      <td>W</td>\n",
       "    </tr>\n",
       "    <tr>\n",
       "      <th>2</th>\n",
       "      <td>H</td>\n",
       "      <td>B</td>\n",
       "    </tr>\n",
       "    <tr>\n",
       "      <th>3</th>\n",
       "      <td>W</td>\n",
       "      <td>W</td>\n",
       "    </tr>\n",
       "    <tr>\n",
       "      <th>4</th>\n",
       "      <td>H</td>\n",
       "      <td>W</td>\n",
       "    </tr>\n",
       "    <tr>\n",
       "      <th>...</th>\n",
       "      <td>...</td>\n",
       "      <td>...</td>\n",
       "    </tr>\n",
       "    <tr>\n",
       "      <th>5415</th>\n",
       "      <td>W</td>\n",
       "      <td>W</td>\n",
       "    </tr>\n",
       "    <tr>\n",
       "      <th>5418</th>\n",
       "      <td>B</td>\n",
       "      <td>W</td>\n",
       "    </tr>\n",
       "    <tr>\n",
       "      <th>5420</th>\n",
       "      <td>W</td>\n",
       "      <td>W</td>\n",
       "    </tr>\n",
       "    <tr>\n",
       "      <th>5422</th>\n",
       "      <td>H</td>\n",
       "      <td>B</td>\n",
       "    </tr>\n",
       "    <tr>\n",
       "      <th>5424</th>\n",
       "      <td>W</td>\n",
       "      <td>B</td>\n",
       "    </tr>\n",
       "  </tbody>\n",
       "</table>\n",
       "<p>4394 rows × 2 columns</p>\n",
       "</div>"
      ],
      "text/plain": [
       "     race prediction\n",
       "0       A          W\n",
       "1       W          W\n",
       "2       H          B\n",
       "3       W          W\n",
       "4       H          W\n",
       "...   ...        ...\n",
       "5415    W          W\n",
       "5418    B          W\n",
       "5420    W          W\n",
       "5422    H          B\n",
       "5424    W          B\n",
       "\n",
       "[4394 rows x 2 columns]"
      ]
     },
     "execution_count": 28,
     "metadata": {},
     "output_type": "execute_result"
    }
   ],
   "source": [
    "w.loc[:,['race','prediction']]"
   ]
  },
  {
   "cell_type": "code",
   "execution_count": 29,
   "metadata": {},
   "outputs": [],
   "source": [
    "w['match'] = (w.race == w.prediction)"
   ]
  },
  {
   "cell_type": "code",
   "execution_count": 30,
   "metadata": {},
   "outputs": [
    {
     "data": {
      "text/plain": [
       "2372"
      ]
     },
     "execution_count": 30,
     "metadata": {},
     "output_type": "execute_result"
    }
   ],
   "source": [
    "w.match.sum()"
   ]
  },
  {
   "cell_type": "code",
   "execution_count": 31,
   "metadata": {},
   "outputs": [
    {
     "data": {
      "text/html": [
       "<div>\n",
       "<style scoped>\n",
       "    .dataframe tbody tr th:only-of-type {\n",
       "        vertical-align: middle;\n",
       "    }\n",
       "\n",
       "    .dataframe tbody tr th {\n",
       "        vertical-align: top;\n",
       "    }\n",
       "\n",
       "    .dataframe thead th {\n",
       "        text-align: right;\n",
       "    }\n",
       "</style>\n",
       "<table border=\"1\" class=\"dataframe\">\n",
       "  <thead>\n",
       "    <tr style=\"text-align: right;\">\n",
       "      <th></th>\n",
       "      <th>age</th>\n",
       "      <th>race</th>\n",
       "      <th>signs_of_mental_illness</th>\n",
       "      <th>body_camera</th>\n",
       "      <th>armed_gun</th>\n",
       "      <th>armed_vehicle</th>\n",
       "      <th>armed_knife</th>\n",
       "      <th>armed_unknown</th>\n",
       "      <th>unarmed</th>\n",
       "      <th>untraditional_weapon</th>\n",
       "      <th>...</th>\n",
       "      <th>manner_of_death_shot and Tasered</th>\n",
       "      <th>threat_level_attack</th>\n",
       "      <th>threat_level_other</th>\n",
       "      <th>threat_level_undetermined</th>\n",
       "      <th>flee_Car</th>\n",
       "      <th>flee_Foot</th>\n",
       "      <th>flee_Not fleeing</th>\n",
       "      <th>flee_Other</th>\n",
       "      <th>prediction</th>\n",
       "      <th>match</th>\n",
       "    </tr>\n",
       "  </thead>\n",
       "  <tbody>\n",
       "    <tr>\n",
       "      <th>0</th>\n",
       "      <td>53.0</td>\n",
       "      <td>A</td>\n",
       "      <td>True</td>\n",
       "      <td>False</td>\n",
       "      <td>True</td>\n",
       "      <td>False</td>\n",
       "      <td>False</td>\n",
       "      <td>False</td>\n",
       "      <td>False</td>\n",
       "      <td>False</td>\n",
       "      <td>...</td>\n",
       "      <td>0</td>\n",
       "      <td>1</td>\n",
       "      <td>0</td>\n",
       "      <td>0</td>\n",
       "      <td>0</td>\n",
       "      <td>0</td>\n",
       "      <td>1</td>\n",
       "      <td>0</td>\n",
       "      <td>W</td>\n",
       "      <td>False</td>\n",
       "    </tr>\n",
       "    <tr>\n",
       "      <th>1</th>\n",
       "      <td>47.0</td>\n",
       "      <td>W</td>\n",
       "      <td>False</td>\n",
       "      <td>False</td>\n",
       "      <td>True</td>\n",
       "      <td>False</td>\n",
       "      <td>False</td>\n",
       "      <td>False</td>\n",
       "      <td>False</td>\n",
       "      <td>False</td>\n",
       "      <td>...</td>\n",
       "      <td>0</td>\n",
       "      <td>1</td>\n",
       "      <td>0</td>\n",
       "      <td>0</td>\n",
       "      <td>0</td>\n",
       "      <td>0</td>\n",
       "      <td>1</td>\n",
       "      <td>0</td>\n",
       "      <td>W</td>\n",
       "      <td>True</td>\n",
       "    </tr>\n",
       "    <tr>\n",
       "      <th>2</th>\n",
       "      <td>23.0</td>\n",
       "      <td>H</td>\n",
       "      <td>False</td>\n",
       "      <td>False</td>\n",
       "      <td>False</td>\n",
       "      <td>False</td>\n",
       "      <td>False</td>\n",
       "      <td>False</td>\n",
       "      <td>True</td>\n",
       "      <td>False</td>\n",
       "      <td>...</td>\n",
       "      <td>1</td>\n",
       "      <td>0</td>\n",
       "      <td>1</td>\n",
       "      <td>0</td>\n",
       "      <td>0</td>\n",
       "      <td>0</td>\n",
       "      <td>1</td>\n",
       "      <td>0</td>\n",
       "      <td>B</td>\n",
       "      <td>False</td>\n",
       "    </tr>\n",
       "    <tr>\n",
       "      <th>3</th>\n",
       "      <td>32.0</td>\n",
       "      <td>W</td>\n",
       "      <td>True</td>\n",
       "      <td>False</td>\n",
       "      <td>False</td>\n",
       "      <td>False</td>\n",
       "      <td>False</td>\n",
       "      <td>False</td>\n",
       "      <td>False</td>\n",
       "      <td>True</td>\n",
       "      <td>...</td>\n",
       "      <td>0</td>\n",
       "      <td>1</td>\n",
       "      <td>0</td>\n",
       "      <td>0</td>\n",
       "      <td>0</td>\n",
       "      <td>0</td>\n",
       "      <td>1</td>\n",
       "      <td>0</td>\n",
       "      <td>W</td>\n",
       "      <td>True</td>\n",
       "    </tr>\n",
       "    <tr>\n",
       "      <th>4</th>\n",
       "      <td>39.0</td>\n",
       "      <td>H</td>\n",
       "      <td>False</td>\n",
       "      <td>False</td>\n",
       "      <td>True</td>\n",
       "      <td>False</td>\n",
       "      <td>False</td>\n",
       "      <td>False</td>\n",
       "      <td>False</td>\n",
       "      <td>False</td>\n",
       "      <td>...</td>\n",
       "      <td>0</td>\n",
       "      <td>1</td>\n",
       "      <td>0</td>\n",
       "      <td>0</td>\n",
       "      <td>0</td>\n",
       "      <td>0</td>\n",
       "      <td>1</td>\n",
       "      <td>0</td>\n",
       "      <td>W</td>\n",
       "      <td>False</td>\n",
       "    </tr>\n",
       "    <tr>\n",
       "      <th>...</th>\n",
       "      <td>...</td>\n",
       "      <td>...</td>\n",
       "      <td>...</td>\n",
       "      <td>...</td>\n",
       "      <td>...</td>\n",
       "      <td>...</td>\n",
       "      <td>...</td>\n",
       "      <td>...</td>\n",
       "      <td>...</td>\n",
       "      <td>...</td>\n",
       "      <td>...</td>\n",
       "      <td>...</td>\n",
       "      <td>...</td>\n",
       "      <td>...</td>\n",
       "      <td>...</td>\n",
       "      <td>...</td>\n",
       "      <td>...</td>\n",
       "      <td>...</td>\n",
       "      <td>...</td>\n",
       "      <td>...</td>\n",
       "      <td>...</td>\n",
       "    </tr>\n",
       "    <tr>\n",
       "      <th>5415</th>\n",
       "      <td>31.0</td>\n",
       "      <td>W</td>\n",
       "      <td>False</td>\n",
       "      <td>False</td>\n",
       "      <td>True</td>\n",
       "      <td>False</td>\n",
       "      <td>False</td>\n",
       "      <td>False</td>\n",
       "      <td>False</td>\n",
       "      <td>False</td>\n",
       "      <td>...</td>\n",
       "      <td>0</td>\n",
       "      <td>1</td>\n",
       "      <td>0</td>\n",
       "      <td>0</td>\n",
       "      <td>1</td>\n",
       "      <td>0</td>\n",
       "      <td>0</td>\n",
       "      <td>0</td>\n",
       "      <td>W</td>\n",
       "      <td>True</td>\n",
       "    </tr>\n",
       "    <tr>\n",
       "      <th>5418</th>\n",
       "      <td>31.0</td>\n",
       "      <td>B</td>\n",
       "      <td>False</td>\n",
       "      <td>False</td>\n",
       "      <td>True</td>\n",
       "      <td>False</td>\n",
       "      <td>False</td>\n",
       "      <td>False</td>\n",
       "      <td>False</td>\n",
       "      <td>False</td>\n",
       "      <td>...</td>\n",
       "      <td>0</td>\n",
       "      <td>1</td>\n",
       "      <td>0</td>\n",
       "      <td>0</td>\n",
       "      <td>0</td>\n",
       "      <td>0</td>\n",
       "      <td>1</td>\n",
       "      <td>0</td>\n",
       "      <td>W</td>\n",
       "      <td>False</td>\n",
       "    </tr>\n",
       "    <tr>\n",
       "      <th>5420</th>\n",
       "      <td>38.0</td>\n",
       "      <td>W</td>\n",
       "      <td>False</td>\n",
       "      <td>False</td>\n",
       "      <td>True</td>\n",
       "      <td>False</td>\n",
       "      <td>False</td>\n",
       "      <td>False</td>\n",
       "      <td>False</td>\n",
       "      <td>False</td>\n",
       "      <td>...</td>\n",
       "      <td>0</td>\n",
       "      <td>0</td>\n",
       "      <td>1</td>\n",
       "      <td>0</td>\n",
       "      <td>0</td>\n",
       "      <td>0</td>\n",
       "      <td>1</td>\n",
       "      <td>0</td>\n",
       "      <td>W</td>\n",
       "      <td>True</td>\n",
       "    </tr>\n",
       "    <tr>\n",
       "      <th>5422</th>\n",
       "      <td>18.0</td>\n",
       "      <td>H</td>\n",
       "      <td>False</td>\n",
       "      <td>False</td>\n",
       "      <td>True</td>\n",
       "      <td>False</td>\n",
       "      <td>False</td>\n",
       "      <td>False</td>\n",
       "      <td>False</td>\n",
       "      <td>False</td>\n",
       "      <td>...</td>\n",
       "      <td>0</td>\n",
       "      <td>0</td>\n",
       "      <td>1</td>\n",
       "      <td>0</td>\n",
       "      <td>0</td>\n",
       "      <td>1</td>\n",
       "      <td>0</td>\n",
       "      <td>0</td>\n",
       "      <td>B</td>\n",
       "      <td>False</td>\n",
       "    </tr>\n",
       "    <tr>\n",
       "      <th>5424</th>\n",
       "      <td>24.0</td>\n",
       "      <td>W</td>\n",
       "      <td>False</td>\n",
       "      <td>True</td>\n",
       "      <td>True</td>\n",
       "      <td>False</td>\n",
       "      <td>False</td>\n",
       "      <td>False</td>\n",
       "      <td>False</td>\n",
       "      <td>False</td>\n",
       "      <td>...</td>\n",
       "      <td>0</td>\n",
       "      <td>1</td>\n",
       "      <td>0</td>\n",
       "      <td>0</td>\n",
       "      <td>0</td>\n",
       "      <td>0</td>\n",
       "      <td>1</td>\n",
       "      <td>0</td>\n",
       "      <td>B</td>\n",
       "      <td>False</td>\n",
       "    </tr>\n",
       "  </tbody>\n",
       "</table>\n",
       "<p>4394 rows × 23 columns</p>\n",
       "</div>"
      ],
      "text/plain": [
       "       age race  signs_of_mental_illness  body_camera  armed_gun  \\\n",
       "0     53.0    A                     True        False       True   \n",
       "1     47.0    W                    False        False       True   \n",
       "2     23.0    H                    False        False      False   \n",
       "3     32.0    W                     True        False      False   \n",
       "4     39.0    H                    False        False       True   \n",
       "...    ...  ...                      ...          ...        ...   \n",
       "5415  31.0    W                    False        False       True   \n",
       "5418  31.0    B                    False        False       True   \n",
       "5420  38.0    W                    False        False       True   \n",
       "5422  18.0    H                    False        False       True   \n",
       "5424  24.0    W                    False         True       True   \n",
       "\n",
       "      armed_vehicle  armed_knife  armed_unknown  unarmed  \\\n",
       "0             False        False          False    False   \n",
       "1             False        False          False    False   \n",
       "2             False        False          False     True   \n",
       "3             False        False          False    False   \n",
       "4             False        False          False    False   \n",
       "...             ...          ...            ...      ...   \n",
       "5415          False        False          False    False   \n",
       "5418          False        False          False    False   \n",
       "5420          False        False          False    False   \n",
       "5422          False        False          False    False   \n",
       "5424          False        False          False    False   \n",
       "\n",
       "      untraditional_weapon  ...  manner_of_death_shot and Tasered  \\\n",
       "0                    False  ...                                 0   \n",
       "1                    False  ...                                 0   \n",
       "2                    False  ...                                 1   \n",
       "3                     True  ...                                 0   \n",
       "4                    False  ...                                 0   \n",
       "...                    ...  ...                               ...   \n",
       "5415                 False  ...                                 0   \n",
       "5418                 False  ...                                 0   \n",
       "5420                 False  ...                                 0   \n",
       "5422                 False  ...                                 0   \n",
       "5424                 False  ...                                 0   \n",
       "\n",
       "      threat_level_attack  threat_level_other  threat_level_undetermined  \\\n",
       "0                       1                   0                          0   \n",
       "1                       1                   0                          0   \n",
       "2                       0                   1                          0   \n",
       "3                       1                   0                          0   \n",
       "4                       1                   0                          0   \n",
       "...                   ...                 ...                        ...   \n",
       "5415                    1                   0                          0   \n",
       "5418                    1                   0                          0   \n",
       "5420                    0                   1                          0   \n",
       "5422                    0                   1                          0   \n",
       "5424                    1                   0                          0   \n",
       "\n",
       "      flee_Car  flee_Foot  flee_Not fleeing  flee_Other  prediction  match  \n",
       "0            0          0                 1           0           W  False  \n",
       "1            0          0                 1           0           W   True  \n",
       "2            0          0                 1           0           B  False  \n",
       "3            0          0                 1           0           W   True  \n",
       "4            0          0                 1           0           W  False  \n",
       "...        ...        ...               ...         ...         ...    ...  \n",
       "5415         1          0                 0           0           W   True  \n",
       "5418         0          0                 1           0           W  False  \n",
       "5420         0          0                 1           0           W   True  \n",
       "5422         0          1                 0           0           B  False  \n",
       "5424         0          0                 1           0           B  False  \n",
       "\n",
       "[4394 rows x 23 columns]"
      ]
     },
     "execution_count": 31,
     "metadata": {},
     "output_type": "execute_result"
    }
   ],
   "source": [
    "w"
   ]
  },
  {
   "cell_type": "markdown",
   "metadata": {},
   "source": [
    "# MODEL 2, One-Hot Encoded Age Groups, to see if this improves accuracy"
   ]
  },
  {
   "cell_type": "code",
   "execution_count": 32,
   "metadata": {},
   "outputs": [],
   "source": [
    "df = w.drop(['prediction','match'],axis=1)\n",
    "df['0_to_10'] = df.age <= 0\n",
    "df['11_to_20'] = (df.age>10)&(df.age<21)\n",
    "df['21_to_30'] = (df.age>20)&(df.age<31)\n",
    "df['31_to_40'] = (df.age>30)&(df.age<41)\n",
    "df['41_to_50'] = (df.age>40)&(df.age<51)\n",
    "df['51_to_60'] = (df.age>50)&(df.age<61)\n",
    "df['61_to_70'] = (df.age>60)&(df.age<71)\n",
    "df['71_to_80'] = (df.age>70)&(df.age<81)\n",
    "df['81_to_90'] = (df.age>80)&(df.age<91)\n",
    "df=df.drop('age',axis=1)"
   ]
  },
  {
   "cell_type": "code",
   "execution_count": 33,
   "metadata": {},
   "outputs": [
    {
     "data": {
      "text/plain": [
       "Index(['race', 'signs_of_mental_illness', 'body_camera', 'armed_gun',\n",
       "       'armed_vehicle', 'armed_knife', 'armed_unknown', 'unarmed',\n",
       "       'untraditional_weapon', 'gender_F', 'gender_M', 'manner_of_death_shot',\n",
       "       'manner_of_death_shot and Tasered', 'threat_level_attack',\n",
       "       'threat_level_other', 'threat_level_undetermined', 'flee_Car',\n",
       "       'flee_Foot', 'flee_Not fleeing', 'flee_Other', '0_to_10', '11_to_20',\n",
       "       '21_to_30', '31_to_40', '41_to_50', '51_to_60', '61_to_70', '71_to_80',\n",
       "       '81_to_90'],\n",
       "      dtype='object')"
      ]
     },
     "execution_count": 33,
     "metadata": {},
     "output_type": "execute_result"
    }
   ],
   "source": [
    "df.columns"
   ]
  },
  {
   "cell_type": "code",
   "execution_count": 34,
   "metadata": {},
   "outputs": [],
   "source": [
    "sf2 = turicreate.SFrame(df)"
   ]
  },
  {
   "cell_type": "code",
   "execution_count": 35,
   "metadata": {},
   "outputs": [],
   "source": [
    "feats = [\n",
    "'0_to_10', \n",
    "'11_to_20',\n",
    "'21_to_30', \n",
    "'31_to_40', \n",
    "'41_to_50', \n",
    "'51_to_60', \n",
    "'61_to_70', \n",
    "'71_to_80',\n",
    "'81_to_90',\n",
    " 'signs_of_mental_illness',\n",
    " 'body_camera',\n",
    " 'armed_gun',\n",
    " 'armed_vehicle',\n",
    " 'armed_knife',\n",
    " 'armed_unknown',\n",
    " 'unarmed',\n",
    " 'untraditional_weapon',\n",
    " 'gender_F',\n",
    " 'gender_M',\n",
    " 'manner_of_death_shot',\n",
    " 'manner_of_death_shot and Tasered',\n",
    " 'threat_level_attack',\n",
    " 'threat_level_other',\n",
    " 'threat_level_undetermined',\n",
    " 'flee_Car',\n",
    " 'flee_Foot',\n",
    " 'flee_Not fleeing',\n",
    " 'flee_Other']"
   ]
  },
  {
   "cell_type": "code",
   "execution_count": 36,
   "metadata": {},
   "outputs": [
    {
     "data": {
      "text/html": [
       "<pre>Logistic regression:</pre>"
      ],
      "text/plain": [
       "Logistic regression:"
      ]
     },
     "metadata": {},
     "output_type": "display_data"
    },
    {
     "data": {
      "text/html": [
       "<pre>--------------------------------------------------------</pre>"
      ],
      "text/plain": [
       "--------------------------------------------------------"
      ]
     },
     "metadata": {},
     "output_type": "display_data"
    },
    {
     "data": {
      "text/html": [
       "<pre>Number of examples          : 3527</pre>"
      ],
      "text/plain": [
       "Number of examples          : 3527"
      ]
     },
     "metadata": {},
     "output_type": "display_data"
    },
    {
     "data": {
      "text/html": [
       "<pre>Number of classes           : 6</pre>"
      ],
      "text/plain": [
       "Number of classes           : 6"
      ]
     },
     "metadata": {},
     "output_type": "display_data"
    },
    {
     "data": {
      "text/html": [
       "<pre>Number of feature columns   : 28</pre>"
      ],
      "text/plain": [
       "Number of feature columns   : 28"
      ]
     },
     "metadata": {},
     "output_type": "display_data"
    },
    {
     "data": {
      "text/html": [
       "<pre>Number of unpacked features : 28</pre>"
      ],
      "text/plain": [
       "Number of unpacked features : 28"
      ]
     },
     "metadata": {},
     "output_type": "display_data"
    },
    {
     "data": {
      "text/html": [
       "<pre>Number of coefficients      : 145</pre>"
      ],
      "text/plain": [
       "Number of coefficients      : 145"
      ]
     },
     "metadata": {},
     "output_type": "display_data"
    },
    {
     "data": {
      "text/html": [
       "<pre>Starting Newton Method</pre>"
      ],
      "text/plain": [
       "Starting Newton Method"
      ]
     },
     "metadata": {},
     "output_type": "display_data"
    },
    {
     "data": {
      "text/html": [
       "<pre>--------------------------------------------------------</pre>"
      ],
      "text/plain": [
       "--------------------------------------------------------"
      ]
     },
     "metadata": {},
     "output_type": "display_data"
    },
    {
     "data": {
      "text/html": [
       "<pre>+-----------+----------+--------------+-------------------+---------------------+</pre>"
      ],
      "text/plain": [
       "+-----------+----------+--------------+-------------------+---------------------+"
      ]
     },
     "metadata": {},
     "output_type": "display_data"
    },
    {
     "data": {
      "text/html": [
       "<pre>| Iteration | Passes   | Elapsed Time | Training Accuracy | Validation Accuracy |</pre>"
      ],
      "text/plain": [
       "| Iteration | Passes   | Elapsed Time | Training Accuracy | Validation Accuracy |"
      ]
     },
     "metadata": {},
     "output_type": "display_data"
    },
    {
     "data": {
      "text/html": [
       "<pre>+-----------+----------+--------------+-------------------+---------------------+</pre>"
      ],
      "text/plain": [
       "+-----------+----------+--------------+-------------------+---------------------+"
      ]
     },
     "metadata": {},
     "output_type": "display_data"
    },
    {
     "data": {
      "text/html": [
       "<pre>| 1         | 2        | 0.261272     | 0.533314          | 0.547866            |</pre>"
      ],
      "text/plain": [
       "| 1         | 2        | 0.261272     | 0.533314          | 0.547866            |"
      ]
     },
     "metadata": {},
     "output_type": "display_data"
    },
    {
     "data": {
      "text/html": [
       "<pre>| 2         | 3        | 0.377510     | 0.469804          | 0.494810            |</pre>"
      ],
      "text/plain": [
       "| 2         | 3        | 0.377510     | 0.469804          | 0.494810            |"
      ]
     },
     "metadata": {},
     "output_type": "display_data"
    },
    {
     "data": {
      "text/html": [
       "<pre>| 3         | 4        | 0.459938     | 0.533598          | 0.546713            |</pre>"
      ],
      "text/plain": [
       "| 3         | 4        | 0.459938     | 0.533598          | 0.546713            |"
      ]
     },
     "metadata": {},
     "output_type": "display_data"
    },
    {
     "data": {
      "text/html": [
       "<pre>| 4         | 5        | 0.541429     | 0.527077          | 0.538639            |</pre>"
      ],
      "text/plain": [
       "| 4         | 5        | 0.541429     | 0.527077          | 0.538639            |"
      ]
     },
     "metadata": {},
     "output_type": "display_data"
    },
    {
     "data": {
      "text/html": [
       "<pre>+-----------+----------+--------------+-------------------+---------------------+</pre>"
      ],
      "text/plain": [
       "+-----------+----------+--------------+-------------------+---------------------+"
      ]
     },
     "metadata": {},
     "output_type": "display_data"
    },
    {
     "data": {
      "text/html": [
       "<pre>TERMINATED: Terminated due to numerical difficulties.</pre>"
      ],
      "text/plain": [
       "TERMINATED: Terminated due to numerical difficulties."
      ]
     },
     "metadata": {},
     "output_type": "display_data"
    },
    {
     "data": {
      "text/html": [
       "<pre>This model may not be ideal. To improve it, consider doing one of the following:\n",
       "(a) Increasing the regularization.\n",
       "(b) Standardizing the input data.\n",
       "(c) Removing highly correlated features.\n",
       "(d) Removing `inf` and `NaN` values in the training data.</pre>"
      ],
      "text/plain": [
       "This model may not be ideal. To improve it, consider doing one of the following:\n",
       "(a) Increasing the regularization.\n",
       "(b) Standardizing the input data.\n",
       "(c) Removing highly correlated features.\n",
       "(d) Removing `inf` and `NaN` values in the training data."
      ]
     },
     "metadata": {},
     "output_type": "display_data"
    }
   ],
   "source": [
    "train_data,test_data = sf2.random_split(.8,seed=0)\n",
    "race_model2 = turicreate.logistic_classifier.create(train_data,target='race', features=feats, validation_set=test_data)"
   ]
  },
  {
   "cell_type": "markdown",
   "metadata": {},
   "source": [
    "### Accuracy decreased a little"
   ]
  },
  {
   "cell_type": "code",
   "execution_count": 37,
   "metadata": {},
   "outputs": [
    {
     "data": {
      "text/plain": [
       "{'roc_curve': Columns:\n",
       " \tthreshold\tfloat\n",
       " \tfpr\tfloat\n",
       " \ttpr\tfloat\n",
       " \tp\tint\n",
       " \tn\tint\n",
       " \tclass\tint\n",
       " \n",
       " Rows: 600006\n",
       " \n",
       " Data:\n",
       " +-----------+--------------------+-----+----+-----+-------+\n",
       " | threshold |        fpr         | tpr | p  |  n  | class |\n",
       " +-----------+--------------------+-----+----+-----+-------+\n",
       " |    0.0    |        1.0         | 1.0 | 14 | 853 |   0   |\n",
       " |   1e-05   | 0.9859320046893317 | 1.0 | 14 | 853 |   0   |\n",
       " |   2e-05   | 0.9859320046893317 | 1.0 | 14 | 853 |   0   |\n",
       " |   3e-05   | 0.9835873388042204 | 1.0 | 14 | 853 |   0   |\n",
       " |   4e-05   | 0.9835873388042204 | 1.0 | 14 | 853 |   0   |\n",
       " |   5e-05   | 0.9835873388042204 | 1.0 | 14 | 853 |   0   |\n",
       " |   6e-05   | 0.9835873388042204 | 1.0 | 14 | 853 |   0   |\n",
       " |   7e-05   | 0.9835873388042204 | 1.0 | 14 | 853 |   0   |\n",
       " |   8e-05   | 0.9835873388042204 | 1.0 | 14 | 853 |   0   |\n",
       " |   9e-05   | 0.9835873388042204 | 1.0 | 14 | 853 |   0   |\n",
       " +-----------+--------------------+-----+----+-----+-------+\n",
       " [600006 rows x 6 columns]\n",
       " Note: Only the head of the SFrame is printed.\n",
       " You can use print_rows(num_rows=m, num_columns=n) to print more rows and columns.}"
      ]
     },
     "execution_count": 37,
     "metadata": {},
     "output_type": "execute_result"
    }
   ],
   "source": [
    "race_model2.evaluate(test_data, metric='roc_curve')"
   ]
  },
  {
   "cell_type": "markdown",
   "metadata": {},
   "source": [
    "# MODEL 3, remove all entries who are Asians / NatAms / Other, Keeping New Age-Group Columns"
   ]
  },
  {
   "cell_type": "code",
   "execution_count": 38,
   "metadata": {},
   "outputs": [],
   "source": [
    "mask = df['race'].str.contains('A|O|N')\n",
    "sf3 = turicreate.SFrame(df[~mask])"
   ]
  },
  {
   "cell_type": "code",
   "execution_count": 39,
   "metadata": {},
   "outputs": [
    {
     "data": {
      "text/html": [
       "<pre>Logistic regression:</pre>"
      ],
      "text/plain": [
       "Logistic regression:"
      ]
     },
     "metadata": {},
     "output_type": "display_data"
    },
    {
     "data": {
      "text/html": [
       "<pre>--------------------------------------------------------</pre>"
      ],
      "text/plain": [
       "--------------------------------------------------------"
      ]
     },
     "metadata": {},
     "output_type": "display_data"
    },
    {
     "data": {
      "text/html": [
       "<pre>Number of examples          : 3360</pre>"
      ],
      "text/plain": [
       "Number of examples          : 3360"
      ]
     },
     "metadata": {},
     "output_type": "display_data"
    },
    {
     "data": {
      "text/html": [
       "<pre>Number of classes           : 3</pre>"
      ],
      "text/plain": [
       "Number of classes           : 3"
      ]
     },
     "metadata": {},
     "output_type": "display_data"
    },
    {
     "data": {
      "text/html": [
       "<pre>Number of feature columns   : 28</pre>"
      ],
      "text/plain": [
       "Number of feature columns   : 28"
      ]
     },
     "metadata": {},
     "output_type": "display_data"
    },
    {
     "data": {
      "text/html": [
       "<pre>Number of unpacked features : 28</pre>"
      ],
      "text/plain": [
       "Number of unpacked features : 28"
      ]
     },
     "metadata": {},
     "output_type": "display_data"
    },
    {
     "data": {
      "text/html": [
       "<pre>Number of coefficients      : 58</pre>"
      ],
      "text/plain": [
       "Number of coefficients      : 58"
      ]
     },
     "metadata": {},
     "output_type": "display_data"
    },
    {
     "data": {
      "text/html": [
       "<pre>Starting Newton Method</pre>"
      ],
      "text/plain": [
       "Starting Newton Method"
      ]
     },
     "metadata": {},
     "output_type": "display_data"
    },
    {
     "data": {
      "text/html": [
       "<pre>--------------------------------------------------------</pre>"
      ],
      "text/plain": [
       "--------------------------------------------------------"
      ]
     },
     "metadata": {},
     "output_type": "display_data"
    },
    {
     "data": {
      "text/html": [
       "<pre>+-----------+----------+--------------+-------------------+---------------------+</pre>"
      ],
      "text/plain": [
       "+-----------+----------+--------------+-------------------+---------------------+"
      ]
     },
     "metadata": {},
     "output_type": "display_data"
    },
    {
     "data": {
      "text/html": [
       "<pre>| Iteration | Passes   | Elapsed Time | Training Accuracy | Validation Accuracy |</pre>"
      ],
      "text/plain": [
       "| Iteration | Passes   | Elapsed Time | Training Accuracy | Validation Accuracy |"
      ]
     },
     "metadata": {},
     "output_type": "display_data"
    },
    {
     "data": {
      "text/html": [
       "<pre>+-----------+----------+--------------+-------------------+---------------------+</pre>"
      ],
      "text/plain": [
       "+-----------+----------+--------------+-------------------+---------------------+"
      ]
     },
     "metadata": {},
     "output_type": "display_data"
    },
    {
     "data": {
      "text/html": [
       "<pre>| 1         | 2        | 0.074256     | 0.561905          | 0.575179            |</pre>"
      ],
      "text/plain": [
       "| 1         | 2        | 0.074256     | 0.561905          | 0.575179            |"
      ]
     },
     "metadata": {},
     "output_type": "display_data"
    },
    {
     "data": {
      "text/html": [
       "<pre>| 2         | 3        | 0.108219     | 0.558036          | 0.571599            |</pre>"
      ],
      "text/plain": [
       "| 2         | 3        | 0.108219     | 0.558036          | 0.571599            |"
      ]
     },
     "metadata": {},
     "output_type": "display_data"
    },
    {
     "data": {
      "text/html": [
       "<pre>| 3         | 4        | 0.136569     | 0.558333          | 0.571599            |</pre>"
      ],
      "text/plain": [
       "| 3         | 4        | 0.136569     | 0.558333          | 0.571599            |"
      ]
     },
     "metadata": {},
     "output_type": "display_data"
    },
    {
     "data": {
      "text/html": [
       "<pre>| 4         | 5        | 0.166201     | 0.558333          | 0.571599            |</pre>"
      ],
      "text/plain": [
       "| 4         | 5        | 0.166201     | 0.558333          | 0.571599            |"
      ]
     },
     "metadata": {},
     "output_type": "display_data"
    },
    {
     "data": {
      "text/html": [
       "<pre>| 5         | 6        | 0.194035     | 0.558333          | 0.571599            |</pre>"
      ],
      "text/plain": [
       "| 5         | 6        | 0.194035     | 0.558333          | 0.571599            |"
      ]
     },
     "metadata": {},
     "output_type": "display_data"
    },
    {
     "data": {
      "text/html": [
       "<pre>| 8         | 9        | 0.269423     | 0.558333          | 0.571599            |</pre>"
      ],
      "text/plain": [
       "| 8         | 9        | 0.269423     | 0.558333          | 0.571599            |"
      ]
     },
     "metadata": {},
     "output_type": "display_data"
    },
    {
     "data": {
      "text/html": [
       "<pre>+-----------+----------+--------------+-------------------+---------------------+</pre>"
      ],
      "text/plain": [
       "+-----------+----------+--------------+-------------------+---------------------+"
      ]
     },
     "metadata": {},
     "output_type": "display_data"
    },
    {
     "data": {
      "text/html": [
       "<pre>SUCCESS: Optimal solution found.</pre>"
      ],
      "text/plain": [
       "SUCCESS: Optimal solution found."
      ]
     },
     "metadata": {},
     "output_type": "display_data"
    },
    {
     "data": {
      "text/html": [
       "<pre></pre>"
      ],
      "text/plain": []
     },
     "metadata": {},
     "output_type": "display_data"
    }
   ],
   "source": [
    "train_data,test_data = sf3.random_split(.8,seed=0)\n",
    "race_model3 = turicreate.logistic_classifier.create(train_data,target='race', features=feats, validation_set=test_data)"
   ]
  },
  {
   "cell_type": "markdown",
   "metadata": {},
   "source": [
    "### Accuray increased a little, and surpassed Model 1"
   ]
  },
  {
   "cell_type": "code",
   "execution_count": 40,
   "metadata": {},
   "outputs": [
    {
     "data": {
      "text/plain": [
       "{'roc_curve': Columns:\n",
       " \tthreshold\tfloat\n",
       " \tfpr\tfloat\n",
       " \ttpr\tfloat\n",
       " \tp\tint\n",
       " \tn\tint\n",
       " \tclass\tint\n",
       " \n",
       " Rows: 300003\n",
       " \n",
       " Data:\n",
       " +-----------+--------------------+-----+-----+-----+-------+\n",
       " | threshold |        fpr         | tpr |  p  |  n  | class |\n",
       " +-----------+--------------------+-----+-----+-----+-------+\n",
       " |    0.0    |        1.0         | 1.0 | 232 | 606 |   0   |\n",
       " |   1e-05   |        1.0         | 1.0 | 232 | 606 |   0   |\n",
       " |   2e-05   |        1.0         | 1.0 | 232 | 606 |   0   |\n",
       " |   3e-05   | 0.9983498349834984 | 1.0 | 232 | 606 |   0   |\n",
       " |   4e-05   | 0.9983498349834984 | 1.0 | 232 | 606 |   0   |\n",
       " |   5e-05   | 0.9983498349834984 | 1.0 | 232 | 606 |   0   |\n",
       " |   6e-05   | 0.9983498349834984 | 1.0 | 232 | 606 |   0   |\n",
       " |   7e-05   | 0.9966996699669967 | 1.0 | 232 | 606 |   0   |\n",
       " |   8e-05   | 0.9966996699669967 | 1.0 | 232 | 606 |   0   |\n",
       " |   9e-05   | 0.9966996699669967 | 1.0 | 232 | 606 |   0   |\n",
       " +-----------+--------------------+-----+-----+-----+-------+\n",
       " [300003 rows x 6 columns]\n",
       " Note: Only the head of the SFrame is printed.\n",
       " You can use print_rows(num_rows=m, num_columns=n) to print more rows and columns.}"
      ]
     },
     "execution_count": 40,
     "metadata": {},
     "output_type": "execute_result"
    }
   ],
   "source": [
    "race_model3.evaluate(test_data, metric='roc_curve')"
   ]
  },
  {
   "cell_type": "markdown",
   "metadata": {},
   "source": [
    "# MODEL 4"
   ]
  },
  {
   "cell_type": "markdown",
   "metadata": {},
   "source": [
    "# Still only black, white and hispanic entries. But also removed age-group cols."
   ]
  },
  {
   "cell_type": "code",
   "execution_count": 41,
   "metadata": {},
   "outputs": [],
   "source": [
    "# sf was the original sframe\n",
    "feats = ['age',\n",
    " 'signs_of_mental_illness',\n",
    " 'body_camera',\n",
    " 'armed_gun',\n",
    " 'armed_vehicle',\n",
    " 'armed_knife',\n",
    " 'armed_unknown',\n",
    " 'unarmed',\n",
    " 'untraditional_weapon',\n",
    " 'gender_F',\n",
    " 'gender_M',\n",
    " 'manner_of_death_shot',\n",
    " 'manner_of_death_shot and Tasered',\n",
    " 'threat_level_attack',\n",
    " 'threat_level_other',\n",
    " 'threat_level_undetermined',\n",
    " 'flee_Car',\n",
    " 'flee_Foot',\n",
    " 'flee_Not fleeing',\n",
    " 'flee_Other']\n",
    "\n",
    "tempdf = sf.to_dataframe()\n",
    "mask = tempdf['race'].str.contains('A|O|N')\n",
    "sf4 = turicreate.SFrame(tempdf[~mask])"
   ]
  },
  {
   "cell_type": "code",
   "execution_count": 42,
   "metadata": {},
   "outputs": [
    {
     "data": {
      "text/html": [
       "<pre>Logistic regression:</pre>"
      ],
      "text/plain": [
       "Logistic regression:"
      ]
     },
     "metadata": {},
     "output_type": "display_data"
    },
    {
     "data": {
      "text/html": [
       "<pre>--------------------------------------------------------</pre>"
      ],
      "text/plain": [
       "--------------------------------------------------------"
      ]
     },
     "metadata": {},
     "output_type": "display_data"
    },
    {
     "data": {
      "text/html": [
       "<pre>Number of examples          : 3360</pre>"
      ],
      "text/plain": [
       "Number of examples          : 3360"
      ]
     },
     "metadata": {},
     "output_type": "display_data"
    },
    {
     "data": {
      "text/html": [
       "<pre>Number of classes           : 3</pre>"
      ],
      "text/plain": [
       "Number of classes           : 3"
      ]
     },
     "metadata": {},
     "output_type": "display_data"
    },
    {
     "data": {
      "text/html": [
       "<pre>Number of feature columns   : 20</pre>"
      ],
      "text/plain": [
       "Number of feature columns   : 20"
      ]
     },
     "metadata": {},
     "output_type": "display_data"
    },
    {
     "data": {
      "text/html": [
       "<pre>Number of unpacked features : 20</pre>"
      ],
      "text/plain": [
       "Number of unpacked features : 20"
      ]
     },
     "metadata": {},
     "output_type": "display_data"
    },
    {
     "data": {
      "text/html": [
       "<pre>Number of coefficients      : 42</pre>"
      ],
      "text/plain": [
       "Number of coefficients      : 42"
      ]
     },
     "metadata": {},
     "output_type": "display_data"
    },
    {
     "data": {
      "text/html": [
       "<pre>Starting Newton Method</pre>"
      ],
      "text/plain": [
       "Starting Newton Method"
      ]
     },
     "metadata": {},
     "output_type": "display_data"
    },
    {
     "data": {
      "text/html": [
       "<pre>--------------------------------------------------------</pre>"
      ],
      "text/plain": [
       "--------------------------------------------------------"
      ]
     },
     "metadata": {},
     "output_type": "display_data"
    },
    {
     "data": {
      "text/html": [
       "<pre>+-----------+----------+--------------+-------------------+---------------------+</pre>"
      ],
      "text/plain": [
       "+-----------+----------+--------------+-------------------+---------------------+"
      ]
     },
     "metadata": {},
     "output_type": "display_data"
    },
    {
     "data": {
      "text/html": [
       "<pre>| Iteration | Passes   | Elapsed Time | Training Accuracy | Validation Accuracy |</pre>"
      ],
      "text/plain": [
       "| Iteration | Passes   | Elapsed Time | Training Accuracy | Validation Accuracy |"
      ]
     },
     "metadata": {},
     "output_type": "display_data"
    },
    {
     "data": {
      "text/html": [
       "<pre>+-----------+----------+--------------+-------------------+---------------------+</pre>"
      ],
      "text/plain": [
       "+-----------+----------+--------------+-------------------+---------------------+"
      ]
     },
     "metadata": {},
     "output_type": "display_data"
    },
    {
     "data": {
      "text/html": [
       "<pre>| 1         | 2        | 0.023512     | 0.560714          | 0.576372            |</pre>"
      ],
      "text/plain": [
       "| 1         | 2        | 0.023512     | 0.560714          | 0.576372            |"
      ]
     },
     "metadata": {},
     "output_type": "display_data"
    },
    {
     "data": {
      "text/html": [
       "<pre>| 2         | 3        | 0.043007     | 0.565179          | 0.573986            |</pre>"
      ],
      "text/plain": [
       "| 2         | 3        | 0.043007     | 0.565179          | 0.573986            |"
      ]
     },
     "metadata": {},
     "output_type": "display_data"
    },
    {
     "data": {
      "text/html": [
       "<pre>| 3         | 4        | 0.063328     | 0.565179          | 0.573986            |</pre>"
      ],
      "text/plain": [
       "| 3         | 4        | 0.063328     | 0.565179          | 0.573986            |"
      ]
     },
     "metadata": {},
     "output_type": "display_data"
    },
    {
     "data": {
      "text/html": [
       "<pre>+-----------+----------+--------------+-------------------+---------------------+</pre>"
      ],
      "text/plain": [
       "+-----------+----------+--------------+-------------------+---------------------+"
      ]
     },
     "metadata": {},
     "output_type": "display_data"
    },
    {
     "data": {
      "text/html": [
       "<pre>SUCCESS: Optimal solution found.</pre>"
      ],
      "text/plain": [
       "SUCCESS: Optimal solution found."
      ]
     },
     "metadata": {},
     "output_type": "display_data"
    },
    {
     "data": {
      "text/html": [
       "<pre></pre>"
      ],
      "text/plain": []
     },
     "metadata": {},
     "output_type": "display_data"
    }
   ],
   "source": [
    "train_data,test_data = sf4.random_split(.8,seed=0)\n",
    "race_model4 = turicreate.logistic_classifier.create(train_data,target='race', features=feats, validation_set=test_data)"
   ]
  },
  {
   "cell_type": "markdown",
   "metadata": {},
   "source": [
    "### Accuracy increased a little. This is the highest of all models in this notebook."
   ]
  },
  {
   "cell_type": "code",
   "execution_count": 43,
   "metadata": {},
   "outputs": [
    {
     "data": {
      "text/plain": [
       "{'roc_curve': Columns:\n",
       " \tthreshold\tfloat\n",
       " \tfpr\tfloat\n",
       " \ttpr\tfloat\n",
       " \tp\tint\n",
       " \tn\tint\n",
       " \tclass\tint\n",
       " \n",
       " Rows: 300003\n",
       " \n",
       " Data:\n",
       " +-----------+-----+-----+-----+-----+-------+\n",
       " | threshold | fpr | tpr |  p  |  n  | class |\n",
       " +-----------+-----+-----+-----+-----+-------+\n",
       " |    0.0    | 1.0 | 1.0 | 232 | 606 |   0   |\n",
       " |   1e-05   | 1.0 | 1.0 | 232 | 606 |   0   |\n",
       " |   2e-05   | 1.0 | 1.0 | 232 | 606 |   0   |\n",
       " |   3e-05   | 1.0 | 1.0 | 232 | 606 |   0   |\n",
       " |   4e-05   | 1.0 | 1.0 | 232 | 606 |   0   |\n",
       " |   5e-05   | 1.0 | 1.0 | 232 | 606 |   0   |\n",
       " |   6e-05   | 1.0 | 1.0 | 232 | 606 |   0   |\n",
       " |   7e-05   | 1.0 | 1.0 | 232 | 606 |   0   |\n",
       " |   8e-05   | 1.0 | 1.0 | 232 | 606 |   0   |\n",
       " |   9e-05   | 1.0 | 1.0 | 232 | 606 |   0   |\n",
       " +-----------+-----+-----+-----+-----+-------+\n",
       " [300003 rows x 6 columns]\n",
       " Note: Only the head of the SFrame is printed.\n",
       " You can use print_rows(num_rows=m, num_columns=n) to print more rows and columns.}"
      ]
     },
     "execution_count": 43,
     "metadata": {},
     "output_type": "execute_result"
    }
   ],
   "source": [
    "race_model4.evaluate(test_data, metric='roc_curve')"
   ]
  },
  {
   "cell_type": "code",
   "execution_count": null,
   "metadata": {},
   "outputs": [],
   "source": []
  }
 ],
 "metadata": {
  "kernelspec": {
   "display_name": "Python 3",
   "language": "python",
   "name": "python3"
  },
  "language_info": {
   "codemirror_mode": {
    "name": "ipython",
    "version": 3
   },
   "file_extension": ".py",
   "mimetype": "text/x-python",
   "name": "python",
   "nbconvert_exporter": "python",
   "pygments_lexer": "ipython3",
   "version": "3.7.7"
  }
 },
 "nbformat": 4,
 "nbformat_minor": 4
}
