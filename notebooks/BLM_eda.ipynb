{
 "cells": [
  {
   "cell_type": "markdown",
   "metadata": {},
   "source": [
    "# Exploratory Data Analysis \n",
    "### a) Build data profile table and plots i) Outliers and Anamolies\n",
    "### b) Explore data relationships\n",
    "### c) Identificationand creation of features"
   ]
  },
  {
   "cell_type": "code",
   "execution_count": 4,
   "metadata": {},
   "outputs": [],
   "source": [
    "import os\n",
    "import pandas as pd\n",
    "import numpy as np\n",
    "import seaborn as sns\n",
    "import matplotlib.pyplot as plt\n",
    "import datetime\n",
    "%matplotlib inline\n",
    "\n",
    "# cntl ? makes something a comment\n",
    "# esc - shift R enter runs all above\n",
    "#esc cmd shift R runs all cells\n",
    "# esc 1, 2, 3, 4, 5 makes something a kind of header\n",
    "# esc X cuts a cell"
   ]
  },
  {
   "cell_type": "code",
   "execution_count": 5,
   "metadata": {},
   "outputs": [
    {
     "data": {
      "text/plain": [
       "'/Users/Livi/Projects/blm/capcookie/notebooks'"
      ]
     },
     "execution_count": 5,
     "metadata": {},
     "output_type": "execute_result"
    }
   ],
   "source": [
    "os.getcwd()"
   ]
  },
  {
   "cell_type": "code",
   "execution_count": 6,
   "metadata": {},
   "outputs": [
    {
     "data": {
      "text/html": [
       "<div>\n",
       "<style scoped>\n",
       "    .dataframe tbody tr th:only-of-type {\n",
       "        vertical-align: middle;\n",
       "    }\n",
       "\n",
       "    .dataframe tbody tr th {\n",
       "        vertical-align: top;\n",
       "    }\n",
       "\n",
       "    .dataframe thead th {\n",
       "        text-align: right;\n",
       "    }\n",
       "</style>\n",
       "<table border=\"1\" class=\"dataframe\">\n",
       "  <thead>\n",
       "    <tr style=\"text-align: right;\">\n",
       "      <th></th>\n",
       "      <th>id</th>\n",
       "      <th>name</th>\n",
       "      <th>date</th>\n",
       "      <th>manner_of_death</th>\n",
       "      <th>armed</th>\n",
       "      <th>age</th>\n",
       "      <th>gender</th>\n",
       "      <th>race</th>\n",
       "      <th>city</th>\n",
       "      <th>state</th>\n",
       "      <th>signs_of_mental_illness</th>\n",
       "      <th>threat_level</th>\n",
       "      <th>flee</th>\n",
       "      <th>body_camera</th>\n",
       "    </tr>\n",
       "  </thead>\n",
       "  <tbody>\n",
       "    <tr>\n",
       "      <th>0</th>\n",
       "      <td>3</td>\n",
       "      <td>Tim Elliot</td>\n",
       "      <td>2015-01-02</td>\n",
       "      <td>shot</td>\n",
       "      <td>gun</td>\n",
       "      <td>53.0</td>\n",
       "      <td>M</td>\n",
       "      <td>A</td>\n",
       "      <td>Shelton</td>\n",
       "      <td>WA</td>\n",
       "      <td>True</td>\n",
       "      <td>attack</td>\n",
       "      <td>Not fleeing</td>\n",
       "      <td>False</td>\n",
       "    </tr>\n",
       "    <tr>\n",
       "      <th>1</th>\n",
       "      <td>4</td>\n",
       "      <td>Lewis Lee Lembke</td>\n",
       "      <td>2015-01-02</td>\n",
       "      <td>shot</td>\n",
       "      <td>gun</td>\n",
       "      <td>47.0</td>\n",
       "      <td>M</td>\n",
       "      <td>W</td>\n",
       "      <td>Aloha</td>\n",
       "      <td>OR</td>\n",
       "      <td>False</td>\n",
       "      <td>attack</td>\n",
       "      <td>Not fleeing</td>\n",
       "      <td>False</td>\n",
       "    </tr>\n",
       "    <tr>\n",
       "      <th>2</th>\n",
       "      <td>5</td>\n",
       "      <td>John Paul Quintero</td>\n",
       "      <td>2015-01-03</td>\n",
       "      <td>shot and Tasered</td>\n",
       "      <td>unarmed</td>\n",
       "      <td>23.0</td>\n",
       "      <td>M</td>\n",
       "      <td>H</td>\n",
       "      <td>Wichita</td>\n",
       "      <td>KS</td>\n",
       "      <td>False</td>\n",
       "      <td>other</td>\n",
       "      <td>Not fleeing</td>\n",
       "      <td>False</td>\n",
       "    </tr>\n",
       "    <tr>\n",
       "      <th>3</th>\n",
       "      <td>8</td>\n",
       "      <td>Matthew Hoffman</td>\n",
       "      <td>2015-01-04</td>\n",
       "      <td>shot</td>\n",
       "      <td>toy weapon</td>\n",
       "      <td>32.0</td>\n",
       "      <td>M</td>\n",
       "      <td>W</td>\n",
       "      <td>San Francisco</td>\n",
       "      <td>CA</td>\n",
       "      <td>True</td>\n",
       "      <td>attack</td>\n",
       "      <td>Not fleeing</td>\n",
       "      <td>False</td>\n",
       "    </tr>\n",
       "    <tr>\n",
       "      <th>4</th>\n",
       "      <td>9</td>\n",
       "      <td>Michael Rodriguez</td>\n",
       "      <td>2015-01-04</td>\n",
       "      <td>shot</td>\n",
       "      <td>nail gun</td>\n",
       "      <td>39.0</td>\n",
       "      <td>M</td>\n",
       "      <td>H</td>\n",
       "      <td>Evans</td>\n",
       "      <td>CO</td>\n",
       "      <td>False</td>\n",
       "      <td>attack</td>\n",
       "      <td>Not fleeing</td>\n",
       "      <td>False</td>\n",
       "    </tr>\n",
       "  </tbody>\n",
       "</table>\n",
       "</div>"
      ],
      "text/plain": [
       "   id                name        date   manner_of_death       armed   age  \\\n",
       "0   3          Tim Elliot  2015-01-02              shot         gun  53.0   \n",
       "1   4    Lewis Lee Lembke  2015-01-02              shot         gun  47.0   \n",
       "2   5  John Paul Quintero  2015-01-03  shot and Tasered     unarmed  23.0   \n",
       "3   8     Matthew Hoffman  2015-01-04              shot  toy weapon  32.0   \n",
       "4   9   Michael Rodriguez  2015-01-04              shot    nail gun  39.0   \n",
       "\n",
       "  gender race           city state  signs_of_mental_illness threat_level  \\\n",
       "0      M    A        Shelton    WA                     True       attack   \n",
       "1      M    W          Aloha    OR                    False       attack   \n",
       "2      M    H        Wichita    KS                    False        other   \n",
       "3      M    W  San Francisco    CA                     True       attack   \n",
       "4      M    H          Evans    CO                    False       attack   \n",
       "\n",
       "          flee  body_camera  \n",
       "0  Not fleeing        False  \n",
       "1  Not fleeing        False  \n",
       "2  Not fleeing        False  \n",
       "3  Not fleeing        False  \n",
       "4  Not fleeing        False  "
      ]
     },
     "execution_count": 6,
     "metadata": {},
     "output_type": "execute_result"
    }
   ],
   "source": [
    "df = pd.read_csv('/Users/Livi/Projects/blm/capcookie/data/interim/fatalwrangling.csv', index_col=0)\n",
    "df.head()"
   ]
  },
  {
   "cell_type": "markdown",
   "metadata": {},
   "source": [
    "# Should I have dropped the 'id' column in Wrangling? Does it matter?"
   ]
  },
  {
   "cell_type": "code",
   "execution_count": 7,
   "metadata": {},
   "outputs": [],
   "source": [
    "df.drop(columns='id', inplace=True)"
   ]
  },
  {
   "cell_type": "code",
   "execution_count": 8,
   "metadata": {},
   "outputs": [
    {
     "data": {
      "text/html": [
       "<div>\n",
       "<style scoped>\n",
       "    .dataframe tbody tr th:only-of-type {\n",
       "        vertical-align: middle;\n",
       "    }\n",
       "\n",
       "    .dataframe tbody tr th {\n",
       "        vertical-align: top;\n",
       "    }\n",
       "\n",
       "    .dataframe thead th {\n",
       "        text-align: right;\n",
       "    }\n",
       "</style>\n",
       "<table border=\"1\" class=\"dataframe\">\n",
       "  <thead>\n",
       "    <tr style=\"text-align: right;\">\n",
       "      <th></th>\n",
       "      <th>name</th>\n",
       "      <th>date</th>\n",
       "      <th>manner_of_death</th>\n",
       "      <th>armed</th>\n",
       "      <th>age</th>\n",
       "      <th>gender</th>\n",
       "      <th>race</th>\n",
       "      <th>city</th>\n",
       "      <th>state</th>\n",
       "      <th>signs_of_mental_illness</th>\n",
       "      <th>threat_level</th>\n",
       "      <th>flee</th>\n",
       "      <th>body_camera</th>\n",
       "    </tr>\n",
       "  </thead>\n",
       "  <tbody>\n",
       "    <tr>\n",
       "      <th>0</th>\n",
       "      <td>Tim Elliot</td>\n",
       "      <td>2015-01-02</td>\n",
       "      <td>shot</td>\n",
       "      <td>gun</td>\n",
       "      <td>53.0</td>\n",
       "      <td>M</td>\n",
       "      <td>A</td>\n",
       "      <td>Shelton</td>\n",
       "      <td>WA</td>\n",
       "      <td>True</td>\n",
       "      <td>attack</td>\n",
       "      <td>Not fleeing</td>\n",
       "      <td>False</td>\n",
       "    </tr>\n",
       "    <tr>\n",
       "      <th>1</th>\n",
       "      <td>Lewis Lee Lembke</td>\n",
       "      <td>2015-01-02</td>\n",
       "      <td>shot</td>\n",
       "      <td>gun</td>\n",
       "      <td>47.0</td>\n",
       "      <td>M</td>\n",
       "      <td>W</td>\n",
       "      <td>Aloha</td>\n",
       "      <td>OR</td>\n",
       "      <td>False</td>\n",
       "      <td>attack</td>\n",
       "      <td>Not fleeing</td>\n",
       "      <td>False</td>\n",
       "    </tr>\n",
       "    <tr>\n",
       "      <th>2</th>\n",
       "      <td>John Paul Quintero</td>\n",
       "      <td>2015-01-03</td>\n",
       "      <td>shot and Tasered</td>\n",
       "      <td>unarmed</td>\n",
       "      <td>23.0</td>\n",
       "      <td>M</td>\n",
       "      <td>H</td>\n",
       "      <td>Wichita</td>\n",
       "      <td>KS</td>\n",
       "      <td>False</td>\n",
       "      <td>other</td>\n",
       "      <td>Not fleeing</td>\n",
       "      <td>False</td>\n",
       "    </tr>\n",
       "    <tr>\n",
       "      <th>3</th>\n",
       "      <td>Matthew Hoffman</td>\n",
       "      <td>2015-01-04</td>\n",
       "      <td>shot</td>\n",
       "      <td>toy weapon</td>\n",
       "      <td>32.0</td>\n",
       "      <td>M</td>\n",
       "      <td>W</td>\n",
       "      <td>San Francisco</td>\n",
       "      <td>CA</td>\n",
       "      <td>True</td>\n",
       "      <td>attack</td>\n",
       "      <td>Not fleeing</td>\n",
       "      <td>False</td>\n",
       "    </tr>\n",
       "    <tr>\n",
       "      <th>4</th>\n",
       "      <td>Michael Rodriguez</td>\n",
       "      <td>2015-01-04</td>\n",
       "      <td>shot</td>\n",
       "      <td>nail gun</td>\n",
       "      <td>39.0</td>\n",
       "      <td>M</td>\n",
       "      <td>H</td>\n",
       "      <td>Evans</td>\n",
       "      <td>CO</td>\n",
       "      <td>False</td>\n",
       "      <td>attack</td>\n",
       "      <td>Not fleeing</td>\n",
       "      <td>False</td>\n",
       "    </tr>\n",
       "  </tbody>\n",
       "</table>\n",
       "</div>"
      ],
      "text/plain": [
       "                 name        date   manner_of_death       armed   age gender  \\\n",
       "0          Tim Elliot  2015-01-02              shot         gun  53.0      M   \n",
       "1    Lewis Lee Lembke  2015-01-02              shot         gun  47.0      M   \n",
       "2  John Paul Quintero  2015-01-03  shot and Tasered     unarmed  23.0      M   \n",
       "3     Matthew Hoffman  2015-01-04              shot  toy weapon  32.0      M   \n",
       "4   Michael Rodriguez  2015-01-04              shot    nail gun  39.0      M   \n",
       "\n",
       "  race           city state  signs_of_mental_illness threat_level  \\\n",
       "0    A        Shelton    WA                     True       attack   \n",
       "1    W          Aloha    OR                    False       attack   \n",
       "2    H        Wichita    KS                    False        other   \n",
       "3    W  San Francisco    CA                     True       attack   \n",
       "4    H          Evans    CO                    False       attack   \n",
       "\n",
       "          flee  body_camera  \n",
       "0  Not fleeing        False  \n",
       "1  Not fleeing        False  \n",
       "2  Not fleeing        False  \n",
       "3  Not fleeing        False  \n",
       "4  Not fleeing        False  "
      ]
     },
     "execution_count": 8,
     "metadata": {},
     "output_type": "execute_result"
    }
   ],
   "source": [
    "df.head()"
   ]
  },
  {
   "cell_type": "markdown",
   "metadata": {},
   "source": [
    "## Hist of ages of those killed"
   ]
  },
  {
   "cell_type": "code",
   "execution_count": 9,
   "metadata": {},
   "outputs": [
    {
     "data": {
      "text/plain": [
       "Text(0, 0.5, 'Number Killed')"
      ]
     },
     "execution_count": 9,
     "metadata": {},
     "output_type": "execute_result"
    },
    {
     "data": {
      "image/png": "[encoded data removed]",
      "text/plain": [
       "<Figure size 360x360 with 1 Axes>"
      ]
     },
     "metadata": {
      "needs_background": "light"
     },
     "output_type": "display_data"
    }
   ],
   "source": [
    "df.age.hist(bins=20, figsize=(5,5))\n",
    "plt.title('Ages of Individuals Killed')\n",
    "plt.xlabel('Age')\n",
    "plt.ylabel('Number Killed')"
   ]
  },
  {
   "cell_type": "code",
   "execution_count": 10,
   "metadata": {},
   "outputs": [
    {
     "data": {
      "text/plain": [
       "<matplotlib.axes._subplots.AxesSubplot at 0x7fac54e44bd0>"
      ]
     },
     "execution_count": 10,
     "metadata": {},
     "output_type": "execute_result"
    },
    {
     "data": {
      "image/png": "[encoded data removed]",
      "text/plain": [
       "<Figure size 216x216 with 1 Axes>"
      ]
     },
     "metadata": {
      "needs_background": "light"
     },
     "output_type": "display_data"
    }
   ],
   "source": [
    "#Visualize races\n",
    "f, ax = plt.subplots(figsize = (3,3))\n",
    "killed_by_police = pd.DataFrame(df.race.value_counts())\n",
    "races = list(killed_by_police.index)\n",
    "values = list(killed_by_police.race)\n",
    "sns.barplot(x=values, y=races)"
   ]
  },
  {
   "cell_type": "markdown",
   "metadata": {},
   "source": [
    "## Some argue that numbers of people by race alone don't tell the story. Maybe we should look at deaths as compared to national population."
   ]
  },
  {
   "cell_type": "code",
   "execution_count": 11,
   "metadata": {},
   "outputs": [],
   "source": [
    "# I used Census pop estimates from 2019 https://www.census.gov/data/tables/time-series/demo/popest/2010s-national-detail.html\n",
    "Census_pop_counts_today = pd.DataFrame([250522190, 44075086, 60572237 , 19504862, 4188092, 9949293],['W','B','H','A','N','O'],columns=['US_pop'])"
   ]
  },
  {
   "cell_type": "code",
   "execution_count": 12,
   "metadata": {},
   "outputs": [
    {
     "data": {
      "text/html": [
       "<div>\n",
       "<style scoped>\n",
       "    .dataframe tbody tr th:only-of-type {\n",
       "        vertical-align: middle;\n",
       "    }\n",
       "\n",
       "    .dataframe tbody tr th {\n",
       "        vertical-align: top;\n",
       "    }\n",
       "\n",
       "    .dataframe thead th {\n",
       "        text-align: right;\n",
       "    }\n",
       "</style>\n",
       "<table border=\"1\" class=\"dataframe\">\n",
       "  <thead>\n",
       "    <tr style=\"text-align: right;\">\n",
       "      <th></th>\n",
       "      <th>killed_by_police</th>\n",
       "      <th>US_pop</th>\n",
       "      <th>deaths_per_cap</th>\n",
       "    </tr>\n",
       "  </thead>\n",
       "  <tbody>\n",
       "    <tr>\n",
       "      <th>W</th>\n",
       "      <td>2502</td>\n",
       "      <td>250522190</td>\n",
       "      <td>0.000010</td>\n",
       "    </tr>\n",
       "    <tr>\n",
       "      <th>B</th>\n",
       "      <td>1305</td>\n",
       "      <td>44075086</td>\n",
       "      <td>0.000030</td>\n",
       "    </tr>\n",
       "    <tr>\n",
       "      <th>H</th>\n",
       "      <td>910</td>\n",
       "      <td>60572237</td>\n",
       "      <td>0.000015</td>\n",
       "    </tr>\n",
       "    <tr>\n",
       "      <th>A</th>\n",
       "      <td>94</td>\n",
       "      <td>19504862</td>\n",
       "      <td>0.000005</td>\n",
       "    </tr>\n",
       "    <tr>\n",
       "      <th>N</th>\n",
       "      <td>78</td>\n",
       "      <td>4188092</td>\n",
       "      <td>0.000019</td>\n",
       "    </tr>\n",
       "    <tr>\n",
       "      <th>O</th>\n",
       "      <td>48</td>\n",
       "      <td>9949293</td>\n",
       "      <td>0.000005</td>\n",
       "    </tr>\n",
       "  </tbody>\n",
       "</table>\n",
       "</div>"
      ],
      "text/plain": [
       "   killed_by_police     US_pop  deaths_per_cap\n",
       "W              2502  250522190        0.000010\n",
       "B              1305   44075086        0.000030\n",
       "H               910   60572237        0.000015\n",
       "A                94   19504862        0.000005\n",
       "N                78    4188092        0.000019\n",
       "O                48    9949293        0.000005"
      ]
     },
     "execution_count": 12,
     "metadata": {},
     "output_type": "execute_result"
    }
   ],
   "source": [
    "z = pd.concat([killed_by_police, Census_pop_counts_today], axis=1)\n",
    "z.columns = ['killed_by_police', 'US_pop']\n",
    "z['deaths_per_cap'] = z.killed_by_police / z.US_pop\n",
    "z"
   ]
  },
  {
   "cell_type": "code",
   "execution_count": 13,
   "metadata": {},
   "outputs": [
    {
     "data": {
      "text/plain": [
       "Text(0, 0.5, 'Deaths Per Capita')"
      ]
     },
     "execution_count": 13,
     "metadata": {},
     "output_type": "execute_result"
    },
    {
     "data": {
      "image/png": "[encoded data removed]",
      "text/plain": [
       "<Figure size 216x216 with 1 Axes>"
      ]
     },
     "metadata": {
      "needs_background": "light"
     },
     "output_type": "display_data"
    }
   ],
   "source": [
    "#Visualize races\n",
    "f, ax = plt.subplots(figsize = (3,3))\n",
    "races = list(z.index)\n",
    "values = list(z.deaths_per_cap)\n",
    "sns.barplot(x=values, y=races)\n",
    "plt.title('Deaths per Capita by Race')\n",
    "plt.xlabel('Race')\n",
    "plt.ylabel('Deaths Per Capita')"
   ]
  },
  {
   "cell_type": "markdown",
   "metadata": {},
   "source": [
    "## Hist of those killed by state."
   ]
  },
  {
   "cell_type": "code",
   "execution_count": 14,
   "metadata": {},
   "outputs": [
    {
     "data": {
      "text/plain": [
       "<matplotlib.axes._subplots.AxesSubplot at 0x7fac54d5ecd0>"
      ]
     },
     "execution_count": 14,
     "metadata": {},
     "output_type": "execute_result"
    },
    {
     "data": {
      "image/png": "[encoded data removed]",
      "text/plain": [
       "<Figure size 720x720 with 1 Axes>"
      ]
     },
     "metadata": {
      "needs_background": "light"
     },
     "output_type": "display_data"
    }
   ],
   "source": [
    "# Now do the same for states! \n",
    "f, ax = plt.subplots(figsize=(10,10))\n",
    "y = pd.DataFrame(df.state.value_counts())\n",
    "states = list(y.index)\n",
    "values = list(y.state)\n",
    "sns.barplot(x=values,y=states, palette=\"RdBu_r\")"
   ]
  },
  {
   "cell_type": "markdown",
   "metadata": {},
   "source": [
    "### What are the race value counts in CA are, since so many deaths happened there."
   ]
  },
  {
   "cell_type": "code",
   "execution_count": 15,
   "metadata": {
    "scrolled": true
   },
   "outputs": [
    {
     "data": {
      "text/plain": [
       "H    318\n",
       "W    222\n",
       "B    124\n",
       "A     30\n",
       "O      9\n",
       "N      4\n",
       "Name: race, dtype: int64"
      ]
     },
     "execution_count": 15,
     "metadata": {},
     "output_type": "execute_result"
    }
   ],
   "source": [
    "df[df.state=='CA'].race.value_counts()"
   ]
  },
  {
   "cell_type": "markdown",
   "metadata": {},
   "source": [
    "### Now I'm curious how the races of folks killed in cities with less deaths compares to those in cities with more deaths."
   ]
  },
  {
   "cell_type": "code",
   "execution_count": 16,
   "metadata": {},
   "outputs": [
    {
     "data": {
      "text/plain": [
       "Los Angeles         78\n",
       "Phoenix             67\n",
       "Houston             51\n",
       "Las Vegas           41\n",
       "San Antonio         40\n",
       "Chicago             38\n",
       "Columbus            36\n",
       "Jacksonville        32\n",
       "Albuquerque         32\n",
       "Oklahoma City       31\n",
       "Kansas City         30\n",
       "St. Louis           30\n",
       "Austin              29\n",
       "Miami               26\n",
       "Denver              24\n",
       "Louisville          23\n",
       "Tucson              23\n",
       "Atlanta             22\n",
       "Bakersfield         22\n",
       "Tulsa               21\n",
       "New York            21\n",
       "Orlando             20\n",
       "Mesa                20\n",
       "Baltimore           19\n",
       "Portland            18\n",
       "Fresno              18\n",
       "Indianapolis        18\n",
       "Long Beach          17\n",
       "Pueblo              17\n",
       "Philadelphia        16\n",
       "San Diego           16\n",
       "Charlotte           16\n",
       "Colorado Springs    16\n",
       "Memphis             15\n",
       "Arlington           15\n",
       "Springfield         15\n",
       "Milwaukee           15\n",
       "San Francisco       15\n",
       "San Jose            15\n",
       "Washington          15\n",
       "Aurora              15\n",
       "San Bernardino      14\n",
       "Dallas              14\n",
       "Salt Lake City      13\n",
       "Fort Worth          13\n",
       "Greenville          13\n",
       "Glendale            12\n",
       "El Paso             12\n",
       "Honolulu            12\n",
       "Lakewood            12\n",
       "Baton Rouge         12\n",
       "Sacramento          12\n",
       "Wichita             11\n",
       "Richmond            11\n",
       "Spokane             11\n",
       "Lancaster           11\n",
       "Omaha               11\n",
       "Las Cruces          11\n",
       "Reno                11\n",
       "Tampa               11\n",
       "Name: city, dtype: int64"
      ]
     },
     "execution_count": 16,
     "metadata": {},
     "output_type": "execute_result"
    }
   ],
   "source": [
    "df.city.value_counts().head(60)"
   ]
  },
  {
   "cell_type": "code",
   "execution_count": 17,
   "metadata": {},
   "outputs": [
    {
     "data": {
      "text/plain": [
       "Wichita      11\n",
       "Richmond     11\n",
       "Spokane      11\n",
       "Lancaster    11\n",
       "Omaha        11\n",
       "Name: city, dtype: int64"
      ]
     },
     "execution_count": 17,
     "metadata": {},
     "output_type": "execute_result"
    }
   ],
   "source": [
    "# Cities will less than 12 deaths.\n",
    "df.city.value_counts()[df.city.value_counts() < 12].head()"
   ]
  },
  {
   "cell_type": "code",
   "execution_count": 18,
   "metadata": {},
   "outputs": [
    {
     "data": {
      "text/plain": [
       "3750"
      ]
     },
     "execution_count": 18,
     "metadata": {},
     "output_type": "execute_result"
    }
   ],
   "source": [
    "# How many people were killed in cities with less than 12 deaths? 3750 out of 4500!!!\n",
    "\n",
    "df.city.value_counts()[df.city.value_counts() < 12].sum()"
   ]
  },
  {
   "cell_type": "markdown",
   "metadata": {},
   "source": [
    "### Making a dataframe so I can see the racial makeup of victims in low-death cities"
   ]
  },
  {
   "cell_type": "code",
   "execution_count": 19,
   "metadata": {},
   "outputs": [
    {
     "data": {
      "text/plain": [
       "W    2143\n",
       "B     863\n",
       "H     584\n",
       "N      64\n",
       "A      60\n",
       "O      36\n",
       "Name: race, dtype: int64"
      ]
     },
     "execution_count": 19,
     "metadata": {},
     "output_type": "execute_result"
    }
   ],
   "source": [
    "cities = pd.Series(df.city.value_counts()[df.city.value_counts() < 12].index)\n",
    "df.merge(cities.rename('new'), left_on='city', right_on='new').race.value_counts()"
   ]
  },
  {
   "cell_type": "markdown",
   "metadata": {},
   "source": [
    "### Doing the same for higher-death cities"
   ]
  },
  {
   "cell_type": "code",
   "execution_count": 20,
   "metadata": {},
   "outputs": [
    {
     "data": {
      "text/plain": [
       "B    442\n",
       "W    359\n",
       "H    326\n",
       "A     34\n",
       "N     14\n",
       "O     12\n",
       "Name: race, dtype: int64"
      ]
     },
     "execution_count": 20,
     "metadata": {},
     "output_type": "execute_result"
    }
   ],
   "source": [
    "bigcities = pd.Series(df.city.value_counts()[df.city.value_counts() >= 12].index)\n",
    "df.merge(bigcities.rename('new'), left_on='city', right_on='new').race.value_counts()"
   ]
  },
  {
   "cell_type": "markdown",
   "metadata": {},
   "source": [
    "## This is an interesting distinction: cities with less police killings see more white victims. Cities with more police killings see more black and hispanic killings"
   ]
  },
  {
   "cell_type": "markdown",
   "metadata": {},
   "source": [
    "### I'm going to graph 'black' deaths against 'total deaths'"
   ]
  },
  {
   "cell_type": "code",
   "execution_count": 26,
   "metadata": {},
   "outputs": [],
   "source": [
    "x = df.groupby('city')['name'].count()"
   ]
  },
  {
   "cell_type": "code",
   "execution_count": 28,
   "metadata": {},
   "outputs": [],
   "source": [
    "y = pd.DataFrame(df.groupby('city')['race'].value_counts())"
   ]
  },
  {
   "cell_type": "code",
   "execution_count": 35,
   "metadata": {},
   "outputs": [],
   "source": [
    "y.columns = ['value']"
   ]
  },
  {
   "cell_type": "code",
   "execution_count": 36,
   "metadata": {},
   "outputs": [
    {
     "data": {
      "text/html": [
       "<div>\n",
       "<style scoped>\n",
       "    .dataframe tbody tr th:only-of-type {\n",
       "        vertical-align: middle;\n",
       "    }\n",
       "\n",
       "    .dataframe tbody tr th {\n",
       "        vertical-align: top;\n",
       "    }\n",
       "\n",
       "    .dataframe thead th {\n",
       "        text-align: right;\n",
       "    }\n",
       "</style>\n",
       "<table border=\"1\" class=\"dataframe\">\n",
       "  <thead>\n",
       "    <tr style=\"text-align: right;\">\n",
       "      <th></th>\n",
       "      <th></th>\n",
       "      <th>value</th>\n",
       "    </tr>\n",
       "    <tr>\n",
       "      <th>city</th>\n",
       "      <th>race</th>\n",
       "      <th></th>\n",
       "    </tr>\n",
       "  </thead>\n",
       "  <tbody>\n",
       "    <tr>\n",
       "      <th>Abbeville</th>\n",
       "      <th>B</th>\n",
       "      <td>1</td>\n",
       "    </tr>\n",
       "    <tr>\n",
       "      <th>Aberdeen</th>\n",
       "      <th>W</th>\n",
       "      <td>2</td>\n",
       "    </tr>\n",
       "    <tr>\n",
       "      <th rowspan=\"2\" valign=\"top\">Abilene</th>\n",
       "      <th>W</th>\n",
       "      <td>2</td>\n",
       "    </tr>\n",
       "    <tr>\n",
       "      <th>B</th>\n",
       "      <td>1</td>\n",
       "    </tr>\n",
       "    <tr>\n",
       "      <th>Abingdon</th>\n",
       "      <th>H</th>\n",
       "      <td>1</td>\n",
       "    </tr>\n",
       "    <tr>\n",
       "      <th>...</th>\n",
       "      <th>...</th>\n",
       "      <td>...</td>\n",
       "    </tr>\n",
       "    <tr>\n",
       "      <th rowspan=\"2\" valign=\"top\">Yuma</th>\n",
       "      <th>H</th>\n",
       "      <td>2</td>\n",
       "    </tr>\n",
       "    <tr>\n",
       "      <th>W</th>\n",
       "      <td>1</td>\n",
       "    </tr>\n",
       "    <tr>\n",
       "      <th>Zanesville</th>\n",
       "      <th>W</th>\n",
       "      <td>1</td>\n",
       "    </tr>\n",
       "    <tr>\n",
       "      <th rowspan=\"2\" valign=\"top\">Zion</th>\n",
       "      <th>B</th>\n",
       "      <td>1</td>\n",
       "    </tr>\n",
       "    <tr>\n",
       "      <th>W</th>\n",
       "      <td>1</td>\n",
       "    </tr>\n",
       "  </tbody>\n",
       "</table>\n",
       "<p>2912 rows × 1 columns</p>\n",
       "</div>"
      ],
      "text/plain": [
       "                 value\n",
       "city       race       \n",
       "Abbeville  B         1\n",
       "Aberdeen   W         2\n",
       "Abilene    W         2\n",
       "           B         1\n",
       "Abingdon   H         1\n",
       "...                ...\n",
       "Yuma       H         2\n",
       "           W         1\n",
       "Zanesville W         1\n",
       "Zion       B         1\n",
       "           W         1\n",
       "\n",
       "[2912 rows x 1 columns]"
      ]
     },
     "execution_count": 36,
     "metadata": {},
     "output_type": "execute_result"
    }
   ],
   "source": [
    "y"
   ]
  },
  {
   "cell_type": "code",
   "execution_count": 45,
   "metadata": {},
   "outputs": [],
   "source": [
    "y = y.unstack()"
   ]
  },
  {
   "cell_type": "code",
   "execution_count": 48,
   "metadata": {},
   "outputs": [
    {
     "data": {
      "text/html": [
       "<div>\n",
       "<style scoped>\n",
       "    .dataframe tbody tr th:only-of-type {\n",
       "        vertical-align: middle;\n",
       "    }\n",
       "\n",
       "    .dataframe tbody tr th {\n",
       "        vertical-align: top;\n",
       "    }\n",
       "\n",
       "    .dataframe thead tr th {\n",
       "        text-align: left;\n",
       "    }\n",
       "\n",
       "    .dataframe thead tr:last-of-type th {\n",
       "        text-align: right;\n",
       "    }\n",
       "</style>\n",
       "<table border=\"1\" class=\"dataframe\">\n",
       "  <thead>\n",
       "    <tr>\n",
       "      <th></th>\n",
       "      <th colspan=\"6\" halign=\"left\">value</th>\n",
       "    </tr>\n",
       "    <tr>\n",
       "      <th>race</th>\n",
       "      <th>A</th>\n",
       "      <th>B</th>\n",
       "      <th>H</th>\n",
       "      <th>N</th>\n",
       "      <th>O</th>\n",
       "      <th>W</th>\n",
       "    </tr>\n",
       "    <tr>\n",
       "      <th>city</th>\n",
       "      <th></th>\n",
       "      <th></th>\n",
       "      <th></th>\n",
       "      <th></th>\n",
       "      <th></th>\n",
       "      <th></th>\n",
       "    </tr>\n",
       "  </thead>\n",
       "  <tbody>\n",
       "    <tr>\n",
       "      <th>Abbeville</th>\n",
       "      <td>NaN</td>\n",
       "      <td>1.0</td>\n",
       "      <td>NaN</td>\n",
       "      <td>NaN</td>\n",
       "      <td>NaN</td>\n",
       "      <td>NaN</td>\n",
       "    </tr>\n",
       "    <tr>\n",
       "      <th>Aberdeen</th>\n",
       "      <td>NaN</td>\n",
       "      <td>NaN</td>\n",
       "      <td>NaN</td>\n",
       "      <td>NaN</td>\n",
       "      <td>NaN</td>\n",
       "      <td>2.0</td>\n",
       "    </tr>\n",
       "    <tr>\n",
       "      <th>Abilene</th>\n",
       "      <td>NaN</td>\n",
       "      <td>1.0</td>\n",
       "      <td>NaN</td>\n",
       "      <td>NaN</td>\n",
       "      <td>NaN</td>\n",
       "      <td>2.0</td>\n",
       "    </tr>\n",
       "    <tr>\n",
       "      <th>Abingdon</th>\n",
       "      <td>NaN</td>\n",
       "      <td>NaN</td>\n",
       "      <td>1.0</td>\n",
       "      <td>NaN</td>\n",
       "      <td>NaN</td>\n",
       "      <td>1.0</td>\n",
       "    </tr>\n",
       "    <tr>\n",
       "      <th>Abington Township</th>\n",
       "      <td>NaN</td>\n",
       "      <td>NaN</td>\n",
       "      <td>1.0</td>\n",
       "      <td>NaN</td>\n",
       "      <td>NaN</td>\n",
       "      <td>NaN</td>\n",
       "    </tr>\n",
       "    <tr>\n",
       "      <th>...</th>\n",
       "      <td>...</td>\n",
       "      <td>...</td>\n",
       "      <td>...</td>\n",
       "      <td>...</td>\n",
       "      <td>...</td>\n",
       "      <td>...</td>\n",
       "    </tr>\n",
       "    <tr>\n",
       "      <th>Yucca Valley</th>\n",
       "      <td>NaN</td>\n",
       "      <td>NaN</td>\n",
       "      <td>1.0</td>\n",
       "      <td>NaN</td>\n",
       "      <td>NaN</td>\n",
       "      <td>1.0</td>\n",
       "    </tr>\n",
       "    <tr>\n",
       "      <th>Yulee</th>\n",
       "      <td>NaN</td>\n",
       "      <td>1.0</td>\n",
       "      <td>NaN</td>\n",
       "      <td>NaN</td>\n",
       "      <td>NaN</td>\n",
       "      <td>1.0</td>\n",
       "    </tr>\n",
       "    <tr>\n",
       "      <th>Yuma</th>\n",
       "      <td>NaN</td>\n",
       "      <td>NaN</td>\n",
       "      <td>2.0</td>\n",
       "      <td>NaN</td>\n",
       "      <td>NaN</td>\n",
       "      <td>1.0</td>\n",
       "    </tr>\n",
       "    <tr>\n",
       "      <th>Zanesville</th>\n",
       "      <td>NaN</td>\n",
       "      <td>NaN</td>\n",
       "      <td>NaN</td>\n",
       "      <td>NaN</td>\n",
       "      <td>NaN</td>\n",
       "      <td>1.0</td>\n",
       "    </tr>\n",
       "    <tr>\n",
       "      <th>Zion</th>\n",
       "      <td>NaN</td>\n",
       "      <td>1.0</td>\n",
       "      <td>NaN</td>\n",
       "      <td>NaN</td>\n",
       "      <td>NaN</td>\n",
       "      <td>1.0</td>\n",
       "    </tr>\n",
       "  </tbody>\n",
       "</table>\n",
       "<p>2306 rows × 6 columns</p>\n",
       "</div>"
      ],
      "text/plain": [
       "                  value                       \n",
       "race                  A    B    H   N   O    W\n",
       "city                                          \n",
       "Abbeville           NaN  1.0  NaN NaN NaN  NaN\n",
       "Aberdeen            NaN  NaN  NaN NaN NaN  2.0\n",
       "Abilene             NaN  1.0  NaN NaN NaN  2.0\n",
       "Abingdon            NaN  NaN  1.0 NaN NaN  1.0\n",
       "Abington Township   NaN  NaN  1.0 NaN NaN  NaN\n",
       "...                 ...  ...  ...  ..  ..  ...\n",
       "Yucca Valley        NaN  NaN  1.0 NaN NaN  1.0\n",
       "Yulee               NaN  1.0  NaN NaN NaN  1.0\n",
       "Yuma                NaN  NaN  2.0 NaN NaN  1.0\n",
       "Zanesville          NaN  NaN  NaN NaN NaN  1.0\n",
       "Zion                NaN  1.0  NaN NaN NaN  1.0\n",
       "\n",
       "[2306 rows x 6 columns]"
      ]
     },
     "execution_count": 48,
     "metadata": {},
     "output_type": "execute_result"
    }
   ],
   "source": [
    "y"
   ]
  },
  {
   "cell_type": "code",
   "execution_count": 74,
   "metadata": {},
   "outputs": [],
   "source": [
    "y = y.astype('str').apply(lambda x: x.replace('nan','0'))"
   ]
  },
  {
   "cell_type": "code",
   "execution_count": 82,
   "metadata": {},
   "outputs": [],
   "source": [
    "y = y.astype('float')"
   ]
  },
  {
   "cell_type": "code",
   "execution_count": 90,
   "metadata": {},
   "outputs": [
    {
     "ename": "ValueError",
     "evalue": "Cannot remove 1 levels from an index with 1 levels: at least one level must be left.",
     "output_type": "error",
     "traceback": [
      "\u001b[0;31m---------------------------------------------------------------------------\u001b[0m",
      "\u001b[0;31mValueError\u001b[0m                                Traceback (most recent call last)",
      "\u001b[0;32m<ipython-input-90-a5a1492cdd9b>\u001b[0m in \u001b[0;36m<module>\u001b[0;34m\u001b[0m\n\u001b[0;32m----> 1\u001b[0;31m \u001b[0my\u001b[0m\u001b[0;34m.\u001b[0m\u001b[0mcolumns\u001b[0m \u001b[0;34m=\u001b[0m \u001b[0my\u001b[0m\u001b[0;34m.\u001b[0m\u001b[0mcolumns\u001b[0m\u001b[0;34m.\u001b[0m\u001b[0mdroplevel\u001b[0m\u001b[0;34m(\u001b[0m\u001b[0;36m0\u001b[0m\u001b[0;34m)\u001b[0m\u001b[0;34m\u001b[0m\u001b[0;34m\u001b[0m\u001b[0m\n\u001b[0m",
      "\u001b[0;32m~/opt/anaconda3/envs/springboard/lib/python3.7/site-packages/pandas/core/indexes/base.py\u001b[0m in \u001b[0;36mdroplevel\u001b[0;34m(self, level)\u001b[0m\n\u001b[1;32m   1510\u001b[0m         \u001b[0;32mif\u001b[0m \u001b[0mlen\u001b[0m\u001b[0;34m(\u001b[0m\u001b[0mlevel\u001b[0m\u001b[0;34m)\u001b[0m \u001b[0;34m>=\u001b[0m \u001b[0mself\u001b[0m\u001b[0;34m.\u001b[0m\u001b[0mnlevels\u001b[0m\u001b[0;34m:\u001b[0m\u001b[0;34m\u001b[0m\u001b[0;34m\u001b[0m\u001b[0m\n\u001b[1;32m   1511\u001b[0m             raise ValueError(\n\u001b[0;32m-> 1512\u001b[0;31m                 \u001b[0;34mf\"Cannot remove {len(level)} levels from an index with {self.nlevels} \"\u001b[0m\u001b[0;34m\u001b[0m\u001b[0;34m\u001b[0m\u001b[0m\n\u001b[0m\u001b[1;32m   1513\u001b[0m                 \u001b[0;34m\"levels: at least one level must be left.\"\u001b[0m\u001b[0;34m\u001b[0m\u001b[0;34m\u001b[0m\u001b[0m\n\u001b[1;32m   1514\u001b[0m             )\n",
      "\u001b[0;31mValueError\u001b[0m: Cannot remove 1 levels from an index with 1 levels: at least one level must be left."
     ]
    }
   ],
   "source": [
    "y.columns = y.columns.droplevel(0)"
   ]
  },
  {
   "cell_type": "code",
   "execution_count": 103,
   "metadata": {},
   "outputs": [],
   "source": [
    "y['total'] = y.A + y.B + y.H + y.N + y.O + y.W"
   ]
  },
  {
   "cell_type": "code",
   "execution_count": 128,
   "metadata": {},
   "outputs": [
    {
     "data": {
      "text/plain": [
       "<matplotlib.legend.Legend at 0x7fac59ce9a10>"
      ]
     },
     "execution_count": 128,
     "metadata": {},
     "output_type": "execute_result"
    },
    {
     "data": {
      "image/png": "[encoded data removed]",
      "text/plain": [
       "<Figure size 432x288 with 1 Axes>"
      ]
     },
     "metadata": {
      "needs_background": "light"
     },
     "output_type": "display_data"
    }
   ],
   "source": [
    "plt.scatter('B', 'total', data=y, color='red', label='black')\n",
    "\n",
    "plt.scatter('W', 'total', data=y, color='blue', label='white')\n",
    "\n",
    "plt.title('Number of Total Deaths v. Number of Black/White Deaths')\n",
    "plt.xlabel('Black/White Deaths')\n",
    "plt.ylabel('Total Deaths')\n",
    "plt.legend(loc='lower right')"
   ]
  },
  {
   "cell_type": "markdown",
   "metadata": {},
   "source": [
    "### Actually doesn't look much different in distributions. Black deaths and white deaths both trend upwards with increasing police-caused deaths in a city"
   ]
  },
  {
   "cell_type": "code",
   "execution_count": null,
   "metadata": {},
   "outputs": [],
   "source": [
    "# Plotting histograms of categorical variables."
   ]
  },
  {
   "cell_type": "code",
   "execution_count": 129,
   "metadata": {
    "scrolled": true
   },
   "outputs": [
    {
     "data": {
      "image/png": "[encoded data removed]",
      "text/plain": [
       "<Figure size 1080x1080 with 7 Axes>"
      ]
     },
     "metadata": {
      "needs_background": "light"
     },
     "output_type": "display_data"
    }
   ],
   "source": [
    "fig = plt.figure(figsize=(15,15))\n",
    "fig.add_subplot(331)   \n",
    "df.flee.value_counts().plot(kind='bar')\n",
    "plt.gca().set_title('Flee')\n",
    "\n",
    "fig.add_subplot(332)   \n",
    "df.threat_level.value_counts().plot(kind='bar')\n",
    "plt.gca().set_title('Threat Level')\n",
    "\n",
    "\n",
    "fig.add_subplot(333)   \n",
    "df.signs_of_mental_illness.value_counts().plot(kind='bar')\n",
    "plt.gca().set_title('Signs of Mental Illness')\n",
    "\n",
    "fig.add_subplot(334)   \n",
    "df.manner_of_death.value_counts().plot(kind='bar')\n",
    "plt.gca().set_title('Manner of Death')\n",
    "\n",
    "fig.add_subplot(335)   \n",
    "df.gender.value_counts().plot(kind='bar')\n",
    "plt.gca().set_title('Gender')\n",
    "\n",
    "fig.add_subplot(336)  \n",
    "df.race.value_counts().plot(kind='bar')\n",
    "plt.gca().set_title('Race')\n",
    "\n",
    "fig.add_subplot(337)  \n",
    "df.body_camera.value_counts().plot(kind='bar')\n",
    "plt.gca().set_title('Body Camera')\n",
    "\n",
    "\n",
    "plt.subplots_adjust(hspace = .5)\n",
    "\n",
    "\n",
    "plt.show()\n"
   ]
  },
  {
   "cell_type": "markdown",
   "metadata": {},
   "source": [
    "# Same variables, but separating by race."
   ]
  },
  {
   "cell_type": "code",
   "execution_count": 130,
   "metadata": {},
   "outputs": [
    {
     "data": {
      "image/png": "[encoded data removed]",
      "text/plain": [
       "<Figure size 1080x1080 with 7 Axes>"
      ]
     },
     "metadata": {
      "needs_background": "light"
     },
     "output_type": "display_data"
    }
   ],
   "source": [
    "fig = plt.figure(figsize=(15,15))\n",
    "fig.add_subplot(331) \n",
    "sns.countplot(x='race', data=df, palette='coolwarm')\n",
    "plt.gca().set_title('Race')\n",
    "\n",
    "\n",
    "fig.add_subplot(332)   \n",
    "sns.countplot(x=\"threat_level\",hue=\"race\",data=df, palette=\"coolwarm\")\n",
    "plt.gca().set_title('Threat Level')\n",
    "\n",
    "\n",
    "fig.add_subplot(333)   \n",
    "sns.countplot(x=\"signs_of_mental_illness\",hue=\"race\",data=df, palette=\"coolwarm\")\n",
    "plt.gca().set_title('Signs of Mental Illness')\n",
    "\n",
    "fig.add_subplot(334)   \n",
    "sns.countplot(x=\"manner_of_death\",hue=\"race\",data=df, palette=\"coolwarm\")\n",
    "plt.gca().set_title('Manner of Death')\n",
    "\n",
    "fig.add_subplot(335)   \n",
    "sns.countplot(x=\"gender\",hue=\"race\",data=df, palette=\"coolwarm\")\n",
    "plt.gca().set_title('Gender')\n",
    "\n",
    "fig.add_subplot(336)  \n",
    "sns.countplot(x=\"flee\",hue=\"race\",data=df, palette=\"coolwarm\")\n",
    "plt.gca().set_title('Flee')\n",
    "\n",
    "fig.add_subplot(337)  \n",
    "sns.countplot(x=\"body_camera\",hue=\"race\",data=df, palette=\"coolwarm\")\n",
    "plt.gca().set_title('Body Camera')\n",
    "\n",
    "\n",
    "plt.subplots_adjust(hspace = .5)\n",
    "\n",
    "\n",
    "plt.show()\n",
    "\n"
   ]
  },
  {
   "cell_type": "markdown",
   "metadata": {},
   "source": [
    "### Wow. For all variables, the racial breakdown mirrors the overall racial distribution. I'm looking for signs that something can 'predict' black death but it's not in the circumstances of the death that I have data for. "
   ]
  },
  {
   "cell_type": "markdown",
   "metadata": {},
   "source": [
    "## Anamolies and Outliers - Review boxplots"
   ]
  },
  {
   "cell_type": "code",
   "execution_count": 131,
   "metadata": {},
   "outputs": [
    {
     "data": {
      "text/plain": [
       "<matplotlib.axes._subplots.AxesSubplot at 0x7fac59f636d0>"
      ]
     },
     "execution_count": 131,
     "metadata": {},
     "output_type": "execute_result"
    },
    {
     "data": {
      "image/png": "[encoded data removed]",
      "text/plain": [
       "<Figure size 720x720 with 1 Axes>"
      ]
     },
     "metadata": {
      "needs_background": "light"
     },
     "output_type": "display_data"
    }
   ],
   "source": [
    "df.boxplot('age', vert=True, fontsize=15, figsize=(10,10))"
   ]
  },
  {
   "cell_type": "code",
   "execution_count": 132,
   "metadata": {},
   "outputs": [
    {
     "data": {
      "text/plain": [
       "Index(['name', 'date', 'manner_of_death', 'armed', 'age', 'gender', 'race',\n",
       "       'city', 'state', 'signs_of_mental_illness', 'threat_level', 'flee',\n",
       "       'body_camera'],\n",
       "      dtype='object')"
      ]
     },
     "execution_count": 132,
     "metadata": {},
     "output_type": "execute_result"
    }
   ],
   "source": [
    "df.columns"
   ]
  },
  {
   "cell_type": "code",
   "execution_count": 133,
   "metadata": {},
   "outputs": [
    {
     "data": {
      "text/plain": [
       "Not fleeing    3098\n",
       "Car             823\n",
       "Foot            650\n",
       "Other           366\n",
       "Name: flee, dtype: int64"
      ]
     },
     "execution_count": 133,
     "metadata": {},
     "output_type": "execute_result"
    }
   ],
   "source": [
    "df.flee.value_counts()\n",
    "# HOW TO ENCODE: 0 not fleeing, 1 foot, 2 car, MEAN other"
   ]
  },
  {
   "cell_type": "code",
   "execution_count": 134,
   "metadata": {},
   "outputs": [
    {
     "data": {
      "text/plain": [
       "attack          3186\n",
       "other           1541\n",
       "undetermined     210\n",
       "Name: threat_level, dtype: int64"
      ]
     },
     "execution_count": 134,
     "metadata": {},
     "output_type": "execute_result"
    }
   ],
   "source": [
    "df.threat_level.value_counts()\n",
    "#HOW TO ENCODE: 2 attack, 1 other, MEAN undetermined??\n",
    "# OR 1 attack, 0 other, MEAN undetermined"
   ]
  },
  {
   "cell_type": "code",
   "execution_count": 135,
   "metadata": {},
   "outputs": [
    {
     "data": {
      "text/plain": [
       "shot                4688\n",
       "shot and Tasered     249\n",
       "Name: manner_of_death, dtype: int64"
      ]
     },
     "execution_count": 135,
     "metadata": {},
     "output_type": "execute_result"
    }
   ],
   "source": [
    "df.manner_of_death.value_counts()\n",
    "# this really isn't very telling or interesting at all"
   ]
  },
  {
   "cell_type": "code",
   "execution_count": 136,
   "metadata": {},
   "outputs": [],
   "source": [
    "#example of how to encode i found on stackoverflow\n",
    "\n",
    "#obj_df[\"OHC_Code\"] = np.where(obj_df[\"engine_type\"].str.contains(\"ohc\"), 1, other=0)\n",
    "#df['armed']\n",
    "\n"
   ]
  },
  {
   "cell_type": "code",
   "execution_count": 137,
   "metadata": {},
   "outputs": [
    {
     "data": {
      "text/plain": [
       "gun                                 2784\n",
       "knife                                716\n",
       "unarmed                              349\n",
       "undetermined                         338\n",
       "toy weapon                           173\n",
       "vehicle                              134\n",
       "unknown weapon                        66\n",
       "machete                               40\n",
       "Taser                                 24\n",
       "sword                                 22\n",
       "ax                                    21\n",
       "baseball bat                          16\n",
       "gun and knife                         15\n",
       "hammer                                14\n",
       "metal pipe                            12\n",
       "screwdriver                           12\n",
       "hatchet                               11\n",
       "box cutter                            11\n",
       "gun and vehicle                       10\n",
       "sharp object                          10\n",
       "gun and car                            9\n",
       "scissors                               7\n",
       "crossbow                               6\n",
       "rock                                   6\n",
       "pipe                                   6\n",
       "piece of wood                          5\n",
       "meat cleaver                           5\n",
       "BB gun                                 5\n",
       "blunt object                           5\n",
       "shovel                                 5\n",
       "crowbar                                4\n",
       "baton                                  4\n",
       "chair                                  4\n",
       "straight edge razor                    4\n",
       "pick-axe                               4\n",
       "vehicle and gun                        4\n",
       "chain                                  3\n",
       "metal pole                             3\n",
       "guns and explosives                    3\n",
       "samurai sword                          3\n",
       "metal stick                            3\n",
       "pitchfork                              2\n",
       "pole and knife                         2\n",
       "hatchet and gun                        2\n",
       "garden tool                            2\n",
       "glass shard                            2\n",
       "pellet gun                             2\n",
       "brick                                  2\n",
       "pole                                   2\n",
       "lawn mower blade                       2\n",
       "metal object                           2\n",
       "incendiary device                      2\n",
       "vehicle and machete                    1\n",
       "carjack                                1\n",
       "claimed to be armed                    1\n",
       "chainsaw                               1\n",
       "spear                                  1\n",
       "barstool                               1\n",
       "walking stick                          1\n",
       "flashlight                             1\n",
       "machete and gun                        1\n",
       "gun and sword                          1\n",
       "baseball bat and knife                 1\n",
       "fireworks                              1\n",
       "hand torch                             1\n",
       "nail gun                               1\n",
       "car, knife and mace                    1\n",
       "contractor's level                     1\n",
       "oar                                    1\n",
       "bayonet                                1\n",
       "bean-bag gun                           1\n",
       "metal rake                             1\n",
       "wrench                                 1\n",
       "baseball bat and bottle                1\n",
       "chain saw                              1\n",
       "motorcycle                             1\n",
       "stapler                                1\n",
       "air pistol                             1\n",
       "pepper spray                           1\n",
       "air conditioner                        1\n",
       "grenade                                1\n",
       "flagpole                               1\n",
       "cordless drill                         1\n",
       "wasp spray                             1\n",
       "baseball bat and fireplace poker       1\n",
       "BB gun and vehicle                     1\n",
       "bow and arrow                          1\n",
       "ice pick                               1\n",
       "pen                                    1\n",
       "beer bottle                            1\n",
       "metal hand tool                        1\n",
       "Name: armed, dtype: int64"
      ]
     },
     "execution_count": 137,
     "metadata": {},
     "output_type": "execute_result"
    }
   ],
   "source": [
    "pd.set_option('display.max_rows',200)\n",
    "df.armed.value_counts()\n",
    "#gun, knife, unarmed, undetermined, vehicle, \"explosive\", \"other handheld object\", \"nonlethal gun\" (pellet gun, beanbag gun)\n",
    "# HOW TO ENCODE? \n",
    "# gun 1, explosive 1, vehicle 2, other projectile??, knife 3, other handheld object 3 or 4, nonlethal gun 5 (what about NAILGUN, BOW AND ARROW), other projectile??\n",
    "# gun is def #1, knife vehicle and explosive hmmm which is 2 and which is 3.\n",
    "\n",
    "# how about judging by whether the weapon is close range or long range?\n",
    "# or lethality of weapon:\n",
    "\n",
    "#IN THIS ORDER??\n",
    "#gun,\n",
    "#other explosive, \n",
    "#sharp weapon/vehicle, \n",
    "#sharp other object, \n",
    "#potentially lethal projectile (taser, nailgun, bow and arrow), \n",
    "#nonlethal projectile, \n",
    "#blunt object.\n",
    "\n"
   ]
  },
  {
   "cell_type": "markdown",
   "metadata": {},
   "source": [
    "### This doesn't really seem appropriate, obviously bc their categorical variables."
   ]
  },
  {
   "cell_type": "code",
   "execution_count": 138,
   "metadata": {},
   "outputs": [
    {
     "data": {
      "text/html": [
       "<style  type=\"text/css\" >\n",
       "    #T_0ac388c0_e6f2_11ea_a322_705681b1d2cfrow0_col0 {\n",
       "            background-color:  #b40426;\n",
       "            color:  #f1f1f1;\n",
       "        }    #T_0ac388c0_e6f2_11ea_a322_705681b1d2cfrow0_col1 {\n",
       "            background-color:  #4e68d8;\n",
       "            color:  #000000;\n",
       "        }    #T_0ac388c0_e6f2_11ea_a322_705681b1d2cfrow0_col2 {\n",
       "            background-color:  #3b4cc0;\n",
       "            color:  #f1f1f1;\n",
       "        }    #T_0ac388c0_e6f2_11ea_a322_705681b1d2cfrow1_col0 {\n",
       "            background-color:  #6485ec;\n",
       "            color:  #000000;\n",
       "        }    #T_0ac388c0_e6f2_11ea_a322_705681b1d2cfrow1_col1 {\n",
       "            background-color:  #b40426;\n",
       "            color:  #f1f1f1;\n",
       "        }    #T_0ac388c0_e6f2_11ea_a322_705681b1d2cfrow1_col2 {\n",
       "            background-color:  #516ddb;\n",
       "            color:  #000000;\n",
       "        }    #T_0ac388c0_e6f2_11ea_a322_705681b1d2cfrow2_col0 {\n",
       "            background-color:  #3b4cc0;\n",
       "            color:  #f1f1f1;\n",
       "        }    #T_0ac388c0_e6f2_11ea_a322_705681b1d2cfrow2_col1 {\n",
       "            background-color:  #3b4cc0;\n",
       "            color:  #f1f1f1;\n",
       "        }    #T_0ac388c0_e6f2_11ea_a322_705681b1d2cfrow2_col2 {\n",
       "            background-color:  #b40426;\n",
       "            color:  #f1f1f1;\n",
       "        }</style><table id=\"T_0ac388c0_e6f2_11ea_a322_705681b1d2cf\" ><thead>    <tr>        <th class=\"blank level0\" ></th>        <th class=\"col_heading level0 col0\" >age</th>        <th class=\"col_heading level0 col1\" >signs_of_mental_illness</th>        <th class=\"col_heading level0 col2\" >body_camera</th>    </tr></thead><tbody>\n",
       "                <tr>\n",
       "                        <th id=\"T_0ac388c0_e6f2_11ea_a322_705681b1d2cflevel0_row0\" class=\"row_heading level0 row0\" >age</th>\n",
       "                        <td id=\"T_0ac388c0_e6f2_11ea_a322_705681b1d2cfrow0_col0\" class=\"data row0 col0\" >1.000000</td>\n",
       "                        <td id=\"T_0ac388c0_e6f2_11ea_a322_705681b1d2cfrow0_col1\" class=\"data row0 col1\" >0.100000</td>\n",
       "                        <td id=\"T_0ac388c0_e6f2_11ea_a322_705681b1d2cfrow0_col2\" class=\"data row0 col2\" >-0.040000</td>\n",
       "            </tr>\n",
       "            <tr>\n",
       "                        <th id=\"T_0ac388c0_e6f2_11ea_a322_705681b1d2cflevel0_row1\" class=\"row_heading level0 row1\" >signs_of_mental_illness</th>\n",
       "                        <td id=\"T_0ac388c0_e6f2_11ea_a322_705681b1d2cfrow1_col0\" class=\"data row1 col0\" >0.100000</td>\n",
       "                        <td id=\"T_0ac388c0_e6f2_11ea_a322_705681b1d2cfrow1_col1\" class=\"data row1 col1\" >1.000000</td>\n",
       "                        <td id=\"T_0ac388c0_e6f2_11ea_a322_705681b1d2cfrow1_col2\" class=\"data row1 col2\" >0.040000</td>\n",
       "            </tr>\n",
       "            <tr>\n",
       "                        <th id=\"T_0ac388c0_e6f2_11ea_a322_705681b1d2cflevel0_row2\" class=\"row_heading level0 row2\" >body_camera</th>\n",
       "                        <td id=\"T_0ac388c0_e6f2_11ea_a322_705681b1d2cfrow2_col0\" class=\"data row2 col0\" >-0.040000</td>\n",
       "                        <td id=\"T_0ac388c0_e6f2_11ea_a322_705681b1d2cfrow2_col1\" class=\"data row2 col1\" >0.040000</td>\n",
       "                        <td id=\"T_0ac388c0_e6f2_11ea_a322_705681b1d2cfrow2_col2\" class=\"data row2 col2\" >1.000000</td>\n",
       "            </tr>\n",
       "    </tbody></table>"
      ],
      "text/plain": [
       "<pandas.io.formats.style.Styler at 0x7fac5b472e10>"
      ]
     },
     "execution_count": 138,
     "metadata": {},
     "output_type": "execute_result"
    }
   ],
   "source": [
    "#Calculate the correlation coefficients\n",
    "corr = df.corr()\n",
    "#plot it in the next line\n",
    "corr.round(2).style.background_gradient(cmap='coolwarm')"
   ]
  },
  {
   "cell_type": "markdown",
   "metadata": {},
   "source": [
    "### What about this:\n",
    "### ● Build data profiles and tables ○ Inferential statistics\n",
    "### Can I do that with categorical features?"
   ]
  },
  {
   "cell_type": "code",
   "execution_count": 140,
   "metadata": {},
   "outputs": [],
   "source": [
    "#for my own reference\n",
    "#this changes figsize\n",
    "#sns.set(rc={'figure.figsize':(5,5)})"
   ]
  },
  {
   "cell_type": "code",
   "execution_count": null,
   "metadata": {},
   "outputs": [],
   "source": []
  },
  {
   "cell_type": "code",
   "execution_count": null,
   "metadata": {},
   "outputs": [],
   "source": []
  },
  {
   "cell_type": "code",
   "execution_count": null,
   "metadata": {},
   "outputs": [],
   "source": []
  }
 ],
 "metadata": {
  "kernelspec": {
   "display_name": "Python 3",
   "language": "python",
   "name": "python3"
  },
  "language_info": {
   "codemirror_mode": {
    "name": "ipython",
    "version": 3
   },
   "file_extension": ".py",
   "mimetype": "text/x-python",
   "name": "python",
   "nbconvert_exporter": "python",
   "pygments_lexer": "ipython3",
   "version": "3.7.7"
  }
 },
 "nbformat": 4,
 "nbformat_minor": 4
}
