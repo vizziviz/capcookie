{
 "cells": [
  {
   "cell_type": "code",
   "execution_count": 4,
   "metadata": {},
   "outputs": [],
   "source": [
    "import pandas as pd\n",
    "import os"
   ]
  },
  {
   "cell_type": "code",
   "execution_count": 5,
   "metadata": {},
   "outputs": [
    {
     "data": {
      "text/plain": [
       "'/home/vizziwo/capcookie/notebooks/old_notebooks'"
      ]
     },
     "execution_count": 5,
     "metadata": {},
     "output_type": "execute_result"
    }
   ],
   "source": [
    "os.getcwd()"
   ]
  },
  {
   "cell_type": "code",
   "execution_count": 6,
   "metadata": {},
   "outputs": [],
   "source": [
    "wapo = pd.read_csv('/home/vizziwo/capcookie/data/processed/fatalwrangling.csv', index_col=0)\n"
   ]
  },
  {
   "cell_type": "code",
   "execution_count": 7,
   "metadata": {},
   "outputs": [
    {
     "data": {
      "text/html": [
       "<div>\n",
       "<style scoped>\n",
       "    .dataframe tbody tr th:only-of-type {\n",
       "        vertical-align: middle;\n",
       "    }\n",
       "\n",
       "    .dataframe tbody tr th {\n",
       "        vertical-align: top;\n",
       "    }\n",
       "\n",
       "    .dataframe thead th {\n",
       "        text-align: right;\n",
       "    }\n",
       "</style>\n",
       "<table border=\"1\" class=\"dataframe\">\n",
       "  <thead>\n",
       "    <tr style=\"text-align: right;\">\n",
       "      <th></th>\n",
       "      <th>id</th>\n",
       "      <th>name</th>\n",
       "      <th>date</th>\n",
       "      <th>manner_of_death</th>\n",
       "      <th>armed</th>\n",
       "      <th>age</th>\n",
       "      <th>gender</th>\n",
       "      <th>race</th>\n",
       "      <th>city</th>\n",
       "      <th>state</th>\n",
       "      <th>signs_of_mental_illness</th>\n",
       "      <th>threat_level</th>\n",
       "      <th>flee</th>\n",
       "      <th>body_camera</th>\n",
       "    </tr>\n",
       "  </thead>\n",
       "  <tbody>\n",
       "    <tr>\n",
       "      <th>4895</th>\n",
       "      <td>5924</td>\n",
       "      <td>Nicholas Hirsh</td>\n",
       "      <td>2020-06-15</td>\n",
       "      <td>shot</td>\n",
       "      <td>gun</td>\n",
       "      <td>31.0</td>\n",
       "      <td>M</td>\n",
       "      <td>W</td>\n",
       "      <td>Lawrence</td>\n",
       "      <td>KS</td>\n",
       "      <td>False</td>\n",
       "      <td>attack</td>\n",
       "      <td>Car</td>\n",
       "      <td>False</td>\n",
       "    </tr>\n",
       "    <tr>\n",
       "      <th>4896</th>\n",
       "      <td>5928</td>\n",
       "      <td>Terron Jammal Boone</td>\n",
       "      <td>2020-06-17</td>\n",
       "      <td>shot</td>\n",
       "      <td>gun</td>\n",
       "      <td>31.0</td>\n",
       "      <td>M</td>\n",
       "      <td>B</td>\n",
       "      <td>Rosamond</td>\n",
       "      <td>CA</td>\n",
       "      <td>False</td>\n",
       "      <td>attack</td>\n",
       "      <td>Not fleeing</td>\n",
       "      <td>False</td>\n",
       "    </tr>\n",
       "    <tr>\n",
       "      <th>4897</th>\n",
       "      <td>5930</td>\n",
       "      <td>TK TK</td>\n",
       "      <td>2020-06-18</td>\n",
       "      <td>shot</td>\n",
       "      <td>gun</td>\n",
       "      <td>38.0</td>\n",
       "      <td>M</td>\n",
       "      <td>W</td>\n",
       "      <td>Westminister</td>\n",
       "      <td>CO</td>\n",
       "      <td>False</td>\n",
       "      <td>other</td>\n",
       "      <td>Not fleeing</td>\n",
       "      <td>False</td>\n",
       "    </tr>\n",
       "    <tr>\n",
       "      <th>4898</th>\n",
       "      <td>5933</td>\n",
       "      <td>Andres Guardado</td>\n",
       "      <td>2020-06-18</td>\n",
       "      <td>shot</td>\n",
       "      <td>gun</td>\n",
       "      <td>18.0</td>\n",
       "      <td>M</td>\n",
       "      <td>H</td>\n",
       "      <td>Gardena</td>\n",
       "      <td>CA</td>\n",
       "      <td>False</td>\n",
       "      <td>other</td>\n",
       "      <td>Foot</td>\n",
       "      <td>False</td>\n",
       "    </tr>\n",
       "    <tr>\n",
       "      <th>4899</th>\n",
       "      <td>5941</td>\n",
       "      <td>Cody W. Cook</td>\n",
       "      <td>2020-06-19</td>\n",
       "      <td>shot</td>\n",
       "      <td>gun</td>\n",
       "      <td>24.0</td>\n",
       "      <td>M</td>\n",
       "      <td>W</td>\n",
       "      <td>Sodus</td>\n",
       "      <td>NY</td>\n",
       "      <td>False</td>\n",
       "      <td>attack</td>\n",
       "      <td>Not fleeing</td>\n",
       "      <td>True</td>\n",
       "    </tr>\n",
       "  </tbody>\n",
       "</table>\n",
       "</div>"
      ],
      "text/plain": [
       "        id                 name        date manner_of_death armed   age  \\\n",
       "4895  5924       Nicholas Hirsh  2020-06-15            shot   gun  31.0   \n",
       "4896  5928  Terron Jammal Boone  2020-06-17            shot   gun  31.0   \n",
       "4897  5930                TK TK  2020-06-18            shot   gun  38.0   \n",
       "4898  5933      Andres Guardado  2020-06-18            shot   gun  18.0   \n",
       "4899  5941         Cody W. Cook  2020-06-19            shot   gun  24.0   \n",
       "\n",
       "     gender race          city state  signs_of_mental_illness threat_level  \\\n",
       "4895      M    W      Lawrence    KS                    False       attack   \n",
       "4896      M    B      Rosamond    CA                    False       attack   \n",
       "4897      M    W  Westminister    CO                    False        other   \n",
       "4898      M    H       Gardena    CA                    False        other   \n",
       "4899      M    W         Sodus    NY                    False       attack   \n",
       "\n",
       "             flee  body_camera  \n",
       "4895          Car        False  \n",
       "4896  Not fleeing        False  \n",
       "4897  Not fleeing        False  \n",
       "4898         Foot        False  \n",
       "4899  Not fleeing         True  "
      ]
     },
     "execution_count": 7,
     "metadata": {},
     "output_type": "execute_result"
    }
   ],
   "source": [
    "wapo.tail()"
   ]
  },
  {
   "cell_type": "markdown",
   "metadata": {},
   "source": [
    "## For some reason I thought 'gun and vehicle' was too confusing to classify as gun or vehicle, so i just dropped these rows:"
   ]
  },
  {
   "cell_type": "code",
   "execution_count": 8,
   "metadata": {},
   "outputs": [
    {
     "data": {
      "text/html": [
       "<div>\n",
       "<style scoped>\n",
       "    .dataframe tbody tr th:only-of-type {\n",
       "        vertical-align: middle;\n",
       "    }\n",
       "\n",
       "    .dataframe tbody tr th {\n",
       "        vertical-align: top;\n",
       "    }\n",
       "\n",
       "    .dataframe thead th {\n",
       "        text-align: right;\n",
       "    }\n",
       "</style>\n",
       "<table border=\"1\" class=\"dataframe\">\n",
       "  <thead>\n",
       "    <tr style=\"text-align: right;\">\n",
       "      <th></th>\n",
       "      <th>id</th>\n",
       "      <th>name</th>\n",
       "      <th>date</th>\n",
       "      <th>manner_of_death</th>\n",
       "      <th>armed</th>\n",
       "      <th>age</th>\n",
       "      <th>gender</th>\n",
       "      <th>race</th>\n",
       "      <th>city</th>\n",
       "      <th>state</th>\n",
       "      <th>signs_of_mental_illness</th>\n",
       "      <th>threat_level</th>\n",
       "      <th>flee</th>\n",
       "      <th>body_camera</th>\n",
       "    </tr>\n",
       "  </thead>\n",
       "  <tbody>\n",
       "    <tr>\n",
       "      <th>3410</th>\n",
       "      <td>3990</td>\n",
       "      <td>Fabian Ortiz Adame</td>\n",
       "      <td>2018-08-27</td>\n",
       "      <td>shot</td>\n",
       "      <td>gun and vehicle</td>\n",
       "      <td>25.0</td>\n",
       "      <td>M</td>\n",
       "      <td>W</td>\n",
       "      <td>Phoenix</td>\n",
       "      <td>AZ</td>\n",
       "      <td>False</td>\n",
       "      <td>attack</td>\n",
       "      <td>Car</td>\n",
       "      <td>False</td>\n",
       "    </tr>\n",
       "    <tr>\n",
       "      <th>3689</th>\n",
       "      <td>4374</td>\n",
       "      <td>Geoffrey Morris</td>\n",
       "      <td>2019-01-10</td>\n",
       "      <td>shot</td>\n",
       "      <td>gun and vehicle</td>\n",
       "      <td>29.0</td>\n",
       "      <td>M</td>\n",
       "      <td>W</td>\n",
       "      <td>Wichita</td>\n",
       "      <td>KS</td>\n",
       "      <td>False</td>\n",
       "      <td>attack</td>\n",
       "      <td>Car</td>\n",
       "      <td>False</td>\n",
       "    </tr>\n",
       "    <tr>\n",
       "      <th>4183</th>\n",
       "      <td>4934</td>\n",
       "      <td>Jose Mendez</td>\n",
       "      <td>2019-08-09</td>\n",
       "      <td>shot</td>\n",
       "      <td>gun and vehicle</td>\n",
       "      <td>37.0</td>\n",
       "      <td>M</td>\n",
       "      <td>H</td>\n",
       "      <td>Kansas City</td>\n",
       "      <td>MO</td>\n",
       "      <td>False</td>\n",
       "      <td>attack</td>\n",
       "      <td>Foot</td>\n",
       "      <td>False</td>\n",
       "    </tr>\n",
       "    <tr>\n",
       "      <th>4214</th>\n",
       "      <td>5002</td>\n",
       "      <td>Rene Enrique Ruiz</td>\n",
       "      <td>2019-08-30</td>\n",
       "      <td>shot</td>\n",
       "      <td>gun and vehicle</td>\n",
       "      <td>51.0</td>\n",
       "      <td>M</td>\n",
       "      <td>H</td>\n",
       "      <td>Tolleson</td>\n",
       "      <td>AZ</td>\n",
       "      <td>False</td>\n",
       "      <td>attack</td>\n",
       "      <td>Other</td>\n",
       "      <td>False</td>\n",
       "    </tr>\n",
       "    <tr>\n",
       "      <th>4314</th>\n",
       "      <td>5476</td>\n",
       "      <td>Cameron Bennett</td>\n",
       "      <td>2019-10-17</td>\n",
       "      <td>shot</td>\n",
       "      <td>gun and vehicle</td>\n",
       "      <td>22.0</td>\n",
       "      <td>M</td>\n",
       "      <td>B</td>\n",
       "      <td>Fayette</td>\n",
       "      <td>MS</td>\n",
       "      <td>False</td>\n",
       "      <td>attack</td>\n",
       "      <td>Car</td>\n",
       "      <td>False</td>\n",
       "    </tr>\n",
       "    <tr>\n",
       "      <th>4318</th>\n",
       "      <td>5219</td>\n",
       "      <td>Terry Countryman</td>\n",
       "      <td>2019-10-19</td>\n",
       "      <td>shot</td>\n",
       "      <td>gun and vehicle</td>\n",
       "      <td>34.0</td>\n",
       "      <td>M</td>\n",
       "      <td>W</td>\n",
       "      <td>Palestine</td>\n",
       "      <td>TX</td>\n",
       "      <td>False</td>\n",
       "      <td>attack</td>\n",
       "      <td>Other</td>\n",
       "      <td>False</td>\n",
       "    </tr>\n",
       "    <tr>\n",
       "      <th>4415</th>\n",
       "      <td>5485</td>\n",
       "      <td>Nicholas Cantelmi</td>\n",
       "      <td>2019-11-28</td>\n",
       "      <td>shot</td>\n",
       "      <td>gun and vehicle</td>\n",
       "      <td>31.0</td>\n",
       "      <td>M</td>\n",
       "      <td>W</td>\n",
       "      <td>Jim Thorpe</td>\n",
       "      <td>PA</td>\n",
       "      <td>False</td>\n",
       "      <td>attack</td>\n",
       "      <td>Other</td>\n",
       "      <td>False</td>\n",
       "    </tr>\n",
       "    <tr>\n",
       "      <th>4424</th>\n",
       "      <td>5233</td>\n",
       "      <td>Yemerson Melendez</td>\n",
       "      <td>2019-12-01</td>\n",
       "      <td>shot</td>\n",
       "      <td>gun and vehicle</td>\n",
       "      <td>16.0</td>\n",
       "      <td>M</td>\n",
       "      <td>H</td>\n",
       "      <td>Fort Pierce</td>\n",
       "      <td>FL</td>\n",
       "      <td>False</td>\n",
       "      <td>attack</td>\n",
       "      <td>Other</td>\n",
       "      <td>False</td>\n",
       "    </tr>\n",
       "    <tr>\n",
       "      <th>4491</th>\n",
       "      <td>5317</td>\n",
       "      <td>Richard Ruiz</td>\n",
       "      <td>2019-12-23</td>\n",
       "      <td>shot</td>\n",
       "      <td>gun and vehicle</td>\n",
       "      <td>38.0</td>\n",
       "      <td>M</td>\n",
       "      <td>H</td>\n",
       "      <td>Phoenix</td>\n",
       "      <td>AZ</td>\n",
       "      <td>False</td>\n",
       "      <td>attack</td>\n",
       "      <td>Car</td>\n",
       "      <td>False</td>\n",
       "    </tr>\n",
       "    <tr>\n",
       "      <th>4737</th>\n",
       "      <td>5704</td>\n",
       "      <td>Austin Hines</td>\n",
       "      <td>2020-04-01</td>\n",
       "      <td>shot</td>\n",
       "      <td>gun and vehicle</td>\n",
       "      <td>19.0</td>\n",
       "      <td>M</td>\n",
       "      <td>W</td>\n",
       "      <td>Columbus</td>\n",
       "      <td>MS</td>\n",
       "      <td>False</td>\n",
       "      <td>attack</td>\n",
       "      <td>Car</td>\n",
       "      <td>False</td>\n",
       "    </tr>\n",
       "  </tbody>\n",
       "</table>\n",
       "</div>"
      ],
      "text/plain": [
       "        id                name        date manner_of_death            armed  \\\n",
       "3410  3990  Fabian Ortiz Adame  2018-08-27            shot  gun and vehicle   \n",
       "3689  4374     Geoffrey Morris  2019-01-10            shot  gun and vehicle   \n",
       "4183  4934         Jose Mendez  2019-08-09            shot  gun and vehicle   \n",
       "4214  5002   Rene Enrique Ruiz  2019-08-30            shot  gun and vehicle   \n",
       "4314  5476     Cameron Bennett  2019-10-17            shot  gun and vehicle   \n",
       "4318  5219    Terry Countryman  2019-10-19            shot  gun and vehicle   \n",
       "4415  5485   Nicholas Cantelmi  2019-11-28            shot  gun and vehicle   \n",
       "4424  5233   Yemerson Melendez  2019-12-01            shot  gun and vehicle   \n",
       "4491  5317        Richard Ruiz  2019-12-23            shot  gun and vehicle   \n",
       "4737  5704        Austin Hines  2020-04-01            shot  gun and vehicle   \n",
       "\n",
       "       age gender race         city state  signs_of_mental_illness  \\\n",
       "3410  25.0      M    W      Phoenix    AZ                    False   \n",
       "3689  29.0      M    W      Wichita    KS                    False   \n",
       "4183  37.0      M    H  Kansas City    MO                    False   \n",
       "4214  51.0      M    H     Tolleson    AZ                    False   \n",
       "4314  22.0      M    B      Fayette    MS                    False   \n",
       "4318  34.0      M    W    Palestine    TX                    False   \n",
       "4415  31.0      M    W   Jim Thorpe    PA                    False   \n",
       "4424  16.0      M    H  Fort Pierce    FL                    False   \n",
       "4491  38.0      M    H      Phoenix    AZ                    False   \n",
       "4737  19.0      M    W     Columbus    MS                    False   \n",
       "\n",
       "     threat_level   flee  body_camera  \n",
       "3410       attack    Car        False  \n",
       "3689       attack    Car        False  \n",
       "4183       attack   Foot        False  \n",
       "4214       attack  Other        False  \n",
       "4314       attack    Car        False  \n",
       "4318       attack  Other        False  \n",
       "4415       attack  Other        False  \n",
       "4424       attack  Other        False  \n",
       "4491       attack    Car        False  \n",
       "4737       attack    Car        False  "
      ]
     },
     "execution_count": 8,
     "metadata": {},
     "output_type": "execute_result"
    }
   ],
   "source": [
    "wapo[wapo['armed']=='gun and vehicle']"
   ]
  },
  {
   "cell_type": "code",
   "execution_count": 9,
   "metadata": {},
   "outputs": [],
   "source": [
    "gunand = wapo[(wapo['armed']=='gun and vehicle')]\n",
    "wapo = wapo.drop(index = gunand.index)"
   ]
  },
  {
   "cell_type": "code",
   "execution_count": 10,
   "metadata": {},
   "outputs": [
    {
     "data": {
      "text/html": [
       "<div>\n",
       "<style scoped>\n",
       "    .dataframe tbody tr th:only-of-type {\n",
       "        vertical-align: middle;\n",
       "    }\n",
       "\n",
       "    .dataframe tbody tr th {\n",
       "        vertical-align: top;\n",
       "    }\n",
       "\n",
       "    .dataframe thead th {\n",
       "        text-align: right;\n",
       "    }\n",
       "</style>\n",
       "<table border=\"1\" class=\"dataframe\">\n",
       "  <thead>\n",
       "    <tr style=\"text-align: right;\">\n",
       "      <th></th>\n",
       "      <th>id</th>\n",
       "      <th>name</th>\n",
       "      <th>date</th>\n",
       "      <th>manner_of_death</th>\n",
       "      <th>armed</th>\n",
       "      <th>age</th>\n",
       "      <th>gender</th>\n",
       "      <th>race</th>\n",
       "      <th>city</th>\n",
       "      <th>state</th>\n",
       "      <th>signs_of_mental_illness</th>\n",
       "      <th>threat_level</th>\n",
       "      <th>flee</th>\n",
       "      <th>body_camera</th>\n",
       "    </tr>\n",
       "  </thead>\n",
       "  <tbody>\n",
       "    <tr>\n",
       "      <th>3</th>\n",
       "      <td>8</td>\n",
       "      <td>Matthew Hoffman</td>\n",
       "      <td>2015-01-04</td>\n",
       "      <td>shot</td>\n",
       "      <td>toy weapon</td>\n",
       "      <td>32.0</td>\n",
       "      <td>M</td>\n",
       "      <td>W</td>\n",
       "      <td>San Francisco</td>\n",
       "      <td>CA</td>\n",
       "      <td>True</td>\n",
       "      <td>attack</td>\n",
       "      <td>Not fleeing</td>\n",
       "      <td>False</td>\n",
       "    </tr>\n",
       "    <tr>\n",
       "      <th>9</th>\n",
       "      <td>17</td>\n",
       "      <td>Leslie Sapp III</td>\n",
       "      <td>2015-01-06</td>\n",
       "      <td>shot</td>\n",
       "      <td>toy weapon</td>\n",
       "      <td>47.0</td>\n",
       "      <td>M</td>\n",
       "      <td>B</td>\n",
       "      <td>Knoxville</td>\n",
       "      <td>PA</td>\n",
       "      <td>False</td>\n",
       "      <td>attack</td>\n",
       "      <td>Not fleeing</td>\n",
       "      <td>False</td>\n",
       "    </tr>\n",
       "    <tr>\n",
       "      <th>16</th>\n",
       "      <td>32</td>\n",
       "      <td>James Dudley Barker</td>\n",
       "      <td>2015-01-08</td>\n",
       "      <td>shot</td>\n",
       "      <td>shovel</td>\n",
       "      <td>42.0</td>\n",
       "      <td>M</td>\n",
       "      <td>W</td>\n",
       "      <td>Salt Lake City</td>\n",
       "      <td>UT</td>\n",
       "      <td>False</td>\n",
       "      <td>attack</td>\n",
       "      <td>Not fleeing</td>\n",
       "      <td>True</td>\n",
       "    </tr>\n",
       "    <tr>\n",
       "      <th>50</th>\n",
       "      <td>99</td>\n",
       "      <td>Tiano Meton</td>\n",
       "      <td>2015-01-22</td>\n",
       "      <td>shot</td>\n",
       "      <td>toy weapon</td>\n",
       "      <td>25.0</td>\n",
       "      <td>M</td>\n",
       "      <td>B</td>\n",
       "      <td>Sierra Blanca</td>\n",
       "      <td>TX</td>\n",
       "      <td>False</td>\n",
       "      <td>attack</td>\n",
       "      <td>Car</td>\n",
       "      <td>False</td>\n",
       "    </tr>\n",
       "    <tr>\n",
       "      <th>69</th>\n",
       "      <td>346</td>\n",
       "      <td>Matautu Nuu</td>\n",
       "      <td>2015-01-28</td>\n",
       "      <td>shot and Tasered</td>\n",
       "      <td>hammer</td>\n",
       "      <td>35.0</td>\n",
       "      <td>M</td>\n",
       "      <td>A</td>\n",
       "      <td>Stockton</td>\n",
       "      <td>CA</td>\n",
       "      <td>True</td>\n",
       "      <td>attack</td>\n",
       "      <td>Not fleeing</td>\n",
       "      <td>False</td>\n",
       "    </tr>\n",
       "  </tbody>\n",
       "</table>\n",
       "</div>"
      ],
      "text/plain": [
       "     id                 name        date   manner_of_death       armed   age  \\\n",
       "3     8      Matthew Hoffman  2015-01-04              shot  toy weapon  32.0   \n",
       "9    17      Leslie Sapp III  2015-01-06              shot  toy weapon  47.0   \n",
       "16   32  James Dudley Barker  2015-01-08              shot      shovel  42.0   \n",
       "50   99          Tiano Meton  2015-01-22              shot  toy weapon  25.0   \n",
       "69  346          Matautu Nuu  2015-01-28  shot and Tasered      hammer  35.0   \n",
       "\n",
       "   gender race            city state  signs_of_mental_illness threat_level  \\\n",
       "3       M    W   San Francisco    CA                     True       attack   \n",
       "9       M    B       Knoxville    PA                    False       attack   \n",
       "16      M    W  Salt Lake City    UT                    False       attack   \n",
       "50      M    B   Sierra Blanca    TX                    False       attack   \n",
       "69      M    A        Stockton    CA                     True       attack   \n",
       "\n",
       "           flee  body_camera  \n",
       "3   Not fleeing        False  \n",
       "9   Not fleeing        False  \n",
       "16  Not fleeing         True  \n",
       "50          Car        False  \n",
       "69  Not fleeing        False  "
      ]
     },
     "execution_count": 10,
     "metadata": {},
     "output_type": "execute_result"
    }
   ],
   "source": [
    "wapo[wapo['armed'].str.contains('gun|vehicle|knife|unarmed|unknown|undetermined')==False].head()"
   ]
  },
  {
   "cell_type": "markdown",
   "metadata": {},
   "source": [
    "# One-hot encoded all armed_with categories"
   ]
  },
  {
   "cell_type": "code",
   "execution_count": 11,
   "metadata": {},
   "outputs": [],
   "source": [
    "wapo['armed_gun'] = wapo['armed'].str.contains('gun') == 1\n",
    "wapo['armed_vehicle'] = wapo['armed'].str.contains('vehicle') == 1\n",
    "wapo['armed_knife'] = wapo['armed'].str.contains('knife') == 1\n",
    "wapo['armed_unknown'] = (wapo.armed.str.contains('unknown|undetermined')) == 1\n",
    "wapo['unarmed'] = wapo.armed.str.contains('unarmed') == 1\n",
    "wapo['untraditional_weapon'] = (wapo['armed'].str.contains('gun|vehicle|knife|unarmed|unknown|undetermined')==False) ==1"
   ]
  },
  {
   "cell_type": "code",
   "execution_count": 12,
   "metadata": {},
   "outputs": [
    {
     "data": {
      "text/html": [
       "<div>\n",
       "<style scoped>\n",
       "    .dataframe tbody tr th:only-of-type {\n",
       "        vertical-align: middle;\n",
       "    }\n",
       "\n",
       "    .dataframe tbody tr th {\n",
       "        vertical-align: top;\n",
       "    }\n",
       "\n",
       "    .dataframe thead th {\n",
       "        text-align: right;\n",
       "    }\n",
       "</style>\n",
       "<table border=\"1\" class=\"dataframe\">\n",
       "  <thead>\n",
       "    <tr style=\"text-align: right;\">\n",
       "      <th></th>\n",
       "      <th>id</th>\n",
       "      <th>name</th>\n",
       "      <th>date</th>\n",
       "      <th>manner_of_death</th>\n",
       "      <th>armed</th>\n",
       "      <th>age</th>\n",
       "      <th>gender</th>\n",
       "      <th>race</th>\n",
       "      <th>city</th>\n",
       "      <th>state</th>\n",
       "      <th>signs_of_mental_illness</th>\n",
       "      <th>threat_level</th>\n",
       "      <th>flee</th>\n",
       "      <th>body_camera</th>\n",
       "      <th>armed_gun</th>\n",
       "      <th>armed_vehicle</th>\n",
       "      <th>armed_knife</th>\n",
       "      <th>armed_unknown</th>\n",
       "      <th>unarmed</th>\n",
       "      <th>untraditional_weapon</th>\n",
       "    </tr>\n",
       "  </thead>\n",
       "  <tbody>\n",
       "    <tr>\n",
       "      <th>0</th>\n",
       "      <td>3</td>\n",
       "      <td>Tim Elliot</td>\n",
       "      <td>2015-01-02</td>\n",
       "      <td>shot</td>\n",
       "      <td>gun</td>\n",
       "      <td>53.0</td>\n",
       "      <td>M</td>\n",
       "      <td>A</td>\n",
       "      <td>Shelton</td>\n",
       "      <td>WA</td>\n",
       "      <td>True</td>\n",
       "      <td>attack</td>\n",
       "      <td>Not fleeing</td>\n",
       "      <td>False</td>\n",
       "      <td>True</td>\n",
       "      <td>False</td>\n",
       "      <td>False</td>\n",
       "      <td>False</td>\n",
       "      <td>False</td>\n",
       "      <td>False</td>\n",
       "    </tr>\n",
       "    <tr>\n",
       "      <th>1</th>\n",
       "      <td>4</td>\n",
       "      <td>Lewis Lee Lembke</td>\n",
       "      <td>2015-01-02</td>\n",
       "      <td>shot</td>\n",
       "      <td>gun</td>\n",
       "      <td>47.0</td>\n",
       "      <td>M</td>\n",
       "      <td>W</td>\n",
       "      <td>Aloha</td>\n",
       "      <td>OR</td>\n",
       "      <td>False</td>\n",
       "      <td>attack</td>\n",
       "      <td>Not fleeing</td>\n",
       "      <td>False</td>\n",
       "      <td>True</td>\n",
       "      <td>False</td>\n",
       "      <td>False</td>\n",
       "      <td>False</td>\n",
       "      <td>False</td>\n",
       "      <td>False</td>\n",
       "    </tr>\n",
       "    <tr>\n",
       "      <th>2</th>\n",
       "      <td>5</td>\n",
       "      <td>John Paul Quintero</td>\n",
       "      <td>2015-01-03</td>\n",
       "      <td>shot and Tasered</td>\n",
       "      <td>unarmed</td>\n",
       "      <td>23.0</td>\n",
       "      <td>M</td>\n",
       "      <td>H</td>\n",
       "      <td>Wichita</td>\n",
       "      <td>KS</td>\n",
       "      <td>False</td>\n",
       "      <td>other</td>\n",
       "      <td>Not fleeing</td>\n",
       "      <td>False</td>\n",
       "      <td>False</td>\n",
       "      <td>False</td>\n",
       "      <td>False</td>\n",
       "      <td>False</td>\n",
       "      <td>True</td>\n",
       "      <td>False</td>\n",
       "    </tr>\n",
       "    <tr>\n",
       "      <th>3</th>\n",
       "      <td>8</td>\n",
       "      <td>Matthew Hoffman</td>\n",
       "      <td>2015-01-04</td>\n",
       "      <td>shot</td>\n",
       "      <td>toy weapon</td>\n",
       "      <td>32.0</td>\n",
       "      <td>M</td>\n",
       "      <td>W</td>\n",
       "      <td>San Francisco</td>\n",
       "      <td>CA</td>\n",
       "      <td>True</td>\n",
       "      <td>attack</td>\n",
       "      <td>Not fleeing</td>\n",
       "      <td>False</td>\n",
       "      <td>False</td>\n",
       "      <td>False</td>\n",
       "      <td>False</td>\n",
       "      <td>False</td>\n",
       "      <td>False</td>\n",
       "      <td>True</td>\n",
       "    </tr>\n",
       "    <tr>\n",
       "      <th>4</th>\n",
       "      <td>9</td>\n",
       "      <td>Michael Rodriguez</td>\n",
       "      <td>2015-01-04</td>\n",
       "      <td>shot</td>\n",
       "      <td>nail gun</td>\n",
       "      <td>39.0</td>\n",
       "      <td>M</td>\n",
       "      <td>H</td>\n",
       "      <td>Evans</td>\n",
       "      <td>CO</td>\n",
       "      <td>False</td>\n",
       "      <td>attack</td>\n",
       "      <td>Not fleeing</td>\n",
       "      <td>False</td>\n",
       "      <td>True</td>\n",
       "      <td>False</td>\n",
       "      <td>False</td>\n",
       "      <td>False</td>\n",
       "      <td>False</td>\n",
       "      <td>False</td>\n",
       "    </tr>\n",
       "  </tbody>\n",
       "</table>\n",
       "</div>"
      ],
      "text/plain": [
       "   id                name        date   manner_of_death       armed   age  \\\n",
       "0   3          Tim Elliot  2015-01-02              shot         gun  53.0   \n",
       "1   4    Lewis Lee Lembke  2015-01-02              shot         gun  47.0   \n",
       "2   5  John Paul Quintero  2015-01-03  shot and Tasered     unarmed  23.0   \n",
       "3   8     Matthew Hoffman  2015-01-04              shot  toy weapon  32.0   \n",
       "4   9   Michael Rodriguez  2015-01-04              shot    nail gun  39.0   \n",
       "\n",
       "  gender race           city state  signs_of_mental_illness threat_level  \\\n",
       "0      M    A        Shelton    WA                     True       attack   \n",
       "1      M    W          Aloha    OR                    False       attack   \n",
       "2      M    H        Wichita    KS                    False        other   \n",
       "3      M    W  San Francisco    CA                     True       attack   \n",
       "4      M    H          Evans    CO                    False       attack   \n",
       "\n",
       "          flee  body_camera  armed_gun  armed_vehicle  armed_knife  \\\n",
       "0  Not fleeing        False       True          False        False   \n",
       "1  Not fleeing        False       True          False        False   \n",
       "2  Not fleeing        False      False          False        False   \n",
       "3  Not fleeing        False      False          False        False   \n",
       "4  Not fleeing        False       True          False        False   \n",
       "\n",
       "   armed_unknown  unarmed  untraditional_weapon  \n",
       "0          False    False                 False  \n",
       "1          False    False                 False  \n",
       "2          False     True                 False  \n",
       "3          False    False                  True  \n",
       "4          False    False                 False  "
      ]
     },
     "execution_count": 12,
     "metadata": {},
     "output_type": "execute_result"
    }
   ],
   "source": [
    "wapo.head()"
   ]
  },
  {
   "cell_type": "code",
   "execution_count": 13,
   "metadata": {},
   "outputs": [],
   "source": [
    "wapo = wapo.dropna()"
   ]
  },
  {
   "cell_type": "code",
   "execution_count": 14,
   "metadata": {},
   "outputs": [],
   "source": [
    "wapo = wapo.drop(columns = ['id','name','date','city','state'])"
   ]
  },
  {
   "cell_type": "code",
   "execution_count": 15,
   "metadata": {
    "scrolled": true
   },
   "outputs": [
    {
     "data": {
      "text/plain": [
       "Index(['manner_of_death', 'armed', 'age', 'gender', 'race',\n",
       "       'signs_of_mental_illness', 'threat_level', 'flee', 'body_camera',\n",
       "       'armed_gun', 'armed_vehicle', 'armed_knife', 'armed_unknown', 'unarmed',\n",
       "       'untraditional_weapon'],\n",
       "      dtype='object')"
      ]
     },
     "execution_count": 15,
     "metadata": {},
     "output_type": "execute_result"
    }
   ],
   "source": [
    "wapo.columns"
   ]
  },
  {
   "cell_type": "code",
   "execution_count": null,
   "metadata": {},
   "outputs": [],
   "source": []
  },
  {
   "cell_type": "code",
   "execution_count": 16,
   "metadata": {},
   "outputs": [],
   "source": [
    "wapo['blackhispanic'] = wapo['race'].str.contains('B|H')\n",
    "other = wapo.loc[:,['gender','manner_of_death','threat_level','flee']]\n",
    "w = pd.concat((wapo, pd.get_dummies(other)), axis=1)\n"
   ]
  },
  {
   "cell_type": "code",
   "execution_count": 17,
   "metadata": {},
   "outputs": [],
   "source": [
    "cols = ['gender','manner_of_death','armed','threat_level','flee']\n",
    "w = w.drop(columns = cols)"
   ]
  },
  {
   "cell_type": "markdown",
   "metadata": {},
   "source": [
    "# MODEL 1: Kept Blackhispanic, dropped race"
   ]
  },
  {
   "cell_type": "code",
   "execution_count": 18,
   "metadata": {},
   "outputs": [],
   "source": [
    "cols = ['race']\n",
    "w = w.drop(columns = cols)"
   ]
  },
  {
   "cell_type": "code",
   "execution_count": 19,
   "metadata": {},
   "outputs": [
    {
     "data": {
      "text/plain": [
       "['age',\n",
       " 'signs_of_mental_illness',\n",
       " 'body_camera',\n",
       " 'armed_gun',\n",
       " 'armed_vehicle',\n",
       " 'armed_knife',\n",
       " 'armed_unknown',\n",
       " 'unarmed',\n",
       " 'untraditional_weapon',\n",
       " 'blackhispanic',\n",
       " 'gender_F',\n",
       " 'gender_M',\n",
       " 'gender_Nonbinary',\n",
       " 'manner_of_death_shot',\n",
       " 'manner_of_death_shot and Tasered',\n",
       " 'threat_level_attack',\n",
       " 'threat_level_other',\n",
       " 'threat_level_undetermined',\n",
       " 'flee_Car',\n",
       " 'flee_Foot',\n",
       " 'flee_Not fleeing',\n",
       " 'flee_Other']"
      ]
     },
     "execution_count": 19,
     "metadata": {},
     "output_type": "execute_result"
    }
   ],
   "source": [
    "pd.options.display.max_colwidth = 999\n",
    "pd.options.display.max_rows = 999\n",
    "list(w.columns)"
   ]
  },
  {
   "cell_type": "code",
   "execution_count": 20,
   "metadata": {},
   "outputs": [
    {
     "data": {
      "text/html": [
       "<div>\n",
       "<style scoped>\n",
       "    .dataframe tbody tr th:only-of-type {\n",
       "        vertical-align: middle;\n",
       "    }\n",
       "\n",
       "    .dataframe tbody tr th {\n",
       "        vertical-align: top;\n",
       "    }\n",
       "\n",
       "    .dataframe thead th {\n",
       "        text-align: right;\n",
       "    }\n",
       "</style>\n",
       "<table border=\"1\" class=\"dataframe\">\n",
       "  <thead>\n",
       "    <tr style=\"text-align: right;\">\n",
       "      <th></th>\n",
       "      <th>age</th>\n",
       "      <th>signs_of_mental_illness</th>\n",
       "      <th>body_camera</th>\n",
       "      <th>armed_gun</th>\n",
       "      <th>armed_vehicle</th>\n",
       "      <th>armed_knife</th>\n",
       "      <th>armed_unknown</th>\n",
       "      <th>unarmed</th>\n",
       "      <th>untraditional_weapon</th>\n",
       "      <th>blackhispanic</th>\n",
       "      <th>...</th>\n",
       "      <th>gender_Nonbinary</th>\n",
       "      <th>manner_of_death_shot</th>\n",
       "      <th>manner_of_death_shot and Tasered</th>\n",
       "      <th>threat_level_attack</th>\n",
       "      <th>threat_level_other</th>\n",
       "      <th>threat_level_undetermined</th>\n",
       "      <th>flee_Car</th>\n",
       "      <th>flee_Foot</th>\n",
       "      <th>flee_Not fleeing</th>\n",
       "      <th>flee_Other</th>\n",
       "    </tr>\n",
       "  </thead>\n",
       "  <tbody>\n",
       "    <tr>\n",
       "      <th>0</th>\n",
       "      <td>53.0</td>\n",
       "      <td>True</td>\n",
       "      <td>False</td>\n",
       "      <td>True</td>\n",
       "      <td>False</td>\n",
       "      <td>False</td>\n",
       "      <td>False</td>\n",
       "      <td>False</td>\n",
       "      <td>False</td>\n",
       "      <td>False</td>\n",
       "      <td>...</td>\n",
       "      <td>0</td>\n",
       "      <td>1</td>\n",
       "      <td>0</td>\n",
       "      <td>1</td>\n",
       "      <td>0</td>\n",
       "      <td>0</td>\n",
       "      <td>0</td>\n",
       "      <td>0</td>\n",
       "      <td>1</td>\n",
       "      <td>0</td>\n",
       "    </tr>\n",
       "    <tr>\n",
       "      <th>1</th>\n",
       "      <td>47.0</td>\n",
       "      <td>False</td>\n",
       "      <td>False</td>\n",
       "      <td>True</td>\n",
       "      <td>False</td>\n",
       "      <td>False</td>\n",
       "      <td>False</td>\n",
       "      <td>False</td>\n",
       "      <td>False</td>\n",
       "      <td>False</td>\n",
       "      <td>...</td>\n",
       "      <td>0</td>\n",
       "      <td>1</td>\n",
       "      <td>0</td>\n",
       "      <td>1</td>\n",
       "      <td>0</td>\n",
       "      <td>0</td>\n",
       "      <td>0</td>\n",
       "      <td>0</td>\n",
       "      <td>1</td>\n",
       "      <td>0</td>\n",
       "    </tr>\n",
       "    <tr>\n",
       "      <th>2</th>\n",
       "      <td>23.0</td>\n",
       "      <td>False</td>\n",
       "      <td>False</td>\n",
       "      <td>False</td>\n",
       "      <td>False</td>\n",
       "      <td>False</td>\n",
       "      <td>False</td>\n",
       "      <td>True</td>\n",
       "      <td>False</td>\n",
       "      <td>True</td>\n",
       "      <td>...</td>\n",
       "      <td>0</td>\n",
       "      <td>0</td>\n",
       "      <td>1</td>\n",
       "      <td>0</td>\n",
       "      <td>1</td>\n",
       "      <td>0</td>\n",
       "      <td>0</td>\n",
       "      <td>0</td>\n",
       "      <td>1</td>\n",
       "      <td>0</td>\n",
       "    </tr>\n",
       "    <tr>\n",
       "      <th>3</th>\n",
       "      <td>32.0</td>\n",
       "      <td>True</td>\n",
       "      <td>False</td>\n",
       "      <td>False</td>\n",
       "      <td>False</td>\n",
       "      <td>False</td>\n",
       "      <td>False</td>\n",
       "      <td>False</td>\n",
       "      <td>True</td>\n",
       "      <td>False</td>\n",
       "      <td>...</td>\n",
       "      <td>0</td>\n",
       "      <td>1</td>\n",
       "      <td>0</td>\n",
       "      <td>1</td>\n",
       "      <td>0</td>\n",
       "      <td>0</td>\n",
       "      <td>0</td>\n",
       "      <td>0</td>\n",
       "      <td>1</td>\n",
       "      <td>0</td>\n",
       "    </tr>\n",
       "    <tr>\n",
       "      <th>4</th>\n",
       "      <td>39.0</td>\n",
       "      <td>False</td>\n",
       "      <td>False</td>\n",
       "      <td>True</td>\n",
       "      <td>False</td>\n",
       "      <td>False</td>\n",
       "      <td>False</td>\n",
       "      <td>False</td>\n",
       "      <td>False</td>\n",
       "      <td>True</td>\n",
       "      <td>...</td>\n",
       "      <td>0</td>\n",
       "      <td>1</td>\n",
       "      <td>0</td>\n",
       "      <td>1</td>\n",
       "      <td>0</td>\n",
       "      <td>0</td>\n",
       "      <td>0</td>\n",
       "      <td>0</td>\n",
       "      <td>1</td>\n",
       "      <td>0</td>\n",
       "    </tr>\n",
       "  </tbody>\n",
       "</table>\n",
       "<p>5 rows × 22 columns</p>\n",
       "</div>"
      ],
      "text/plain": [
       "    age  signs_of_mental_illness  body_camera  armed_gun  armed_vehicle  \\\n",
       "0  53.0                     True        False       True          False   \n",
       "1  47.0                    False        False       True          False   \n",
       "2  23.0                    False        False      False          False   \n",
       "3  32.0                     True        False      False          False   \n",
       "4  39.0                    False        False       True          False   \n",
       "\n",
       "   armed_knife  armed_unknown  unarmed  untraditional_weapon  blackhispanic  \\\n",
       "0        False          False    False                 False          False   \n",
       "1        False          False    False                 False          False   \n",
       "2        False          False     True                 False           True   \n",
       "3        False          False    False                  True          False   \n",
       "4        False          False    False                 False           True   \n",
       "\n",
       "   ...  gender_Nonbinary  manner_of_death_shot  \\\n",
       "0  ...                 0                     1   \n",
       "1  ...                 0                     1   \n",
       "2  ...                 0                     0   \n",
       "3  ...                 0                     1   \n",
       "4  ...                 0                     1   \n",
       "\n",
       "   manner_of_death_shot and Tasered  threat_level_attack  threat_level_other  \\\n",
       "0                                 0                    1                   0   \n",
       "1                                 0                    1                   0   \n",
       "2                                 1                    0                   1   \n",
       "3                                 0                    1                   0   \n",
       "4                                 0                    1                   0   \n",
       "\n",
       "   threat_level_undetermined  flee_Car  flee_Foot  flee_Not fleeing  \\\n",
       "0                          0         0          0                 1   \n",
       "1                          0         0          0                 1   \n",
       "2                          0         0          0                 1   \n",
       "3                          0         0          0                 1   \n",
       "4                          0         0          0                 1   \n",
       "\n",
       "   flee_Other  \n",
       "0           0  \n",
       "1           0  \n",
       "2           0  \n",
       "3           0  \n",
       "4           0  \n",
       "\n",
       "[5 rows x 22 columns]"
      ]
     },
     "execution_count": 20,
     "metadata": {},
     "output_type": "execute_result"
    }
   ],
   "source": [
    "w.head()"
   ]
  },
  {
   "cell_type": "code",
   "execution_count": null,
   "metadata": {},
   "outputs": [],
   "source": []
  },
  {
   "cell_type": "code",
   "execution_count": 21,
   "metadata": {},
   "outputs": [],
   "source": [
    "import turicreate\n",
    "sf = turicreate.SFrame(w)"
   ]
  },
  {
   "cell_type": "code",
   "execution_count": 22,
   "metadata": {},
   "outputs": [],
   "source": [
    "feats = ['age',\n",
    " 'signs_of_mental_illness',\n",
    " 'body_camera',\n",
    " 'armed_gun',\n",
    " 'armed_vehicle',\n",
    " 'armed_knife',\n",
    " 'armed_unknown',\n",
    " 'unarmed',\n",
    " 'untraditional_weapon',\n",
    " 'gender_F',\n",
    " 'gender_M',\n",
    " 'manner_of_death_shot',\n",
    " 'manner_of_death_shot and Tasered',\n",
    " 'threat_level_attack',\n",
    " 'threat_level_other',\n",
    " 'threat_level_undetermined',\n",
    " 'flee_Car',\n",
    " 'flee_Foot',\n",
    " 'flee_Not fleeing',\n",
    " 'flee_Other']"
   ]
  },
  {
   "cell_type": "code",
   "execution_count": 23,
   "metadata": {},
   "outputs": [
    {
     "data": {
      "text/html": [
       "<pre>Logistic regression:</pre>"
      ],
      "text/plain": [
       "Logistic regression:"
      ]
     },
     "metadata": {},
     "output_type": "display_data"
    },
    {
     "data": {
      "text/html": [
       "<pre>--------------------------------------------------------</pre>"
      ],
      "text/plain": [
       "--------------------------------------------------------"
      ]
     },
     "metadata": {},
     "output_type": "display_data"
    },
    {
     "data": {
      "text/html": [
       "<pre>Number of examples          : 3934</pre>"
      ],
      "text/plain": [
       "Number of examples          : 3934"
      ]
     },
     "metadata": {},
     "output_type": "display_data"
    },
    {
     "data": {
      "text/html": [
       "<pre>Number of classes           : 2</pre>"
      ],
      "text/plain": [
       "Number of classes           : 2"
      ]
     },
     "metadata": {},
     "output_type": "display_data"
    },
    {
     "data": {
      "text/html": [
       "<pre>Number of feature columns   : 20</pre>"
      ],
      "text/plain": [
       "Number of feature columns   : 20"
      ]
     },
     "metadata": {},
     "output_type": "display_data"
    },
    {
     "data": {
      "text/html": [
       "<pre>Number of unpacked features : 20</pre>"
      ],
      "text/plain": [
       "Number of unpacked features : 20"
      ]
     },
     "metadata": {},
     "output_type": "display_data"
    },
    {
     "data": {
      "text/html": [
       "<pre>Number of coefficients      : 21</pre>"
      ],
      "text/plain": [
       "Number of coefficients      : 21"
      ]
     },
     "metadata": {},
     "output_type": "display_data"
    },
    {
     "data": {
      "text/html": [
       "<pre>Starting Newton Method</pre>"
      ],
      "text/plain": [
       "Starting Newton Method"
      ]
     },
     "metadata": {},
     "output_type": "display_data"
    },
    {
     "data": {
      "text/html": [
       "<pre>--------------------------------------------------------</pre>"
      ],
      "text/plain": [
       "--------------------------------------------------------"
      ]
     },
     "metadata": {},
     "output_type": "display_data"
    },
    {
     "data": {
      "text/html": [
       "<pre>+-----------+----------+--------------+-------------------+---------------------+</pre>"
      ],
      "text/plain": [
       "+-----------+----------+--------------+-------------------+---------------------+"
      ]
     },
     "metadata": {},
     "output_type": "display_data"
    },
    {
     "data": {
      "text/html": [
       "<pre>| Iteration | Passes   | Elapsed Time | Training Accuracy | Validation Accuracy |</pre>"
      ],
      "text/plain": [
       "| Iteration | Passes   | Elapsed Time | Training Accuracy | Validation Accuracy |"
      ]
     },
     "metadata": {},
     "output_type": "display_data"
    },
    {
     "data": {
      "text/html": [
       "<pre>+-----------+----------+--------------+-------------------+---------------------+</pre>"
      ],
      "text/plain": [
       "+-----------+----------+--------------+-------------------+---------------------+"
      ]
     },
     "metadata": {},
     "output_type": "display_data"
    },
    {
     "data": {
      "text/html": [
       "<pre>| 1         | 2        | 1.024646     | 0.630910          | 0.606695            |</pre>"
      ],
      "text/plain": [
       "| 1         | 2        | 1.024646     | 0.630910          | 0.606695            |"
      ]
     },
     "metadata": {},
     "output_type": "display_data"
    },
    {
     "data": {
      "text/html": [
       "<pre>| 2         | 3        | 1.042720     | 0.631673          | 0.610879            |</pre>"
      ],
      "text/plain": [
       "| 2         | 3        | 1.042720     | 0.631673          | 0.610879            |"
      ]
     },
     "metadata": {},
     "output_type": "display_data"
    },
    {
     "data": {
      "text/html": [
       "<pre>| 3         | 4        | 1.060693     | 0.631673          | 0.610879            |</pre>"
      ],
      "text/plain": [
       "| 3         | 4        | 1.060693     | 0.631673          | 0.610879            |"
      ]
     },
     "metadata": {},
     "output_type": "display_data"
    },
    {
     "data": {
      "text/html": [
       "<pre>+-----------+----------+--------------+-------------------+---------------------+</pre>"
      ],
      "text/plain": [
       "+-----------+----------+--------------+-------------------+---------------------+"
      ]
     },
     "metadata": {},
     "output_type": "display_data"
    },
    {
     "data": {
      "text/html": [
       "<pre>SUCCESS: Optimal solution found.</pre>"
      ],
      "text/plain": [
       "SUCCESS: Optimal solution found."
      ]
     },
     "metadata": {},
     "output_type": "display_data"
    },
    {
     "data": {
      "text/html": [
       "<pre></pre>"
      ],
      "text/plain": []
     },
     "metadata": {},
     "output_type": "display_data"
    }
   ],
   "source": [
    "train_data,test_data = sf.random_split(.8,seed=0)\n",
    "race_model = turicreate.logistic_classifier.create(train_data,target='blackhispanic', features=feats, validation_set=test_data)"
   ]
  },
  {
   "cell_type": "code",
   "execution_count": 24,
   "metadata": {},
   "outputs": [
    {
     "data": {
      "text/plain": [
       "<bound method LogisticClassifier.evaluate of Class                          : LogisticClassifier\n",
       "\n",
       "Schema\n",
       "------\n",
       "Number of coefficients         : 21\n",
       "Number of examples             : 3934\n",
       "Number of classes              : 2\n",
       "Number of feature columns      : 20\n",
       "Number of unpacked features    : 20\n",
       "\n",
       "Hyperparameters\n",
       "---------------\n",
       "L1 penalty                     : 0.0\n",
       "L2 penalty                     : 0.01\n",
       "\n",
       "Training Summary\n",
       "----------------\n",
       "Solver                         : newton\n",
       "Solver iterations              : 3\n",
       "Solver status                  : SUCCESS: Optimal solution found.\n",
       "Training time (sec)            : 1.0741\n",
       "\n",
       "Settings\n",
       "--------\n",
       "Log-likelihood                 : 2513.5467\n",
       "\n",
       "Highest Positive Coefficients\n",
       "-----------------------------\n",
       "gender_M                       : 2.5588\n",
       "gender_F                       : 2.0053\n",
       "unarmed                        : 0.9717\n",
       "untraditional_weapon           : 0.7705\n",
       "armed_gun                      : 0.7282\n",
       "\n",
       "Lowest Negative Coefficients\n",
       "----------------------------\n",
       "(intercept)                    : -1.894\n",
       "signs_of_mental_illness        : -0.7581\n",
       "flee_Car                       : -0.0996\n",
       "flee_Other                     : -0.0736\n",
       "age                            : -0.0402\n",
       ">"
      ]
     },
     "execution_count": 24,
     "metadata": {},
     "output_type": "execute_result"
    }
   ],
   "source": [
    "race_model.evaluate"
   ]
  },
  {
   "cell_type": "code",
   "execution_count": 25,
   "metadata": {},
   "outputs": [
    {
     "data": {
      "text/plain": [
       "{'roc_curve': Columns:\n",
       " \tthreshold\tfloat\n",
       " \tfpr\tfloat\n",
       " \ttpr\tfloat\n",
       " \tp\tint\n",
       " \tn\tint\n",
       " \n",
       " Rows: 100001\n",
       " \n",
       " Data:\n",
       " +-----------+-----+-----+-----+-----+\n",
       " | threshold | fpr | tpr |  p  |  n  |\n",
       " +-----------+-----+-----+-----+-----+\n",
       " |    0.0    | 1.0 | 1.0 | 437 | 519 |\n",
       " |   1e-05   | 1.0 | 1.0 | 437 | 519 |\n",
       " |   2e-05   | 1.0 | 1.0 | 437 | 519 |\n",
       " |   3e-05   | 1.0 | 1.0 | 437 | 519 |\n",
       " |   4e-05   | 1.0 | 1.0 | 437 | 519 |\n",
       " |   5e-05   | 1.0 | 1.0 | 437 | 519 |\n",
       " |   6e-05   | 1.0 | 1.0 | 437 | 519 |\n",
       " |   7e-05   | 1.0 | 1.0 | 437 | 519 |\n",
       " |   8e-05   | 1.0 | 1.0 | 437 | 519 |\n",
       " |   9e-05   | 1.0 | 1.0 | 437 | 519 |\n",
       " +-----------+-----+-----+-----+-----+\n",
       " [100001 rows x 5 columns]\n",
       " Note: Only the head of the SFrame is printed.\n",
       " You can use print_rows(num_rows=m, num_columns=n) to print more rows and columns.}"
      ]
     },
     "execution_count": 25,
     "metadata": {},
     "output_type": "execute_result"
    }
   ],
   "source": [
    "race_model.evaluate(test_data, metric='roc_curve')"
   ]
  },
  {
   "cell_type": "code",
   "execution_count": 26,
   "metadata": {},
   "outputs": [],
   "source": [
    "sf['predicted_black'] = race_model.predict(sf, output_type = 'probability')"
   ]
  },
  {
   "cell_type": "code",
   "execution_count": null,
   "metadata": {},
   "outputs": [],
   "source": []
  },
  {
   "cell_type": "code",
   "execution_count": 27,
   "metadata": {},
   "outputs": [],
   "source": [
    "w['predicted_black'] = race_model.predict(sf, output_type = 'probability')"
   ]
  },
  {
   "cell_type": "code",
   "execution_count": 28,
   "metadata": {},
   "outputs": [
    {
     "data": {
      "text/html": [
       "<div>\n",
       "<style scoped>\n",
       "    .dataframe tbody tr th:only-of-type {\n",
       "        vertical-align: middle;\n",
       "    }\n",
       "\n",
       "    .dataframe tbody tr th {\n",
       "        vertical-align: top;\n",
       "    }\n",
       "\n",
       "    .dataframe thead th {\n",
       "        text-align: right;\n",
       "    }\n",
       "</style>\n",
       "<table border=\"1\" class=\"dataframe\">\n",
       "  <thead>\n",
       "    <tr style=\"text-align: right;\">\n",
       "      <th></th>\n",
       "      <th>blackhispanic</th>\n",
       "      <th>predicted_black</th>\n",
       "    </tr>\n",
       "  </thead>\n",
       "  <tbody>\n",
       "    <tr>\n",
       "      <th>811</th>\n",
       "      <td>False</td>\n",
       "      <td>0.837844</td>\n",
       "    </tr>\n",
       "    <tr>\n",
       "      <th>2189</th>\n",
       "      <td>True</td>\n",
       "      <td>0.836708</td>\n",
       "    </tr>\n",
       "    <tr>\n",
       "      <th>2158</th>\n",
       "      <td>True</td>\n",
       "      <td>0.831317</td>\n",
       "    </tr>\n",
       "    <tr>\n",
       "      <th>1671</th>\n",
       "      <td>True</td>\n",
       "      <td>0.823779</td>\n",
       "    </tr>\n",
       "    <tr>\n",
       "      <th>3246</th>\n",
       "      <td>True</td>\n",
       "      <td>0.818799</td>\n",
       "    </tr>\n",
       "  </tbody>\n",
       "</table>\n",
       "</div>"
      ],
      "text/plain": [
       "      blackhispanic  predicted_black\n",
       "811           False         0.837844\n",
       "2189           True         0.836708\n",
       "2158           True         0.831317\n",
       "1671           True         0.823779\n",
       "3246           True         0.818799"
      ]
     },
     "execution_count": 28,
     "metadata": {},
     "output_type": "execute_result"
    }
   ],
   "source": [
    "pd.options.display.max_columns = 999\n",
    "w.sort_values(by='predicted_black', ascending=False).loc[:,['blackhispanic','predicted_black']].head()"
   ]
  },
  {
   "cell_type": "markdown",
   "metadata": {},
   "source": [
    "# MODEL 2: Just Blackhispanic and White (no Asian, NatAm, Other), No Age-Group Cols"
   ]
  },
  {
   "cell_type": "code",
   "execution_count": 29,
   "metadata": {},
   "outputs": [
    {
     "data": {
      "text/html": [
       "<div>\n",
       "<style scoped>\n",
       "    .dataframe tbody tr th:only-of-type {\n",
       "        vertical-align: middle;\n",
       "    }\n",
       "\n",
       "    .dataframe tbody tr th {\n",
       "        vertical-align: top;\n",
       "    }\n",
       "\n",
       "    .dataframe thead th {\n",
       "        text-align: right;\n",
       "    }\n",
       "</style>\n",
       "<table border=\"1\" class=\"dataframe\">\n",
       "  <thead>\n",
       "    <tr style=\"text-align: right;\">\n",
       "      <th></th>\n",
       "      <th>manner_of_death</th>\n",
       "      <th>armed</th>\n",
       "      <th>age</th>\n",
       "      <th>gender</th>\n",
       "      <th>race</th>\n",
       "      <th>signs_of_mental_illness</th>\n",
       "      <th>threat_level</th>\n",
       "      <th>flee</th>\n",
       "      <th>body_camera</th>\n",
       "      <th>armed_gun</th>\n",
       "      <th>armed_vehicle</th>\n",
       "      <th>armed_knife</th>\n",
       "      <th>armed_unknown</th>\n",
       "      <th>unarmed</th>\n",
       "      <th>untraditional_weapon</th>\n",
       "      <th>blackhispanic</th>\n",
       "    </tr>\n",
       "  </thead>\n",
       "  <tbody>\n",
       "    <tr>\n",
       "      <th>0</th>\n",
       "      <td>shot</td>\n",
       "      <td>gun</td>\n",
       "      <td>53.0</td>\n",
       "      <td>M</td>\n",
       "      <td>A</td>\n",
       "      <td>True</td>\n",
       "      <td>attack</td>\n",
       "      <td>Not fleeing</td>\n",
       "      <td>False</td>\n",
       "      <td>True</td>\n",
       "      <td>False</td>\n",
       "      <td>False</td>\n",
       "      <td>False</td>\n",
       "      <td>False</td>\n",
       "      <td>False</td>\n",
       "      <td>False</td>\n",
       "    </tr>\n",
       "    <tr>\n",
       "      <th>1</th>\n",
       "      <td>shot</td>\n",
       "      <td>gun</td>\n",
       "      <td>47.0</td>\n",
       "      <td>M</td>\n",
       "      <td>W</td>\n",
       "      <td>False</td>\n",
       "      <td>attack</td>\n",
       "      <td>Not fleeing</td>\n",
       "      <td>False</td>\n",
       "      <td>True</td>\n",
       "      <td>False</td>\n",
       "      <td>False</td>\n",
       "      <td>False</td>\n",
       "      <td>False</td>\n",
       "      <td>False</td>\n",
       "      <td>False</td>\n",
       "    </tr>\n",
       "    <tr>\n",
       "      <th>2</th>\n",
       "      <td>shot and Tasered</td>\n",
       "      <td>unarmed</td>\n",
       "      <td>23.0</td>\n",
       "      <td>M</td>\n",
       "      <td>H</td>\n",
       "      <td>False</td>\n",
       "      <td>other</td>\n",
       "      <td>Not fleeing</td>\n",
       "      <td>False</td>\n",
       "      <td>False</td>\n",
       "      <td>False</td>\n",
       "      <td>False</td>\n",
       "      <td>False</td>\n",
       "      <td>True</td>\n",
       "      <td>False</td>\n",
       "      <td>True</td>\n",
       "    </tr>\n",
       "    <tr>\n",
       "      <th>3</th>\n",
       "      <td>shot</td>\n",
       "      <td>toy weapon</td>\n",
       "      <td>32.0</td>\n",
       "      <td>M</td>\n",
       "      <td>W</td>\n",
       "      <td>True</td>\n",
       "      <td>attack</td>\n",
       "      <td>Not fleeing</td>\n",
       "      <td>False</td>\n",
       "      <td>False</td>\n",
       "      <td>False</td>\n",
       "      <td>False</td>\n",
       "      <td>False</td>\n",
       "      <td>False</td>\n",
       "      <td>True</td>\n",
       "      <td>False</td>\n",
       "    </tr>\n",
       "    <tr>\n",
       "      <th>4</th>\n",
       "      <td>shot</td>\n",
       "      <td>nail gun</td>\n",
       "      <td>39.0</td>\n",
       "      <td>M</td>\n",
       "      <td>H</td>\n",
       "      <td>False</td>\n",
       "      <td>attack</td>\n",
       "      <td>Not fleeing</td>\n",
       "      <td>False</td>\n",
       "      <td>True</td>\n",
       "      <td>False</td>\n",
       "      <td>False</td>\n",
       "      <td>False</td>\n",
       "      <td>False</td>\n",
       "      <td>False</td>\n",
       "      <td>True</td>\n",
       "    </tr>\n",
       "  </tbody>\n",
       "</table>\n",
       "</div>"
      ],
      "text/plain": [
       "    manner_of_death       armed   age gender race  signs_of_mental_illness  \\\n",
       "0              shot         gun  53.0      M    A                     True   \n",
       "1              shot         gun  47.0      M    W                    False   \n",
       "2  shot and Tasered     unarmed  23.0      M    H                    False   \n",
       "3              shot  toy weapon  32.0      M    W                     True   \n",
       "4              shot    nail gun  39.0      M    H                    False   \n",
       "\n",
       "  threat_level         flee  body_camera  armed_gun  armed_vehicle  \\\n",
       "0       attack  Not fleeing        False       True          False   \n",
       "1       attack  Not fleeing        False       True          False   \n",
       "2        other  Not fleeing        False      False          False   \n",
       "3       attack  Not fleeing        False      False          False   \n",
       "4       attack  Not fleeing        False       True          False   \n",
       "\n",
       "   armed_knife  armed_unknown  unarmed  untraditional_weapon  blackhispanic  \n",
       "0        False          False    False                 False          False  \n",
       "1        False          False    False                 False          False  \n",
       "2        False          False     True                 False           True  \n",
       "3        False          False    False                  True          False  \n",
       "4        False          False    False                 False           True  "
      ]
     },
     "execution_count": 29,
     "metadata": {},
     "output_type": "execute_result"
    }
   ],
   "source": [
    "wapo.head()"
   ]
  },
  {
   "cell_type": "code",
   "execution_count": 30,
   "metadata": {},
   "outputs": [
    {
     "data": {
      "text/html": [
       "<div>\n",
       "<style scoped>\n",
       "    .dataframe tbody tr th:only-of-type {\n",
       "        vertical-align: middle;\n",
       "    }\n",
       "\n",
       "    .dataframe tbody tr th {\n",
       "        vertical-align: top;\n",
       "    }\n",
       "\n",
       "    .dataframe thead th {\n",
       "        text-align: right;\n",
       "    }\n",
       "</style>\n",
       "<table border=\"1\" class=\"dataframe\">\n",
       "  <thead>\n",
       "    <tr style=\"text-align: right;\">\n",
       "      <th></th>\n",
       "      <th>manner_of_death</th>\n",
       "      <th>armed</th>\n",
       "      <th>age</th>\n",
       "      <th>gender</th>\n",
       "      <th>race</th>\n",
       "      <th>signs_of_mental_illness</th>\n",
       "      <th>threat_level</th>\n",
       "      <th>flee</th>\n",
       "      <th>body_camera</th>\n",
       "      <th>armed_gun</th>\n",
       "      <th>armed_vehicle</th>\n",
       "      <th>armed_knife</th>\n",
       "      <th>armed_unknown</th>\n",
       "      <th>unarmed</th>\n",
       "      <th>untraditional_weapon</th>\n",
       "      <th>blackhispanic</th>\n",
       "    </tr>\n",
       "  </thead>\n",
       "  <tbody>\n",
       "    <tr>\n",
       "      <th>1</th>\n",
       "      <td>shot</td>\n",
       "      <td>gun</td>\n",
       "      <td>47.0</td>\n",
       "      <td>M</td>\n",
       "      <td>W</td>\n",
       "      <td>False</td>\n",
       "      <td>attack</td>\n",
       "      <td>Not fleeing</td>\n",
       "      <td>False</td>\n",
       "      <td>True</td>\n",
       "      <td>False</td>\n",
       "      <td>False</td>\n",
       "      <td>False</td>\n",
       "      <td>False</td>\n",
       "      <td>False</td>\n",
       "      <td>False</td>\n",
       "    </tr>\n",
       "    <tr>\n",
       "      <th>3</th>\n",
       "      <td>shot</td>\n",
       "      <td>toy weapon</td>\n",
       "      <td>32.0</td>\n",
       "      <td>M</td>\n",
       "      <td>W</td>\n",
       "      <td>True</td>\n",
       "      <td>attack</td>\n",
       "      <td>Not fleeing</td>\n",
       "      <td>False</td>\n",
       "      <td>False</td>\n",
       "      <td>False</td>\n",
       "      <td>False</td>\n",
       "      <td>False</td>\n",
       "      <td>False</td>\n",
       "      <td>True</td>\n",
       "      <td>False</td>\n",
       "    </tr>\n",
       "    <tr>\n",
       "      <th>5</th>\n",
       "      <td>shot</td>\n",
       "      <td>gun</td>\n",
       "      <td>18.0</td>\n",
       "      <td>M</td>\n",
       "      <td>W</td>\n",
       "      <td>False</td>\n",
       "      <td>attack</td>\n",
       "      <td>Not fleeing</td>\n",
       "      <td>False</td>\n",
       "      <td>True</td>\n",
       "      <td>False</td>\n",
       "      <td>False</td>\n",
       "      <td>False</td>\n",
       "      <td>False</td>\n",
       "      <td>False</td>\n",
       "      <td>False</td>\n",
       "    </tr>\n",
       "    <tr>\n",
       "      <th>7</th>\n",
       "      <td>shot</td>\n",
       "      <td>gun</td>\n",
       "      <td>35.0</td>\n",
       "      <td>M</td>\n",
       "      <td>W</td>\n",
       "      <td>False</td>\n",
       "      <td>attack</td>\n",
       "      <td>Not fleeing</td>\n",
       "      <td>False</td>\n",
       "      <td>True</td>\n",
       "      <td>False</td>\n",
       "      <td>False</td>\n",
       "      <td>False</td>\n",
       "      <td>False</td>\n",
       "      <td>False</td>\n",
       "      <td>False</td>\n",
       "    </tr>\n",
       "    <tr>\n",
       "      <th>8</th>\n",
       "      <td>shot</td>\n",
       "      <td>unarmed</td>\n",
       "      <td>34.0</td>\n",
       "      <td>F</td>\n",
       "      <td>W</td>\n",
       "      <td>False</td>\n",
       "      <td>other</td>\n",
       "      <td>Not fleeing</td>\n",
       "      <td>True</td>\n",
       "      <td>False</td>\n",
       "      <td>False</td>\n",
       "      <td>False</td>\n",
       "      <td>False</td>\n",
       "      <td>True</td>\n",
       "      <td>False</td>\n",
       "      <td>False</td>\n",
       "    </tr>\n",
       "  </tbody>\n",
       "</table>\n",
       "</div>"
      ],
      "text/plain": [
       "  manner_of_death       armed   age gender race  signs_of_mental_illness  \\\n",
       "1            shot         gun  47.0      M    W                    False   \n",
       "3            shot  toy weapon  32.0      M    W                     True   \n",
       "5            shot         gun  18.0      M    W                    False   \n",
       "7            shot         gun  35.0      M    W                    False   \n",
       "8            shot     unarmed  34.0      F    W                    False   \n",
       "\n",
       "  threat_level         flee  body_camera  armed_gun  armed_vehicle  \\\n",
       "1       attack  Not fleeing        False       True          False   \n",
       "3       attack  Not fleeing        False      False          False   \n",
       "5       attack  Not fleeing        False       True          False   \n",
       "7       attack  Not fleeing        False       True          False   \n",
       "8        other  Not fleeing         True      False          False   \n",
       "\n",
       "   armed_knife  armed_unknown  unarmed  untraditional_weapon  blackhispanic  \n",
       "1        False          False    False                 False          False  \n",
       "3        False          False    False                  True          False  \n",
       "5        False          False    False                 False          False  \n",
       "7        False          False    False                 False          False  \n",
       "8        False          False     True                 False          False  "
      ]
     },
     "execution_count": 30,
     "metadata": {},
     "output_type": "execute_result"
    }
   ],
   "source": [
    "mask = wapo['race'].str.contains('A|O|N|H')\n",
    "wapo2 = wapo[~mask]\n",
    "wapo2.head()"
   ]
  },
  {
   "cell_type": "code",
   "execution_count": 31,
   "metadata": {},
   "outputs": [
    {
     "name": "stderr",
     "output_type": "stream",
     "text": [
      "/opt/miniconda3/envs/cap2/lib/python3.7/site-packages/ipykernel_launcher.py:1: SettingWithCopyWarning: \n",
      "A value is trying to be set on a copy of a slice from a DataFrame.\n",
      "Try using .loc[row_indexer,col_indexer] = value instead\n",
      "\n",
      "See the caveats in the documentation: https://pandas.pydata.org/pandas-docs/stable/user_guide/indexing.html#returning-a-view-versus-a-copy\n",
      "  \"\"\"Entry point for launching an IPython kernel.\n"
     ]
    },
    {
     "data": {
      "text/html": [
       "<div>\n",
       "<style scoped>\n",
       "    .dataframe tbody tr th:only-of-type {\n",
       "        vertical-align: middle;\n",
       "    }\n",
       "\n",
       "    .dataframe tbody tr th {\n",
       "        vertical-align: top;\n",
       "    }\n",
       "\n",
       "    .dataframe thead th {\n",
       "        text-align: right;\n",
       "    }\n",
       "</style>\n",
       "<table border=\"1\" class=\"dataframe\">\n",
       "  <thead>\n",
       "    <tr style=\"text-align: right;\">\n",
       "      <th></th>\n",
       "      <th>age</th>\n",
       "      <th>signs_of_mental_illness</th>\n",
       "      <th>body_camera</th>\n",
       "      <th>armed_gun</th>\n",
       "      <th>armed_vehicle</th>\n",
       "      <th>armed_knife</th>\n",
       "      <th>armed_unknown</th>\n",
       "      <th>unarmed</th>\n",
       "      <th>untraditional_weapon</th>\n",
       "      <th>blackhispanic</th>\n",
       "      <th>gender_F</th>\n",
       "      <th>gender_M</th>\n",
       "      <th>gender_Nonbinary</th>\n",
       "      <th>manner_of_death_shot</th>\n",
       "      <th>manner_of_death_shot and Tasered</th>\n",
       "      <th>threat_level_attack</th>\n",
       "      <th>threat_level_other</th>\n",
       "      <th>threat_level_undetermined</th>\n",
       "      <th>flee_Car</th>\n",
       "      <th>flee_Foot</th>\n",
       "      <th>flee_Not fleeing</th>\n",
       "      <th>flee_Other</th>\n",
       "    </tr>\n",
       "  </thead>\n",
       "  <tbody>\n",
       "    <tr>\n",
       "      <th>1</th>\n",
       "      <td>47.0</td>\n",
       "      <td>False</td>\n",
       "      <td>False</td>\n",
       "      <td>True</td>\n",
       "      <td>False</td>\n",
       "      <td>False</td>\n",
       "      <td>False</td>\n",
       "      <td>False</td>\n",
       "      <td>False</td>\n",
       "      <td>False</td>\n",
       "      <td>0</td>\n",
       "      <td>1</td>\n",
       "      <td>0</td>\n",
       "      <td>1</td>\n",
       "      <td>0</td>\n",
       "      <td>1</td>\n",
       "      <td>0</td>\n",
       "      <td>0</td>\n",
       "      <td>0</td>\n",
       "      <td>0</td>\n",
       "      <td>1</td>\n",
       "      <td>0</td>\n",
       "    </tr>\n",
       "    <tr>\n",
       "      <th>3</th>\n",
       "      <td>32.0</td>\n",
       "      <td>True</td>\n",
       "      <td>False</td>\n",
       "      <td>False</td>\n",
       "      <td>False</td>\n",
       "      <td>False</td>\n",
       "      <td>False</td>\n",
       "      <td>False</td>\n",
       "      <td>True</td>\n",
       "      <td>False</td>\n",
       "      <td>0</td>\n",
       "      <td>1</td>\n",
       "      <td>0</td>\n",
       "      <td>1</td>\n",
       "      <td>0</td>\n",
       "      <td>1</td>\n",
       "      <td>0</td>\n",
       "      <td>0</td>\n",
       "      <td>0</td>\n",
       "      <td>0</td>\n",
       "      <td>1</td>\n",
       "      <td>0</td>\n",
       "    </tr>\n",
       "    <tr>\n",
       "      <th>5</th>\n",
       "      <td>18.0</td>\n",
       "      <td>False</td>\n",
       "      <td>False</td>\n",
       "      <td>True</td>\n",
       "      <td>False</td>\n",
       "      <td>False</td>\n",
       "      <td>False</td>\n",
       "      <td>False</td>\n",
       "      <td>False</td>\n",
       "      <td>False</td>\n",
       "      <td>0</td>\n",
       "      <td>1</td>\n",
       "      <td>0</td>\n",
       "      <td>1</td>\n",
       "      <td>0</td>\n",
       "      <td>1</td>\n",
       "      <td>0</td>\n",
       "      <td>0</td>\n",
       "      <td>0</td>\n",
       "      <td>0</td>\n",
       "      <td>1</td>\n",
       "      <td>0</td>\n",
       "    </tr>\n",
       "    <tr>\n",
       "      <th>7</th>\n",
       "      <td>35.0</td>\n",
       "      <td>False</td>\n",
       "      <td>False</td>\n",
       "      <td>True</td>\n",
       "      <td>False</td>\n",
       "      <td>False</td>\n",
       "      <td>False</td>\n",
       "      <td>False</td>\n",
       "      <td>False</td>\n",
       "      <td>False</td>\n",
       "      <td>0</td>\n",
       "      <td>1</td>\n",
       "      <td>0</td>\n",
       "      <td>1</td>\n",
       "      <td>0</td>\n",
       "      <td>1</td>\n",
       "      <td>0</td>\n",
       "      <td>0</td>\n",
       "      <td>0</td>\n",
       "      <td>0</td>\n",
       "      <td>1</td>\n",
       "      <td>0</td>\n",
       "    </tr>\n",
       "    <tr>\n",
       "      <th>8</th>\n",
       "      <td>34.0</td>\n",
       "      <td>False</td>\n",
       "      <td>True</td>\n",
       "      <td>False</td>\n",
       "      <td>False</td>\n",
       "      <td>False</td>\n",
       "      <td>False</td>\n",
       "      <td>True</td>\n",
       "      <td>False</td>\n",
       "      <td>False</td>\n",
       "      <td>1</td>\n",
       "      <td>0</td>\n",
       "      <td>0</td>\n",
       "      <td>1</td>\n",
       "      <td>0</td>\n",
       "      <td>0</td>\n",
       "      <td>1</td>\n",
       "      <td>0</td>\n",
       "      <td>0</td>\n",
       "      <td>0</td>\n",
       "      <td>1</td>\n",
       "      <td>0</td>\n",
       "    </tr>\n",
       "  </tbody>\n",
       "</table>\n",
       "</div>"
      ],
      "text/plain": [
       "    age  signs_of_mental_illness  body_camera  armed_gun  armed_vehicle  \\\n",
       "1  47.0                    False        False       True          False   \n",
       "3  32.0                     True        False      False          False   \n",
       "5  18.0                    False        False       True          False   \n",
       "7  35.0                    False        False       True          False   \n",
       "8  34.0                    False         True      False          False   \n",
       "\n",
       "   armed_knife  armed_unknown  unarmed  untraditional_weapon  blackhispanic  \\\n",
       "1        False          False    False                 False          False   \n",
       "3        False          False    False                  True          False   \n",
       "5        False          False    False                 False          False   \n",
       "7        False          False    False                 False          False   \n",
       "8        False          False     True                 False          False   \n",
       "\n",
       "   gender_F  gender_M  gender_Nonbinary  manner_of_death_shot  \\\n",
       "1         0         1                 0                     1   \n",
       "3         0         1                 0                     1   \n",
       "5         0         1                 0                     1   \n",
       "7         0         1                 0                     1   \n",
       "8         1         0                 0                     1   \n",
       "\n",
       "   manner_of_death_shot and Tasered  threat_level_attack  threat_level_other  \\\n",
       "1                                 0                    1                   0   \n",
       "3                                 0                    1                   0   \n",
       "5                                 0                    1                   0   \n",
       "7                                 0                    1                   0   \n",
       "8                                 0                    0                   1   \n",
       "\n",
       "   threat_level_undetermined  flee_Car  flee_Foot  flee_Not fleeing  \\\n",
       "1                          0         0          0                 1   \n",
       "3                          0         0          0                 1   \n",
       "5                          0         0          0                 1   \n",
       "7                          0         0          0                 1   \n",
       "8                          0         0          0                 1   \n",
       "\n",
       "   flee_Other  \n",
       "1           0  \n",
       "3           0  \n",
       "5           0  \n",
       "7           0  \n",
       "8           0  "
      ]
     },
     "execution_count": 31,
     "metadata": {},
     "output_type": "execute_result"
    }
   ],
   "source": [
    "wapo2['blackhispanic'] = wapo2['race'].str.contains('B|H')\n",
    "other = wapo2.loc[:,['gender','manner_of_death','threat_level','flee']]\n",
    "w2 = pd.concat((wapo2, pd.get_dummies(other)), axis=1)\n",
    "cols = ['gender','manner_of_death','armed','threat_level','flee','race']\n",
    "w2 = w2.drop(columns = cols)\n",
    "w2.head()"
   ]
  },
  {
   "cell_type": "code",
   "execution_count": 32,
   "metadata": {},
   "outputs": [
    {
     "data": {
      "text/html": [
       "<pre>Logistic regression:</pre>"
      ],
      "text/plain": [
       "Logistic regression:"
      ]
     },
     "metadata": {},
     "output_type": "display_data"
    },
    {
     "data": {
      "text/html": [
       "<pre>--------------------------------------------------------</pre>"
      ],
      "text/plain": [
       "--------------------------------------------------------"
      ]
     },
     "metadata": {},
     "output_type": "display_data"
    },
    {
     "data": {
      "text/html": [
       "<pre>Number of examples          : 3030</pre>"
      ],
      "text/plain": [
       "Number of examples          : 3030"
      ]
     },
     "metadata": {},
     "output_type": "display_data"
    },
    {
     "data": {
      "text/html": [
       "<pre>Number of classes           : 2</pre>"
      ],
      "text/plain": [
       "Number of classes           : 2"
      ]
     },
     "metadata": {},
     "output_type": "display_data"
    },
    {
     "data": {
      "text/html": [
       "<pre>Number of feature columns   : 20</pre>"
      ],
      "text/plain": [
       "Number of feature columns   : 20"
      ]
     },
     "metadata": {},
     "output_type": "display_data"
    },
    {
     "data": {
      "text/html": [
       "<pre>Number of unpacked features : 20</pre>"
      ],
      "text/plain": [
       "Number of unpacked features : 20"
      ]
     },
     "metadata": {},
     "output_type": "display_data"
    },
    {
     "data": {
      "text/html": [
       "<pre>Number of coefficients      : 21</pre>"
      ],
      "text/plain": [
       "Number of coefficients      : 21"
      ]
     },
     "metadata": {},
     "output_type": "display_data"
    },
    {
     "data": {
      "text/html": [
       "<pre>Starting Newton Method</pre>"
      ],
      "text/plain": [
       "Starting Newton Method"
      ]
     },
     "metadata": {},
     "output_type": "display_data"
    },
    {
     "data": {
      "text/html": [
       "<pre>--------------------------------------------------------</pre>"
      ],
      "text/plain": [
       "--------------------------------------------------------"
      ]
     },
     "metadata": {},
     "output_type": "display_data"
    },
    {
     "data": {
      "text/html": [
       "<pre>+-----------+----------+--------------+-------------------+---------------------+</pre>"
      ],
      "text/plain": [
       "+-----------+----------+--------------+-------------------+---------------------+"
      ]
     },
     "metadata": {},
     "output_type": "display_data"
    },
    {
     "data": {
      "text/html": [
       "<pre>| Iteration | Passes   | Elapsed Time | Training Accuracy | Validation Accuracy |</pre>"
      ],
      "text/plain": [
       "| Iteration | Passes   | Elapsed Time | Training Accuracy | Validation Accuracy |"
      ]
     },
     "metadata": {},
     "output_type": "display_data"
    },
    {
     "data": {
      "text/html": [
       "<pre>+-----------+----------+--------------+-------------------+---------------------+</pre>"
      ],
      "text/plain": [
       "+-----------+----------+--------------+-------------------+---------------------+"
      ]
     },
     "metadata": {},
     "output_type": "display_data"
    },
    {
     "data": {
      "text/html": [
       "<pre>| 1         | 2        | 0.027489     | 0.686139          | 0.686910            |</pre>"
      ],
      "text/plain": [
       "| 1         | 2        | 0.027489     | 0.686139          | 0.686910            |"
      ]
     },
     "metadata": {},
     "output_type": "display_data"
    },
    {
     "data": {
      "text/html": [
       "<pre>| 2         | 3        | 0.038240     | 0.693399          | 0.688259            |</pre>"
      ],
      "text/plain": [
       "| 2         | 3        | 0.038240     | 0.693399          | 0.688259            |"
      ]
     },
     "metadata": {},
     "output_type": "display_data"
    },
    {
     "data": {
      "text/html": [
       "<pre>| 3         | 4        | 0.048260     | 0.693069          | 0.686910            |</pre>"
      ],
      "text/plain": [
       "| 3         | 4        | 0.048260     | 0.693069          | 0.686910            |"
      ]
     },
     "metadata": {},
     "output_type": "display_data"
    },
    {
     "data": {
      "text/html": [
       "<pre>| 4         | 5        | 0.057953     | 0.693069          | 0.686910            |</pre>"
      ],
      "text/plain": [
       "| 4         | 5        | 0.057953     | 0.693069          | 0.686910            |"
      ]
     },
     "metadata": {},
     "output_type": "display_data"
    },
    {
     "data": {
      "text/html": [
       "<pre>+-----------+----------+--------------+-------------------+---------------------+</pre>"
      ],
      "text/plain": [
       "+-----------+----------+--------------+-------------------+---------------------+"
      ]
     },
     "metadata": {},
     "output_type": "display_data"
    },
    {
     "data": {
      "text/html": [
       "<pre>SUCCESS: Optimal solution found.</pre>"
      ],
      "text/plain": [
       "SUCCESS: Optimal solution found."
      ]
     },
     "metadata": {},
     "output_type": "display_data"
    },
    {
     "data": {
      "text/html": [
       "<pre></pre>"
      ],
      "text/plain": []
     },
     "metadata": {},
     "output_type": "display_data"
    }
   ],
   "source": [
    "feats = ['age',\n",
    " 'signs_of_mental_illness',\n",
    " 'body_camera',\n",
    " 'armed_gun',\n",
    " 'armed_vehicle',\n",
    " 'armed_knife',\n",
    " 'armed_unknown',\n",
    " 'unarmed',\n",
    " 'untraditional_weapon',\n",
    " 'gender_F',\n",
    " 'gender_M',\n",
    " 'manner_of_death_shot',\n",
    " 'manner_of_death_shot and Tasered',\n",
    " 'threat_level_attack',\n",
    " 'threat_level_other',\n",
    " 'threat_level_undetermined',\n",
    " 'flee_Car',\n",
    " 'flee_Foot',\n",
    " 'flee_Not fleeing',\n",
    " 'flee_Other']\n",
    "\n",
    "sf = turicreate.SFrame(w2)\n",
    "train_data,test_data = sf.random_split(.8,seed=0)\n",
    "race_model = turicreate.logistic_classifier.create(train_data,target='blackhispanic', features=feats, validation_set=test_data)\n"
   ]
  },
  {
   "cell_type": "code",
   "execution_count": 33,
   "metadata": {},
   "outputs": [
    {
     "data": {
      "text/plain": [
       "{'roc_curve': Columns:\n",
       " \tthreshold\tfloat\n",
       " \tfpr\tfloat\n",
       " \ttpr\tfloat\n",
       " \tp\tint\n",
       " \tn\tint\n",
       " \n",
       " Rows: 100001\n",
       " \n",
       " Data:\n",
       " +-----------+-----+-----+-----+-----+\n",
       " | threshold | fpr | tpr |  p  |  n  |\n",
       " +-----------+-----+-----+-----+-----+\n",
       " |    0.0    | 1.0 | 1.0 | 247 | 494 |\n",
       " |   1e-05   | 1.0 | 1.0 | 247 | 494 |\n",
       " |   2e-05   | 1.0 | 1.0 | 247 | 494 |\n",
       " |   3e-05   | 1.0 | 1.0 | 247 | 494 |\n",
       " |   4e-05   | 1.0 | 1.0 | 247 | 494 |\n",
       " |   5e-05   | 1.0 | 1.0 | 247 | 494 |\n",
       " |   6e-05   | 1.0 | 1.0 | 247 | 494 |\n",
       " |   7e-05   | 1.0 | 1.0 | 247 | 494 |\n",
       " |   8e-05   | 1.0 | 1.0 | 247 | 494 |\n",
       " |   9e-05   | 1.0 | 1.0 | 247 | 494 |\n",
       " +-----------+-----+-----+-----+-----+\n",
       " [100001 rows x 5 columns]\n",
       " Note: Only the head of the SFrame is printed.\n",
       " You can use print_rows(num_rows=m, num_columns=n) to print more rows and columns.}"
      ]
     },
     "execution_count": 33,
     "metadata": {},
     "output_type": "execute_result"
    }
   ],
   "source": [
    "race_model.evaluate(test_data, metric='roc_curve')"
   ]
  },
  {
   "cell_type": "markdown",
   "metadata": {},
   "source": [
    "## Not sure how to read this chart. Not sure how to visualize curve."
   ]
  },
  {
   "cell_type": "markdown",
   "metadata": {},
   "source": [
    "# MODEL 3, just BlackHispanic and White, with Age-Group Cols"
   ]
  },
  {
   "cell_type": "code",
   "execution_count": 34,
   "metadata": {},
   "outputs": [
    {
     "data": {
      "text/html": [
       "<div>\n",
       "<style scoped>\n",
       "    .dataframe tbody tr th:only-of-type {\n",
       "        vertical-align: middle;\n",
       "    }\n",
       "\n",
       "    .dataframe tbody tr th {\n",
       "        vertical-align: top;\n",
       "    }\n",
       "\n",
       "    .dataframe thead th {\n",
       "        text-align: right;\n",
       "    }\n",
       "</style>\n",
       "<table border=\"1\" class=\"dataframe\">\n",
       "  <thead>\n",
       "    <tr style=\"text-align: right;\">\n",
       "      <th></th>\n",
       "      <th>signs_of_mental_illness</th>\n",
       "      <th>body_camera</th>\n",
       "      <th>armed_gun</th>\n",
       "      <th>armed_vehicle</th>\n",
       "      <th>armed_knife</th>\n",
       "      <th>armed_unknown</th>\n",
       "      <th>unarmed</th>\n",
       "      <th>untraditional_weapon</th>\n",
       "      <th>blackhispanic</th>\n",
       "      <th>gender_F</th>\n",
       "      <th>gender_M</th>\n",
       "      <th>gender_Nonbinary</th>\n",
       "      <th>manner_of_death_shot</th>\n",
       "      <th>manner_of_death_shot and Tasered</th>\n",
       "      <th>threat_level_attack</th>\n",
       "      <th>threat_level_other</th>\n",
       "      <th>threat_level_undetermined</th>\n",
       "      <th>flee_Car</th>\n",
       "      <th>flee_Foot</th>\n",
       "      <th>flee_Not fleeing</th>\n",
       "      <th>flee_Other</th>\n",
       "      <th>0_to_10</th>\n",
       "      <th>11_to_20</th>\n",
       "      <th>21_to_30</th>\n",
       "      <th>31_to_40</th>\n",
       "      <th>41_to_50</th>\n",
       "      <th>51_to_60</th>\n",
       "      <th>61_to_70</th>\n",
       "      <th>71_to_80</th>\n",
       "      <th>81_to_90</th>\n",
       "    </tr>\n",
       "  </thead>\n",
       "  <tbody>\n",
       "    <tr>\n",
       "      <th>1</th>\n",
       "      <td>False</td>\n",
       "      <td>False</td>\n",
       "      <td>True</td>\n",
       "      <td>False</td>\n",
       "      <td>False</td>\n",
       "      <td>False</td>\n",
       "      <td>False</td>\n",
       "      <td>False</td>\n",
       "      <td>False</td>\n",
       "      <td>0</td>\n",
       "      <td>1</td>\n",
       "      <td>0</td>\n",
       "      <td>1</td>\n",
       "      <td>0</td>\n",
       "      <td>1</td>\n",
       "      <td>0</td>\n",
       "      <td>0</td>\n",
       "      <td>0</td>\n",
       "      <td>0</td>\n",
       "      <td>1</td>\n",
       "      <td>0</td>\n",
       "      <td>False</td>\n",
       "      <td>False</td>\n",
       "      <td>False</td>\n",
       "      <td>False</td>\n",
       "      <td>True</td>\n",
       "      <td>False</td>\n",
       "      <td>False</td>\n",
       "      <td>False</td>\n",
       "      <td>False</td>\n",
       "    </tr>\n",
       "    <tr>\n",
       "      <th>3</th>\n",
       "      <td>True</td>\n",
       "      <td>False</td>\n",
       "      <td>False</td>\n",
       "      <td>False</td>\n",
       "      <td>False</td>\n",
       "      <td>False</td>\n",
       "      <td>False</td>\n",
       "      <td>True</td>\n",
       "      <td>False</td>\n",
       "      <td>0</td>\n",
       "      <td>1</td>\n",
       "      <td>0</td>\n",
       "      <td>1</td>\n",
       "      <td>0</td>\n",
       "      <td>1</td>\n",
       "      <td>0</td>\n",
       "      <td>0</td>\n",
       "      <td>0</td>\n",
       "      <td>0</td>\n",
       "      <td>1</td>\n",
       "      <td>0</td>\n",
       "      <td>False</td>\n",
       "      <td>False</td>\n",
       "      <td>False</td>\n",
       "      <td>True</td>\n",
       "      <td>False</td>\n",
       "      <td>False</td>\n",
       "      <td>False</td>\n",
       "      <td>False</td>\n",
       "      <td>False</td>\n",
       "    </tr>\n",
       "    <tr>\n",
       "      <th>5</th>\n",
       "      <td>False</td>\n",
       "      <td>False</td>\n",
       "      <td>True</td>\n",
       "      <td>False</td>\n",
       "      <td>False</td>\n",
       "      <td>False</td>\n",
       "      <td>False</td>\n",
       "      <td>False</td>\n",
       "      <td>False</td>\n",
       "      <td>0</td>\n",
       "      <td>1</td>\n",
       "      <td>0</td>\n",
       "      <td>1</td>\n",
       "      <td>0</td>\n",
       "      <td>1</td>\n",
       "      <td>0</td>\n",
       "      <td>0</td>\n",
       "      <td>0</td>\n",
       "      <td>0</td>\n",
       "      <td>1</td>\n",
       "      <td>0</td>\n",
       "      <td>False</td>\n",
       "      <td>True</td>\n",
       "      <td>False</td>\n",
       "      <td>False</td>\n",
       "      <td>False</td>\n",
       "      <td>False</td>\n",
       "      <td>False</td>\n",
       "      <td>False</td>\n",
       "      <td>False</td>\n",
       "    </tr>\n",
       "    <tr>\n",
       "      <th>7</th>\n",
       "      <td>False</td>\n",
       "      <td>False</td>\n",
       "      <td>True</td>\n",
       "      <td>False</td>\n",
       "      <td>False</td>\n",
       "      <td>False</td>\n",
       "      <td>False</td>\n",
       "      <td>False</td>\n",
       "      <td>False</td>\n",
       "      <td>0</td>\n",
       "      <td>1</td>\n",
       "      <td>0</td>\n",
       "      <td>1</td>\n",
       "      <td>0</td>\n",
       "      <td>1</td>\n",
       "      <td>0</td>\n",
       "      <td>0</td>\n",
       "      <td>0</td>\n",
       "      <td>0</td>\n",
       "      <td>1</td>\n",
       "      <td>0</td>\n",
       "      <td>False</td>\n",
       "      <td>False</td>\n",
       "      <td>False</td>\n",
       "      <td>True</td>\n",
       "      <td>False</td>\n",
       "      <td>False</td>\n",
       "      <td>False</td>\n",
       "      <td>False</td>\n",
       "      <td>False</td>\n",
       "    </tr>\n",
       "    <tr>\n",
       "      <th>8</th>\n",
       "      <td>False</td>\n",
       "      <td>True</td>\n",
       "      <td>False</td>\n",
       "      <td>False</td>\n",
       "      <td>False</td>\n",
       "      <td>False</td>\n",
       "      <td>True</td>\n",
       "      <td>False</td>\n",
       "      <td>False</td>\n",
       "      <td>1</td>\n",
       "      <td>0</td>\n",
       "      <td>0</td>\n",
       "      <td>1</td>\n",
       "      <td>0</td>\n",
       "      <td>0</td>\n",
       "      <td>1</td>\n",
       "      <td>0</td>\n",
       "      <td>0</td>\n",
       "      <td>0</td>\n",
       "      <td>1</td>\n",
       "      <td>0</td>\n",
       "      <td>False</td>\n",
       "      <td>False</td>\n",
       "      <td>False</td>\n",
       "      <td>True</td>\n",
       "      <td>False</td>\n",
       "      <td>False</td>\n",
       "      <td>False</td>\n",
       "      <td>False</td>\n",
       "      <td>False</td>\n",
       "    </tr>\n",
       "    <tr>\n",
       "      <th>...</th>\n",
       "      <td>...</td>\n",
       "      <td>...</td>\n",
       "      <td>...</td>\n",
       "      <td>...</td>\n",
       "      <td>...</td>\n",
       "      <td>...</td>\n",
       "      <td>...</td>\n",
       "      <td>...</td>\n",
       "      <td>...</td>\n",
       "      <td>...</td>\n",
       "      <td>...</td>\n",
       "      <td>...</td>\n",
       "      <td>...</td>\n",
       "      <td>...</td>\n",
       "      <td>...</td>\n",
       "      <td>...</td>\n",
       "      <td>...</td>\n",
       "      <td>...</td>\n",
       "      <td>...</td>\n",
       "      <td>...</td>\n",
       "      <td>...</td>\n",
       "      <td>...</td>\n",
       "      <td>...</td>\n",
       "      <td>...</td>\n",
       "      <td>...</td>\n",
       "      <td>...</td>\n",
       "      <td>...</td>\n",
       "      <td>...</td>\n",
       "      <td>...</td>\n",
       "      <td>...</td>\n",
       "    </tr>\n",
       "    <tr>\n",
       "      <th>4893</th>\n",
       "      <td>False</td>\n",
       "      <td>False</td>\n",
       "      <td>True</td>\n",
       "      <td>False</td>\n",
       "      <td>False</td>\n",
       "      <td>False</td>\n",
       "      <td>False</td>\n",
       "      <td>False</td>\n",
       "      <td>False</td>\n",
       "      <td>0</td>\n",
       "      <td>1</td>\n",
       "      <td>0</td>\n",
       "      <td>1</td>\n",
       "      <td>0</td>\n",
       "      <td>0</td>\n",
       "      <td>1</td>\n",
       "      <td>0</td>\n",
       "      <td>0</td>\n",
       "      <td>0</td>\n",
       "      <td>0</td>\n",
       "      <td>1</td>\n",
       "      <td>False</td>\n",
       "      <td>False</td>\n",
       "      <td>True</td>\n",
       "      <td>False</td>\n",
       "      <td>False</td>\n",
       "      <td>False</td>\n",
       "      <td>False</td>\n",
       "      <td>False</td>\n",
       "      <td>False</td>\n",
       "    </tr>\n",
       "    <tr>\n",
       "      <th>4895</th>\n",
       "      <td>False</td>\n",
       "      <td>False</td>\n",
       "      <td>True</td>\n",
       "      <td>False</td>\n",
       "      <td>False</td>\n",
       "      <td>False</td>\n",
       "      <td>False</td>\n",
       "      <td>False</td>\n",
       "      <td>False</td>\n",
       "      <td>0</td>\n",
       "      <td>1</td>\n",
       "      <td>0</td>\n",
       "      <td>1</td>\n",
       "      <td>0</td>\n",
       "      <td>1</td>\n",
       "      <td>0</td>\n",
       "      <td>0</td>\n",
       "      <td>1</td>\n",
       "      <td>0</td>\n",
       "      <td>0</td>\n",
       "      <td>0</td>\n",
       "      <td>False</td>\n",
       "      <td>False</td>\n",
       "      <td>False</td>\n",
       "      <td>True</td>\n",
       "      <td>False</td>\n",
       "      <td>False</td>\n",
       "      <td>False</td>\n",
       "      <td>False</td>\n",
       "      <td>False</td>\n",
       "    </tr>\n",
       "    <tr>\n",
       "      <th>4896</th>\n",
       "      <td>False</td>\n",
       "      <td>False</td>\n",
       "      <td>True</td>\n",
       "      <td>False</td>\n",
       "      <td>False</td>\n",
       "      <td>False</td>\n",
       "      <td>False</td>\n",
       "      <td>False</td>\n",
       "      <td>True</td>\n",
       "      <td>0</td>\n",
       "      <td>1</td>\n",
       "      <td>0</td>\n",
       "      <td>1</td>\n",
       "      <td>0</td>\n",
       "      <td>1</td>\n",
       "      <td>0</td>\n",
       "      <td>0</td>\n",
       "      <td>0</td>\n",
       "      <td>0</td>\n",
       "      <td>1</td>\n",
       "      <td>0</td>\n",
       "      <td>False</td>\n",
       "      <td>False</td>\n",
       "      <td>False</td>\n",
       "      <td>True</td>\n",
       "      <td>False</td>\n",
       "      <td>False</td>\n",
       "      <td>False</td>\n",
       "      <td>False</td>\n",
       "      <td>False</td>\n",
       "    </tr>\n",
       "    <tr>\n",
       "      <th>4897</th>\n",
       "      <td>False</td>\n",
       "      <td>False</td>\n",
       "      <td>True</td>\n",
       "      <td>False</td>\n",
       "      <td>False</td>\n",
       "      <td>False</td>\n",
       "      <td>False</td>\n",
       "      <td>False</td>\n",
       "      <td>False</td>\n",
       "      <td>0</td>\n",
       "      <td>1</td>\n",
       "      <td>0</td>\n",
       "      <td>1</td>\n",
       "      <td>0</td>\n",
       "      <td>0</td>\n",
       "      <td>1</td>\n",
       "      <td>0</td>\n",
       "      <td>0</td>\n",
       "      <td>0</td>\n",
       "      <td>1</td>\n",
       "      <td>0</td>\n",
       "      <td>False</td>\n",
       "      <td>False</td>\n",
       "      <td>False</td>\n",
       "      <td>True</td>\n",
       "      <td>False</td>\n",
       "      <td>False</td>\n",
       "      <td>False</td>\n",
       "      <td>False</td>\n",
       "      <td>False</td>\n",
       "    </tr>\n",
       "    <tr>\n",
       "      <th>4899</th>\n",
       "      <td>False</td>\n",
       "      <td>True</td>\n",
       "      <td>True</td>\n",
       "      <td>False</td>\n",
       "      <td>False</td>\n",
       "      <td>False</td>\n",
       "      <td>False</td>\n",
       "      <td>False</td>\n",
       "      <td>False</td>\n",
       "      <td>0</td>\n",
       "      <td>1</td>\n",
       "      <td>0</td>\n",
       "      <td>1</td>\n",
       "      <td>0</td>\n",
       "      <td>1</td>\n",
       "      <td>0</td>\n",
       "      <td>0</td>\n",
       "      <td>0</td>\n",
       "      <td>0</td>\n",
       "      <td>1</td>\n",
       "      <td>0</td>\n",
       "      <td>False</td>\n",
       "      <td>False</td>\n",
       "      <td>True</td>\n",
       "      <td>False</td>\n",
       "      <td>False</td>\n",
       "      <td>False</td>\n",
       "      <td>False</td>\n",
       "      <td>False</td>\n",
       "      <td>False</td>\n",
       "    </tr>\n",
       "  </tbody>\n",
       "</table>\n",
       "<p>3771 rows × 30 columns</p>\n",
       "</div>"
      ],
      "text/plain": [
       "      signs_of_mental_illness  body_camera  armed_gun  armed_vehicle  \\\n",
       "1                       False        False       True          False   \n",
       "3                        True        False      False          False   \n",
       "5                       False        False       True          False   \n",
       "7                       False        False       True          False   \n",
       "8                       False         True      False          False   \n",
       "...                       ...          ...        ...            ...   \n",
       "4893                    False        False       True          False   \n",
       "4895                    False        False       True          False   \n",
       "4896                    False        False       True          False   \n",
       "4897                    False        False       True          False   \n",
       "4899                    False         True       True          False   \n",
       "\n",
       "      armed_knife  armed_unknown  unarmed  untraditional_weapon  \\\n",
       "1           False          False    False                 False   \n",
       "3           False          False    False                  True   \n",
       "5           False          False    False                 False   \n",
       "7           False          False    False                 False   \n",
       "8           False          False     True                 False   \n",
       "...           ...            ...      ...                   ...   \n",
       "4893        False          False    False                 False   \n",
       "4895        False          False    False                 False   \n",
       "4896        False          False    False                 False   \n",
       "4897        False          False    False                 False   \n",
       "4899        False          False    False                 False   \n",
       "\n",
       "      blackhispanic  gender_F  gender_M  gender_Nonbinary  \\\n",
       "1             False         0         1                 0   \n",
       "3             False         0         1                 0   \n",
       "5             False         0         1                 0   \n",
       "7             False         0         1                 0   \n",
       "8             False         1         0                 0   \n",
       "...             ...       ...       ...               ...   \n",
       "4893          False         0         1                 0   \n",
       "4895          False         0         1                 0   \n",
       "4896           True         0         1                 0   \n",
       "4897          False         0         1                 0   \n",
       "4899          False         0         1                 0   \n",
       "\n",
       "      manner_of_death_shot  manner_of_death_shot and Tasered  \\\n",
       "1                        1                                 0   \n",
       "3                        1                                 0   \n",
       "5                        1                                 0   \n",
       "7                        1                                 0   \n",
       "8                        1                                 0   \n",
       "...                    ...                               ...   \n",
       "4893                     1                                 0   \n",
       "4895                     1                                 0   \n",
       "4896                     1                                 0   \n",
       "4897                     1                                 0   \n",
       "4899                     1                                 0   \n",
       "\n",
       "      threat_level_attack  threat_level_other  threat_level_undetermined  \\\n",
       "1                       1                   0                          0   \n",
       "3                       1                   0                          0   \n",
       "5                       1                   0                          0   \n",
       "7                       1                   0                          0   \n",
       "8                       0                   1                          0   \n",
       "...                   ...                 ...                        ...   \n",
       "4893                    0                   1                          0   \n",
       "4895                    1                   0                          0   \n",
       "4896                    1                   0                          0   \n",
       "4897                    0                   1                          0   \n",
       "4899                    1                   0                          0   \n",
       "\n",
       "      flee_Car  flee_Foot  flee_Not fleeing  flee_Other  0_to_10  11_to_20  \\\n",
       "1            0          0                 1           0    False     False   \n",
       "3            0          0                 1           0    False     False   \n",
       "5            0          0                 1           0    False      True   \n",
       "7            0          0                 1           0    False     False   \n",
       "8            0          0                 1           0    False     False   \n",
       "...        ...        ...               ...         ...      ...       ...   \n",
       "4893         0          0                 0           1    False     False   \n",
       "4895         1          0                 0           0    False     False   \n",
       "4896         0          0                 1           0    False     False   \n",
       "4897         0          0                 1           0    False     False   \n",
       "4899         0          0                 1           0    False     False   \n",
       "\n",
       "      21_to_30  31_to_40  41_to_50  51_to_60  61_to_70  71_to_80  81_to_90  \n",
       "1        False     False      True     False     False     False     False  \n",
       "3        False      True     False     False     False     False     False  \n",
       "5        False     False     False     False     False     False     False  \n",
       "7        False      True     False     False     False     False     False  \n",
       "8        False      True     False     False     False     False     False  \n",
       "...        ...       ...       ...       ...       ...       ...       ...  \n",
       "4893      True     False     False     False     False     False     False  \n",
       "4895     False      True     False     False     False     False     False  \n",
       "4896     False      True     False     False     False     False     False  \n",
       "4897     False      True     False     False     False     False     False  \n",
       "4899      True     False     False     False     False     False     False  \n",
       "\n",
       "[3771 rows x 30 columns]"
      ]
     },
     "execution_count": 34,
     "metadata": {},
     "output_type": "execute_result"
    }
   ],
   "source": [
    "df = w2\n",
    "df['0_to_10'] = df.age <= 0\n",
    "df['11_to_20'] = (df.age>10)&(df.age<21)\n",
    "df['21_to_30'] = (df.age>20)&(df.age<31)\n",
    "df['31_to_40'] = (df.age>30)&(df.age<41)\n",
    "df['41_to_50'] = (df.age>40)&(df.age<51)\n",
    "df['51_to_60'] = (df.age>50)&(df.age<61)\n",
    "df['61_to_70'] = (df.age>60)&(df.age<71)\n",
    "df['71_to_80'] = (df.age>70)&(df.age<81)\n",
    "df['81_to_90'] = (df.age>80)&(df.age<91)\n",
    "df=df.drop('age',axis=1)\n",
    "df"
   ]
  },
  {
   "cell_type": "code",
   "execution_count": 35,
   "metadata": {},
   "outputs": [
    {
     "data": {
      "text/html": [
       "<pre>Logistic regression:</pre>"
      ],
      "text/plain": [
       "Logistic regression:"
      ]
     },
     "metadata": {},
     "output_type": "display_data"
    },
    {
     "data": {
      "text/html": [
       "<pre>--------------------------------------------------------</pre>"
      ],
      "text/plain": [
       "--------------------------------------------------------"
      ]
     },
     "metadata": {},
     "output_type": "display_data"
    },
    {
     "data": {
      "text/html": [
       "<pre>Number of examples          : 3030</pre>"
      ],
      "text/plain": [
       "Number of examples          : 3030"
      ]
     },
     "metadata": {},
     "output_type": "display_data"
    },
    {
     "data": {
      "text/html": [
       "<pre>Number of classes           : 2</pre>"
      ],
      "text/plain": [
       "Number of classes           : 2"
      ]
     },
     "metadata": {},
     "output_type": "display_data"
    },
    {
     "data": {
      "text/html": [
       "<pre>Number of feature columns   : 28</pre>"
      ],
      "text/plain": [
       "Number of feature columns   : 28"
      ]
     },
     "metadata": {},
     "output_type": "display_data"
    },
    {
     "data": {
      "text/html": [
       "<pre>Number of unpacked features : 28</pre>"
      ],
      "text/plain": [
       "Number of unpacked features : 28"
      ]
     },
     "metadata": {},
     "output_type": "display_data"
    },
    {
     "data": {
      "text/html": [
       "<pre>Number of coefficients      : 29</pre>"
      ],
      "text/plain": [
       "Number of coefficients      : 29"
      ]
     },
     "metadata": {},
     "output_type": "display_data"
    },
    {
     "data": {
      "text/html": [
       "<pre>Starting Newton Method</pre>"
      ],
      "text/plain": [
       "Starting Newton Method"
      ]
     },
     "metadata": {},
     "output_type": "display_data"
    },
    {
     "data": {
      "text/html": [
       "<pre>--------------------------------------------------------</pre>"
      ],
      "text/plain": [
       "--------------------------------------------------------"
      ]
     },
     "metadata": {},
     "output_type": "display_data"
    },
    {
     "data": {
      "text/html": [
       "<pre>+-----------+----------+--------------+-------------------+---------------------+</pre>"
      ],
      "text/plain": [
       "+-----------+----------+--------------+-------------------+---------------------+"
      ]
     },
     "metadata": {},
     "output_type": "display_data"
    },
    {
     "data": {
      "text/html": [
       "<pre>| Iteration | Passes   | Elapsed Time | Training Accuracy | Validation Accuracy |</pre>"
      ],
      "text/plain": [
       "| Iteration | Passes   | Elapsed Time | Training Accuracy | Validation Accuracy |"
      ]
     },
     "metadata": {},
     "output_type": "display_data"
    },
    {
     "data": {
      "text/html": [
       "<pre>+-----------+----------+--------------+-------------------+---------------------+</pre>"
      ],
      "text/plain": [
       "+-----------+----------+--------------+-------------------+---------------------+"
      ]
     },
     "metadata": {},
     "output_type": "display_data"
    },
    {
     "data": {
      "text/html": [
       "<pre>| 1         | 2        | 0.022209     | 0.680858          | 0.688259            |</pre>"
      ],
      "text/plain": [
       "| 1         | 2        | 0.022209     | 0.680858          | 0.688259            |"
      ]
     },
     "metadata": {},
     "output_type": "display_data"
    },
    {
     "data": {
      "text/html": [
       "<pre>| 2         | 3        | 0.055245     | 0.681188          | 0.686910            |</pre>"
      ],
      "text/plain": [
       "| 2         | 3        | 0.055245     | 0.681188          | 0.686910            |"
      ]
     },
     "metadata": {},
     "output_type": "display_data"
    },
    {
     "data": {
      "text/html": [
       "<pre>| 3         | 4        | 0.070631     | 0.681188          | 0.686910            |</pre>"
      ],
      "text/plain": [
       "| 3         | 4        | 0.070631     | 0.681188          | 0.686910            |"
      ]
     },
     "metadata": {},
     "output_type": "display_data"
    },
    {
     "data": {
      "text/html": [
       "<pre>| 4         | 5        | 0.085660     | 0.681188          | 0.686910            |</pre>"
      ],
      "text/plain": [
       "| 4         | 5        | 0.085660     | 0.681188          | 0.686910            |"
      ]
     },
     "metadata": {},
     "output_type": "display_data"
    },
    {
     "data": {
      "text/html": [
       "<pre>| 5         | 6        | 0.098356     | 0.681188          | 0.686910            |</pre>"
      ],
      "text/plain": [
       "| 5         | 6        | 0.098356     | 0.681188          | 0.686910            |"
      ]
     },
     "metadata": {},
     "output_type": "display_data"
    },
    {
     "data": {
      "text/html": [
       "<pre>| 9         | 10       | 0.161206     | 0.681188          | 0.686910            |</pre>"
      ],
      "text/plain": [
       "| 9         | 10       | 0.161206     | 0.681188          | 0.686910            |"
      ]
     },
     "metadata": {},
     "output_type": "display_data"
    },
    {
     "data": {
      "text/html": [
       "<pre>+-----------+----------+--------------+-------------------+---------------------+</pre>"
      ],
      "text/plain": [
       "+-----------+----------+--------------+-------------------+---------------------+"
      ]
     },
     "metadata": {},
     "output_type": "display_data"
    },
    {
     "data": {
      "text/html": [
       "<pre>SUCCESS: Optimal solution found.</pre>"
      ],
      "text/plain": [
       "SUCCESS: Optimal solution found."
      ]
     },
     "metadata": {},
     "output_type": "display_data"
    },
    {
     "data": {
      "text/html": [
       "<pre></pre>"
      ],
      "text/plain": []
     },
     "metadata": {},
     "output_type": "display_data"
    }
   ],
   "source": [
    "feats = [\n",
    "'0_to_10', \n",
    "'11_to_20',\n",
    "'21_to_30', \n",
    "'31_to_40', \n",
    "'41_to_50', \n",
    "'51_to_60', \n",
    "'61_to_70', \n",
    "'71_to_80',\n",
    "'81_to_90',\n",
    " 'signs_of_mental_illness',\n",
    " 'body_camera',\n",
    " 'armed_gun',\n",
    " 'armed_vehicle',\n",
    " 'armed_knife',\n",
    " 'armed_unknown',\n",
    " 'unarmed',\n",
    " 'untraditional_weapon',\n",
    " 'gender_F',\n",
    " 'gender_M',\n",
    " 'manner_of_death_shot',\n",
    " 'manner_of_death_shot and Tasered',\n",
    " 'threat_level_attack',\n",
    " 'threat_level_other',\n",
    " 'threat_level_undetermined',\n",
    " 'flee_Car',\n",
    " 'flee_Foot',\n",
    " 'flee_Not fleeing',\n",
    " 'flee_Other']\n",
    "\n",
    "\n",
    "sf = turicreate.SFrame(df)\n",
    "train_data,test_data = sf.random_split(.8,seed=0)\n",
    "race_model = turicreate.logistic_classifier.create(train_data,target='blackhispanic', features=feats, validation_set=test_data)"
   ]
  },
  {
   "cell_type": "markdown",
   "metadata": {},
   "source": [
    "# Based on \"accuracy\" as measure, the best model is No. 2"
   ]
  },
  {
   "cell_type": "code",
   "execution_count": 36,
   "metadata": {},
   "outputs": [
    {
     "data": {
      "text/plain": [
       "{'roc_curve': Columns:\n",
       " \tthreshold\tfloat\n",
       " \tfpr\tfloat\n",
       " \ttpr\tfloat\n",
       " \tp\tint\n",
       " \tn\tint\n",
       " \n",
       " Rows: 100001\n",
       " \n",
       " Data:\n",
       " +-----------+-----+-----+-----+-----+\n",
       " | threshold | fpr | tpr |  p  |  n  |\n",
       " +-----------+-----+-----+-----+-----+\n",
       " |    0.0    | 1.0 | 1.0 | 247 | 494 |\n",
       " |   1e-05   | 1.0 | 1.0 | 247 | 494 |\n",
       " |   2e-05   | 1.0 | 1.0 | 247 | 494 |\n",
       " |   3e-05   | 1.0 | 1.0 | 247 | 494 |\n",
       " |   4e-05   | 1.0 | 1.0 | 247 | 494 |\n",
       " |   5e-05   | 1.0 | 1.0 | 247 | 494 |\n",
       " |   6e-05   | 1.0 | 1.0 | 247 | 494 |\n",
       " |   7e-05   | 1.0 | 1.0 | 247 | 494 |\n",
       " |   8e-05   | 1.0 | 1.0 | 247 | 494 |\n",
       " |   9e-05   | 1.0 | 1.0 | 247 | 494 |\n",
       " +-----------+-----+-----+-----+-----+\n",
       " [100001 rows x 5 columns]\n",
       " Note: Only the head of the SFrame is printed.\n",
       " You can use print_rows(num_rows=m, num_columns=n) to print more rows and columns.}"
      ]
     },
     "execution_count": 36,
     "metadata": {},
     "output_type": "execute_result"
    }
   ],
   "source": [
    "race_model.evaluate(test_data, metric='roc_curve')"
   ]
  },
  {
   "cell_type": "code",
   "execution_count": 37,
   "metadata": {},
   "outputs": [
    {
     "data": {
      "text/html": [
       "<div>\n",
       "<style scoped>\n",
       "    .dataframe tbody tr th:only-of-type {\n",
       "        vertical-align: middle;\n",
       "    }\n",
       "\n",
       "    .dataframe tbody tr th {\n",
       "        vertical-align: top;\n",
       "    }\n",
       "\n",
       "    .dataframe thead th {\n",
       "        text-align: right;\n",
       "    }\n",
       "</style>\n",
       "<table border=\"1\" class=\"dataframe\">\n",
       "  <thead>\n",
       "    <tr style=\"text-align: right;\">\n",
       "      <th></th>\n",
       "      <th>age</th>\n",
       "      <th>signs_of_mental_illness</th>\n",
       "      <th>body_camera</th>\n",
       "      <th>armed_gun</th>\n",
       "      <th>armed_vehicle</th>\n",
       "      <th>armed_knife</th>\n",
       "      <th>armed_unknown</th>\n",
       "      <th>unarmed</th>\n",
       "      <th>untraditional_weapon</th>\n",
       "      <th>blackhispanic</th>\n",
       "      <th>gender_F</th>\n",
       "      <th>gender_M</th>\n",
       "      <th>gender_Nonbinary</th>\n",
       "      <th>manner_of_death_shot</th>\n",
       "      <th>manner_of_death_shot and Tasered</th>\n",
       "      <th>threat_level_attack</th>\n",
       "      <th>threat_level_other</th>\n",
       "      <th>threat_level_undetermined</th>\n",
       "      <th>flee_Car</th>\n",
       "      <th>flee_Foot</th>\n",
       "      <th>flee_Not fleeing</th>\n",
       "      <th>flee_Other</th>\n",
       "      <th>0_to_10</th>\n",
       "      <th>11_to_20</th>\n",
       "      <th>21_to_30</th>\n",
       "      <th>31_to_40</th>\n",
       "      <th>41_to_50</th>\n",
       "      <th>51_to_60</th>\n",
       "      <th>61_to_70</th>\n",
       "      <th>71_to_80</th>\n",
       "      <th>81_to_90</th>\n",
       "    </tr>\n",
       "  </thead>\n",
       "  <tbody>\n",
       "    <tr>\n",
       "      <th>1</th>\n",
       "      <td>47.0</td>\n",
       "      <td>False</td>\n",
       "      <td>False</td>\n",
       "      <td>True</td>\n",
       "      <td>False</td>\n",
       "      <td>False</td>\n",
       "      <td>False</td>\n",
       "      <td>False</td>\n",
       "      <td>False</td>\n",
       "      <td>False</td>\n",
       "      <td>0</td>\n",
       "      <td>1</td>\n",
       "      <td>0</td>\n",
       "      <td>1</td>\n",
       "      <td>0</td>\n",
       "      <td>1</td>\n",
       "      <td>0</td>\n",
       "      <td>0</td>\n",
       "      <td>0</td>\n",
       "      <td>0</td>\n",
       "      <td>1</td>\n",
       "      <td>0</td>\n",
       "      <td>False</td>\n",
       "      <td>False</td>\n",
       "      <td>False</td>\n",
       "      <td>False</td>\n",
       "      <td>True</td>\n",
       "      <td>False</td>\n",
       "      <td>False</td>\n",
       "      <td>False</td>\n",
       "      <td>False</td>\n",
       "    </tr>\n",
       "    <tr>\n",
       "      <th>3</th>\n",
       "      <td>32.0</td>\n",
       "      <td>True</td>\n",
       "      <td>False</td>\n",
       "      <td>False</td>\n",
       "      <td>False</td>\n",
       "      <td>False</td>\n",
       "      <td>False</td>\n",
       "      <td>False</td>\n",
       "      <td>True</td>\n",
       "      <td>False</td>\n",
       "      <td>0</td>\n",
       "      <td>1</td>\n",
       "      <td>0</td>\n",
       "      <td>1</td>\n",
       "      <td>0</td>\n",
       "      <td>1</td>\n",
       "      <td>0</td>\n",
       "      <td>0</td>\n",
       "      <td>0</td>\n",
       "      <td>0</td>\n",
       "      <td>1</td>\n",
       "      <td>0</td>\n",
       "      <td>False</td>\n",
       "      <td>False</td>\n",
       "      <td>False</td>\n",
       "      <td>True</td>\n",
       "      <td>False</td>\n",
       "      <td>False</td>\n",
       "      <td>False</td>\n",
       "      <td>False</td>\n",
       "      <td>False</td>\n",
       "    </tr>\n",
       "    <tr>\n",
       "      <th>5</th>\n",
       "      <td>18.0</td>\n",
       "      <td>False</td>\n",
       "      <td>False</td>\n",
       "      <td>True</td>\n",
       "      <td>False</td>\n",
       "      <td>False</td>\n",
       "      <td>False</td>\n",
       "      <td>False</td>\n",
       "      <td>False</td>\n",
       "      <td>False</td>\n",
       "      <td>0</td>\n",
       "      <td>1</td>\n",
       "      <td>0</td>\n",
       "      <td>1</td>\n",
       "      <td>0</td>\n",
       "      <td>1</td>\n",
       "      <td>0</td>\n",
       "      <td>0</td>\n",
       "      <td>0</td>\n",
       "      <td>0</td>\n",
       "      <td>1</td>\n",
       "      <td>0</td>\n",
       "      <td>False</td>\n",
       "      <td>True</td>\n",
       "      <td>False</td>\n",
       "      <td>False</td>\n",
       "      <td>False</td>\n",
       "      <td>False</td>\n",
       "      <td>False</td>\n",
       "      <td>False</td>\n",
       "      <td>False</td>\n",
       "    </tr>\n",
       "    <tr>\n",
       "      <th>7</th>\n",
       "      <td>35.0</td>\n",
       "      <td>False</td>\n",
       "      <td>False</td>\n",
       "      <td>True</td>\n",
       "      <td>False</td>\n",
       "      <td>False</td>\n",
       "      <td>False</td>\n",
       "      <td>False</td>\n",
       "      <td>False</td>\n",
       "      <td>False</td>\n",
       "      <td>0</td>\n",
       "      <td>1</td>\n",
       "      <td>0</td>\n",
       "      <td>1</td>\n",
       "      <td>0</td>\n",
       "      <td>1</td>\n",
       "      <td>0</td>\n",
       "      <td>0</td>\n",
       "      <td>0</td>\n",
       "      <td>0</td>\n",
       "      <td>1</td>\n",
       "      <td>0</td>\n",
       "      <td>False</td>\n",
       "      <td>False</td>\n",
       "      <td>False</td>\n",
       "      <td>True</td>\n",
       "      <td>False</td>\n",
       "      <td>False</td>\n",
       "      <td>False</td>\n",
       "      <td>False</td>\n",
       "      <td>False</td>\n",
       "    </tr>\n",
       "    <tr>\n",
       "      <th>8</th>\n",
       "      <td>34.0</td>\n",
       "      <td>False</td>\n",
       "      <td>True</td>\n",
       "      <td>False</td>\n",
       "      <td>False</td>\n",
       "      <td>False</td>\n",
       "      <td>False</td>\n",
       "      <td>True</td>\n",
       "      <td>False</td>\n",
       "      <td>False</td>\n",
       "      <td>1</td>\n",
       "      <td>0</td>\n",
       "      <td>0</td>\n",
       "      <td>1</td>\n",
       "      <td>0</td>\n",
       "      <td>0</td>\n",
       "      <td>1</td>\n",
       "      <td>0</td>\n",
       "      <td>0</td>\n",
       "      <td>0</td>\n",
       "      <td>1</td>\n",
       "      <td>0</td>\n",
       "      <td>False</td>\n",
       "      <td>False</td>\n",
       "      <td>False</td>\n",
       "      <td>True</td>\n",
       "      <td>False</td>\n",
       "      <td>False</td>\n",
       "      <td>False</td>\n",
       "      <td>False</td>\n",
       "      <td>False</td>\n",
       "    </tr>\n",
       "  </tbody>\n",
       "</table>\n",
       "</div>"
      ],
      "text/plain": [
       "    age  signs_of_mental_illness  body_camera  armed_gun  armed_vehicle  \\\n",
       "1  47.0                    False        False       True          False   \n",
       "3  32.0                     True        False      False          False   \n",
       "5  18.0                    False        False       True          False   \n",
       "7  35.0                    False        False       True          False   \n",
       "8  34.0                    False         True      False          False   \n",
       "\n",
       "   armed_knife  armed_unknown  unarmed  untraditional_weapon  blackhispanic  \\\n",
       "1        False          False    False                 False          False   \n",
       "3        False          False    False                  True          False   \n",
       "5        False          False    False                 False          False   \n",
       "7        False          False    False                 False          False   \n",
       "8        False          False     True                 False          False   \n",
       "\n",
       "   gender_F  gender_M  gender_Nonbinary  manner_of_death_shot  \\\n",
       "1         0         1                 0                     1   \n",
       "3         0         1                 0                     1   \n",
       "5         0         1                 0                     1   \n",
       "7         0         1                 0                     1   \n",
       "8         1         0                 0                     1   \n",
       "\n",
       "   manner_of_death_shot and Tasered  threat_level_attack  threat_level_other  \\\n",
       "1                                 0                    1                   0   \n",
       "3                                 0                    1                   0   \n",
       "5                                 0                    1                   0   \n",
       "7                                 0                    1                   0   \n",
       "8                                 0                    0                   1   \n",
       "\n",
       "   threat_level_undetermined  flee_Car  flee_Foot  flee_Not fleeing  \\\n",
       "1                          0         0          0                 1   \n",
       "3                          0         0          0                 1   \n",
       "5                          0         0          0                 1   \n",
       "7                          0         0          0                 1   \n",
       "8                          0         0          0                 1   \n",
       "\n",
       "   flee_Other  0_to_10  11_to_20  21_to_30  31_to_40  41_to_50  51_to_60  \\\n",
       "1           0    False     False     False     False      True     False   \n",
       "3           0    False     False     False      True     False     False   \n",
       "5           0    False      True     False     False     False     False   \n",
       "7           0    False     False     False      True     False     False   \n",
       "8           0    False     False     False      True     False     False   \n",
       "\n",
       "   61_to_70  71_to_80  81_to_90  \n",
       "1     False     False     False  \n",
       "3     False     False     False  \n",
       "5     False     False     False  \n",
       "7     False     False     False  \n",
       "8     False     False     False  "
      ]
     },
     "execution_count": 37,
     "metadata": {},
     "output_type": "execute_result"
    }
   ],
   "source": [
    "w2.head()"
   ]
  },
  {
   "cell_type": "code",
   "execution_count": 44,
   "metadata": {},
   "outputs": [],
   "source": [
    "w3 = w2.iloc[:, :22]"
   ]
  },
  {
   "cell_type": "code",
   "execution_count": 45,
   "metadata": {},
   "outputs": [
    {
     "data": {
      "text/plain": [
       "Index(['age', 'signs_of_mental_illness', 'body_camera', 'armed_gun',\n",
       "       'armed_vehicle', 'armed_knife', 'armed_unknown', 'unarmed',\n",
       "       'untraditional_weapon', 'blackhispanic', 'gender_F', 'gender_M',\n",
       "       'gender_Nonbinary', 'manner_of_death_shot',\n",
       "       'manner_of_death_shot and Tasered', 'threat_level_attack',\n",
       "       'threat_level_other', 'threat_level_undetermined', 'flee_Car',\n",
       "       'flee_Foot', 'flee_Not fleeing', 'flee_Other'],\n",
       "      dtype='object')"
      ]
     },
     "execution_count": 45,
     "metadata": {},
     "output_type": "execute_result"
    }
   ],
   "source": [
    "w3.columns"
   ]
  },
  {
   "cell_type": "code",
   "execution_count": 46,
   "metadata": {},
   "outputs": [],
   "source": [
    "X=w3.drop(columns='blackhispanic')"
   ]
  },
  {
   "cell_type": "code",
   "execution_count": 47,
   "metadata": {},
   "outputs": [],
   "source": [
    "y=w3.blackhispanic"
   ]
  },
  {
   "cell_type": "code",
   "execution_count": 50,
   "metadata": {},
   "outputs": [
    {
     "name": "stderr",
     "output_type": "stream",
     "text": [
      "/opt/miniconda3/envs/cap2/lib/python3.7/site-packages/ipykernel_launcher.py:11: UserWarning: With alpha=0, this algorithm does not converge well. You are advised to use the LinearRegression estimator\n",
      "  # This is added back by InteractiveShellApp.init_path()\n",
      "/opt/miniconda3/envs/cap2/lib/python3.7/site-packages/sklearn/linear_model/_coordinate_descent.py:531: UserWarning: Coordinate descent with no regularization may lead to unexpected results and is discouraged.\n",
      "  positive)\n",
      "/opt/miniconda3/envs/cap2/lib/python3.7/site-packages/sklearn/linear_model/_coordinate_descent.py:531: ConvergenceWarning: Objective did not converge. You might want to increase the number of iterations. Duality gap: 378.6235924782918, tolerance: 0.08509090426942456\n",
      "  positive)\n"
     ]
    },
    {
     "name": "stdout",
     "output_type": "stream",
     "text": [
      "[-8.69628376e-03 -1.46180960e-01  1.28686910e-01 -2.02578228e-02\n",
      "  1.94313559e-02 -5.48656940e-02 -2.56614063e-02  2.94140057e-02\n",
      " -6.20512995e-02 -5.63109945e-02  1.78530075e-03 -3.10851169e-01\n",
      " -4.41472929e-02 -3.11798317e-16  1.46387144e-02 -3.48052500e-03\n",
      "  1.73706452e-02 -4.38109917e-02  1.03008400e-01 -2.63002153e-03\n",
      " -2.69767436e-02]\n"
     ]
    },
    {
     "data": {
      "image/png": "[encoded data removed]",
      "text/plain": [
       "<Figure size 1440x1440 with 1 Axes>"
      ]
     },
     "metadata": {
      "needs_background": "light"
     },
     "output_type": "display_data"
    }
   ],
   "source": [
    "from sklearn.linear_model import Lasso\n",
    "import matplotlib.pyplot as plt\n",
    "from sklearn.model_selection import train_test_split\n",
    "\n",
    "X_train, X_test, y_train, y_test = train_test_split(X, y, random_state=42, test_size=0.25)\n",
    "\n",
    "# Instantiate a lasso regressor: lasso\n",
    "lasso = Lasso(alpha=0., normalize=True)\n",
    "\n",
    "# Fit the regressor to the data\n",
    "lasso.fit(X,y)\n",
    "\n",
    "# Compute and print the coefficients\n",
    "lasso_coef = lasso.coef_\n",
    "print(lasso_coef)\n",
    "\n",
    "# Plot the coefficients\n",
    "plt.figure(figsize=(20,20))\n",
    "plt.plot(range(len(X.columns)), lasso_coef)\n",
    "plt.xticks(range(len(X.columns)), X.columns.values, rotation=90)\n",
    "plt.margins(0.02)\n",
    "plt.show()"
   ]
  },
  {
   "cell_type": "markdown",
   "metadata": {},
   "source": [
    "#### Looking at the counts of the features that the above plot deems more important "
   ]
  },
  {
   "cell_type": "code",
   "execution_count": 62,
   "metadata": {},
   "outputs": [
    {
     "data": {
      "text/plain": [
       "False    2474\n",
       "True     1297\n",
       "Name: blackhispanic, dtype: int64"
      ]
     },
     "execution_count": 62,
     "metadata": {},
     "output_type": "execute_result"
    }
   ],
   "source": [
    "#Overall count of blackhispanic and non-blackhispanic\n",
    "w2.blackhispanic.value_counts()"
   ]
  },
  {
   "cell_type": "code",
   "execution_count": 57,
   "metadata": {},
   "outputs": [
    {
     "data": {
      "text/plain": [
       "True     254\n",
       "False    231\n",
       "Name: blackhispanic, dtype: int64"
      ]
     },
     "execution_count": 57,
     "metadata": {},
     "output_type": "execute_result"
    }
   ],
   "source": [
    "#Counts of blackhispanic who are fleeing on foot\n",
    "w2[(w2.flee_Foot==True)].blackhispanic.value_counts()"
   ]
  },
  {
   "cell_type": "code",
   "execution_count": 61,
   "metadata": {},
   "outputs": [
    {
     "data": {
      "text/plain": [
       "False    145\n",
       "True     123\n",
       "Name: blackhispanic, dtype: int64"
      ]
     },
     "execution_count": 61,
     "metadata": {},
     "output_type": "execute_result"
    }
   ],
   "source": [
    "#Counts of blackhispanic who are unarmed\n",
    "w2[(w2.unarmed==True)].blackhispanic.value_counts()"
   ]
  },
  {
   "cell_type": "code",
   "execution_count": 60,
   "metadata": {},
   "outputs": [
    {
     "data": {
      "text/plain": [
       "True     37\n",
       "False    24\n",
       "Name: blackhispanic, dtype: int64"
      ]
     },
     "execution_count": 60,
     "metadata": {},
     "output_type": "execute_result"
    }
   ],
   "source": [
    "#Counts of blackhispanic who are unarmed and fleeing on foot\n",
    "w2[(w2.flee_Foot==True)&(w2.unarmed==True)].blackhispanic.value_counts()"
   ]
  },
  {
   "cell_type": "code",
   "execution_count": 75,
   "metadata": {},
   "outputs": [
    {
     "data": {
      "image/png": "[encoded data removed]",
      "text/plain": [
       "<Figure size 432x288 with 1 Axes>"
      ]
     },
     "metadata": {
      "needs_background": "light"
     },
     "output_type": "display_data"
    }
   ],
   "source": [
    "# Import necessary modules\n",
    "import numpy as np\n",
    "from sklearn.linear_model import RidgeClassifier\n",
    "from sklearn.model_selection import cross_val_score\n",
    "\n",
    "def display_plot(cv_scores, cv_scores_std):\n",
    "    fig = plt.figure()\n",
    "    ax = fig.add_subplot(1,1,1)\n",
    "    ax.plot(alpha_space, cv_scores)\n",
    "\n",
    "    std_error = cv_scores_std / np.sqrt(10)\n",
    "\n",
    "    ax.fill_between(alpha_space, cv_scores + std_error, cv_scores - std_error, alpha=0.2)\n",
    "    ax.set_ylabel('CV Score +/- Std Error')\n",
    "    ax.set_xlabel('Alpha')\n",
    "    ax.axhline(np.max(cv_scores), linestyle='--', color='.5')\n",
    "    ax.set_xlim([alpha_space[0], alpha_space[-1]])\n",
    "    ax.set_xscale('log')\n",
    "    plt.show()\n",
    "\n",
    "# Setup the array of alphas and lists to store scores\n",
    "alpha_space = np.logspace(-4, 0, 50)\n",
    "ridge_scores = []\n",
    "ridge_scores_std = []\n",
    "\n",
    "# Create a ridge regressor: ridge\n",
    "ridge = RidgeClassifier(normalize=True)\n",
    "\n",
    "# Compute scores over range of alphas\n",
    "for alpha in alpha_space:\n",
    "\n",
    "    # Specify the alpha value to use: ridge.alpha\n",
    "    ridge.alpha = alpha\n",
    "    \n",
    "    # Perform 10-fold CV: ridge_cv_scores\n",
    "    ridge_cv_scores = cross_val_score(ridge,X_train,y_train,cv=10)\n",
    "    \n",
    "    # Append the mean of ridge_cv_scores to ridge_scores\n",
    "    ridge_scores.append(np.mean(ridge_cv_scores))\n",
    "    \n",
    "    # Append the std of ridge_cv_scores to ridge_scores_std\n",
    "    ridge_scores_std.append(np.std(ridge_cv_scores))\n",
    "\n",
    "# Display the plot\n",
    "display_plot(ridge_scores, ridge_scores_std)\n"
   ]
  },
  {
   "cell_type": "code",
   "execution_count": 79,
   "metadata": {},
   "outputs": [
    {
     "data": {
      "text/plain": [
       "RidgeClassifier(alpha=0.1, normalize=True)"
      ]
     },
     "execution_count": 79,
     "metadata": {},
     "output_type": "execute_result"
    }
   ],
   "source": [
    "from sklearn.linear_model import RidgeClassifier\n",
    "\n",
    "ridge = RidgeClassifier(normalize=True, alpha=0.1)\n",
    "ridge.fit(X_train, y_train)"
   ]
  },
  {
   "cell_type": "code",
   "execution_count": 80,
   "metadata": {},
   "outputs": [],
   "source": [
    "y_pred = ridge.predict(X_test)"
   ]
  },
  {
   "cell_type": "code",
   "execution_count": 81,
   "metadata": {},
   "outputs": [
    {
     "name": "stdout",
     "output_type": "stream",
     "text": [
      "[[574  43]\n",
      " [242  84]]\n",
      "              precision    recall  f1-score   support\n",
      "\n",
      "       False       0.70      0.93      0.80       617\n",
      "        True       0.66      0.26      0.37       326\n",
      "\n",
      "    accuracy                           0.70       943\n",
      "   macro avg       0.68      0.59      0.59       943\n",
      "weighted avg       0.69      0.70      0.65       943\n",
      "\n"
     ]
    }
   ],
   "source": [
    "from sklearn.metrics import classification_report\n",
    "from sklearn.metrics import confusion_matrix\n",
    "\n",
    "print(confusion_matrix(y_test, y_pred))\n",
    "print(classification_report(y_test, y_pred))"
   ]
  },
  {
   "cell_type": "code",
   "execution_count": 70,
   "metadata": {},
   "outputs": [
    {
     "data": {
      "text/plain": [
       "array([ 0.27591026,  0.36285163,  0.41040356,  0.5343268 ,  0.26472639,\n",
       "        0.34168399,  0.12559422,  0.37351693,  0.30415954,  0.2355331 ,\n",
       "        0.28373793,  0.35966284,  0.25217615,  0.23766858,  0.2126193 ,\n",
       "        0.26791519,  0.27005622,  0.34495648,  0.5333454 ,  0.21635924,\n",
       "        0.291833  ,  0.13368408,  0.34425634,  0.22960193,  0.37867437,\n",
       "        0.34935953,  0.21725817,  0.46214306,  0.30294744,  0.2126193 ,\n",
       "        0.30407676,  0.29635351,  0.291733  ,  0.67309139,  0.49742863,\n",
       "        0.39342349,  0.38533364,  0.14850803,  0.33007468,  0.43114197,\n",
       "        0.43039351,  0.24418108,  0.58189503,  0.26327632,  0.56171838,\n",
       "        0.56499088,  0.43331787,  0.13002661,  0.18097382,  0.24745358,\n",
       "        0.32656728,  0.26799889,  0.44578898,  0.27508995,  0.40483512,\n",
       "        0.3445367 ,  0.3383023 ,  0.50080099,  0.34755343,  0.42754147,\n",
       "        0.53919061,  0.2909127 ,  0.37501392,  0.23894085,  0.40558877,\n",
       "        0.46578315,  0.54550768,  0.41487843,  0.31546711,  0.54967788,\n",
       "        0.31928568,  0.11646768, -0.08092171,  0.2495109 ,  0.43086517,\n",
       "        0.35606263,  0.54916814,  0.7693139 ,  0.00371142,  0.44196534,\n",
       "        0.36649344,  0.49742863,  0.18650555,  0.0773057 ,  0.53984623,\n",
       "        0.36293533,  0.46871863,  0.3426522 ,  0.42952936,  0.31865591,\n",
       "        0.16474702,  0.3760994 ,  0.5020675 ,  0.51335123,  0.34343524,\n",
       "        0.22053067,  0.44071323,  0.49016165,  0.35687696,  0.32656728,\n",
       "        0.24178458,  0.47247935,  0.29964437,  0.29964437,  0.20143543,\n",
       "        0.17543094,  0.45653597,  0.63805218,  0.13669439,  0.3708467 ,\n",
       "        0.46647138,  0.45003366,  0.42205487,  0.19885388,  0.2909127 ,\n",
       "        0.44668791,  0.57815494,  0.70473687,  0.37334487,  0.42605038,\n",
       "        0.50654237,  0.36293533,  0.49609283,  0.10332968,  0.29637187,\n",
       "        0.18878312,  0.35600238,  0.28906775,  0.30755574,  0.41831493,\n",
       "        0.34711259,  0.52543403,  0.23726454,  0.24210867,  0.45520653,\n",
       "        0.2916493 ,  0.48160589,  0.10103981,  0.41931371,  0.05731153,\n",
       "        0.31644553,  0.39130832,  0.2797817 ,  0.27508995,  0.32656728,\n",
       "        0.40380736,  0.23635341,  0.271557  ,  0.39458082,  0.38852593,\n",
       "       -0.04136486,  0.26008752,  0.52445811,  0.54437828,  0.42720471,\n",
       "        0.47003406,  0.52633173,  0.41565625,  0.50595083,  0.37213278,\n",
       "        0.60186868,  0.28382163,  0.45521011,  0.20470793,  0.34711259,\n",
       "        0.3775429 ,  0.38213043,  0.07810229,  0.32995405,  0.291733  ,\n",
       "        0.18345658,  0.35502396,  0.40568098,  0.30346294,  0.03757921,\n",
       "        0.33128985, -0.14421267,  0.13669439,  0.31546711,  0.37875808,\n",
       "        0.18097382,  0.28701043,  0.30755574,  0.21926994,  0.24344447,\n",
       "        0.22371947,  0.55212317,  0.21171529,  0.2878213 ,  0.02522917,\n",
       "        0.39776961,  0.52773831,  0.44652391,  0.21223983,  0.45679501,\n",
       "        0.0773057 ,  0.2309248 ,  0.14460576,  0.31654838,  0.08060876,\n",
       "        0.33326348,  0.25045692,  0.26666309,  0.05439189,  0.4631179 ,\n",
       "        0.26533364,  0.32764977,  0.41564968,  0.19768942,  0.32469365,\n",
       "        0.20707642,  0.21128349,  0.45787178,  0.33046955,  0.50399649,\n",
       "        0.54916814,  0.41467484,  0.38666945,  0.22053067,  0.43066284,\n",
       "        0.31794987,  0.46117485,  0.24173035,  0.33556114,  0.291733  ,\n",
       "        0.45181938,  0.291733  ,  0.48608076,  0.44204904,  0.2309248 ,\n",
       "        0.3662384 ,  0.56917113,  0.26584278,  0.60402916,  0.43545284,\n",
       "        0.39776961,  0.60463021,  0.18416261,  0.18561269,  0.38302936,\n",
       "        0.40249219,  0.25875171,  0.3100385 ,  0.37875808,  0.43405569,\n",
       "        0.40568098,  0.33128985,  0.14850803,  0.50598439,  0.13268529,\n",
       "        0.290829  ,  0.39437134,  0.50500298,  0.32337848,  0.33178472,\n",
       "        0.42150372,  0.2726194 ,  0.2916493 ,  0.45851617,  0.4262263 ,\n",
       "        0.43058006,  0.04884901,  0.25536495,  0.15169683,  0.51850406,\n",
       "        0.56697107,  0.41040356,  0.60188905,  0.28116295,  0.18888519,\n",
       "        0.40713106,  0.45075701,  0.27393457,  0.04238772,  0.31877018,\n",
       "        0.37887968,  0.27909906,  0.2126193 ,  0.40249219,  0.26745093,\n",
       "        0.33943557,  0.38666945,  0.22053067,  0.39905569,  0.13660218,\n",
       "        0.45661105,  0.40713106,  0.47103584,  0.11768285,  0.16105827,\n",
       "        0.26799889,  0.03774884, -0.01763075,  0.17306245,  0.26327632,\n",
       "        0.08521707,  0.27909906,  0.18345658,  0.11225425,  0.36963153,\n",
       "        0.27591026,  0.51150382,  0.27449076,  0.22434923,  0.55442083,\n",
       "        0.27539169,  0.24517591,  0.26339059,  0.60980042,  0.29189111,\n",
       "        0.20470793, -0.01534088,  0.60454773,  0.66384421,  0.36095964,\n",
       "        0.36667528,  0.23991152,  0.38367378,  0.37875808,  0.54943337,\n",
       "        0.19679656,  0.23581871,  0.23635341,  0.31098635,  0.26627966,\n",
       "        0.26140269,  0.10103981,  0.34711259,  0.31074454,  0.18389346,\n",
       "        0.45787178,  0.06230326,  0.54916814,  0.62462138,  0.09776731,\n",
       "        0.19814456,  0.35502396,  0.4261426 ,  0.12469022,  0.00281023,\n",
       "        0.58081362,  0.39787618,  0.16845414,  0.53105431,  0.44632032,\n",
       "        0.36203641,  0.55707951,  0.26799889,  0.37875808,  0.26799889,\n",
       "        0.40568098,  0.18888519, -0.0572713 ,  0.27173884,  0.51585262,\n",
       "       -0.0070602 ,  0.58872499,  0.38300899,  0.43413767,  0.39656101,\n",
       "        0.30855453,  0.46995036,  0.14389973,  0.37875808,  0.31877018,\n",
       "        0.34577679,  0.29421576,  0.36664867,  0.24745358,  0.41040356,\n",
       "        0.21725817,  0.12833203,  0.33920122,  0.31599481,  0.15618951,\n",
       "        0.33704511,  0.39982694,  0.12878302,  0.27118769,  0.27118769,\n",
       "        0.68100276,  0.37351693,  0.40534995,  0.28701043,  0.37875808,\n",
       "        0.25227615,  0.19207398,  0.44372405,  0.40676347,  0.25805204,\n",
       "        0.50665517,  0.26905793,  0.20826604,  0.17625124,  0.15907858,\n",
       "        0.48587718,  0.32891022,  0.22434923,  0.47902999,  0.45918695,\n",
       "        0.43097347,  0.50981487,  0.35502396,  0.38666945,  0.17749483,\n",
       "        0.44668791,  0.49742863,  0.27375415,  0.27909906,  0.40380736,\n",
       "        0.34301979,  0.23041566,  0.34250429,  0.50871236,  0.41982346,\n",
       "        0.45003366,  0.39813892,  0.3438401 ,  0.3695109 ,  0.26799889,\n",
       "        0.40676347,  0.25679665,  0.64608478,  0.27118769,  0.31219461,\n",
       "        0.36958598,  0.30539963,  0.00610336,  0.48578952,  0.06478602,\n",
       "        0.38666945,  0.43047721,  0.20744573,  0.22301343,  0.16167209,\n",
       "        0.28701043,  0.41171873,  0.27118769,  0.42150372,  0.31219461,\n",
       "        0.40676347,  0.19679656,  0.40249219,  0.39788388,  0.20805483,\n",
       "        0.50048474,  0.37777545,  0.30539963,  0.48027008,  0.2355331 ,\n",
       "        0.43938379,  0.31280843,  0.40249219,  0.37884136,  0.23635341,\n",
       "        0.13856071,  0.20470793,  0.51752266,  0.57290225,  0.30755574,\n",
       "        0.31920706,  0.53698548,  0.20574659,  0.42258621,  0.26008752,\n",
       "        0.16497516,  0.36994778,  0.37414977,  0.50665517,  0.16515108,\n",
       "        0.44523784,  0.39458082,  0.36122121,  0.17901649,  0.35502396,\n",
       "        0.35966284,  0.49635186,  0.35041566,  0.49378855,  0.47567471,\n",
       "        0.16195113,  0.10103981,  0.49343415,  0.58509809,  0.30755574,\n",
       "        0.32656728,  0.39458082,  0.44996041,  0.41040356,  0.1712329 ,\n",
       "        0.37334487,  0.43405569,  0.50500298,  0.31464681,  0.33592873,\n",
       "        0.38229154,  0.30583651,  0.33228864,  0.20852649,  0.36293533,\n",
       "        0.20035467,  0.53849401,  0.50631841,  0.16167209,  0.48237782,\n",
       "        0.44083387,  0.46578315, -0.00889907,  0.27508995,  0.37216188,\n",
       "        0.45787178,  0.14932833,  0.55431676,  0.28300133,  0.13268529,\n",
       "        0.17688101,  0.26717858,  0.41467484,  0.32656728,  0.25217615,\n",
       "        0.20470793,  0.46287118,  0.23954221,  0.19927932,  0.21179899,\n",
       "        0.52507963,  0.43521894,  0.55333834,  0.24159953,  0.42248214,\n",
       "        0.3243569 ,  0.11502418,  0.30391566,  0.03447635,  0.33157546,\n",
       "        0.52187656,  0.49415613,  0.41040356,  0.48951726,  0.3740355 ,\n",
       "        0.15288644,  0.26584278,  0.43545284,  0.40568098,  0.14523553,\n",
       "        0.39473892,  0.26214485,  0.15723971,  0.6368376 ,  0.41504243,\n",
       "        0.54146035,  0.26666309,  0.5138622 ,  0.29503607,  0.58545249,\n",
       "        0.44632032,  0.28382163,  0.41370662,  0.26683443,  0.47538991,\n",
       "        0.02630452,  0.40249219,  0.55707951,  0.31744074,  0.18345658,\n",
       "        0.37548558,  0.41359235,  0.15723971,  0.29297002,  0.26666001,\n",
       "        0.40177174,  0.13350559,  0.52838906,  0.08276487,  0.59663636,\n",
       "        0.25527273,  0.34225734,  0.3708467 ,  0.35821276,  0.30755574,\n",
       "        0.58872499,  0.46863733,  0.02274641,  0.48160589,  0.34149109,\n",
       "        0.30755574,  0.12477392,  0.57290225,  0.58872499,  0.24718442,\n",
       "        0.47369452,  0.54223817,  0.4262263 ,  0.47530713,  0.32428961,\n",
       "        0.26008752,  0.12851386,  0.38798462,  0.16807072,  0.47247935,\n",
       "        0.34239002,  0.41040356,  0.28391245,  0.27263776,  0.49742863,\n",
       "        0.51325137,  0.16433077,  0.36275942,  0.54123639,  0.51291435,\n",
       "        0.11768285,  0.29830857,  0.39368189,  0.32247956,  0.20826604,\n",
       "        0.56447231,  0.17215844,  0.37438017,  0.44996041,  0.37548558,\n",
       "        0.40733637,  0.26327632,  0.44996041,  0.44402266,  0.39458082,\n",
       "        0.44542154,  0.44942146,  0.38007325,  0.33260503,  0.33920122,\n",
       "        0.39458082,  0.42754147,  0.32165925,  0.44284134,  0.3840042 ,\n",
       "        0.13002004,  0.42978441,  0.1497104 ,  0.61194053,  0.61475568,\n",
       "        0.12757442,  0.44204904,  0.0219261 ,  0.28115638,  0.29964437,\n",
       "        0.11420387,  0.33653598,  0.39458082,  0.29964437,  0.28756158,\n",
       "        0.26008752,  0.44204904,  0.37332947,  0.29182382,  0.27591026,\n",
       "        0.39012043,  0.5623322 ,  0.29962066,  0.33420949,  0.10317529,\n",
       "        0.291733  ,  0.2949218 ,  0.06058403,  0.08264117,  0.4695231 ,\n",
       "        0.6198519 ,  0.21971036,  0.2949218 ,  0.17224214,  0.56597229,\n",
       "        0.13268529,  0.44632032,  0.30497984,  0.43147242,  0.28115638,\n",
       "        0.18888519,  0.49910364,  0.291733  ,  0.55707951,  0.28382163,\n",
       "        0.0740332 ,  0.5929759 ,  0.25135584,  0.18888519,  0.54650946,\n",
       "        0.47575184,  0.49376817,  0.0773057 ,  0.4261426 ,  0.52960423,\n",
       "        0.4350371 ,  0.30703717,  0.38666945,  0.47985834,  0.23635341,\n",
       "        0.23081053,  0.16751957,  0.27972883,  0.44652391,  0.38666945,\n",
       "        0.24808335,  0.43767113,  0.36384646,  0.24009336,  0.38666945,\n",
       "        0.291733  ,  0.43861254,  0.1062925 ,  0.34621367,  0.33556114,\n",
       "        0.21786542,  0.22844204,  0.52543403,  0.40249219,  0.41531923,\n",
       "        0.40676347,  0.24254555,  0.39788388,  0.49742863,  0.36667528,\n",
       "        0.36755357,  0.23133507,  0.12477392,  0.39458082,  0.3708467 ,\n",
       "        0.32801736,  0.50633879,  0.38648339,  0.27725827,  0.33590809,\n",
       "        0.27591026,  0.58606631,  0.28096538,  0.33120615,  0.32010598,\n",
       "        0.25217615,  0.25401503,  0.21998835,  0.04105191,  0.21571588,\n",
       "        0.41831493,  0.23635341,  0.07269739, -0.02018529,  0.38666945,\n",
       "        0.30673594,  0.36664867,  0.29882407,  0.18015351,  0.46234665,\n",
       "        0.2843165 ,  0.46706922,  0.4987438 ,  0.33128985,  0.36612413,\n",
       "        0.2193662 ,  0.38666945,  0.38775071,  0.43413767,  0.27909906,\n",
       "        0.31074454,  0.26799889,  0.52817519,  0.36077922,  0.59663636,\n",
       "        0.2884605 ,  0.60156252,  0.37213278,  0.35236529,  0.18888519,\n",
       "        0.38864307,  0.28957689,  0.39663814,  0.30212713,  0.15169683,\n",
       "        0.34239002,  0.20035467,  0.02656498,  0.47369452,  0.06612183,\n",
       "        0.47955804,  0.0049389 ,  0.42489049,  0.19268312,  0.3383023 ,\n",
       "        0.17134321,  0.34539336,  0.41040356,  0.43875591,  0.11768285,\n",
       "        0.36664867,  0.12941279,  0.14924463,  0.57290225,  0.45459928,\n",
       "        0.45075701,  0.55146472,  0.06694213,  0.60650755,  0.11596362,\n",
       "        0.13350559,  0.44996041,  0.60225664,  0.43485135, -0.08883308,\n",
       "        0.29421576,  0.30753511,  0.37414977,  0.27909906,  0.53175091,\n",
       "        0.52543403,  0.46251065,  0.3990132 ,  0.61671001,  0.36089986,\n",
       "        0.44996041,  0.53532559,  0.17955431,  0.47005443,  0.21725817,\n",
       "        0.46456798, -0.03123119,  0.19679656,  0.47369452,  0.19207398,\n",
       "        0.44906148,  0.14016028,  0.30338432,  0.28701043,  0.25599472,\n",
       "        0.51752266,  0.26717858,  0.41467484,  0.36373193,  0.41307378,\n",
       "        0.41504243,  0.14850803,  0.56241498,  0.29964437,  0.3132427 ,\n",
       "        0.14059666,  0.39458082,  0.45907415,  0.21179899,  0.47423468,\n",
       "        0.40249219,  0.34711259,  0.50169992,  0.59566044,  0.57388366,\n",
       "        0.18806488,  0.31182703,  0.3664688 ,  0.31074454,  0.46526458,\n",
       "       -0.13498613,  0.36942505,  0.3740355 ,  0.49004738,  0.35633914,\n",
       "        0.36195271,  0.14584935,  0.35330473,  0.06939433,  0.44996041,\n",
       "        0.37875808,  0.14717222,  0.291733  ,  0.28382163,  0.60454773,\n",
       "        0.47786173,  0.20914031,  0.13350559,  0.19627798,  0.4262263 ,\n",
       "        0.38194687,  0.3740355 ,  0.40189083,  0.47555349,  0.56628568,\n",
       "        0.35502396,  0.48358608,  0.20801099,  0.44632032,  0.23463418,\n",
       "        0.3023146 ,  0.49468625,  0.55707951,  0.47823104,  0.30256401,\n",
       "        0.46214306,  0.14141696,  0.54916814,  0.28701043,  0.54916814,\n",
       "        0.52641543,  0.57290225,  0.32394093,  0.27419103,  0.61344051,\n",
       "        0.05357159,  0.06939433,  0.40516241,  0.11359005,  0.0353569 ,\n",
       "        0.02102718,  0.46578315,  0.23519609,  0.34371639,  0.41831493,\n",
       "        0.48039072,  0.11161036,  0.64577959,  0.33447865,  0.34842777,\n",
       "        0.13587409,  0.48587718,  0.29964437,  0.61344051,  0.61344051,\n",
       "        0.36818146,  0.1518111 ,  0.54125677,  0.30428324,  0.41697912,\n",
       "       -0.04927623,  0.35093116,  0.27965021,  0.58179503,  0.28186431,\n",
       "        0.39130832,  0.13875172,  0.60454773,  0.44204904,  0.41831493,\n",
       "        0.57288187,  0.38985824,  0.51379491,  0.27118769,  0.47021554,\n",
       "        0.46897195,  0.3807317 , -0.15629547])"
      ]
     },
     "execution_count": 70,
     "metadata": {},
     "output_type": "execute_result"
    }
   ],
   "source": [
    "y_pred"
   ]
  },
  {
   "cell_type": "code",
   "execution_count": 71,
   "metadata": {},
   "outputs": [
    {
     "data": {
      "text/plain": [
       "3538     True\n",
       "2286    False\n",
       "1828     True\n",
       "3256    False\n",
       "3996    False\n",
       "        ...  \n",
       "1449    False\n",
       "1660    False\n",
       "1101    False\n",
       "4567    False\n",
       "4154    False\n",
       "Name: blackhispanic, Length: 2828, dtype: bool"
      ]
     },
     "execution_count": 71,
     "metadata": {},
     "output_type": "execute_result"
    }
   ],
   "source": []
  },
  {
   "cell_type": "code",
   "execution_count": null,
   "metadata": {},
   "outputs": [],
   "source": []
  }
 ],
 "metadata": {
  "kernelspec": {
   "display_name": "Python 3",
   "language": "python",
   "name": "python3"
  },
  "language_info": {
   "codemirror_mode": {
    "name": "ipython",
    "version": 3
   },
   "file_extension": ".py",
   "mimetype": "text/x-python",
   "name": "python",
   "nbconvert_exporter": "python",
   "pygments_lexer": "ipython3",
   "version": "3.7.7"
  }
 },
 "nbformat": 4,
 "nbformat_minor": 4
}
