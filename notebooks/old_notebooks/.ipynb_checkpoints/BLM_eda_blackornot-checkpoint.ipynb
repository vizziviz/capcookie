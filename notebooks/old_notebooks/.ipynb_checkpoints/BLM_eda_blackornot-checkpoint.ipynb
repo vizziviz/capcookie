{
 "cells": [
  {
   "cell_type": "code",
   "execution_count": 1,
   "metadata": {},
   "outputs": [],
   "source": [
    "import pandas as pd"
   ]
  },
  {
   "cell_type": "code",
   "execution_count": 2,
   "metadata": {},
   "outputs": [
    {
     "ename": "FileNotFoundError",
     "evalue": "[Errno 2] File /Users/LiVi/opt/anaconda3/envs/cap2/policekillings/cap2_policekillings/data/raw/fatal-police-shootings-data.csv does not exist: '/Users/LiVi/opt/anaconda3/envs/cap2/policekillings/cap2_policekillings/data/raw/fatal-police-shootings-data.csv'",
     "output_type": "error",
     "traceback": [
      "\u001b[0;31m---------------------------------------------------------------------------\u001b[0m",
      "\u001b[0;31mFileNotFoundError\u001b[0m                         Traceback (most recent call last)",
      "\u001b[0;32m<ipython-input-2-66add859869e>\u001b[0m in \u001b[0;36m<module>\u001b[0;34m\u001b[0m\n\u001b[0;32m----> 1\u001b[0;31m \u001b[0mwapo\u001b[0m\u001b[0;34m=\u001b[0m \u001b[0mpd\u001b[0m\u001b[0;34m.\u001b[0m\u001b[0mread_csv\u001b[0m\u001b[0;34m(\u001b[0m\u001b[0;34m'/Users/LiVi/opt/anaconda3/envs/cap2/policekillings/cap2_policekillings/data/raw/fatal-police-shootings-data.csv'\u001b[0m\u001b[0;34m)\u001b[0m\u001b[0;34m\u001b[0m\u001b[0;34m\u001b[0m\u001b[0m\n\u001b[0m",
      "\u001b[0;32m/opt/miniconda3/envs/cap2/lib/python3.7/site-packages/pandas/io/parsers.py\u001b[0m in \u001b[0;36mparser_f\u001b[0;34m(filepath_or_buffer, sep, delimiter, header, names, index_col, usecols, squeeze, prefix, mangle_dupe_cols, dtype, engine, converters, true_values, false_values, skipinitialspace, skiprows, skipfooter, nrows, na_values, keep_default_na, na_filter, verbose, skip_blank_lines, parse_dates, infer_datetime_format, keep_date_col, date_parser, dayfirst, cache_dates, iterator, chunksize, compression, thousands, decimal, lineterminator, quotechar, quoting, doublequote, escapechar, comment, encoding, dialect, error_bad_lines, warn_bad_lines, delim_whitespace, low_memory, memory_map, float_precision)\u001b[0m\n\u001b[1;32m    674\u001b[0m         )\n\u001b[1;32m    675\u001b[0m \u001b[0;34m\u001b[0m\u001b[0m\n\u001b[0;32m--> 676\u001b[0;31m         \u001b[0;32mreturn\u001b[0m \u001b[0m_read\u001b[0m\u001b[0;34m(\u001b[0m\u001b[0mfilepath_or_buffer\u001b[0m\u001b[0;34m,\u001b[0m \u001b[0mkwds\u001b[0m\u001b[0;34m)\u001b[0m\u001b[0;34m\u001b[0m\u001b[0;34m\u001b[0m\u001b[0m\n\u001b[0m\u001b[1;32m    677\u001b[0m \u001b[0;34m\u001b[0m\u001b[0m\n\u001b[1;32m    678\u001b[0m     \u001b[0mparser_f\u001b[0m\u001b[0;34m.\u001b[0m\u001b[0m__name__\u001b[0m \u001b[0;34m=\u001b[0m \u001b[0mname\u001b[0m\u001b[0;34m\u001b[0m\u001b[0;34m\u001b[0m\u001b[0m\n",
      "\u001b[0;32m/opt/miniconda3/envs/cap2/lib/python3.7/site-packages/pandas/io/parsers.py\u001b[0m in \u001b[0;36m_read\u001b[0;34m(filepath_or_buffer, kwds)\u001b[0m\n\u001b[1;32m    446\u001b[0m \u001b[0;34m\u001b[0m\u001b[0m\n\u001b[1;32m    447\u001b[0m     \u001b[0;31m# Create the parser.\u001b[0m\u001b[0;34m\u001b[0m\u001b[0;34m\u001b[0m\u001b[0;34m\u001b[0m\u001b[0m\n\u001b[0;32m--> 448\u001b[0;31m     \u001b[0mparser\u001b[0m \u001b[0;34m=\u001b[0m \u001b[0mTextFileReader\u001b[0m\u001b[0;34m(\u001b[0m\u001b[0mfp_or_buf\u001b[0m\u001b[0;34m,\u001b[0m \u001b[0;34m**\u001b[0m\u001b[0mkwds\u001b[0m\u001b[0;34m)\u001b[0m\u001b[0;34m\u001b[0m\u001b[0;34m\u001b[0m\u001b[0m\n\u001b[0m\u001b[1;32m    449\u001b[0m \u001b[0;34m\u001b[0m\u001b[0m\n\u001b[1;32m    450\u001b[0m     \u001b[0;32mif\u001b[0m \u001b[0mchunksize\u001b[0m \u001b[0;32mor\u001b[0m \u001b[0miterator\u001b[0m\u001b[0;34m:\u001b[0m\u001b[0;34m\u001b[0m\u001b[0;34m\u001b[0m\u001b[0m\n",
      "\u001b[0;32m/opt/miniconda3/envs/cap2/lib/python3.7/site-packages/pandas/io/parsers.py\u001b[0m in \u001b[0;36m__init__\u001b[0;34m(self, f, engine, **kwds)\u001b[0m\n\u001b[1;32m    878\u001b[0m             \u001b[0mself\u001b[0m\u001b[0;34m.\u001b[0m\u001b[0moptions\u001b[0m\u001b[0;34m[\u001b[0m\u001b[0;34m\"has_index_names\"\u001b[0m\u001b[0;34m]\u001b[0m \u001b[0;34m=\u001b[0m \u001b[0mkwds\u001b[0m\u001b[0;34m[\u001b[0m\u001b[0;34m\"has_index_names\"\u001b[0m\u001b[0;34m]\u001b[0m\u001b[0;34m\u001b[0m\u001b[0;34m\u001b[0m\u001b[0m\n\u001b[1;32m    879\u001b[0m \u001b[0;34m\u001b[0m\u001b[0m\n\u001b[0;32m--> 880\u001b[0;31m         \u001b[0mself\u001b[0m\u001b[0;34m.\u001b[0m\u001b[0m_make_engine\u001b[0m\u001b[0;34m(\u001b[0m\u001b[0mself\u001b[0m\u001b[0;34m.\u001b[0m\u001b[0mengine\u001b[0m\u001b[0;34m)\u001b[0m\u001b[0;34m\u001b[0m\u001b[0;34m\u001b[0m\u001b[0m\n\u001b[0m\u001b[1;32m    881\u001b[0m \u001b[0;34m\u001b[0m\u001b[0m\n\u001b[1;32m    882\u001b[0m     \u001b[0;32mdef\u001b[0m \u001b[0mclose\u001b[0m\u001b[0;34m(\u001b[0m\u001b[0mself\u001b[0m\u001b[0;34m)\u001b[0m\u001b[0;34m:\u001b[0m\u001b[0;34m\u001b[0m\u001b[0;34m\u001b[0m\u001b[0m\n",
      "\u001b[0;32m/opt/miniconda3/envs/cap2/lib/python3.7/site-packages/pandas/io/parsers.py\u001b[0m in \u001b[0;36m_make_engine\u001b[0;34m(self, engine)\u001b[0m\n\u001b[1;32m   1112\u001b[0m     \u001b[0;32mdef\u001b[0m \u001b[0m_make_engine\u001b[0m\u001b[0;34m(\u001b[0m\u001b[0mself\u001b[0m\u001b[0;34m,\u001b[0m \u001b[0mengine\u001b[0m\u001b[0;34m=\u001b[0m\u001b[0;34m\"c\"\u001b[0m\u001b[0;34m)\u001b[0m\u001b[0;34m:\u001b[0m\u001b[0;34m\u001b[0m\u001b[0;34m\u001b[0m\u001b[0m\n\u001b[1;32m   1113\u001b[0m         \u001b[0;32mif\u001b[0m \u001b[0mengine\u001b[0m \u001b[0;34m==\u001b[0m \u001b[0;34m\"c\"\u001b[0m\u001b[0;34m:\u001b[0m\u001b[0;34m\u001b[0m\u001b[0;34m\u001b[0m\u001b[0m\n\u001b[0;32m-> 1114\u001b[0;31m             \u001b[0mself\u001b[0m\u001b[0;34m.\u001b[0m\u001b[0m_engine\u001b[0m \u001b[0;34m=\u001b[0m \u001b[0mCParserWrapper\u001b[0m\u001b[0;34m(\u001b[0m\u001b[0mself\u001b[0m\u001b[0;34m.\u001b[0m\u001b[0mf\u001b[0m\u001b[0;34m,\u001b[0m \u001b[0;34m**\u001b[0m\u001b[0mself\u001b[0m\u001b[0;34m.\u001b[0m\u001b[0moptions\u001b[0m\u001b[0;34m)\u001b[0m\u001b[0;34m\u001b[0m\u001b[0;34m\u001b[0m\u001b[0m\n\u001b[0m\u001b[1;32m   1115\u001b[0m         \u001b[0;32melse\u001b[0m\u001b[0;34m:\u001b[0m\u001b[0;34m\u001b[0m\u001b[0;34m\u001b[0m\u001b[0m\n\u001b[1;32m   1116\u001b[0m             \u001b[0;32mif\u001b[0m \u001b[0mengine\u001b[0m \u001b[0;34m==\u001b[0m \u001b[0;34m\"python\"\u001b[0m\u001b[0;34m:\u001b[0m\u001b[0;34m\u001b[0m\u001b[0;34m\u001b[0m\u001b[0m\n",
      "\u001b[0;32m/opt/miniconda3/envs/cap2/lib/python3.7/site-packages/pandas/io/parsers.py\u001b[0m in \u001b[0;36m__init__\u001b[0;34m(self, src, **kwds)\u001b[0m\n\u001b[1;32m   1889\u001b[0m         \u001b[0mkwds\u001b[0m\u001b[0;34m[\u001b[0m\u001b[0;34m\"usecols\"\u001b[0m\u001b[0;34m]\u001b[0m \u001b[0;34m=\u001b[0m \u001b[0mself\u001b[0m\u001b[0;34m.\u001b[0m\u001b[0musecols\u001b[0m\u001b[0;34m\u001b[0m\u001b[0;34m\u001b[0m\u001b[0m\n\u001b[1;32m   1890\u001b[0m \u001b[0;34m\u001b[0m\u001b[0m\n\u001b[0;32m-> 1891\u001b[0;31m         \u001b[0mself\u001b[0m\u001b[0;34m.\u001b[0m\u001b[0m_reader\u001b[0m \u001b[0;34m=\u001b[0m \u001b[0mparsers\u001b[0m\u001b[0;34m.\u001b[0m\u001b[0mTextReader\u001b[0m\u001b[0;34m(\u001b[0m\u001b[0msrc\u001b[0m\u001b[0;34m,\u001b[0m \u001b[0;34m**\u001b[0m\u001b[0mkwds\u001b[0m\u001b[0;34m)\u001b[0m\u001b[0;34m\u001b[0m\u001b[0;34m\u001b[0m\u001b[0m\n\u001b[0m\u001b[1;32m   1892\u001b[0m         \u001b[0mself\u001b[0m\u001b[0;34m.\u001b[0m\u001b[0munnamed_cols\u001b[0m \u001b[0;34m=\u001b[0m \u001b[0mself\u001b[0m\u001b[0;34m.\u001b[0m\u001b[0m_reader\u001b[0m\u001b[0;34m.\u001b[0m\u001b[0munnamed_cols\u001b[0m\u001b[0;34m\u001b[0m\u001b[0;34m\u001b[0m\u001b[0m\n\u001b[1;32m   1893\u001b[0m \u001b[0;34m\u001b[0m\u001b[0m\n",
      "\u001b[0;32mpandas/_libs/parsers.pyx\u001b[0m in \u001b[0;36mpandas._libs.parsers.TextReader.__cinit__\u001b[0;34m()\u001b[0m\n",
      "\u001b[0;32mpandas/_libs/parsers.pyx\u001b[0m in \u001b[0;36mpandas._libs.parsers.TextReader._setup_parser_source\u001b[0;34m()\u001b[0m\n",
      "\u001b[0;31mFileNotFoundError\u001b[0m: [Errno 2] File /Users/LiVi/opt/anaconda3/envs/cap2/policekillings/cap2_policekillings/data/raw/fatal-police-shootings-data.csv does not exist: '/Users/LiVi/opt/anaconda3/envs/cap2/policekillings/cap2_policekillings/data/raw/fatal-police-shootings-data.csv'"
     ]
    }
   ],
   "source": [
    "wapo= pd.read_csv('/Users/LiVi/opt/anaconda3/envs/cap2/policekillings/cap2_policekillings/data/raw/fatal-police-shootings-data.csv')"
   ]
  },
  {
   "cell_type": "code",
   "execution_count": null,
   "metadata": {},
   "outputs": [],
   "source": [
    "wapo.tail()"
   ]
  },
  {
   "cell_type": "markdown",
   "metadata": {},
   "source": [
    "# Deleted People Armed with Both Gun AND Vehicle\n",
    "## I couldn't decide how to categorize them and there were relatively few"
   ]
  },
  {
   "cell_type": "code",
   "execution_count": null,
   "metadata": {},
   "outputs": [],
   "source": [
    "wapo[wapo['armed']=='gun and vehicle']"
   ]
  },
  {
   "cell_type": "code",
   "execution_count": null,
   "metadata": {},
   "outputs": [],
   "source": [
    "gunand = wapo[(wapo['armed']=='gun and vehicle')]"
   ]
  },
  {
   "cell_type": "code",
   "execution_count": null,
   "metadata": {},
   "outputs": [],
   "source": [
    "wapo = wapo.drop(index = gunand.index)"
   ]
  },
  {
   "cell_type": "markdown",
   "metadata": {},
   "source": [
    "# Grouped Together Everything with Nontraditional Weapon"
   ]
  },
  {
   "cell_type": "code",
   "execution_count": null,
   "metadata": {},
   "outputs": [],
   "source": [
    "wapo[wapo['armed'].str.contains('gun|vehicle|knife|unarmed|unknown|undetermined')==False].head()"
   ]
  },
  {
   "cell_type": "markdown",
   "metadata": {},
   "source": [
    "# One-Hot Encoded the Different Kinds of Arms, including \"Non-traditional Weapon\""
   ]
  },
  {
   "cell_type": "code",
   "execution_count": null,
   "metadata": {},
   "outputs": [],
   "source": [
    "wapo['armed_gun'] = wapo['armed'].str.contains('gun') == 1\n",
    "wapo['armed_vehicle'] = wapo['armed'].str.contains('vehicle') == 1\n",
    "wapo['armed_knife'] = wapo['armed'].str.contains('knife') == 1\n",
    "wapo['armed_unknown'] = (wapo.armed.str.contains('unknown|undetermined')) == 1\n",
    "wapo['unarmed'] = wapo.armed.str.contains('unarmed') == 1\n",
    "wapo['untraditional_weapon'] = (wapo['armed'].str.contains('gun|vehicle|knife|unarmed|unknown|undetermined')==False) ==1"
   ]
  },
  {
   "cell_type": "code",
   "execution_count": null,
   "metadata": {},
   "outputs": [],
   "source": [
    "wapo.head()"
   ]
  },
  {
   "cell_type": "code",
   "execution_count": null,
   "metadata": {},
   "outputs": [],
   "source": [
    "wapo = wapo.dropna()"
   ]
  },
  {
   "cell_type": "code",
   "execution_count": null,
   "metadata": {},
   "outputs": [],
   "source": [
    "wapo = wapo.drop(columns = ['id','name','date','city','state'])"
   ]
  },
  {
   "cell_type": "code",
   "execution_count": null,
   "metadata": {
    "scrolled": true
   },
   "outputs": [],
   "source": [
    "wapo.columns"
   ]
  },
  {
   "cell_type": "code",
   "execution_count": null,
   "metadata": {},
   "outputs": [],
   "source": [
    "wapo.race.value_counts()"
   ]
  },
  {
   "cell_type": "markdown",
   "metadata": {},
   "source": [
    "# One-Hot Encoded \"Blackness\" of each entry (Are they black or not?)\n",
    "## Also encoded gender, manner of death, threat level and if they fleed"
   ]
  },
  {
   "cell_type": "code",
   "execution_count": null,
   "metadata": {},
   "outputs": [],
   "source": [
    "wapo['blackornot'] = wapo['race'].str.contains('B')\n",
    "other = wapo.loc[:,['gender','manner_of_death','threat_level','flee']]\n",
    "w = pd.concat((wapo, pd.get_dummies(other)), axis=1)\n"
   ]
  },
  {
   "cell_type": "code",
   "execution_count": null,
   "metadata": {},
   "outputs": [],
   "source": [
    "cols = ['gender','manner_of_death','armed','threat_level','flee','race']\n",
    "w = w.drop(columns = cols)"
   ]
  },
  {
   "cell_type": "code",
   "execution_count": null,
   "metadata": {},
   "outputs": [],
   "source": []
  },
  {
   "cell_type": "code",
   "execution_count": null,
   "metadata": {},
   "outputs": [],
   "source": [
    "pd.options.display.max_colwidth = 999\n",
    "pd.options.display.max_rows = 999\n",
    "list(w.columns)"
   ]
  },
  {
   "cell_type": "code",
   "execution_count": null,
   "metadata": {},
   "outputs": [],
   "source": [
    "w.head()"
   ]
  },
  {
   "cell_type": "markdown",
   "metadata": {},
   "source": [
    "# MODEL 1, blackornot first try"
   ]
  },
  {
   "cell_type": "code",
   "execution_count": null,
   "metadata": {},
   "outputs": [],
   "source": [
    "import turicreate\n",
    "sf = turicreate.SFrame(w)"
   ]
  },
  {
   "cell_type": "code",
   "execution_count": null,
   "metadata": {},
   "outputs": [],
   "source": [
    "feats = ['age',\n",
    " 'signs_of_mental_illness',\n",
    " 'body_camera',\n",
    " 'armed_gun',\n",
    " 'armed_vehicle',\n",
    " 'armed_knife',\n",
    " 'armed_unknown',\n",
    " 'unarmed',\n",
    " 'untraditional_weapon',\n",
    " 'gender_F',\n",
    " 'gender_M',\n",
    " 'manner_of_death_shot',\n",
    " 'manner_of_death_shot and Tasered',\n",
    " 'threat_level_attack',\n",
    " 'threat_level_other',\n",
    " 'threat_level_undetermined',\n",
    " 'flee_Car',\n",
    " 'flee_Foot',\n",
    " 'flee_Not fleeing',\n",
    " 'flee_Other']"
   ]
  },
  {
   "cell_type": "code",
   "execution_count": null,
   "metadata": {},
   "outputs": [],
   "source": [
    "train_data,test_data = sf.random_split(.8,seed=0)\n",
    "race_model = turicreate.logistic_classifier.create(train_data,target='blackornot', features=feats, validation_set=test_data)"
   ]
  },
  {
   "cell_type": "code",
   "execution_count": null,
   "metadata": {},
   "outputs": [],
   "source": [
    "race_model.evaluate"
   ]
  },
  {
   "cell_type": "code",
   "execution_count": null,
   "metadata": {},
   "outputs": [],
   "source": [
    "race_model.evaluate(test_data, metric='roc_curve')"
   ]
  },
  {
   "cell_type": "code",
   "execution_count": null,
   "metadata": {},
   "outputs": [],
   "source": []
  },
  {
   "cell_type": "code",
   "execution_count": null,
   "metadata": {},
   "outputs": [],
   "source": [
    "wapo['predicted_black'] = race_model.predict(sf, output_type = 'probability')"
   ]
  },
  {
   "cell_type": "code",
   "execution_count": null,
   "metadata": {},
   "outputs": [],
   "source": [
    "wapo"
   ]
  },
  {
   "cell_type": "code",
   "execution_count": null,
   "metadata": {},
   "outputs": [],
   "source": [
    "wapo.loc[:,['blackornot','predicted_black']].sort_values(by='predicted_black', ascending=False).tail(100)"
   ]
  },
  {
   "cell_type": "code",
   "execution_count": null,
   "metadata": {},
   "outputs": [],
   "source": [
    "wapo.loc[:,['blackornot','predicted_black']].sort_values(by='predicted_black').tail(100)"
   ]
  },
  {
   "cell_type": "markdown",
   "metadata": {},
   "source": [
    "# MODEL 2, Added Age-Group Columns"
   ]
  },
  {
   "cell_type": "code",
   "execution_count": null,
   "metadata": {},
   "outputs": [],
   "source": [
    "df = w\n",
    "df['0_to_10'] = df.age <= 0\n",
    "df['11_to_20'] = (df.age>10)&(df.age<21)\n",
    "df['21_to_30'] = (df.age>20)&(df.age<31)\n",
    "df['31_to_40'] = (df.age>30)&(df.age<41)\n",
    "df['41_to_50'] = (df.age>40)&(df.age<51)\n",
    "df['51_to_60'] = (df.age>50)&(df.age<61)\n",
    "df['61_to_70'] = (df.age>60)&(df.age<71)\n",
    "df['71_to_80'] = (df.age>70)&(df.age<81)\n",
    "df['81_to_90'] = (df.age>80)&(df.age<91)\n",
    "df=df.drop('age',axis=1)\n"
   ]
  },
  {
   "cell_type": "code",
   "execution_count": null,
   "metadata": {},
   "outputs": [],
   "source": [
    "feats = [\n",
    "'0_to_10', \n",
    "'11_to_20',\n",
    "'21_to_30', \n",
    "'31_to_40', \n",
    "'41_to_50', \n",
    "'51_to_60', \n",
    "'61_to_70', \n",
    "'71_to_80',\n",
    "'81_to_90',\n",
    " 'signs_of_mental_illness',\n",
    " 'body_camera',\n",
    " 'armed_gun',\n",
    " 'armed_vehicle',\n",
    " 'armed_knife',\n",
    " 'armed_unknown',\n",
    " 'unarmed',\n",
    " 'untraditional_weapon',\n",
    " 'gender_F',\n",
    " 'gender_M',\n",
    " 'manner_of_death_shot',\n",
    " 'manner_of_death_shot and Tasered',\n",
    " 'threat_level_attack',\n",
    " 'threat_level_other',\n",
    " 'threat_level_undetermined',\n",
    " 'flee_Car',\n",
    " 'flee_Foot',\n",
    " 'flee_Not fleeing',\n",
    " 'flee_Other']"
   ]
  },
  {
   "cell_type": "code",
   "execution_count": null,
   "metadata": {},
   "outputs": [],
   "source": [
    "sf2 = turicreate.SFrame(df)"
   ]
  },
  {
   "cell_type": "code",
   "execution_count": null,
   "metadata": {},
   "outputs": [],
   "source": [
    "train_data,test_data = sf2.random_split(.8,seed=0)\n",
    "race_model2 = turicreate.logistic_classifier.create(train_data,target='blackornot', features=feats, validation_set=test_data)"
   ]
  },
  {
   "cell_type": "code",
   "execution_count": null,
   "metadata": {},
   "outputs": [],
   "source": [
    "race_model2.evaluate"
   ]
  },
  {
   "cell_type": "code",
   "execution_count": null,
   "metadata": {},
   "outputs": [],
   "source": [
    "race_model2.evaluate(test_data, metric='roc_curve')"
   ]
  },
  {
   "cell_type": "markdown",
   "metadata": {},
   "source": [
    "### The Training Acurracy is slightly higher and the Testing accuracy is slightly lower"
   ]
  },
  {
   "cell_type": "markdown",
   "metadata": {},
   "source": [
    "# MODEL3,  Remove entries who are Asians/ Nat Ams/ Hispanics / Other, \n",
    "## NO Age Groups Cols"
   ]
  },
  {
   "cell_type": "code",
   "execution_count": null,
   "metadata": {},
   "outputs": [],
   "source": [
    "wapo.head()"
   ]
  },
  {
   "cell_type": "code",
   "execution_count": null,
   "metadata": {},
   "outputs": [],
   "source": [
    "mask = wapo['race'].str.contains('A|O|N|H')\n",
    "wapo2 = wapo[~mask]\n",
    "wapo2.head()"
   ]
  },
  {
   "cell_type": "code",
   "execution_count": null,
   "metadata": {},
   "outputs": [],
   "source": [
    "wapo2['blackornot'] = wapo2['race'].str.contains('B')\n",
    "other = wapo2.loc[:,['gender','manner_of_death','threat_level','flee']]\n",
    "w2 = pd.concat((wapo2, pd.get_dummies(other)), axis=1)\n",
    "cols = ['gender','manner_of_death','armed','threat_level','flee','race']\n",
    "w2 = w2.drop(columns = cols)\n",
    "w2.head()"
   ]
  },
  {
   "cell_type": "code",
   "execution_count": null,
   "metadata": {},
   "outputs": [],
   "source": [
    "feats = ['age',\n",
    " 'signs_of_mental_illness',\n",
    " 'body_camera',\n",
    " 'armed_gun',\n",
    " 'armed_vehicle',\n",
    " 'armed_knife',\n",
    " 'armed_unknown',\n",
    " 'unarmed',\n",
    " 'untraditional_weapon',\n",
    " 'gender_F',\n",
    " 'gender_M',\n",
    " 'manner_of_death_shot',\n",
    " 'manner_of_death_shot and Tasered',\n",
    " 'threat_level_attack',\n",
    " 'threat_level_other',\n",
    " 'threat_level_undetermined',\n",
    " 'flee_Car',\n",
    " 'flee_Foot',\n",
    " 'flee_Not fleeing',\n",
    " 'flee_Other']\n",
    "\n",
    "sf = turicreate.SFrame(w2)\n",
    "train_data,test_data = sf.random_split(.8,seed=0)\n",
    "race_model3 = turicreate.logistic_classifier.create(train_data,target='blackornot', features=feats, validation_set=test_data)"
   ]
  },
  {
   "cell_type": "code",
   "execution_count": null,
   "metadata": {},
   "outputs": [],
   "source": [
    "race_model3.evaluate(test_data, metric='roc_curve')"
   ]
  },
  {
   "cell_type": "markdown",
   "metadata": {},
   "source": [
    "# MODEL 4, Still just Black and White entries, adding back in age-group columns"
   ]
  },
  {
   "cell_type": "code",
   "execution_count": null,
   "metadata": {},
   "outputs": [],
   "source": [
    "df = w2\n",
    "df['0_to_10'] = df.age <= 0\n",
    "df['11_to_20'] = (df.age>10)&(df.age<21)\n",
    "df['21_to_30'] = (df.age>20)&(df.age<31)\n",
    "df['31_to_40'] = (df.age>30)&(df.age<41)\n",
    "df['41_to_50'] = (df.age>40)&(df.age<51)\n",
    "df['51_to_60'] = (df.age>50)&(df.age<61)\n",
    "df['61_to_70'] = (df.age>60)&(df.age<71)\n",
    "df['71_to_80'] = (df.age>70)&(df.age<81)\n",
    "df['81_to_90'] = (df.age>80)&(df.age<91)\n",
    "df=df.drop('age',axis=1)\n"
   ]
  },
  {
   "cell_type": "code",
   "execution_count": null,
   "metadata": {},
   "outputs": [],
   "source": [
    "df.head()"
   ]
  },
  {
   "cell_type": "code",
   "execution_count": null,
   "metadata": {},
   "outputs": [],
   "source": [
    "feats = [\n",
    "'0_to_10', \n",
    "'11_to_20',\n",
    "'21_to_30', \n",
    "'31_to_40', \n",
    "'41_to_50', \n",
    "'51_to_60', \n",
    "'61_to_70', \n",
    "'71_to_80',\n",
    "'81_to_90',\n",
    " 'signs_of_mental_illness',\n",
    " 'body_camera',\n",
    " 'armed_gun',\n",
    " 'armed_vehicle',\n",
    " 'armed_knife',\n",
    " 'armed_unknown',\n",
    " 'unarmed',\n",
    " 'untraditional_weapon',\n",
    " 'gender_F',\n",
    " 'gender_M',\n",
    " 'manner_of_death_shot',\n",
    " 'manner_of_death_shot and Tasered',\n",
    " 'threat_level_attack',\n",
    " 'threat_level_other',\n",
    " 'threat_level_undetermined',\n",
    " 'flee_Car',\n",
    " 'flee_Foot',\n",
    " 'flee_Not fleeing',\n",
    " 'flee_Other']\n",
    "\n",
    "\n",
    "sf = turicreate.SFrame(df)\n",
    "train_data,test_data = sf.random_split(.8,seed=0)\n",
    "race_model4 = turicreate.logistic_classifier.create(train_data,target='blackornot', features=feats, validation_set=test_data)"
   ]
  },
  {
   "cell_type": "code",
   "execution_count": null,
   "metadata": {},
   "outputs": [],
   "source": [
    "race_model4.evaluate(test_data, metric='roc_curve')"
   ]
  },
  {
   "cell_type": "markdown",
   "metadata": {},
   "source": [
    "# So far, the first model performs the best"
   ]
  },
  {
   "cell_type": "markdown",
   "metadata": {},
   "source": [
    "### Next, I wonder if I can do \"Black AND 10-20-years-old\" or \"Black AND 20-30-years-old\" as columns.\n",
    "### Or should I look at another kind of classification, e.g decision tree model, to do this."
   ]
  },
  {
   "cell_type": "code",
   "execution_count": null,
   "metadata": {},
   "outputs": [],
   "source": []
  }
 ],
 "metadata": {
  "kernelspec": {
   "display_name": "Python 3",
   "language": "python",
   "name": "python3"
  },
  "language_info": {
   "codemirror_mode": {
    "name": "ipython",
    "version": 3
   },
   "file_extension": ".py",
   "mimetype": "text/x-python",
   "name": "python",
   "nbconvert_exporter": "python",
   "pygments_lexer": "ipython3",
   "version": "3.7.7"
  }
 },
 "nbformat": 4,
 "nbformat_minor": 4
}
